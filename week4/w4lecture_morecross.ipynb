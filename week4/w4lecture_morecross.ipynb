{
 "cells": [
  {
   "cell_type": "markdown",
   "metadata": {},
   "source": [
    "## Splitting, lumping, & the logic of elaboration\n",
    "\n",
    "Hochschild 2000: \"For several centuries taxonomists of the natural world have been divided into lumpers, who seek to merge a larger number of proposed species or genera into a smaller number, and splitters, who seek to move in the opposite direction.\""
   ]
  },
  {
   "cell_type": "markdown",
   "metadata": {},
   "source": [
    "### Lumpers, splitters, and racism\n",
    "\n",
    "1. Splitters: racism as separate from individuals' values, ideology, education, ect.\n",
    "\n",
    "2. Lumpers: racism as linked to values and emotions"
   ]
  },
  {
   "cell_type": "markdown",
   "metadata": {},
   "source": [
    "[your thoughts here]"
   ]
  },
  {
   "cell_type": "markdown",
   "metadata": {},
   "source": [
    "### Logic of elaboration: spurious, intervening, and interactive associations"
   ]
  },
  {
   "cell_type": "markdown",
   "metadata": {},
   "source": [
    "### Spurious relationship with prior control\n",
    "<img src=\"spuriousfirefighters.png\" width=\"400\" align=\"left\">"
   ]
  },
  {
   "cell_type": "markdown",
   "metadata": {},
   "source": [
    "### Intervening relationship with subsequent control\n",
    "<img src=\"interveningabortion.png\" width=\"600\" align=\"left\">"
   ]
  },
  {
   "cell_type": "markdown",
   "metadata": {},
   "source": [
    "### **Interactive** relationship with subsequent control\n",
    "<img src=\"abortioninteraction.jpeg\" width=\"600\" align=\"left\">"
   ]
  },
  {
   "cell_type": "markdown",
   "metadata": {},
   "source": [
    "### Did Du Bois control for age because of possible spurious, intervening, or interaction relationship?\n",
    "\n",
    "[your answer here]\n",
    "\n",
    "<img src=\"https://cdn.loc.gov/service/pnp/ppmsca/33800/33872v.jpg\" width=\"400\" align=\"left\">"
   ]
  },
  {
   "cell_type": "markdown",
   "metadata": {},
   "source": [
    "## Crosstabs with means, percentiles, and years\n",
    "\n",
    "### \"The Financialization of U.S. Higher Education.\"\n",
    "\n",
    "Lets's replicate some crosstabs from the paper"
   ]
  },
  {
   "cell_type": "code",
   "execution_count": 1,
   "metadata": {},
   "outputs": [
    {
     "data": {
      "text/html": [
       "<style>div.jp-Notebook .datagrid-container {min-height: 448px; }</style>"
      ],
      "text/plain": [
       "<IPython.core.display.HTML object>"
      ]
     },
     "metadata": {},
     "output_type": "display_data"
    },
    {
     "name": "stdout",
     "output_type": "stream",
     "text": [
      "-------------------------------------------------------------------------------\n",
      "      name:  <unnamed>\n",
      "       log:  /Users/Charlie/Dropbox/2017Merced/Courses/Soc_211_Grad_Stats_2/gra\n",
      "> dstats2/week4/wlecture_morecross_log20230505.log\n",
      "  log type:  text\n",
      " opened on:   5 Feb 2024, 14:02:20\n"
     ]
    }
   ],
   "source": [
    "set more off\n",
    "capture log close\n",
    "log using wlecture_morecross_log20230505.log"
   ]
  },
  {
   "cell_type": "code",
   "execution_count": 2,
   "metadata": {},
   "outputs": [
    {
     "name": "stdout",
     "output_type": "stream",
     "text": [
      "    inflating: higheredfinancialization.dta\n",
      "\n",
      "successfully unzipped higheredfinancializationdata.zip to current directory\n",
      "total processed:  1\n",
      "        skipped:  0\n",
      "      extracted:  1\n"
     ]
    }
   ],
   "source": [
    "unzipfile higheredfinancializationdata.zip, replace"
   ]
  },
  {
   "cell_type": "code",
   "execution_count": 3,
   "metadata": {},
   "outputs": [],
   "source": [
    "use \"higheredfinancialization.dta\", clear"
   ]
  },
  {
   "cell_type": "code",
   "execution_count": 4,
   "metadata": {},
   "outputs": [
    {
     "name": "stdout",
     "output_type": "stream",
     "text": [
      "(143 missing values generated)\n",
      "(17,081 real changes made)\n",
      "(143 observations deleted)\n",
      "\n",
      "-------------------------------------------------------------------------------\n",
      "sector                                                              (unlabeled)\n",
      "-------------------------------------------------------------------------------\n",
      "\n",
      "                  Type: Numeric (float)\n",
      "                 Label: sector\n",
      "\n",
      "                 Range: [3,6]                         Units: 1\n",
      "         Unique values: 4                         Missing .: 0/182,882\n",
      "\n",
      "            Tabulation: Freq.   Numeric  Label\n",
      "                       71,868         3  for-profit\n",
      "                       56,449         4  private\n",
      "                       17,795         5  state\n",
      "                       36,770         6  community\n"
     ]
    }
   ],
   "source": [
    "gen sector=owner_pe\n",
    "replace sector=3 if owner_pe<4\n",
    "drop if owner_pe==.\n",
    "label define sector 3 \"for-profit\" 4 \"private\" 5 \"state\" 6 \"community\"\n",
    "label values sector sector\n",
    "codebook sector"
   ]
  },
  {
   "cell_type": "markdown",
   "metadata": {},
   "source": [
    "### Time as a crosstab\n",
    "\n",
    "first as a table"
   ]
  },
  {
   "cell_type": "code",
   "execution_count": 5,
   "metadata": {},
   "outputs": [
    {
     "name": "stdout",
     "output_type": "stream",
     "text": [
      "\n",
      "----------------------------------------------------------------------------\n",
      "        |                                sector                             \n",
      "        |  for-profit      private         state     community         Total\n",
      "--------+-------------------------------------------------------------------\n",
      "year    |                                                                   \n",
      "  1990  |     285,864    2,419,532     5,313,756     3,044,558    11,063,711\n",
      "  1991  |     315,353    2,472,085     5,447,900     3,271,924    11,507,261\n",
      "  1992  |     376,087    2,528,000     5,513,360     3,529,975    11,947,422\n",
      "  1993  |     360,960    2,588,040     5,522,717     3,622,829    12,094,546\n",
      "  1994  |     683,009    2,636,149     5,481,835     3,559,126    12,360,118\n",
      "  1995  |     611,589    2,655,103     5,475,290     3,493,564    12,235,547\n",
      "  1996  |     611,433    2,674,205     5,489,072     3,423,436    12,198,147\n",
      "  1997  |     585,732    2,613,330     5,514,377     3,374,353    12,087,792\n",
      "  1998  |     580,237    2,642,502     5,556,714     3,404,947    12,184,400\n",
      "  1999  |     743,122    2,706,374     5,613,075     3,409,596    12,472,168\n",
      "  2000  |     639,682    2,753,309     5,695,975     3,471,965    12,560,931\n",
      "  2001  |     696,811    2,817,343     5,780,253     3,759,404    13,053,811\n",
      "  2002  |     827,768    2,896,338     5,961,160     3,826,582    13,511,849\n",
      "  2003  |     906,404    2,983,094     6,193,480     4,089,853    14,172,831\n",
      "  2004  |   1,035,875    3,070,481     6,329,557     4,099,023    14,534,937\n",
      "  2005  |   1,216,523    3,130,017     6,409,588     4,146,728    14,902,856\n",
      "  2006  |   1,356,594    3,179,218     6,527,906     4,049,248    15,112,965\n",
      "  2007  |   1,386,529    3,232,763     6,577,198     4,135,965    15,332,455\n",
      "  2008  |   1,447,720    3,275,326     6,764,195     4,220,995    15,708,234\n",
      "  2009  |   1,714,655    3,337,109     6,918,193     4,435,863    16,405,822\n",
      "  2010  |   2,135,992    3,434,657     7,267,551     4,852,725    17,690,925\n",
      "  2011  |   2,296,389    3,510,758     7,490,423     4,966,040    18,263,609\n",
      "  2012  |   2,240,331    3,558,898     7,579,375     4,759,670    18,138,274\n",
      "  2013  |   2,074,601    3,575,543     7,607,154     4,413,301    17,670,599\n",
      "  2014  |   1,864,059    3,598,277     7,652,655     4,330,504    17,445,496\n",
      "  2015  |   1,716,930    3,607,732     7,764,495     4,150,920    17,240,076\n",
      "  Total |  28,710,248   77,896,183   163,447,255   101,843,094   371,896,781\n",
      "----------------------------------------------------------------------------\n"
     ]
    }
   ],
   "source": [
    "table (year) (sector), statistic(sum fte_count) "
   ]
  },
  {
   "cell_type": "markdown",
   "metadata": {},
   "source": [
    "then as a graph (much better)"
   ]
  },
  {
   "cell_type": "code",
   "execution_count": 6,
   "metadata": {},
   "outputs": [
    {
     "name": "stdout",
     "output_type": "stream",
     "text": [
      "checking blindschemes consistency and verifying not already installed...\n",
      "all files already exist and are up to date.\n"
     ]
    }
   ],
   "source": [
    "ssc install blindschemes"
   ]
  },
  {
   "cell_type": "code",
   "execution_count": 7,
   "metadata": {},
   "outputs": [
    {
     "name": "stdout",
     "output_type": "stream",
     "text": [
      "(Note: Below code run with echo to enable preserve/restore functionality.)\n",
      "\n",
      ". preserve\n",
      "\n",
      ". collapse (sum) fte_count, by(year sector)\n",
      "\n",
      ". qui xtset sector year\n",
      "\n",
      ". qui replace fte_count=fte_count/1000000\n",
      "\n",
      ". xtline fte_count, overlay scheme(plotplainblind) legend(order(3 4 2 1) size(l\n",
      "> arge)) ytitle(enrollement in millions) title(\"Figure 1: Enrollment by sector\"\n",
      "> , span) plot1opts(lwidth(medthick)) plot2opts(lwidth(thick)) plot3opts(lwidth\n",
      "> (thick)) plot4opts(lwidth(thick))\n",
      "\n",
      ". restore\n",
      "\n",
      ". \n"
     ]
    },
    {
     "data": {
      "image/png": "[encoded data removed]",
      "text/plain": [
       "<IPython.core.display.Image object>"
      ]
     },
     "metadata": {},
     "output_type": "display_data"
    }
   ],
   "source": [
    "preserve\n",
    "\n",
    "collapse (sum) fte_count, by(year sector)\n",
    "\n",
    "qui xtset sector year\n",
    "\n",
    "qui replace fte_count=fte_count/1000000\n",
    "\n",
    "xtline fte_count, overlay scheme(plotplainblind) legend(order(3 4 2 1) size(large)) ///\n",
    "ytitle(enrollement in millions) title(\"Figure 1: Enrollment by sector\", span)  ///\n",
    "plot1opts(lwidth(medthick)) plot2opts(lwidth(thick)) plot3opts(lwidth(thick)) plot4opts(lwidth(thick))\n",
    "\n",
    "restore"
   ]
  },
  {
   "cell_type": "markdown",
   "metadata": {},
   "source": [
    "### Means as crosstab values\n",
    "\n",
    "Figure 3. Spending per student on interest for institutional debt by sector\n",
    "\n",
    "First as a table"
   ]
  },
  {
   "cell_type": "code",
   "execution_count": 8,
   "metadata": {},
   "outputs": [
    {
     "name": "stdout",
     "output_type": "stream",
     "text": [
      "(0 real changes made)\n"
     ]
    }
   ],
   "source": [
    "egen interest2= rowtotal(instruction07 research07 instsupp07 acadsupp07 ///\n",
    "studserv07 auxiliary07 hospital07 opermain07 other07)\n",
    "replace interest01=interest2 if interest01==."
   ]
  },
  {
   "cell_type": "code",
   "execution_count": 9,
   "metadata": {},
   "outputs": [
    {
     "name": "stdout",
     "output_type": "stream",
     "text": [
      "(Note: Below code run with echo to enable preserve/restore functionality.)\n",
      "\n",
      ". preserve\n",
      "\n",
      ". collapse (sum) fte_count interest01 (first) cpi_scalar, by(sector year)\n",
      "\n",
      ". gen interest_fte = (interest01 / cpi_scalar_2017) / fte_count\n",
      "\n",
      ". table (year) (sector) if year>2002 & sector>3, statistic(mean interest_fte) n\n",
      "> format(%12.0fc)\n",
      "\n",
      "----------------------------------------------\n",
      "        |                 sector              \n",
      "        |  private   state   community   Total\n",
      "--------+-------------------------------------\n",
      "year    |                                     \n",
      "  2003  |      893     494         120     502\n",
      "  2004  |      874     606         158     546\n",
      "  2005  |      931     642         161     578\n",
      "  2006  |    1,003     559         167     576\n",
      "  2007  |    1,052     606         187     615\n",
      "  2008  |    1,088     463         182     578\n",
      "  2009  |    1,087     493         214     598\n",
      "  2010  |    1,218     578         209     668\n",
      "  2011  |    1,254     594         232     693\n",
      "  2012  |    1,268     607         244     706\n",
      "  2013  |    1,265     638         244     716\n",
      "  2014  |    1,273     637         246     719\n",
      "  2015  |    1,269     627         255     717\n",
      "  Total |    1,113     580         202     632\n",
      "----------------------------------------------\n",
      "\n",
      ". restore\n",
      "\n",
      ". \n"
     ]
    }
   ],
   "source": [
    "preserve\n",
    "collapse (sum) fte_count interest01 (first) cpi_scalar, by(sector year)\n",
    "gen interest_fte = (interest01 / cpi_scalar_2017) / fte_count \n",
    "\n",
    "table (year) (sector) if year>2002 & sector>3, statistic(mean interest_fte) nformat(%12.0fc)\n",
    "\n",
    "restore"
   ]
  },
  {
   "cell_type": "markdown",
   "metadata": {},
   "source": [
    "### Again, a graph of these mean cross tabs by sector and year is better"
   ]
  },
  {
   "cell_type": "code",
   "execution_count": 10,
   "metadata": {},
   "outputs": [
    {
     "name": "stdout",
     "output_type": "stream",
     "text": [
      "(Note: Below code run with echo to enable preserve/restore functionality.)\n",
      "\n",
      ". preserve\n",
      "\n",
      ". collapse (sum) fte_count interest01 (first) cpi_scalar, by(sector year)\n",
      "\n",
      ". qui gen interest_fte = (interest01 / cpi_scalar_2017) / fte_count\n",
      "\n",
      ". qui xtset sector year\n",
      "\n",
      ". xtline interest_fte if year>2002 & sector>3, overlay legend(order(1 2 3) size\n",
      "> (large)) ytitle(interest per student) title(\"Figure 7: Interest on institutio\n",
      "> nal debt per FTE student\", span) scheme(plotplainblind) plot1opts(lwidth(medt\n",
      "> hick)) plot2opts(lwidth(thick)) plot3opts(lwidth(thick))\n",
      "\n",
      ". graph display\n",
      "\n",
      ". restore\n",
      "\n",
      ". \n"
     ]
    },
    {
     "data": {
      "image/png": "[encoded data removed]",
      "text/plain": [
       "<IPython.core.display.Image object>"
      ]
     },
     "metadata": {},
     "output_type": "display_data"
    }
   ],
   "source": [
    "preserve\n",
    "collapse (sum) fte_count interest01 (first) cpi_scalar, by(sector year)\n",
    "qui gen interest_fte = (interest01 / cpi_scalar_2017) / fte_count \n",
    "qui xtset sector year\n",
    "xtline interest_fte if year>2002 & sector>3, overlay legend(order(1 2 3) size(large)) ///\n",
    "ytitle(interest per student) title(\"Figure 7: Interest on institutional debt per FTE student\", span) scheme(plotplainblind) ///\n",
    "plot1opts(lwidth(medthick)) plot2opts(lwidth(thick)) plot3opts(lwidth(thick))\n",
    "graph display\n",
    "restore"
   ]
  },
  {
   "cell_type": "markdown",
   "metadata": {},
   "source": [
    "### Percentiles as crosstab categories\n",
    "\n",
    "Calculating percentiles within years and sectors requires some ugly code including Stata's import egen command"
   ]
  },
  {
   "cell_type": "code",
   "execution_count": 11,
   "metadata": {},
   "outputs": [
    {
     "name": "stdout",
     "output_type": "stream",
     "text": [
      "(Note: Below code run with echo to enable preserve/restore functionality.)\n",
      "\n",
      ". preserve\n",
      "\n",
      ". qui keep if sector>3 & sector<6 & year>2002\n",
      "\n",
      ". qui gen endowpriv=endowment02 if sector==4\n",
      "\n",
      ". qui gen endowpub=endowment02 if sector==5\n",
      "\n",
      ". qui replace endow_assets=endowment02 if endow_assets==.\n",
      "\n",
      ". qui bysort owner_pe year: egen endow99=pctile(endow_assets), p(99)\n",
      "\n",
      ". qui bysort owner_pe year: egen endow90=pctile(endow_assets), p(90)\n",
      "\n",
      ". qui gen endowpctile=1\n",
      "\n",
      ". qui replace endowpctile=2 if endow_assets<endow99\n",
      "\n",
      ". qui replace endowpctile=3 if endow_assets<endow90\n",
      "\n",
      ". qui replace endowpctile=. if endow_assets==.\n",
      "\n",
      ". qui replace endowpctile=endowpctile+3 if owner_pe==5\n",
      "\n",
      ". qui replace loan_amount_ftfrosh = loan_amount_ftfrosh / cpi_scalar_2017\n",
      "\n",
      ". qui collapse (mean) loan_amount_ftfrosh, by(endowpctile year)\n",
      "\n",
      ". qui label define endowpctile 1 \"private 99th\" 2 \"private 90-99\" 3 \"private <9\n",
      "> 0\" 4 \"public 99th\" 5 \"public 90-99\" 6 \"public <90\"\n",
      "\n",
      ". qui label values endowpctile endowpctile\n",
      "\n",
      ". qui xtset endowpctile year\n",
      "\n",
      ". xtline loan_amount_ftfrosh, overlay legend(title(\"endowment wealth percentile\n",
      "> \", size(medium)) order(3 6 5 4 2 1) size(medium)) ytitle(\"loan debt per stude\n",
      "> nt (2017$)\") ///\n",
      "> title(\"Figure 9: Student borrowing per fulltime first year student\", span) pl\n",
      "> ot1opts(lwidth(medthick)) plot2opts(lwidth(thick)) plot3opts(lwidth(thick)) p\n",
      "> lot4opts(lwidth(thick)) plot5opts(lwidth(thick)) plot6opts(lwidth(thick)) sch\n",
      "> eme(plotplainblind) ylabel(, format(%9.0fc))\n",
      "\n",
      ". graph display\n",
      "\n",
      ". restore\n",
      "\n",
      ". \n"
     ]
    },
    {
     "data": {
      "image/png": "[encoded data removed]",
      "text/plain": [
       "<IPython.core.display.Image object>"
      ]
     },
     "metadata": {},
     "output_type": "display_data"
    }
   ],
   "source": [
    "preserve\n",
    "qui keep if sector>3 & sector<6 & year>2002\n",
    "qui gen endowpriv=endowment02 if sector==4\n",
    "qui gen endowpub=endowment02 if sector==5\n",
    "qui replace endow_assets=endowment02 if endow_assets==.\n",
    "qui bysort owner_pe year: egen endow99=pctile(endow_assets), p(99)\n",
    "qui bysort owner_pe year: egen endow90=pctile(endow_assets), p(90)\n",
    "qui gen endowpctile=1\n",
    "qui replace endowpctile=2 if endow_assets<endow99\n",
    "qui replace endowpctile=3 if endow_assets<endow90\n",
    "qui replace endowpctile=. if endow_assets==.\n",
    "qui replace endowpctile=endowpctile+3 if owner_pe==5\n",
    "qui replace loan_amount_ftfrosh = loan_amount_ftfrosh / cpi_scalar_2017\n",
    "qui collapse (mean) loan_amount_ftfrosh, by(endowpctile year)\n",
    "qui label define endowpctile 1 \"private 99th\" 2 \"private 90-99\" 3 \"private <90\" ///\n",
    "4 \"public 99th\" 5 \"public 90-99\" 6 \"public <90\"\n",
    "qui label values endowpctile endowpctile\n",
    "qui xtset endowpctile year\n",
    "\n",
    "xtline loan_amount_ftfrosh, overlay ///\n",
    "legend(title(\"endowment wealth percentile\", ///\n",
    "size(medium)) order(3 6 5 4 2 1) size(medium)) ///\n",
    "ytitle(\"loan debt per student (2017$)\") ///\n",
    "title(\"Figure 9: Student borrowing per fulltime first year student\", span) ///\n",
    "plot1opts(lwidth(medthick)) plot2opts(lwidth(thick)) plot3opts(lwidth(thick)) ///\n",
    "plot4opts(lwidth(thick)) plot5opts(lwidth(thick)) plot6opts(lwidth(thick)) ///\n",
    "scheme(plotplainblind) ylabel(, format(%9.0fc))\n",
    "\n",
    "graph display\n",
    "restore"
   ]
  },
  {
   "cell_type": "markdown",
   "metadata": {},
   "source": [
    "### Is \"The Financialization of Higher Education\" a splitter, a lumper, or both? Why?\n",
    "\n",
    "[your answer here]"
   ]
  },
  {
   "cell_type": "markdown",
   "metadata": {},
   "source": [
    "### A few more good exploration commands/tools\n",
    "\n",
    "### 1. \"describe\""
   ]
  },
  {
   "cell_type": "code",
   "execution_count": 12,
   "metadata": {},
   "outputs": [
    {
     "name": "stdout",
     "output_type": "stream",
     "text": [
      "\n",
      "Variable      Storage   Display    Value\n",
      "    name         type    format    label      Variable label\n",
      "-------------------------------------------------------------------------------\n",
      "endow_assets    float   %9.0g                 \n",
      "loan_amount_ftfrosh\n",
      "                float   %9.0g                 PEstudy loan dollars per student\n",
      "                                                (fulltime frosh) 2000 to 2016\n"
     ]
    }
   ],
   "source": [
    "describe  endow_assets loan_amount_ftfrosh, fullnames"
   ]
  },
  {
   "cell_type": "markdown",
   "metadata": {},
   "source": [
    "### 2. The \"%head\", %tail, and \"%browse\" magics (+ \"gsort\")"
   ]
  },
  {
   "cell_type": "code",
   "execution_count": 13,
   "metadata": {},
   "outputs": [
    {
     "data": {
      "text/html": [
       "<div>\n",
       "<style scoped>\n",
       "    .dataframe tbody tr th:only-of-type {\n",
       "        vertical-align: middle;\n",
       "    }\n",
       "\n",
       "    .dataframe tbody tr th {\n",
       "        vertical-align: top;\n",
       "    }\n",
       "\n",
       "    .dataframe thead th {\n",
       "        text-align: right;\n",
       "    }\n",
       "</style>\n",
       "<table border=\"1\" class=\"dataframe\">\n",
       "  <thead>\n",
       "    <tr style=\"text-align: right;\">\n",
       "      <th></th>\n",
       "      <th>unitid</th>\n",
       "      <th>inst_name_new</th>\n",
       "      <th>year</th>\n",
       "      <th>endow_assets</th>\n",
       "      <th>loan_amount_ftfrosh</th>\n",
       "    </tr>\n",
       "  </thead>\n",
       "  <tbody>\n",
       "    <tr>\n",
       "      <th>1</th>\n",
       "      <td>119085</td>\n",
       "      <td>MONTESSORI TEACHER EDUCATION CENTER-SAN FRAN BAY</td>\n",
       "      <td>1990</td>\n",
       "      <td>.</td>\n",
       "      <td>.</td>\n",
       "    </tr>\n",
       "    <tr>\n",
       "      <th>2</th>\n",
       "      <td>125125</td>\n",
       "      <td>VIDEO TECHNICAL INSTITUTE</td>\n",
       "      <td>1990</td>\n",
       "      <td>.</td>\n",
       "      <td>.</td>\n",
       "    </tr>\n",
       "    <tr>\n",
       "      <th>3</th>\n",
       "      <td>219347</td>\n",
       "      <td>SOUTH DAKOTA SCHOOL OF MINES AND TECHNOLOGY</td>\n",
       "      <td>1990</td>\n",
       "      <td>.</td>\n",
       "      <td>.</td>\n",
       "    </tr>\n",
       "    <tr>\n",
       "      <th>4</th>\n",
       "      <td>125347</td>\n",
       "      <td>WEIMER COLLEGE</td>\n",
       "      <td>1990</td>\n",
       "      <td>.</td>\n",
       "      <td>.</td>\n",
       "    </tr>\n",
       "    <tr>\n",
       "      <th>5</th>\n",
       "      <td>156745</td>\n",
       "      <td>GEORGETOWN COLLEGE</td>\n",
       "      <td>1990</td>\n",
       "      <td>2.57e+07</td>\n",
       "      <td>.</td>\n",
       "    </tr>\n",
       "  </tbody>\n",
       "</table>\n",
       "</div>"
      ]
     },
     "metadata": {},
     "output_type": "display_data"
    }
   ],
   "source": [
    "%head unitid inst_name year endow_assets loan_amount_ftfrosh"
   ]
  },
  {
   "cell_type": "code",
   "execution_count": 14,
   "metadata": {},
   "outputs": [
    {
     "data": {
      "text/html": [
       "<div>\n",
       "<style scoped>\n",
       "    .dataframe tbody tr th:only-of-type {\n",
       "        vertical-align: middle;\n",
       "    }\n",
       "\n",
       "    .dataframe tbody tr th {\n",
       "        vertical-align: top;\n",
       "    }\n",
       "\n",
       "    .dataframe thead th {\n",
       "        text-align: right;\n",
       "    }\n",
       "</style>\n",
       "<table border=\"1\" class=\"dataframe\">\n",
       "  <thead>\n",
       "    <tr style=\"text-align: right;\">\n",
       "      <th></th>\n",
       "      <th>unitid</th>\n",
       "      <th>inst_name_new</th>\n",
       "      <th>year</th>\n",
       "      <th>sector</th>\n",
       "      <th>endow_assets</th>\n",
       "      <th>loan_amount_ftfrosh</th>\n",
       "    </tr>\n",
       "  </thead>\n",
       "  <tbody>\n",
       "    <tr>\n",
       "      <th>182878</th>\n",
       "      <td>484039</td>\n",
       "      <td>BEAUTY ANATOMY INSTITUTE OF COSMETOLOGY AND WE...</td>\n",
       "      <td>2015</td>\n",
       "      <td>3</td>\n",
       "      <td>.</td>\n",
       "      <td>3964</td>\n",
       "    </tr>\n",
       "    <tr>\n",
       "      <th>182879</th>\n",
       "      <td>440101</td>\n",
       "      <td>EMPIRE BEAUTY SCHOOL-KENNESAW</td>\n",
       "      <td>2015</td>\n",
       "      <td>3</td>\n",
       "      <td>.</td>\n",
       "      <td>8475.301</td>\n",
       "    </tr>\n",
       "    <tr>\n",
       "      <th>182880</th>\n",
       "      <td>188146</td>\n",
       "      <td>SANTA FE UNIVERSITY OF ART AND DESIGN</td>\n",
       "      <td>2015</td>\n",
       "      <td>3</td>\n",
       "      <td>.</td>\n",
       "      <td>5297.76</td>\n",
       "    </tr>\n",
       "    <tr>\n",
       "      <th>182881</th>\n",
       "      <td>186584</td>\n",
       "      <td>SETON HALL UNIVERSITY</td>\n",
       "      <td>2015</td>\n",
       "      <td>4</td>\n",
       "      <td>2.67e+08</td>\n",
       "      <td>6787.62</td>\n",
       "    </tr>\n",
       "    <tr>\n",
       "      <th>182882</th>\n",
       "      <td>234225</td>\n",
       "      <td>WASHINGTON COUNTY SKILL CENTER</td>\n",
       "      <td>2015</td>\n",
       "      <td>6</td>\n",
       "      <td>.</td>\n",
       "      <td>.</td>\n",
       "    </tr>\n",
       "  </tbody>\n",
       "</table>\n",
       "</div>"
      ]
     },
     "metadata": {},
     "output_type": "display_data"
    }
   ],
   "source": [
    "%tail unitid inst_name year sector endow_assets loan_amount_ftfrosh"
   ]
  },
  {
   "cell_type": "code",
   "execution_count": 15,
   "metadata": {},
   "outputs": [],
   "source": [
    "gsort -year"
   ]
  },
  {
   "cell_type": "code",
   "execution_count": 16,
   "metadata": {},
   "outputs": [
    {
     "name": "stdout",
     "output_type": "stream",
     "text": [
      "browse failed.\n",
      "<built-in function _st_getdata> returned a result with an error set\n"
     ]
    }
   ],
   "source": [
    "%browse unitid inst_name year endow_assets loan_amount_ftfrosh"
   ]
  },
  {
   "cell_type": "markdown",
   "metadata": {},
   "source": [
    "### 3. Check missing data with mdesc and if statements"
   ]
  },
  {
   "cell_type": "code",
   "execution_count": 18,
   "metadata": {},
   "outputs": [
    {
     "name": "stdout",
     "output_type": "stream",
     "text": [
      "checking mdesc consistency and verifying not already installed...\n",
      "installing into /Users/Charlie/Library/Application Support/Stata/ado/plus/...\n",
      "installation complete.\n"
     ]
    }
   ],
   "source": [
    "ssc install mdesc"
   ]
  },
  {
   "cell_type": "code",
   "execution_count": 19,
   "metadata": {},
   "outputs": [
    {
     "name": "stdout",
     "output_type": "stream",
     "text": [
      "\n",
      "    Variable    |     Missing          Total     Percent Missing\n",
      "----------------+-----------------------------------------------\n",
      "   endow_assets |     155,631        182,882          85.10\n",
      "   loan_amoun~h |      97,091        182,882          53.09\n",
      "----------------+-----------------------------------------------\n",
      "\n",
      "       year |      Freq.     Percent        Cum.\n",
      "------------+-----------------------------------\n",
      "       1990 |      5,310        5.47        5.47\n",
      "       1991 |      5,320        5.48       10.95\n",
      "       1992 |      5,400        5.56       16.51\n",
      "       1993 |      5,422        5.58       22.09\n",
      "       1994 |      8,828        9.09       31.19\n",
      "       1995 |      8,686        8.95       40.13\n",
      "       1996 |      8,566        8.82       48.96\n",
      "       1997 |      6,858        7.06       56.02\n",
      "       1998 |      6,737        6.94       62.96\n",
      "       1999 |      7,351        7.57       70.53\n",
      "       2000 |      2,671        2.75       73.28\n",
      "       2001 |      2,530        2.61       75.89\n",
      "       2002 |      2,178        2.24       78.13\n",
      "       2003 |      1,965        2.02       80.15\n",
      "       2004 |      1,947        2.01       82.16\n",
      "       2005 |      1,910        1.97       84.13\n",
      "       2006 |      1,712        1.76       85.89\n",
      "       2007 |      1,681        1.73       87.62\n",
      "       2008 |      1,577        1.62       89.25\n",
      "       2009 |      1,610        1.66       90.90\n",
      "       2010 |      1,515        1.56       92.46\n",
      "       2011 |      1,349        1.39       93.85\n",
      "       2012 |      1,419        1.46       95.31\n",
      "       2013 |      1,469        1.51       96.83\n",
      "       2014 |      1,538        1.58       98.41\n",
      "       2015 |      1,542        1.59      100.00\n",
      "------------+-----------------------------------\n",
      "      Total |     97,091      100.00\n",
      "\n",
      "       year |      Freq.     Percent        Cum.\n",
      "------------+-----------------------------------\n",
      "       2000 |      4,264        4.97        4.97\n",
      "       2001 |      4,358        5.08       10.05\n",
      "       2002 |      4,620        5.39       15.44\n",
      "       2003 |      4,825        5.62       21.06\n",
      "       2004 |      4,888        5.70       26.76\n",
      "       2005 |      4,976        5.80       32.56\n",
      "       2006 |      5,181        6.04       38.60\n",
      "       2007 |      5,261        6.13       44.73\n",
      "       2008 |      5,473        6.38       51.11\n",
      "       2009 |      5,613        6.54       57.65\n",
      "       2010 |      5,881        6.86       64.51\n",
      "       2011 |      6,098        7.11       71.61\n",
      "       2012 |      6,186        7.21       78.82\n",
      "       2013 |      6,166        7.19       86.01\n",
      "       2014 |      6,061        7.06       93.08\n",
      "       2015 |      5,940        6.92      100.00\n",
      "------------+-----------------------------------\n",
      "      Total |     85,791      100.00\n"
     ]
    }
   ],
   "source": [
    "mdesc endow_assets loan_amount_ftfrosh\n",
    "tab year if loan_amount_ftfrosh==.\n",
    "tab year if loan_amount_ftfrosh!=."
   ]
  },
  {
   "cell_type": "code",
   "execution_count": null,
   "metadata": {},
   "outputs": [],
   "source": []
  }
 ],
 "metadata": {
  "kernelspec": {
   "display_name": "Stata (nbstata)",
   "language": "stata",
   "name": "nbstata"
  },
  "language_info": {
   "file_extension": ".do",
   "mimetype": "text/x-stata",
   "name": "stata",
   "version": "17"
  }
 },
 "nbformat": 4,
 "nbformat_minor": 4
}
