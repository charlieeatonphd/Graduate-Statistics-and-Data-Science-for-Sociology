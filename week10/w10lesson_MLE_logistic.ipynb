{
 "cells": [
  {
   "cell_type": "markdown",
   "metadata": {},
   "source": [
    "### Week 10: Logistic regression\n",
    "\n",
    "By Charlie Eaton\n",
    "\n",
    "1. Reactions to \"The Social Circuitry of High Finance\"\n",
    "2. Probabilities and odds ratios\n",
    "3. The Maximum Likelihood Estimation (MLE) intuition of logistic regression\n",
    "4. The magic of logs revisited: Log Likelihoods\n",
    "5. The MLE logistic equation to maxamize log likelihoods\n",
    "6. Implementing & Interpreting MLE logistic regression in Stata\n",
    "7. Postestimation and robustness"
   ]
  },
  {
   "cell_type": "markdown",
   "metadata": {},
   "source": [
    "### 1. \"The Social Circuitry of High Finance\""
   ]
  },
  {
   "cell_type": "code",
   "execution_count": 1,
   "metadata": {},
   "outputs": [
    {
     "name": "stdout",
     "output_type": "stream",
     "text": [
      "\n",
      "\n",
      "--------------------------------------------------------------------------------\n",
      "      name:  <unnamed>\n",
      "       log:  /Users/Charlie/gradstats2/week10/w10lesson_MLE_logistic20200401.log\n",
      "  log type:  text\n",
      " opened on:   1 Apr 2020, 01:20:50\n",
      "\n",
      "\n",
      "\n",
      "Contains data from socialcircuitrybillionaires.dta\n",
      "  obs:         1,200                          \n",
      " vars:             6                          1 Apr 2020 01:18\n",
      " size:        28,800                          \n",
      "--------------------------------------------------------------------------------\n",
      "              storage   display    value\n",
      "variable name   type    format     label      variable label\n",
      "--------------------------------------------------------------------------------\n",
      "year            float   %10.0g                year of observation\n",
      "boardtop30pri~e float   %9.0g                 held seat on top 30 private\n",
      "                                                university board\n",
      "inherited       float   %9.0g                 in Forbes inherited wealth\n",
      "                                                category\n",
      "collegeschool~e float   %9.0g                 BA school elite status 0 to 3\n",
      "id              float   %9.0g                 person-level unique ID\n",
      "pehedge         float   %9.0g                 private equity or hedge fund\n",
      "                                                partner\n",
      "--------------------------------------------------------------------------------\n",
      "Sorted by: \n"
     ]
    }
   ],
   "source": [
    "set more off\n",
    "log using w10lesson_MLE_logistic20200401.log\n",
    "use socialcircuitrybillionaires, clear\n",
    "describe"
   ]
  },
  {
   "cell_type": "code",
   "execution_count": 2,
   "metadata": {},
   "outputs": [
    {
     "data": {
      "text/html": [
       "<div>\n",
       "<style scoped>\n",
       "    .dataframe tbody tr th:only-of-type {\n",
       "        vertical-align: middle;\n",
       "    }\n",
       "\n",
       "    .dataframe tbody tr th {\n",
       "        vertical-align: top;\n",
       "    }\n",
       "\n",
       "    .dataframe thead th {\n",
       "        text-align: right;\n",
       "    }\n",
       "</style>\n",
       "<table border=\"1\" class=\"dataframe\">\n",
       "  <thead>\n",
       "    <tr style=\"text-align: right;\">\n",
       "      <th></th>\n",
       "      <th>year</th>\n",
       "      <th>boardtop30private</th>\n",
       "      <th>inherited</th>\n",
       "      <th>collegeschooltype</th>\n",
       "      <th>id</th>\n",
       "      <th>pehedge</th>\n",
       "    </tr>\n",
       "  </thead>\n",
       "  <tbody>\n",
       "    <tr>\n",
       "      <th>1</th>\n",
       "      <td>1989</td>\n",
       "      <td>0</td>\n",
       "      <td>0</td>\n",
       "      <td>0</td>\n",
       "      <td>865</td>\n",
       "      <td>0</td>\n",
       "    </tr>\n",
       "    <tr>\n",
       "      <th>2</th>\n",
       "      <td>1989</td>\n",
       "      <td>0</td>\n",
       "      <td>0</td>\n",
       "      <td>2</td>\n",
       "      <td>767</td>\n",
       "      <td>0</td>\n",
       "    </tr>\n",
       "    <tr>\n",
       "      <th>3</th>\n",
       "      <td>1989</td>\n",
       "      <td>0</td>\n",
       "      <td>1</td>\n",
       "      <td>0</td>\n",
       "      <td>662</td>\n",
       "      <td>0</td>\n",
       "    </tr>\n",
       "    <tr>\n",
       "      <th>4</th>\n",
       "      <td>1989</td>\n",
       "      <td>0</td>\n",
       "      <td>0</td>\n",
       "      <td>1</td>\n",
       "      <td>298</td>\n",
       "      <td>0</td>\n",
       "    </tr>\n",
       "    <tr>\n",
       "      <th>5</th>\n",
       "      <td>1989</td>\n",
       "      <td>0</td>\n",
       "      <td>0</td>\n",
       "      <td>1</td>\n",
       "      <td>446</td>\n",
       "      <td>0</td>\n",
       "    </tr>\n",
       "    <tr>\n",
       "      <th>6</th>\n",
       "      <td>1989</td>\n",
       "      <td>1</td>\n",
       "      <td>0</td>\n",
       "      <td>3</td>\n",
       "      <td>505</td>\n",
       "      <td>1</td>\n",
       "    </tr>\n",
       "  </tbody>\n",
       "</table>\n",
       "</div>"
      ],
      "text/plain": [
       "\n",
       "      +-------------------------------------------------------+\n",
       "      | year   boardt~e   inheri~d   colleg~e    id   pehedge |\n",
       "      |-------------------------------------------------------|\n",
       "   1. | 1989          0          0          0   865         0 |\n",
       "   2. | 1989          0          0          2   767         0 |\n",
       "   3. | 1989          0          1          0   662         0 |\n",
       "   4. | 1989          0          0          1   298         0 |\n",
       "   5. | 1989          0          0          1   446         0 |\n",
       "      |-------------------------------------------------------|\n",
       "   6. | 1989          1          0          3   505         1 |\n",
       "      +-------------------------------------------------------+\n",
       "\n"
      ]
     },
     "metadata": {},
     "output_type": "display_data"
    }
   ],
   "source": [
    "%head if _n<7"
   ]
  },
  {
   "cell_type": "markdown",
   "metadata": {},
   "source": [
    "### 2. Probabilities and odds ratios\n",
    "\n",
    "* A. With a dichotomous (binary) dependent variable Y, we cannot assume that regression residuals (errors of prediction) are normally distributed as OLS requires. And OLS will predict non-sensical values for Y (outside of the range of 0 to 1)\n",
    "\n",
    "* B. Instead, logistic regression predicts the logit of dependent variable Y (aka the log of the odds ratio for Y=1) for each observation based on independent variables: $ X_1 ... X_k $\n",
    "\n",
    "* C. Odds ratios are an expression of the probability that Y=1 is true.\n",
    "\n",
    "An example from \"Social Circuitry\":\n",
    "\n",
    "* Y is a dichotomous/binary dependent variable\n",
    "\n",
    "* Y = 1 if the Forbes 400 billionaire serves on the board of a top 30 private university that year, and is otherwise 0\n",
    "\n",
    "* The unconditioned probability that Y=1 is estimated as follows:\n",
    "\n",
    "### $ p=P(Y=1) = {f_{Y=1} \\over N} $\n",
    "\n",
    "We can estimate probability with a frequency table:"
   ]
  },
  {
   "cell_type": "code",
   "execution_count": 20,
   "metadata": {},
   "outputs": [
    {
     "name": "stdout",
     "output_type": "stream",
     "text": [
      "\n",
      "  held seat |\n",
      "  on top 30 |\n",
      "    private |\n",
      " university |\n",
      "      board |      Freq.     Percent        Cum.\n",
      "------------+-----------------------------------\n",
      "          0 |      1,046       87.17       87.17\n",
      "          1 |        154       12.83      100.00\n",
      "------------+-----------------------------------\n",
      "      Total |      1,200      100.00\n"
     ]
    }
   ],
   "source": [
    "tab boardtop30private"
   ]
  },
  {
   "cell_type": "markdown",
   "metadata": {},
   "source": [
    "### From probability to an odds ratio:\n",
    "\n",
    "* An odds ratio is the probability of something being true divided by the probability that it is not true.\n",
    "\n",
    "* The formula for an odds ratio is:\n",
    "\n",
    "### $ OR = {p \\over (1-p)} $\n",
    "\n",
    "We can write this in Stata:"
   ]
  },
  {
   "cell_type": "code",
   "execution_count": 4,
   "metadata": {},
   "outputs": [
    {
     "name": "stdout",
     "output_type": "stream",
     "text": [
      "\n",
      "OR = p / (1-p) = .14718366\n",
      "\n",
      "OR = (fy=1 / fy=0) = .14722753\n"
     ]
    }
   ],
   "source": [
    "display \"OR = p / (1-p) = \" .1283 / (1-.1283)\n",
    "display \"OR = (fy=1 / fy=0) = \" 154 / 1046"
   ]
  },
  {
   "cell_type": "markdown",
   "metadata": {},
   "source": [
    "### 3. The Maximum Likelihood Estimation (MLE) intuition of logistic regression\n",
    "\n",
    "* The principle \"is to find the value of the \"coefficient\" that maximizes the likelihood of observing all of the sample data.\" (Treiman pg. 302)\n",
    "\n",
    "* This means our model and coefficients predict the **\"likelihood\"** of Y=1 or Y=0 rather than the value of Y for each observation.\n",
    "\n",
    "* Think of every observation of Y -- whether they are on a top university board -- for every billionaire in our dataset as involving a flip of a coin resulting in Heads, Y=yes, or Tails, Y=No.\n",
    "\n",
    "* But the coin toss is never really fair because the coin is weighted.\n",
    "\n",
    "* We estimate coefficients for our independent variables in logistic regression to predict how much weight towards yes or no (i.e. probability of yes or no) for each billionaire would give us the **Maximum Likelihood** of observing all of our exact data.\n",
    "\n",
    "* As shown above, just being a billionaire gives someone a .128 chance of being on a top university board. Suppose we think that being a billionaire **private equity or hedge fund manager** gives someone a .25 chance. Here is how it would look in Stata if did 100 flips of a coin that was weighted according to these probabilities:"
   ]
  },
  {
   "cell_type": "code",
   "execution_count": 6,
   "metadata": {},
   "outputs": [],
   "source": [
    "%set graph_format svg"
   ]
  },
  {
   "cell_type": "code",
   "execution_count": 13,
   "metadata": {},
   "outputs": [
    {
     "data": {
      "application/pdf": "[encoded data removed]",
      "image/svg+xml": [
       "<?xml version=\"1.0\" encoding=\"UTF-8\" standalone=\"no\"?>\n",
       "<!-- This is a Stata 15.1 generated SVG file (http://www.stata.com) -->\n",
       "\n",
       "<svg version=\"1.1\" width=\"600px\" height=\"300px\" viewBox=\"0 0 8640 4320\" xmlns=\"http://www.w3.org/2000/svg\" xmlns:xlink=\"http://www.w3.org/1999/xlink\">\n",
       "\t<desc>Stata Graph - Graph</desc>\n",
       "\t<rect x=\"0\" y=\"0\" width=\"8640\" height=\"4320\" style=\"fill:#EAF2F3;stroke:none\"/>\n",
       "\t<rect x=\"0.00\" y=\"0.00\" width=\"8640.00\" height=\"4320.00\" style=\"fill:#EAF2F3\"/>\n",
       "\t<rect x=\"4.32\" y=\"4.32\" width=\"8631.36\" height=\"4311.36\" style=\"fill:none;stroke:#EAF2F3;stroke-width:8.64\"/>\n",
       "\t<rect x=\"95.04\" y=\"326.97\" width=\"4224.96\" height=\"3897.99\" style=\"fill:#EAF2F3\"/>\n",
       "\t<rect x=\"99.14\" y=\"331.07\" width=\"4216.75\" height=\"3889.78\" style=\"fill:none;stroke:#EAF2F3;stroke-width:8.21\"/>\n",
       "\t<rect x=\"798.93\" y=\"861.84\" width=\"3377.43\" height=\"2806.11\" style=\"fill:#FFFFFF\"/>\n",
       "\t<rect x=\"803.03\" y=\"865.94\" width=\"3369.22\" height=\"2797.90\" style=\"fill:none;stroke:#FFFFFF;stroke-width:8.21\"/>\n",
       "\t<line x1=\"798.93\" y1=\"3315.33\" x2=\"4176.36\" y2=\"3315.33\" style=\"stroke:#EAF2F3;stroke-width:12.31\"/>\n",
       "\t<line x1=\"798.93\" y1=\"3052.62\" x2=\"4176.36\" y2=\"3052.62\" style=\"stroke:#EAF2F3;stroke-width:12.31\"/>\n",
       "\t<line x1=\"798.93\" y1=\"2790.18\" x2=\"4176.36\" y2=\"2790.18\" style=\"stroke:#EAF2F3;stroke-width:12.31\"/>\n",
       "\t<line x1=\"798.93\" y1=\"2527.47\" x2=\"4176.36\" y2=\"2527.47\" style=\"stroke:#EAF2F3;stroke-width:12.31\"/>\n",
       "\t<line x1=\"798.93\" y1=\"2265.03\" x2=\"4176.36\" y2=\"2265.03\" style=\"stroke:#EAF2F3;stroke-width:12.31\"/>\n",
       "\t<line x1=\"798.93\" y1=\"2002.32\" x2=\"4176.36\" y2=\"2002.32\" style=\"stroke:#EAF2F3;stroke-width:12.31\"/>\n",
       "\t<line x1=\"798.93\" y1=\"1739.88\" x2=\"4176.36\" y2=\"1739.88\" style=\"stroke:#EAF2F3;stroke-width:12.31\"/>\n",
       "\t<line x1=\"798.93\" y1=\"1477.17\" x2=\"4176.36\" y2=\"1477.17\" style=\"stroke:#EAF2F3;stroke-width:12.31\"/>\n",
       "\t<line x1=\"798.93\" y1=\"1214.73\" x2=\"4176.36\" y2=\"1214.73\" style=\"stroke:#EAF2F3;stroke-width:12.31\"/>\n",
       "\t<line x1=\"798.93\" y1=\"952.02\" x2=\"4176.36\" y2=\"952.02\" style=\"stroke:#EAF2F3;stroke-width:12.31\"/>\n",
       "\t<line x1=\"798.93\" y1=\"3241.62\" x2=\"4176.36\" y2=\"3241.62\" style=\"stroke:#EAF2F3;stroke-width:12.31\"/>\n",
       "\t<line x1=\"798.93\" y1=\"3241.62\" x2=\"4176.36\" y2=\"3241.62\" style=\"stroke:#FFD200;stroke-width:32.83\"/>\n",
       "\t<path d=\" M920.97 952.29 L953.10 2265.03 L984.96 2702.70 L1016.82 2921.40 L1048.95 3052.89 L1080.81 3140.37 L1112.94 3202.74 L1144.80 3249.72 L1176.66 3286.17 L1208.79 3052.89 L1240.65 3100.41 L1272.78 3140.37 L1304.64 3173.85 L1336.50 3202.74 L1368.63 3227.85 L1400.49 3085.56 L1432.62 3114.45 L1464.48 3140.37 L1496.34 3163.32 L1528.47 3184.11 L1560.33 3202.74 L1592.46 3219.75 L1624.32 3235.41 L1656.18 3249.72 L1688.31 3262.95 L1720.17 3274.83 L1752.30 3286.17 L1784.16 3296.70 L1816.02 3306.42 L1848.15 3315.33 L1880.01 3323.70 L1912.14 3331.80 L1944.00 3339.09 L1975.86 3346.11 L2007.99 3352.86 L2039.85 3359.07 L2071.98 3365.01 L2103.84 3301.56 L2135.70 3308.58 L2167.83 3249.72 L2199.69 3193.56 L2231.82 3202.74 L2263.68 3211.65 L2295.54 3219.75 L2327.67 3227.85 L2359.53 3178.44 L2391.66 3186.81 L2423.52 3194.91 L2455.38 3149.28 L2487.51 3157.92 L2519.37 3166.02 L2551.50 3173.85 L2583.36 3181.68 L2615.49 3140.37 L2647.35 3148.20 L2679.21 3156.03 L2711.34 3163.32 L2743.20 3170.61 L2775.33 3177.36 L2807.19 3184.11 L2839.05 3190.59 L2871.18 3196.80 L2903.04 3202.74 L2935.17 3208.68 L2967.03 3214.35 L2998.89 3180.06 L3031.02 3186.00 L3062.88 3153.06 L3095.01 3159.27 L3126.87 3165.21 L3158.73 3171.15 L3190.86 3140.37 L3222.72 3146.31 L3254.85 3116.61 L3286.71 3122.82 L3318.57 3128.76 L3350.70 3134.70 L3382.56 3140.37 L3414.69 3145.77 L3446.55 3151.17 L3478.41 3156.57 L3510.54 3161.70 L3542.40 3166.56 L3574.53 3171.69 L3606.39 3176.28 L3638.25 3181.14 L3670.38 3185.46 L3702.24 3190.05 L3734.37 3194.37 L3766.23 3198.69 L3798.09 3202.74 L3830.22 3206.79 L3862.08 3210.84 L3894.21 3186.81 L3926.07 3190.86 L3957.93 3194.91 L3990.06 3171.96 L4021.92 3176.01 L4054.05 3180.06 L4085.91 3184.11\" stroke-linecap=\"round\" stroke-linejoin=\"round\" style=\"fill:none;stroke:#1A476F;stroke-width:12.31\"/>\n",
       "\t<line x1=\"798.93\" y1=\"3667.95\" x2=\"798.93\" y2=\"861.84\" style=\"stroke:#000000;stroke-width:8.21\"/>\n",
       "\t<line x1=\"798.93\" y1=\"3577.77\" x2=\"741.96\" y2=\"3577.77\" style=\"stroke:#000000;stroke-width:8.21\"/>\n",
       "\t<text x=\"713.34\" y=\"3627.73\" style=\"font-family:'Helvetica';font-size:142.56px;fill:#000000\" text-anchor=\"end\">0</text>\n",
       "\t<line x1=\"798.93\" y1=\"3315.33\" x2=\"741.96\" y2=\"3315.33\" style=\"stroke:#000000;stroke-width:8.21\"/>\n",
       "\t<text x=\"713.34\" y=\"3365.29\" style=\"font-family:'Helvetica';font-size:142.56px;fill:#000000\" text-anchor=\"end\">.1</text>\n",
       "\t<line x1=\"798.93\" y1=\"3052.62\" x2=\"741.96\" y2=\"3052.62\" style=\"stroke:#000000;stroke-width:8.21\"/>\n",
       "\t<text x=\"713.34\" y=\"3102.58\" style=\"font-family:'Helvetica';font-size:142.56px;fill:#000000\" text-anchor=\"end\">.2</text>\n",
       "\t<line x1=\"798.93\" y1=\"2790.18\" x2=\"741.96\" y2=\"2790.18\" style=\"stroke:#000000;stroke-width:8.21\"/>\n",
       "\t<text x=\"713.34\" y=\"2840.14\" style=\"font-family:'Helvetica';font-size:142.56px;fill:#000000\" text-anchor=\"end\">.3</text>\n",
       "\t<line x1=\"798.93\" y1=\"2527.47\" x2=\"741.96\" y2=\"2527.47\" style=\"stroke:#000000;stroke-width:8.21\"/>\n",
       "\t<text x=\"713.34\" y=\"2577.43\" style=\"font-family:'Helvetica';font-size:142.56px;fill:#000000\" text-anchor=\"end\">.4</text>\n",
       "\t<line x1=\"798.93\" y1=\"2265.03\" x2=\"741.96\" y2=\"2265.03\" style=\"stroke:#000000;stroke-width:8.21\"/>\n",
       "\t<text x=\"713.34\" y=\"2314.99\" style=\"font-family:'Helvetica';font-size:142.56px;fill:#000000\" text-anchor=\"end\">.5</text>\n",
       "\t<line x1=\"798.93\" y1=\"2002.32\" x2=\"741.96\" y2=\"2002.32\" style=\"stroke:#000000;stroke-width:8.21\"/>\n",
       "\t<text x=\"713.34\" y=\"2052.28\" style=\"font-family:'Helvetica';font-size:142.56px;fill:#000000\" text-anchor=\"end\">.6</text>\n",
       "\t<line x1=\"798.93\" y1=\"1739.88\" x2=\"741.96\" y2=\"1739.88\" style=\"stroke:#000000;stroke-width:8.21\"/>\n",
       "\t<text x=\"713.34\" y=\"1789.84\" style=\"font-family:'Helvetica';font-size:142.56px;fill:#000000\" text-anchor=\"end\">.7</text>\n",
       "\t<line x1=\"798.93\" y1=\"1477.17\" x2=\"741.96\" y2=\"1477.17\" style=\"stroke:#000000;stroke-width:8.21\"/>\n",
       "\t<text x=\"713.34\" y=\"1527.13\" style=\"font-family:'Helvetica';font-size:142.56px;fill:#000000\" text-anchor=\"end\">.8</text>\n",
       "\t<line x1=\"798.93\" y1=\"1214.73\" x2=\"741.96\" y2=\"1214.73\" style=\"stroke:#000000;stroke-width:8.21\"/>\n",
       "\t<text x=\"713.34\" y=\"1264.69\" style=\"font-family:'Helvetica';font-size:142.56px;fill:#000000\" text-anchor=\"end\">.9</text>\n",
       "\t<line x1=\"798.93\" y1=\"952.02\" x2=\"741.96\" y2=\"952.02\" style=\"stroke:#000000;stroke-width:8.21\"/>\n",
       "\t<text x=\"713.34\" y=\"1001.98\" style=\"font-family:'Helvetica';font-size:142.56px;fill:#000000\" text-anchor=\"end\">1</text>\n",
       "\t<line x1=\"798.93\" y1=\"3241.62\" x2=\"741.96\" y2=\"3241.62\" style=\"stroke:#000000;stroke-width:8.21\"/>\n",
       "\t<text x=\"713.34\" y=\"3291.58\" style=\"font-family:'Helvetica';font-size:142.56px;fill:#000000\" text-anchor=\"end\">.128</text>\n",
       "\t<text x=\"366.69\" y=\"2265.03\" style=\"font-family:'Helvetica';font-size:142.56px;fill:#000000\" transform=\"rotate(-90 366.69,2265.03)\" text-anchor=\"middle\">Average # of heads</text>\n",
       "\t<line x1=\"798.93\" y1=\"3667.95\" x2=\"4176.36\" y2=\"3667.95\" style=\"stroke:#000000;stroke-width:8.21\"/>\n",
       "\t<line x1=\"889.11\" y1=\"3667.95\" x2=\"889.11\" y2=\"3725.19\" style=\"stroke:#000000;stroke-width:8.21\"/>\n",
       "\t<text x=\"889.11\" y=\"3853.20\" style=\"font-family:'Helvetica';font-size:142.56px;fill:#000000\" text-anchor=\"middle\">0</text>\n",
       "\t<line x1=\"1528.47\" y1=\"3667.95\" x2=\"1528.47\" y2=\"3725.19\" style=\"stroke:#000000;stroke-width:8.21\"/>\n",
       "\t<text x=\"1528.47\" y=\"3853.20\" style=\"font-family:'Helvetica';font-size:142.56px;fill:#000000\" text-anchor=\"middle\">20</text>\n",
       "\t<line x1=\"2167.83\" y1=\"3667.95\" x2=\"2167.83\" y2=\"3725.19\" style=\"stroke:#000000;stroke-width:8.21\"/>\n",
       "\t<text x=\"2167.83\" y=\"3853.20\" style=\"font-family:'Helvetica';font-size:142.56px;fill:#000000\" text-anchor=\"middle\">40</text>\n",
       "\t<line x1=\"2807.19\" y1=\"3667.95\" x2=\"2807.19\" y2=\"3725.19\" style=\"stroke:#000000;stroke-width:8.21\"/>\n",
       "\t<text x=\"2807.19\" y=\"3853.20\" style=\"font-family:'Helvetica';font-size:142.56px;fill:#000000\" text-anchor=\"middle\">60</text>\n",
       "\t<line x1=\"3446.82\" y1=\"3667.95\" x2=\"3446.82\" y2=\"3725.19\" style=\"stroke:#000000;stroke-width:8.21\"/>\n",
       "\t<text x=\"3446.82\" y=\"3853.20\" style=\"font-family:'Helvetica';font-size:142.56px;fill:#000000\" text-anchor=\"middle\">80</text>\n",
       "\t<line x1=\"4086.18\" y1=\"3667.95\" x2=\"4086.18\" y2=\"3725.19\" style=\"stroke:#000000;stroke-width:8.21\"/>\n",
       "\t<text x=\"4086.18\" y=\"3853.20\" style=\"font-family:'Helvetica';font-size:142.56px;fill:#000000\" text-anchor=\"middle\">100</text>\n",
       "\t<text x=\"2487.51\" y=\"4009.80\" style=\"font-family:'Helvetica';font-size:142.56px;fill:#000000\" text-anchor=\"middle\">Number of Trials</text>\n",
       "\t<text x=\"2487.51\" y=\"614.68\" style=\"font-family:'Helvetica';font-size:170.91px;fill:#1E2D53\" text-anchor=\"middle\">Average number of heads</text>\n",
       "\t<text x=\"2487.51\" y=\"785.86\" style=\"font-family:'Helvetica';font-size:170.91px;fill:#1E2D53\" text-anchor=\"middle\">from trial 1 to 100 of 1 coin with p(head)=.128</text>\n",
       "\t<rect x=\"4320.00\" y=\"326.97\" width=\"4224.96\" height=\"3897.99\" style=\"fill:#EAF2F3\"/>\n",
       "\t<rect x=\"4324.10\" y=\"331.07\" width=\"4216.75\" height=\"3889.78\" style=\"fill:none;stroke:#EAF2F3;stroke-width:8.21\"/>\n",
       "\t<rect x=\"4969.62\" y=\"861.84\" width=\"3431.70\" height=\"2806.11\" style=\"fill:#FFFFFF\"/>\n",
       "\t<rect x=\"4973.72\" y=\"865.94\" width=\"3423.49\" height=\"2797.90\" style=\"fill:none;stroke:#FFFFFF;stroke-width:8.21\"/>\n",
       "\t<line x1=\"4969.62\" y1=\"3577.77\" x2=\"8401.32\" y2=\"3577.77\" style=\"stroke:#EAF2F3;stroke-width:12.31\"/>\n",
       "\t<line x1=\"4969.62\" y1=\"3315.33\" x2=\"8401.32\" y2=\"3315.33\" style=\"stroke:#EAF2F3;stroke-width:12.31\"/>\n",
       "\t<line x1=\"4969.62\" y1=\"3052.62\" x2=\"8401.32\" y2=\"3052.62\" style=\"stroke:#EAF2F3;stroke-width:12.31\"/>\n",
       "\t<line x1=\"4969.62\" y1=\"2790.18\" x2=\"8401.32\" y2=\"2790.18\" style=\"stroke:#EAF2F3;stroke-width:12.31\"/>\n",
       "\t<line x1=\"4969.62\" y1=\"2527.47\" x2=\"8401.32\" y2=\"2527.47\" style=\"stroke:#EAF2F3;stroke-width:12.31\"/>\n",
       "\t<line x1=\"4969.62\" y1=\"2265.03\" x2=\"8401.32\" y2=\"2265.03\" style=\"stroke:#EAF2F3;stroke-width:12.31\"/>\n",
       "\t<line x1=\"4969.62\" y1=\"2002.32\" x2=\"8401.32\" y2=\"2002.32\" style=\"stroke:#EAF2F3;stroke-width:12.31\"/>\n",
       "\t<line x1=\"4969.62\" y1=\"1739.88\" x2=\"8401.32\" y2=\"1739.88\" style=\"stroke:#EAF2F3;stroke-width:12.31\"/>\n",
       "\t<line x1=\"4969.62\" y1=\"1477.17\" x2=\"8401.32\" y2=\"1477.17\" style=\"stroke:#EAF2F3;stroke-width:12.31\"/>\n",
       "\t<line x1=\"4969.62\" y1=\"1214.73\" x2=\"8401.32\" y2=\"1214.73\" style=\"stroke:#EAF2F3;stroke-width:12.31\"/>\n",
       "\t<line x1=\"4969.62\" y1=\"2921.40\" x2=\"8401.32\" y2=\"2921.40\" style=\"stroke:#EAF2F3;stroke-width:12.31\"/>\n",
       "\t<line x1=\"4969.62\" y1=\"2921.40\" x2=\"8401.32\" y2=\"2921.40\" style=\"stroke:#FFD200;stroke-width:32.83\"/>\n",
       "\t<path d=\" M5092.47 3578.04 L5124.87 3578.04 L5157.54 2702.70 L5189.94 2265.03 L5222.34 2002.59 L5255.01 2265.03 L5287.41 2077.38 L5320.08 2265.03 L5352.48 2410.83 L5384.88 2527.74 L5417.55 2623.05 L5449.95 2702.70 L5482.62 2769.93 L5515.02 2640.06 L5547.42 2702.70 L5580.09 2593.35 L5612.49 2651.13 L5645.16 2556.90 L5677.56 2610.63 L5709.96 2658.96 L5742.63 2702.70 L5775.03 2742.39 L5807.70 2664.63 L5840.10 2702.70 L5872.50 2737.80 L5905.17 2769.93 L5937.57 2799.90 L5970.24 2827.71 L6002.64 2853.63 L6035.31 2877.66 L6067.71 2900.34 L6100.11 2921.40 L6132.78 2941.38 L6165.18 2960.01 L6197.85 2902.77 L6230.25 2848.50 L6262.65 2868.21 L6295.32 2817.72 L6327.72 2837.43 L6360.39 2855.79 L6392.79 2873.34 L6425.19 2827.71 L6457.86 2845.26 L6490.26 2861.73 L6522.93 2877.66 L6555.33 2893.05 L6587.73 2907.63 L6620.40 2921.40 L6652.80 2934.90 L6685.47 2947.86 L6717.87 2960.01 L6750.54 2971.89 L6782.94 2983.50 L6815.34 2994.30 L6848.01 3005.10 L6880.41 3015.36 L6913.08 3025.08 L6945.48 2989.44 L6977.88 2999.43 L7010.55 3009.15 L7042.95 3018.33 L7075.62 3027.24 L7108.02 2994.30 L7140.42 3003.48 L7173.09 3012.39 L7205.49 3021.03 L7238.16 3029.40 L7270.56 2998.62 L7302.96 3006.99 L7335.63 3015.36 L7368.03 3023.19 L7400.70 3031.02 L7433.10 3038.31 L7465.50 3045.60 L7498.17 3052.89 L7530.57 3059.64 L7563.24 3066.39 L7595.64 3072.87 L7628.31 3079.35 L7660.71 3085.56 L7693.11 3091.77 L7725.78 3097.71 L7758.18 3103.38 L7790.85 3109.05 L7823.25 3083.67 L7855.65 3089.34 L7888.32 3095.01 L7920.72 3100.41 L7953.39 3105.81 L7985.79 3111.21 L8018.19 3116.34 L8050.86 3092.85 L8083.26 3069.63 L8115.93 3075.03 L8148.33 3080.43 L8180.73 3058.29 L8213.40 3036.42 L8245.80 3042.09 L8278.47 3047.49 L8310.87 3052.89\" stroke-linecap=\"round\" stroke-linejoin=\"round\" style=\"fill:none;stroke:#1A476F;stroke-width:12.31\"/>\n",
       "\t<line x1=\"4969.62\" y1=\"3667.95\" x2=\"4969.62\" y2=\"861.84\" style=\"stroke:#000000;stroke-width:8.21\"/>\n",
       "\t<line x1=\"4969.62\" y1=\"3577.77\" x2=\"4912.65\" y2=\"3577.77\" style=\"stroke:#000000;stroke-width:8.21\"/>\n",
       "\t<text x=\"4884.30\" y=\"3627.73\" style=\"font-family:'Helvetica';font-size:142.56px;fill:#000000\" text-anchor=\"end\">0</text>\n",
       "\t<line x1=\"4969.62\" y1=\"3315.33\" x2=\"4912.65\" y2=\"3315.33\" style=\"stroke:#000000;stroke-width:8.21\"/>\n",
       "\t<text x=\"4884.30\" y=\"3365.29\" style=\"font-family:'Helvetica';font-size:142.56px;fill:#000000\" text-anchor=\"end\">.1</text>\n",
       "\t<line x1=\"4969.62\" y1=\"3052.62\" x2=\"4912.65\" y2=\"3052.62\" style=\"stroke:#000000;stroke-width:8.21\"/>\n",
       "\t<text x=\"4884.30\" y=\"3102.58\" style=\"font-family:'Helvetica';font-size:142.56px;fill:#000000\" text-anchor=\"end\">.2</text>\n",
       "\t<line x1=\"4969.62\" y1=\"2790.18\" x2=\"4912.65\" y2=\"2790.18\" style=\"stroke:#000000;stroke-width:8.21\"/>\n",
       "\t<text x=\"4884.30\" y=\"2840.14\" style=\"font-family:'Helvetica';font-size:142.56px;fill:#000000\" text-anchor=\"end\">.3</text>\n",
       "\t<line x1=\"4969.62\" y1=\"2527.47\" x2=\"4912.65\" y2=\"2527.47\" style=\"stroke:#000000;stroke-width:8.21\"/>\n",
       "\t<text x=\"4884.30\" y=\"2577.43\" style=\"font-family:'Helvetica';font-size:142.56px;fill:#000000\" text-anchor=\"end\">.4</text>\n",
       "\t<line x1=\"4969.62\" y1=\"2265.03\" x2=\"4912.65\" y2=\"2265.03\" style=\"stroke:#000000;stroke-width:8.21\"/>\n",
       "\t<text x=\"4884.30\" y=\"2314.99\" style=\"font-family:'Helvetica';font-size:142.56px;fill:#000000\" text-anchor=\"end\">.5</text>\n",
       "\t<line x1=\"4969.62\" y1=\"2002.32\" x2=\"4912.65\" y2=\"2002.32\" style=\"stroke:#000000;stroke-width:8.21\"/>\n",
       "\t<text x=\"4884.30\" y=\"2052.28\" style=\"font-family:'Helvetica';font-size:142.56px;fill:#000000\" text-anchor=\"end\">.6</text>\n",
       "\t<line x1=\"4969.62\" y1=\"1739.88\" x2=\"4912.65\" y2=\"1739.88\" style=\"stroke:#000000;stroke-width:8.21\"/>\n",
       "\t<text x=\"4884.30\" y=\"1789.84\" style=\"font-family:'Helvetica';font-size:142.56px;fill:#000000\" text-anchor=\"end\">.7</text>\n",
       "\t<line x1=\"4969.62\" y1=\"1477.17\" x2=\"4912.65\" y2=\"1477.17\" style=\"stroke:#000000;stroke-width:8.21\"/>\n",
       "\t<text x=\"4884.30\" y=\"1527.13\" style=\"font-family:'Helvetica';font-size:142.56px;fill:#000000\" text-anchor=\"end\">.8</text>\n",
       "\t<line x1=\"4969.62\" y1=\"1214.73\" x2=\"4912.65\" y2=\"1214.73\" style=\"stroke:#000000;stroke-width:8.21\"/>\n",
       "\t<text x=\"4884.30\" y=\"1264.69\" style=\"font-family:'Helvetica';font-size:142.56px;fill:#000000\" text-anchor=\"end\">.9</text>\n",
       "\t<line x1=\"4969.62\" y1=\"952.02\" x2=\"4912.65\" y2=\"952.02\" style=\"stroke:#000000;stroke-width:8.21\"/>\n",
       "\t<text x=\"4884.30\" y=\"1001.98\" style=\"font-family:'Helvetica';font-size:142.56px;fill:#000000\" text-anchor=\"end\">1</text>\n",
       "\t<line x1=\"4969.62\" y1=\"2921.40\" x2=\"4912.65\" y2=\"2921.40\" style=\"stroke:#000000;stroke-width:8.21\"/>\n",
       "\t<text x=\"4884.30\" y=\"2971.36\" style=\"font-family:'Helvetica';font-size:142.56px;fill:#000000\" text-anchor=\"end\">.25</text>\n",
       "\t<text x=\"4591.65\" y=\"2265.03\" style=\"font-family:'Helvetica';font-size:142.56px;fill:#000000\" transform=\"rotate(-90 4591.65,2265.03)\" text-anchor=\"middle\">Average # of heads</text>\n",
       "\t<line x1=\"4969.62\" y1=\"3667.95\" x2=\"8401.32\" y2=\"3667.95\" style=\"stroke:#000000;stroke-width:8.21\"/>\n",
       "\t<line x1=\"5060.07\" y1=\"3667.95\" x2=\"5060.07\" y2=\"3725.19\" style=\"stroke:#000000;stroke-width:8.21\"/>\n",
       "\t<text x=\"5060.07\" y=\"3853.20\" style=\"font-family:'Helvetica';font-size:142.56px;fill:#000000\" text-anchor=\"middle\">0</text>\n",
       "\t<line x1=\"5710.23\" y1=\"3667.95\" x2=\"5710.23\" y2=\"3725.19\" style=\"stroke:#000000;stroke-width:8.21\"/>\n",
       "\t<text x=\"5710.23\" y=\"3853.20\" style=\"font-family:'Helvetica';font-size:142.56px;fill:#000000\" text-anchor=\"middle\">20</text>\n",
       "\t<line x1=\"6360.39\" y1=\"3667.95\" x2=\"6360.39\" y2=\"3725.19\" style=\"stroke:#000000;stroke-width:8.21\"/>\n",
       "\t<text x=\"6360.39\" y=\"3853.20\" style=\"font-family:'Helvetica';font-size:142.56px;fill:#000000\" text-anchor=\"middle\">40</text>\n",
       "\t<line x1=\"7010.55\" y1=\"3667.95\" x2=\"7010.55\" y2=\"3725.19\" style=\"stroke:#000000;stroke-width:8.21\"/>\n",
       "\t<text x=\"7010.55\" y=\"3853.20\" style=\"font-family:'Helvetica';font-size:142.56px;fill:#000000\" text-anchor=\"middle\">60</text>\n",
       "\t<line x1=\"7660.71\" y1=\"3667.95\" x2=\"7660.71\" y2=\"3725.19\" style=\"stroke:#000000;stroke-width:8.21\"/>\n",
       "\t<text x=\"7660.71\" y=\"3853.20\" style=\"font-family:'Helvetica';font-size:142.56px;fill:#000000\" text-anchor=\"middle\">80</text>\n",
       "\t<line x1=\"8311.14\" y1=\"3667.95\" x2=\"8311.14\" y2=\"3725.19\" style=\"stroke:#000000;stroke-width:8.21\"/>\n",
       "\t<text x=\"8311.14\" y=\"3853.20\" style=\"font-family:'Helvetica';font-size:142.56px;fill:#000000\" text-anchor=\"middle\">100</text>\n",
       "\t<text x=\"6685.47\" y=\"4009.80\" style=\"font-family:'Helvetica';font-size:142.56px;fill:#000000\" text-anchor=\"middle\">Number of Trials</text>\n",
       "\t<text x=\"6685.47\" y=\"614.68\" style=\"font-family:'Helvetica';font-size:170.91px;fill:#1E2D53\" text-anchor=\"middle\">Average number of heads</text>\n",
       "\t<text x=\"6685.47\" y=\"785.86\" style=\"font-family:'Helvetica';font-size:170.91px;fill:#1E2D53\" text-anchor=\"middle\">from trial 1 to 100 of 1 coin with p(head)=.25</text>\n",
       "\t<text x=\"4320.00\" y=\"246.89\" style=\"font-family:'Helvetica';font-size:180.09px;fill:#1E2D53\" text-anchor=\"middle\">Frequency getting board seats across 100 coin flips for Plain Billionaires vs. PE/Hedge Billionaires</text>\n",
       "</svg>\n"
      ],
      "text/html": [
       "                <iframe frameborder=\"0\" scrolling=\"no\" height=\"300\" width=\"600\"                srcdoc=\"<html><body>&lt;?xml version=&quot;1.0&quot; encoding=&quot;UTF-8&quot; standalone=&quot;no&quot;?&gt;\n",
       "&lt;!-- This is a Stata 15.1 generated SVG file (http://www.stata.com) --&gt;\n",
       "\n",
       "&lt;svg version=&quot;1.1&quot; width=&quot;600px&quot; height=&quot;300px&quot; viewBox=&quot;0 0 8640 4320&quot; xmlns=&quot;http://www.w3.org/2000/svg&quot; xmlns:xlink=&quot;http://www.w3.org/1999/xlink&quot;&gt;\n",
       "\t&lt;desc&gt;Stata Graph - Graph&lt;/desc&gt;\n",
       "\t&lt;rect x=&quot;0&quot; y=&quot;0&quot; width=&quot;8640&quot; height=&quot;4320&quot; style=&quot;fill:#EAF2F3;stroke:none&quot;/&gt;\n",
       "\t&lt;rect x=&quot;0.00&quot; y=&quot;0.00&quot; width=&quot;8640.00&quot; height=&quot;4320.00&quot; style=&quot;fill:#EAF2F3&quot;/&gt;\n",
       "\t&lt;rect x=&quot;4.32&quot; y=&quot;4.32&quot; width=&quot;8631.36&quot; height=&quot;4311.36&quot; style=&quot;fill:none;stroke:#EAF2F3;stroke-width:8.64&quot;/&gt;\n",
       "\t&lt;rect x=&quot;95.04&quot; y=&quot;326.97&quot; width=&quot;4224.96&quot; height=&quot;3897.99&quot; style=&quot;fill:#EAF2F3&quot;/&gt;\n",
       "\t&lt;rect x=&quot;99.14&quot; y=&quot;331.07&quot; width=&quot;4216.75&quot; height=&quot;3889.78&quot; style=&quot;fill:none;stroke:#EAF2F3;stroke-width:8.21&quot;/&gt;\n",
       "\t&lt;rect x=&quot;798.93&quot; y=&quot;861.84&quot; width=&quot;3377.43&quot; height=&quot;2806.11&quot; style=&quot;fill:#FFFFFF&quot;/&gt;\n",
       "\t&lt;rect x=&quot;803.03&quot; y=&quot;865.94&quot; width=&quot;3369.22&quot; height=&quot;2797.90&quot; style=&quot;fill:none;stroke:#FFFFFF;stroke-width:8.21&quot;/&gt;\n",
       "\t&lt;line x1=&quot;798.93&quot; y1=&quot;3315.33&quot; x2=&quot;4176.36&quot; y2=&quot;3315.33&quot; style=&quot;stroke:#EAF2F3;stroke-width:12.31&quot;/&gt;\n",
       "\t&lt;line x1=&quot;798.93&quot; y1=&quot;3052.62&quot; x2=&quot;4176.36&quot; y2=&quot;3052.62&quot; style=&quot;stroke:#EAF2F3;stroke-width:12.31&quot;/&gt;\n",
       "\t&lt;line x1=&quot;798.93&quot; y1=&quot;2790.18&quot; x2=&quot;4176.36&quot; y2=&quot;2790.18&quot; style=&quot;stroke:#EAF2F3;stroke-width:12.31&quot;/&gt;\n",
       "\t&lt;line x1=&quot;798.93&quot; y1=&quot;2527.47&quot; x2=&quot;4176.36&quot; y2=&quot;2527.47&quot; style=&quot;stroke:#EAF2F3;stroke-width:12.31&quot;/&gt;\n",
       "\t&lt;line x1=&quot;798.93&quot; y1=&quot;2265.03&quot; x2=&quot;4176.36&quot; y2=&quot;2265.03&quot; style=&quot;stroke:#EAF2F3;stroke-width:12.31&quot;/&gt;\n",
       "\t&lt;line x1=&quot;798.93&quot; y1=&quot;2002.32&quot; x2=&quot;4176.36&quot; y2=&quot;2002.32&quot; style=&quot;stroke:#EAF2F3;stroke-width:12.31&quot;/&gt;\n",
       "\t&lt;line x1=&quot;798.93&quot; y1=&quot;1739.88&quot; x2=&quot;4176.36&quot; y2=&quot;1739.88&quot; style=&quot;stroke:#EAF2F3;stroke-width:12.31&quot;/&gt;\n",
       "\t&lt;line x1=&quot;798.93&quot; y1=&quot;1477.17&quot; x2=&quot;4176.36&quot; y2=&quot;1477.17&quot; style=&quot;stroke:#EAF2F3;stroke-width:12.31&quot;/&gt;\n",
       "\t&lt;line x1=&quot;798.93&quot; y1=&quot;1214.73&quot; x2=&quot;4176.36&quot; y2=&quot;1214.73&quot; style=&quot;stroke:#EAF2F3;stroke-width:12.31&quot;/&gt;\n",
       "\t&lt;line x1=&quot;798.93&quot; y1=&quot;952.02&quot; x2=&quot;4176.36&quot; y2=&quot;952.02&quot; style=&quot;stroke:#EAF2F3;stroke-width:12.31&quot;/&gt;\n",
       "\t&lt;line x1=&quot;798.93&quot; y1=&quot;3241.62&quot; x2=&quot;4176.36&quot; y2=&quot;3241.62&quot; style=&quot;stroke:#EAF2F3;stroke-width:12.31&quot;/&gt;\n",
       "\t&lt;line x1=&quot;798.93&quot; y1=&quot;3241.62&quot; x2=&quot;4176.36&quot; y2=&quot;3241.62&quot; style=&quot;stroke:#FFD200;stroke-width:32.83&quot;/&gt;\n",
       "\t&lt;path d=&quot; M920.97 952.29 L953.10 2265.03 L984.96 2702.70 L1016.82 2921.40 L1048.95 3052.89 L1080.81 3140.37 L1112.94 3202.74 L1144.80 3249.72 L1176.66 3286.17 L1208.79 3052.89 L1240.65 3100.41 L1272.78 3140.37 L1304.64 3173.85 L1336.50 3202.74 L1368.63 3227.85 L1400.49 3085.56 L1432.62 3114.45 L1464.48 3140.37 L1496.34 3163.32 L1528.47 3184.11 L1560.33 3202.74 L1592.46 3219.75 L1624.32 3235.41 L1656.18 3249.72 L1688.31 3262.95 L1720.17 3274.83 L1752.30 3286.17 L1784.16 3296.70 L1816.02 3306.42 L1848.15 3315.33 L1880.01 3323.70 L1912.14 3331.80 L1944.00 3339.09 L1975.86 3346.11 L2007.99 3352.86 L2039.85 3359.07 L2071.98 3365.01 L2103.84 3301.56 L2135.70 3308.58 L2167.83 3249.72 L2199.69 3193.56 L2231.82 3202.74 L2263.68 3211.65 L2295.54 3219.75 L2327.67 3227.85 L2359.53 3178.44 L2391.66 3186.81 L2423.52 3194.91 L2455.38 3149.28 L2487.51 3157.92 L2519.37 3166.02 L2551.50 3173.85 L2583.36 3181.68 L2615.49 3140.37 L2647.35 3148.20 L2679.21 3156.03 L2711.34 3163.32 L2743.20 3170.61 L2775.33 3177.36 L2807.19 3184.11 L2839.05 3190.59 L2871.18 3196.80 L2903.04 3202.74 L2935.17 3208.68 L2967.03 3214.35 L2998.89 3180.06 L3031.02 3186.00 L3062.88 3153.06 L3095.01 3159.27 L3126.87 3165.21 L3158.73 3171.15 L3190.86 3140.37 L3222.72 3146.31 L3254.85 3116.61 L3286.71 3122.82 L3318.57 3128.76 L3350.70 3134.70 L3382.56 3140.37 L3414.69 3145.77 L3446.55 3151.17 L3478.41 3156.57 L3510.54 3161.70 L3542.40 3166.56 L3574.53 3171.69 L3606.39 3176.28 L3638.25 3181.14 L3670.38 3185.46 L3702.24 3190.05 L3734.37 3194.37 L3766.23 3198.69 L3798.09 3202.74 L3830.22 3206.79 L3862.08 3210.84 L3894.21 3186.81 L3926.07 3190.86 L3957.93 3194.91 L3990.06 3171.96 L4021.92 3176.01 L4054.05 3180.06 L4085.91 3184.11&quot; stroke-linecap=&quot;round&quot; stroke-linejoin=&quot;round&quot; style=&quot;fill:none;stroke:#1A476F;stroke-width:12.31&quot;/&gt;\n",
       "\t&lt;line x1=&quot;798.93&quot; y1=&quot;3667.95&quot; x2=&quot;798.93&quot; y2=&quot;861.84&quot; style=&quot;stroke:#000000;stroke-width:8.21&quot;/&gt;\n",
       "\t&lt;line x1=&quot;798.93&quot; y1=&quot;3577.77&quot; x2=&quot;741.96&quot; y2=&quot;3577.77&quot; style=&quot;stroke:#000000;stroke-width:8.21&quot;/&gt;\n",
       "\t&lt;text x=&quot;713.34&quot; y=&quot;3627.73&quot; style=&quot;font-family:&#x27;Helvetica&#x27;;font-size:142.56px;fill:#000000&quot; text-anchor=&quot;end&quot;&gt;0&lt;/text&gt;\n",
       "\t&lt;line x1=&quot;798.93&quot; y1=&quot;3315.33&quot; x2=&quot;741.96&quot; y2=&quot;3315.33&quot; style=&quot;stroke:#000000;stroke-width:8.21&quot;/&gt;\n",
       "\t&lt;text x=&quot;713.34&quot; y=&quot;3365.29&quot; style=&quot;font-family:&#x27;Helvetica&#x27;;font-size:142.56px;fill:#000000&quot; text-anchor=&quot;end&quot;&gt;.1&lt;/text&gt;\n",
       "\t&lt;line x1=&quot;798.93&quot; y1=&quot;3052.62&quot; x2=&quot;741.96&quot; y2=&quot;3052.62&quot; style=&quot;stroke:#000000;stroke-width:8.21&quot;/&gt;\n",
       "\t&lt;text x=&quot;713.34&quot; y=&quot;3102.58&quot; style=&quot;font-family:&#x27;Helvetica&#x27;;font-size:142.56px;fill:#000000&quot; text-anchor=&quot;end&quot;&gt;.2&lt;/text&gt;\n",
       "\t&lt;line x1=&quot;798.93&quot; y1=&quot;2790.18&quot; x2=&quot;741.96&quot; y2=&quot;2790.18&quot; style=&quot;stroke:#000000;stroke-width:8.21&quot;/&gt;\n",
       "\t&lt;text x=&quot;713.34&quot; y=&quot;2840.14&quot; style=&quot;font-family:&#x27;Helvetica&#x27;;font-size:142.56px;fill:#000000&quot; text-anchor=&quot;end&quot;&gt;.3&lt;/text&gt;\n",
       "\t&lt;line x1=&quot;798.93&quot; y1=&quot;2527.47&quot; x2=&quot;741.96&quot; y2=&quot;2527.47&quot; style=&quot;stroke:#000000;stroke-width:8.21&quot;/&gt;\n",
       "\t&lt;text x=&quot;713.34&quot; y=&quot;2577.43&quot; style=&quot;font-family:&#x27;Helvetica&#x27;;font-size:142.56px;fill:#000000&quot; text-anchor=&quot;end&quot;&gt;.4&lt;/text&gt;\n",
       "\t&lt;line x1=&quot;798.93&quot; y1=&quot;2265.03&quot; x2=&quot;741.96&quot; y2=&quot;2265.03&quot; style=&quot;stroke:#000000;stroke-width:8.21&quot;/&gt;\n",
       "\t&lt;text x=&quot;713.34&quot; y=&quot;2314.99&quot; style=&quot;font-family:&#x27;Helvetica&#x27;;font-size:142.56px;fill:#000000&quot; text-anchor=&quot;end&quot;&gt;.5&lt;/text&gt;\n",
       "\t&lt;line x1=&quot;798.93&quot; y1=&quot;2002.32&quot; x2=&quot;741.96&quot; y2=&quot;2002.32&quot; style=&quot;stroke:#000000;stroke-width:8.21&quot;/&gt;\n",
       "\t&lt;text x=&quot;713.34&quot; y=&quot;2052.28&quot; style=&quot;font-family:&#x27;Helvetica&#x27;;font-size:142.56px;fill:#000000&quot; text-anchor=&quot;end&quot;&gt;.6&lt;/text&gt;\n",
       "\t&lt;line x1=&quot;798.93&quot; y1=&quot;1739.88&quot; x2=&quot;741.96&quot; y2=&quot;1739.88&quot; style=&quot;stroke:#000000;stroke-width:8.21&quot;/&gt;\n",
       "\t&lt;text x=&quot;713.34&quot; y=&quot;1789.84&quot; style=&quot;font-family:&#x27;Helvetica&#x27;;font-size:142.56px;fill:#000000&quot; text-anchor=&quot;end&quot;&gt;.7&lt;/text&gt;\n",
       "\t&lt;line x1=&quot;798.93&quot; y1=&quot;1477.17&quot; x2=&quot;741.96&quot; y2=&quot;1477.17&quot; style=&quot;stroke:#000000;stroke-width:8.21&quot;/&gt;\n",
       "\t&lt;text x=&quot;713.34&quot; y=&quot;1527.13&quot; style=&quot;font-family:&#x27;Helvetica&#x27;;font-size:142.56px;fill:#000000&quot; text-anchor=&quot;end&quot;&gt;.8&lt;/text&gt;\n",
       "\t&lt;line x1=&quot;798.93&quot; y1=&quot;1214.73&quot; x2=&quot;741.96&quot; y2=&quot;1214.73&quot; style=&quot;stroke:#000000;stroke-width:8.21&quot;/&gt;\n",
       "\t&lt;text x=&quot;713.34&quot; y=&quot;1264.69&quot; style=&quot;font-family:&#x27;Helvetica&#x27;;font-size:142.56px;fill:#000000&quot; text-anchor=&quot;end&quot;&gt;.9&lt;/text&gt;\n",
       "\t&lt;line x1=&quot;798.93&quot; y1=&quot;952.02&quot; x2=&quot;741.96&quot; y2=&quot;952.02&quot; style=&quot;stroke:#000000;stroke-width:8.21&quot;/&gt;\n",
       "\t&lt;text x=&quot;713.34&quot; y=&quot;1001.98&quot; style=&quot;font-family:&#x27;Helvetica&#x27;;font-size:142.56px;fill:#000000&quot; text-anchor=&quot;end&quot;&gt;1&lt;/text&gt;\n",
       "\t&lt;line x1=&quot;798.93&quot; y1=&quot;3241.62&quot; x2=&quot;741.96&quot; y2=&quot;3241.62&quot; style=&quot;stroke:#000000;stroke-width:8.21&quot;/&gt;\n",
       "\t&lt;text x=&quot;713.34&quot; y=&quot;3291.58&quot; style=&quot;font-family:&#x27;Helvetica&#x27;;font-size:142.56px;fill:#000000&quot; text-anchor=&quot;end&quot;&gt;.128&lt;/text&gt;\n",
       "\t&lt;text x=&quot;366.69&quot; y=&quot;2265.03&quot; style=&quot;font-family:&#x27;Helvetica&#x27;;font-size:142.56px;fill:#000000&quot; transform=&quot;rotate(-90 366.69,2265.03)&quot; text-anchor=&quot;middle&quot;&gt;Average # of heads&lt;/text&gt;\n",
       "\t&lt;line x1=&quot;798.93&quot; y1=&quot;3667.95&quot; x2=&quot;4176.36&quot; y2=&quot;3667.95&quot; style=&quot;stroke:#000000;stroke-width:8.21&quot;/&gt;\n",
       "\t&lt;line x1=&quot;889.11&quot; y1=&quot;3667.95&quot; x2=&quot;889.11&quot; y2=&quot;3725.19&quot; style=&quot;stroke:#000000;stroke-width:8.21&quot;/&gt;\n",
       "\t&lt;text x=&quot;889.11&quot; y=&quot;3853.20&quot; style=&quot;font-family:&#x27;Helvetica&#x27;;font-size:142.56px;fill:#000000&quot; text-anchor=&quot;middle&quot;&gt;0&lt;/text&gt;\n",
       "\t&lt;line x1=&quot;1528.47&quot; y1=&quot;3667.95&quot; x2=&quot;1528.47&quot; y2=&quot;3725.19&quot; style=&quot;stroke:#000000;stroke-width:8.21&quot;/&gt;\n",
       "\t&lt;text x=&quot;1528.47&quot; y=&quot;3853.20&quot; style=&quot;font-family:&#x27;Helvetica&#x27;;font-size:142.56px;fill:#000000&quot; text-anchor=&quot;middle&quot;&gt;20&lt;/text&gt;\n",
       "\t&lt;line x1=&quot;2167.83&quot; y1=&quot;3667.95&quot; x2=&quot;2167.83&quot; y2=&quot;3725.19&quot; style=&quot;stroke:#000000;stroke-width:8.21&quot;/&gt;\n",
       "\t&lt;text x=&quot;2167.83&quot; y=&quot;3853.20&quot; style=&quot;font-family:&#x27;Helvetica&#x27;;font-size:142.56px;fill:#000000&quot; text-anchor=&quot;middle&quot;&gt;40&lt;/text&gt;\n",
       "\t&lt;line x1=&quot;2807.19&quot; y1=&quot;3667.95&quot; x2=&quot;2807.19&quot; y2=&quot;3725.19&quot; style=&quot;stroke:#000000;stroke-width:8.21&quot;/&gt;\n",
       "\t&lt;text x=&quot;2807.19&quot; y=&quot;3853.20&quot; style=&quot;font-family:&#x27;Helvetica&#x27;;font-size:142.56px;fill:#000000&quot; text-anchor=&quot;middle&quot;&gt;60&lt;/text&gt;\n",
       "\t&lt;line x1=&quot;3446.82&quot; y1=&quot;3667.95&quot; x2=&quot;3446.82&quot; y2=&quot;3725.19&quot; style=&quot;stroke:#000000;stroke-width:8.21&quot;/&gt;\n",
       "\t&lt;text x=&quot;3446.82&quot; y=&quot;3853.20&quot; style=&quot;font-family:&#x27;Helvetica&#x27;;font-size:142.56px;fill:#000000&quot; text-anchor=&quot;middle&quot;&gt;80&lt;/text&gt;\n",
       "\t&lt;line x1=&quot;4086.18&quot; y1=&quot;3667.95&quot; x2=&quot;4086.18&quot; y2=&quot;3725.19&quot; style=&quot;stroke:#000000;stroke-width:8.21&quot;/&gt;\n",
       "\t&lt;text x=&quot;4086.18&quot; y=&quot;3853.20&quot; style=&quot;font-family:&#x27;Helvetica&#x27;;font-size:142.56px;fill:#000000&quot; text-anchor=&quot;middle&quot;&gt;100&lt;/text&gt;\n",
       "\t&lt;text x=&quot;2487.51&quot; y=&quot;4009.80&quot; style=&quot;font-family:&#x27;Helvetica&#x27;;font-size:142.56px;fill:#000000&quot; text-anchor=&quot;middle&quot;&gt;Number of Trials&lt;/text&gt;\n",
       "\t&lt;text x=&quot;2487.51&quot; y=&quot;614.68&quot; style=&quot;font-family:&#x27;Helvetica&#x27;;font-size:170.91px;fill:#1E2D53&quot; text-anchor=&quot;middle&quot;&gt;Average number of heads&lt;/text&gt;\n",
       "\t&lt;text x=&quot;2487.51&quot; y=&quot;785.86&quot; style=&quot;font-family:&#x27;Helvetica&#x27;;font-size:170.91px;fill:#1E2D53&quot; text-anchor=&quot;middle&quot;&gt;from trial 1 to 100 of 1 coin with p(head)=.128&lt;/text&gt;\n",
       "\t&lt;rect x=&quot;4320.00&quot; y=&quot;326.97&quot; width=&quot;4224.96&quot; height=&quot;3897.99&quot; style=&quot;fill:#EAF2F3&quot;/&gt;\n",
       "\t&lt;rect x=&quot;4324.10&quot; y=&quot;331.07&quot; width=&quot;4216.75&quot; height=&quot;3889.78&quot; style=&quot;fill:none;stroke:#EAF2F3;stroke-width:8.21&quot;/&gt;\n",
       "\t&lt;rect x=&quot;4969.62&quot; y=&quot;861.84&quot; width=&quot;3431.70&quot; height=&quot;2806.11&quot; style=&quot;fill:#FFFFFF&quot;/&gt;\n",
       "\t&lt;rect x=&quot;4973.72&quot; y=&quot;865.94&quot; width=&quot;3423.49&quot; height=&quot;2797.90&quot; style=&quot;fill:none;stroke:#FFFFFF;stroke-width:8.21&quot;/&gt;\n",
       "\t&lt;line x1=&quot;4969.62&quot; y1=&quot;3577.77&quot; x2=&quot;8401.32&quot; y2=&quot;3577.77&quot; style=&quot;stroke:#EAF2F3;stroke-width:12.31&quot;/&gt;\n",
       "\t&lt;line x1=&quot;4969.62&quot; y1=&quot;3315.33&quot; x2=&quot;8401.32&quot; y2=&quot;3315.33&quot; style=&quot;stroke:#EAF2F3;stroke-width:12.31&quot;/&gt;\n",
       "\t&lt;line x1=&quot;4969.62&quot; y1=&quot;3052.62&quot; x2=&quot;8401.32&quot; y2=&quot;3052.62&quot; style=&quot;stroke:#EAF2F3;stroke-width:12.31&quot;/&gt;\n",
       "\t&lt;line x1=&quot;4969.62&quot; y1=&quot;2790.18&quot; x2=&quot;8401.32&quot; y2=&quot;2790.18&quot; style=&quot;stroke:#EAF2F3;stroke-width:12.31&quot;/&gt;\n",
       "\t&lt;line x1=&quot;4969.62&quot; y1=&quot;2527.47&quot; x2=&quot;8401.32&quot; y2=&quot;2527.47&quot; style=&quot;stroke:#EAF2F3;stroke-width:12.31&quot;/&gt;\n",
       "\t&lt;line x1=&quot;4969.62&quot; y1=&quot;2265.03&quot; x2=&quot;8401.32&quot; y2=&quot;2265.03&quot; style=&quot;stroke:#EAF2F3;stroke-width:12.31&quot;/&gt;\n",
       "\t&lt;line x1=&quot;4969.62&quot; y1=&quot;2002.32&quot; x2=&quot;8401.32&quot; y2=&quot;2002.32&quot; style=&quot;stroke:#EAF2F3;stroke-width:12.31&quot;/&gt;\n",
       "\t&lt;line x1=&quot;4969.62&quot; y1=&quot;1739.88&quot; x2=&quot;8401.32&quot; y2=&quot;1739.88&quot; style=&quot;stroke:#EAF2F3;stroke-width:12.31&quot;/&gt;\n",
       "\t&lt;line x1=&quot;4969.62&quot; y1=&quot;1477.17&quot; x2=&quot;8401.32&quot; y2=&quot;1477.17&quot; style=&quot;stroke:#EAF2F3;stroke-width:12.31&quot;/&gt;\n",
       "\t&lt;line x1=&quot;4969.62&quot; y1=&quot;1214.73&quot; x2=&quot;8401.32&quot; y2=&quot;1214.73&quot; style=&quot;stroke:#EAF2F3;stroke-width:12.31&quot;/&gt;\n",
       "\t&lt;line x1=&quot;4969.62&quot; y1=&quot;2921.40&quot; x2=&quot;8401.32&quot; y2=&quot;2921.40&quot; style=&quot;stroke:#EAF2F3;stroke-width:12.31&quot;/&gt;\n",
       "\t&lt;line x1=&quot;4969.62&quot; y1=&quot;2921.40&quot; x2=&quot;8401.32&quot; y2=&quot;2921.40&quot; style=&quot;stroke:#FFD200;stroke-width:32.83&quot;/&gt;\n",
       "\t&lt;path d=&quot; M5092.47 3578.04 L5124.87 3578.04 L5157.54 2702.70 L5189.94 2265.03 L5222.34 2002.59 L5255.01 2265.03 L5287.41 2077.38 L5320.08 2265.03 L5352.48 2410.83 L5384.88 2527.74 L5417.55 2623.05 L5449.95 2702.70 L5482.62 2769.93 L5515.02 2640.06 L5547.42 2702.70 L5580.09 2593.35 L5612.49 2651.13 L5645.16 2556.90 L5677.56 2610.63 L5709.96 2658.96 L5742.63 2702.70 L5775.03 2742.39 L5807.70 2664.63 L5840.10 2702.70 L5872.50 2737.80 L5905.17 2769.93 L5937.57 2799.90 L5970.24 2827.71 L6002.64 2853.63 L6035.31 2877.66 L6067.71 2900.34 L6100.11 2921.40 L6132.78 2941.38 L6165.18 2960.01 L6197.85 2902.77 L6230.25 2848.50 L6262.65 2868.21 L6295.32 2817.72 L6327.72 2837.43 L6360.39 2855.79 L6392.79 2873.34 L6425.19 2827.71 L6457.86 2845.26 L6490.26 2861.73 L6522.93 2877.66 L6555.33 2893.05 L6587.73 2907.63 L6620.40 2921.40 L6652.80 2934.90 L6685.47 2947.86 L6717.87 2960.01 L6750.54 2971.89 L6782.94 2983.50 L6815.34 2994.30 L6848.01 3005.10 L6880.41 3015.36 L6913.08 3025.08 L6945.48 2989.44 L6977.88 2999.43 L7010.55 3009.15 L7042.95 3018.33 L7075.62 3027.24 L7108.02 2994.30 L7140.42 3003.48 L7173.09 3012.39 L7205.49 3021.03 L7238.16 3029.40 L7270.56 2998.62 L7302.96 3006.99 L7335.63 3015.36 L7368.03 3023.19 L7400.70 3031.02 L7433.10 3038.31 L7465.50 3045.60 L7498.17 3052.89 L7530.57 3059.64 L7563.24 3066.39 L7595.64 3072.87 L7628.31 3079.35 L7660.71 3085.56 L7693.11 3091.77 L7725.78 3097.71 L7758.18 3103.38 L7790.85 3109.05 L7823.25 3083.67 L7855.65 3089.34 L7888.32 3095.01 L7920.72 3100.41 L7953.39 3105.81 L7985.79 3111.21 L8018.19 3116.34 L8050.86 3092.85 L8083.26 3069.63 L8115.93 3075.03 L8148.33 3080.43 L8180.73 3058.29 L8213.40 3036.42 L8245.80 3042.09 L8278.47 3047.49 L8310.87 3052.89&quot; stroke-linecap=&quot;round&quot; stroke-linejoin=&quot;round&quot; style=&quot;fill:none;stroke:#1A476F;stroke-width:12.31&quot;/&gt;\n",
       "\t&lt;line x1=&quot;4969.62&quot; y1=&quot;3667.95&quot; x2=&quot;4969.62&quot; y2=&quot;861.84&quot; style=&quot;stroke:#000000;stroke-width:8.21&quot;/&gt;\n",
       "\t&lt;line x1=&quot;4969.62&quot; y1=&quot;3577.77&quot; x2=&quot;4912.65&quot; y2=&quot;3577.77&quot; style=&quot;stroke:#000000;stroke-width:8.21&quot;/&gt;\n",
       "\t&lt;text x=&quot;4884.30&quot; y=&quot;3627.73&quot; style=&quot;font-family:&#x27;Helvetica&#x27;;font-size:142.56px;fill:#000000&quot; text-anchor=&quot;end&quot;&gt;0&lt;/text&gt;\n",
       "\t&lt;line x1=&quot;4969.62&quot; y1=&quot;3315.33&quot; x2=&quot;4912.65&quot; y2=&quot;3315.33&quot; style=&quot;stroke:#000000;stroke-width:8.21&quot;/&gt;\n",
       "\t&lt;text x=&quot;4884.30&quot; y=&quot;3365.29&quot; style=&quot;font-family:&#x27;Helvetica&#x27;;font-size:142.56px;fill:#000000&quot; text-anchor=&quot;end&quot;&gt;.1&lt;/text&gt;\n",
       "\t&lt;line x1=&quot;4969.62&quot; y1=&quot;3052.62&quot; x2=&quot;4912.65&quot; y2=&quot;3052.62&quot; style=&quot;stroke:#000000;stroke-width:8.21&quot;/&gt;\n",
       "\t&lt;text x=&quot;4884.30&quot; y=&quot;3102.58&quot; style=&quot;font-family:&#x27;Helvetica&#x27;;font-size:142.56px;fill:#000000&quot; text-anchor=&quot;end&quot;&gt;.2&lt;/text&gt;\n",
       "\t&lt;line x1=&quot;4969.62&quot; y1=&quot;2790.18&quot; x2=&quot;4912.65&quot; y2=&quot;2790.18&quot; style=&quot;stroke:#000000;stroke-width:8.21&quot;/&gt;\n",
       "\t&lt;text x=&quot;4884.30&quot; y=&quot;2840.14&quot; style=&quot;font-family:&#x27;Helvetica&#x27;;font-size:142.56px;fill:#000000&quot; text-anchor=&quot;end&quot;&gt;.3&lt;/text&gt;\n",
       "\t&lt;line x1=&quot;4969.62&quot; y1=&quot;2527.47&quot; x2=&quot;4912.65&quot; y2=&quot;2527.47&quot; style=&quot;stroke:#000000;stroke-width:8.21&quot;/&gt;\n",
       "\t&lt;text x=&quot;4884.30&quot; y=&quot;2577.43&quot; style=&quot;font-family:&#x27;Helvetica&#x27;;font-size:142.56px;fill:#000000&quot; text-anchor=&quot;end&quot;&gt;.4&lt;/text&gt;\n",
       "\t&lt;line x1=&quot;4969.62&quot; y1=&quot;2265.03&quot; x2=&quot;4912.65&quot; y2=&quot;2265.03&quot; style=&quot;stroke:#000000;stroke-width:8.21&quot;/&gt;\n",
       "\t&lt;text x=&quot;4884.30&quot; y=&quot;2314.99&quot; style=&quot;font-family:&#x27;Helvetica&#x27;;font-size:142.56px;fill:#000000&quot; text-anchor=&quot;end&quot;&gt;.5&lt;/text&gt;\n",
       "\t&lt;line x1=&quot;4969.62&quot; y1=&quot;2002.32&quot; x2=&quot;4912.65&quot; y2=&quot;2002.32&quot; style=&quot;stroke:#000000;stroke-width:8.21&quot;/&gt;\n",
       "\t&lt;text x=&quot;4884.30&quot; y=&quot;2052.28&quot; style=&quot;font-family:&#x27;Helvetica&#x27;;font-size:142.56px;fill:#000000&quot; text-anchor=&quot;end&quot;&gt;.6&lt;/text&gt;\n",
       "\t&lt;line x1=&quot;4969.62&quot; y1=&quot;1739.88&quot; x2=&quot;4912.65&quot; y2=&quot;1739.88&quot; style=&quot;stroke:#000000;stroke-width:8.21&quot;/&gt;\n",
       "\t&lt;text x=&quot;4884.30&quot; y=&quot;1789.84&quot; style=&quot;font-family:&#x27;Helvetica&#x27;;font-size:142.56px;fill:#000000&quot; text-anchor=&quot;end&quot;&gt;.7&lt;/text&gt;\n",
       "\t&lt;line x1=&quot;4969.62&quot; y1=&quot;1477.17&quot; x2=&quot;4912.65&quot; y2=&quot;1477.17&quot; style=&quot;stroke:#000000;stroke-width:8.21&quot;/&gt;\n",
       "\t&lt;text x=&quot;4884.30&quot; y=&quot;1527.13&quot; style=&quot;font-family:&#x27;Helvetica&#x27;;font-size:142.56px;fill:#000000&quot; text-anchor=&quot;end&quot;&gt;.8&lt;/text&gt;\n",
       "\t&lt;line x1=&quot;4969.62&quot; y1=&quot;1214.73&quot; x2=&quot;4912.65&quot; y2=&quot;1214.73&quot; style=&quot;stroke:#000000;stroke-width:8.21&quot;/&gt;\n",
       "\t&lt;text x=&quot;4884.30&quot; y=&quot;1264.69&quot; style=&quot;font-family:&#x27;Helvetica&#x27;;font-size:142.56px;fill:#000000&quot; text-anchor=&quot;end&quot;&gt;.9&lt;/text&gt;\n",
       "\t&lt;line x1=&quot;4969.62&quot; y1=&quot;952.02&quot; x2=&quot;4912.65&quot; y2=&quot;952.02&quot; style=&quot;stroke:#000000;stroke-width:8.21&quot;/&gt;\n",
       "\t&lt;text x=&quot;4884.30&quot; y=&quot;1001.98&quot; style=&quot;font-family:&#x27;Helvetica&#x27;;font-size:142.56px;fill:#000000&quot; text-anchor=&quot;end&quot;&gt;1&lt;/text&gt;\n",
       "\t&lt;line x1=&quot;4969.62&quot; y1=&quot;2921.40&quot; x2=&quot;4912.65&quot; y2=&quot;2921.40&quot; style=&quot;stroke:#000000;stroke-width:8.21&quot;/&gt;\n",
       "\t&lt;text x=&quot;4884.30&quot; y=&quot;2971.36&quot; style=&quot;font-family:&#x27;Helvetica&#x27;;font-size:142.56px;fill:#000000&quot; text-anchor=&quot;end&quot;&gt;.25&lt;/text&gt;\n",
       "\t&lt;text x=&quot;4591.65&quot; y=&quot;2265.03&quot; style=&quot;font-family:&#x27;Helvetica&#x27;;font-size:142.56px;fill:#000000&quot; transform=&quot;rotate(-90 4591.65,2265.03)&quot; text-anchor=&quot;middle&quot;&gt;Average # of heads&lt;/text&gt;\n",
       "\t&lt;line x1=&quot;4969.62&quot; y1=&quot;3667.95&quot; x2=&quot;8401.32&quot; y2=&quot;3667.95&quot; style=&quot;stroke:#000000;stroke-width:8.21&quot;/&gt;\n",
       "\t&lt;line x1=&quot;5060.07&quot; y1=&quot;3667.95&quot; x2=&quot;5060.07&quot; y2=&quot;3725.19&quot; style=&quot;stroke:#000000;stroke-width:8.21&quot;/&gt;\n",
       "\t&lt;text x=&quot;5060.07&quot; y=&quot;3853.20&quot; style=&quot;font-family:&#x27;Helvetica&#x27;;font-size:142.56px;fill:#000000&quot; text-anchor=&quot;middle&quot;&gt;0&lt;/text&gt;\n",
       "\t&lt;line x1=&quot;5710.23&quot; y1=&quot;3667.95&quot; x2=&quot;5710.23&quot; y2=&quot;3725.19&quot; style=&quot;stroke:#000000;stroke-width:8.21&quot;/&gt;\n",
       "\t&lt;text x=&quot;5710.23&quot; y=&quot;3853.20&quot; style=&quot;font-family:&#x27;Helvetica&#x27;;font-size:142.56px;fill:#000000&quot; text-anchor=&quot;middle&quot;&gt;20&lt;/text&gt;\n",
       "\t&lt;line x1=&quot;6360.39&quot; y1=&quot;3667.95&quot; x2=&quot;6360.39&quot; y2=&quot;3725.19&quot; style=&quot;stroke:#000000;stroke-width:8.21&quot;/&gt;\n",
       "\t&lt;text x=&quot;6360.39&quot; y=&quot;3853.20&quot; style=&quot;font-family:&#x27;Helvetica&#x27;;font-size:142.56px;fill:#000000&quot; text-anchor=&quot;middle&quot;&gt;40&lt;/text&gt;\n",
       "\t&lt;line x1=&quot;7010.55&quot; y1=&quot;3667.95&quot; x2=&quot;7010.55&quot; y2=&quot;3725.19&quot; style=&quot;stroke:#000000;stroke-width:8.21&quot;/&gt;\n",
       "\t&lt;text x=&quot;7010.55&quot; y=&quot;3853.20&quot; style=&quot;font-family:&#x27;Helvetica&#x27;;font-size:142.56px;fill:#000000&quot; text-anchor=&quot;middle&quot;&gt;60&lt;/text&gt;\n",
       "\t&lt;line x1=&quot;7660.71&quot; y1=&quot;3667.95&quot; x2=&quot;7660.71&quot; y2=&quot;3725.19&quot; style=&quot;stroke:#000000;stroke-width:8.21&quot;/&gt;\n",
       "\t&lt;text x=&quot;7660.71&quot; y=&quot;3853.20&quot; style=&quot;font-family:&#x27;Helvetica&#x27;;font-size:142.56px;fill:#000000&quot; text-anchor=&quot;middle&quot;&gt;80&lt;/text&gt;\n",
       "\t&lt;line x1=&quot;8311.14&quot; y1=&quot;3667.95&quot; x2=&quot;8311.14&quot; y2=&quot;3725.19&quot; style=&quot;stroke:#000000;stroke-width:8.21&quot;/&gt;\n",
       "\t&lt;text x=&quot;8311.14&quot; y=&quot;3853.20&quot; style=&quot;font-family:&#x27;Helvetica&#x27;;font-size:142.56px;fill:#000000&quot; text-anchor=&quot;middle&quot;&gt;100&lt;/text&gt;\n",
       "\t&lt;text x=&quot;6685.47&quot; y=&quot;4009.80&quot; style=&quot;font-family:&#x27;Helvetica&#x27;;font-size:142.56px;fill:#000000&quot; text-anchor=&quot;middle&quot;&gt;Number of Trials&lt;/text&gt;\n",
       "\t&lt;text x=&quot;6685.47&quot; y=&quot;614.68&quot; style=&quot;font-family:&#x27;Helvetica&#x27;;font-size:170.91px;fill:#1E2D53&quot; text-anchor=&quot;middle&quot;&gt;Average number of heads&lt;/text&gt;\n",
       "\t&lt;text x=&quot;6685.47&quot; y=&quot;785.86&quot; style=&quot;font-family:&#x27;Helvetica&#x27;;font-size:170.91px;fill:#1E2D53&quot; text-anchor=&quot;middle&quot;&gt;from trial 1 to 100 of 1 coin with p(head)=.25&lt;/text&gt;\n",
       "\t&lt;text x=&quot;4320.00&quot; y=&quot;246.89&quot; style=&quot;font-family:&#x27;Helvetica&#x27;;font-size:180.09px;fill:#1E2D53&quot; text-anchor=&quot;middle&quot;&gt;Frequency getting board seats across 100 coin flips for Plain Billionaires vs. PE/Hedge Billionaires&lt;/text&gt;\n",
       "&lt;/svg&gt;\n",
       "</body></html>\"></iframe>\n"
      ],
      "text/plain": [
       "This front-end cannot display the desired image type."
      ]
     },
     "metadata": {
      "image/svg+xml": {
       "height": 300,
       "width": 600
      },
      "text/html": {
       "height": 300,
       "width": 600
      }
     },
     "output_type": "display_data"
    }
   ],
   "source": [
    "quietly net install heads, from(https://stats.idre.ucla.edu/stat/stata/ado/teach)\n",
    "quietly heads, flips(100) prob(.128)\n",
    "quietly graph save plainbillionaires, replace\n",
    "quietly heads, flips(100) prob(.25)\n",
    "quietly graph save pehedgebillionaires, replace\n",
    "graph combine plainbillionaires.gph pehedgebillionaires.gph, ysize(6) xsize(12) iscale(.95) ///\n",
    "title(\"Frequency getting board seats across 100 coin flips for Plain Billionaires vs. PE/Hedge Billionaires\", size(medlarge))"
   ]
  },
  {
   "cell_type": "markdown",
   "metadata": {},
   "source": [
    "### 4. The magic of logs revisited: Log Likelihoods\n",
    "\n",
    "* Maximum Likelihood Estimation (MLE) typically uses log likelihoods in part because logs make calculations easier for humans and computers, especially when it comes to very small probabilities.\n",
    "\n",
    "* To see this, **try using the calculator on your computer to multiply .01^25 * .01^25.** This is equivalent to multiplying .01 by itself 50 times.\n",
    "\n",
    "* Logs also have handy properties such as the log of a product, i.e. log(X * Y) being equal to the sum of the logs, i.e. log(X) + log(Y). For example:"
   ]
  },
  {
   "cell_type": "code",
   "execution_count": 8,
   "metadata": {},
   "outputs": [
    {
     "name": "stdout",
     "output_type": "stream",
     "text": [
      "\n",
      "log(10 * 10) = 4.6051702\n",
      "\n",
      "log(10) + log(10) = 4.6051702\n"
     ]
    }
   ],
   "source": [
    "display \"log(10 * 10) = \" log(100)\n",
    "display \"log(10) + log(10) = \" log(10) + log(10)"
   ]
  },
  {
   "cell_type": "markdown",
   "metadata": {},
   "source": [
    "### 5. The MLE logistic equation to maxamize log likelihoods\n",
    "\n",
    "* What follows is the painful algebraic explanation of the MLE logit model. It should make more sense in a moment when I will illustrate it in an interactive Excel worksheet.\n",
    "\n",
    "* The MLE logit model equation predicts a logit (aka log odds) for each observation as the log of the odds ratio for the probability that Y=1 ($ p = p_{Y=1} $):\n",
    "\n",
    "### logit (aka log odds) = $ \\log_e(OR) = \\log_e(\\frac{p}{1-p}) = \\alpha + \\beta_1 x_1 + ... \\beta_2 x_K $\n",
    "\n",
    "* Maximum Likeihood Estimation then estimates which coefficients maximize \"log likelihoods\" by predicting logits that express probabilities for Y=1 which are closest to the cumulative probability that Y=1 for each\n",
    "\n",
    "* The procedures for estimating the logit can be derived from the logit formula as follows:\n",
    "\n",
    "### $ \\frac{p}{1-p} = e^{\\alpha + \\beta_1 x_1 + ... \\beta_2 x_K} $\n",
    "\n",
    "* further therefore:\n",
    "\n",
    "### $ {p} = e^{\\alpha...} - p \\cdot e^{\\alpha...}  $\n",
    "### $ {p} + p \\cdot e^{\\alpha...} = e^{\\alpha...} $\n",
    "### $ {p} \\cdot (1 + e^{\\alpha...}) = e^{\\alpha...} $\n",
    "### $ {p} = \\frac{e^{\\alpha...}}{1 + e^{\\alpha...}} $\n",
    "\n",
    "* The log likelihood for Y=1 | Y=0 based on the logit for **each observation** is then:\n",
    "\n",
    "### $ {Y} \\cdot \\ln{\\frac{e^{\\alpha...}}{1 + e^{\\alpha...}}} + (1-Y) \\cdot \\ln{(1 - \\frac{e^{\\alpha...}}{1 + e^{\\alpha...}})}   $\n",
    "\n",
    "* So that if Y=1, the higher the logit the higher the log likelihood, but if Y=0, the higher the logit the lower the log likelihood.\n",
    "\n",
    "* The logistic MLE estimation then iteratively adjusts each regression coefficient upwards and downwards until converging on a coefficient that maximizes the sum of log likelihoods for all observations:\n",
    "\n",
    "### $  \\sum_{i=1}^N {Y_i} \\cdot \\ln{\\frac{e^{\\alpha...}}{1 + e^{\\alpha...}}} + (1-Y_i) \\cdot \\ln{(1 - \\frac{e^{\\alpha...}}{1 + e^{\\alpha...}})} $\n",
    "\n",
    "* Now let's check this out in an interactive spreadsheet. Your task in the spreadsheet is adjust each regression coefficient by hand to maximize the sum of log likelihooks. The worksheet is here: https://github.com/charlieeatonphd/gradstats2/blob/master/week10/socialcircuitry.xlsx"
   ]
  },
  {
   "cell_type": "markdown",
   "metadata": {},
   "source": [
    "### 6. Implementing & Interpreting MLE logistic regression in Stata\n",
    "\n",
    "* Lets see how the coefficients estimated by Stata compare to what we estimated by hand:"
   ]
  },
  {
   "cell_type": "code",
   "execution_count": null,
   "metadata": {},
   "outputs": [],
   "source": [
    "logit boardtop30private pehedge inherited collegeschooltype"
   ]
  },
  {
   "cell_type": "markdown",
   "metadata": {},
   "source": [
    "### But what do these coefficients mean?\n",
    "\n",
    "* The coefficients are the amount of change expected in the log of the odd ratio for Y=1 for every 1 unit change in X.\n",
    "\n",
    "* Thinking about the meaning of the coefficents makes my head hurt. So I like to convert them to **odds ratios.**\n",
    "\n",
    "* To convert the coefficient to an odds ratio we just exponentiate the coefficient (aka take the antilog) as follows:\n",
    "\n",
    "###  $ \\log_e(OR) = \\log_e(\\frac{p}{1-p}) = \\alpha + \\beta_1 x_1 + ... \\beta_2 x_K $\n",
    "\n",
    "therefore:\n",
    "\n",
    "### $ \\log_e(OR_\\beta{x_1}) = \\beta{x_1} $\n",
    "\n",
    "further therefore:\n",
    "\n",
    "### $ OR_\\beta{x_1} = e^{\\beta{x_1}} $\n",
    "\n",
    "* Or in Stata:"
   ]
  },
  {
   "cell_type": "code",
   "execution_count": 9,
   "metadata": {},
   "outputs": [
    {
     "name": "stdout",
     "output_type": "stream",
     "text": [
      "OR for beta(pe_hedge) = e^.762881 = 2.1444455\n"
     ]
    }
   ],
   "source": [
    "display \"OR for beta(pe_hedge) = e^.762881 = \" exp(.762881)"
   ]
  },
  {
   "cell_type": "markdown",
   "metadata": {},
   "source": [
    "* Or we can get **Odds Ratios** directly from the logistic regression command the **\"or\"** specification:"
   ]
  },
  {
   "cell_type": "code",
   "execution_count": null,
   "metadata": {},
   "outputs": [],
   "source": [
    "logit boardtop30private pehedge inherited collegeschooltype"
   ]
  },
  {
   "cell_type": "markdown",
   "metadata": {},
   "source": [
    "### 7. Postestimation and robustness\n",
    "\n",
    "* Postestimation and robustness precautions are similar to those that apply for OLS regression\n",
    "\n",
    "* Standard error estimates are evaluated with a Z test rather than a t-test for which P-values have equivalent meanings to their counterparts in OLS.\n",
    "\n",
    "* You similarly should specify robust or cluster robust standard errors.\n",
    "\n",
    "* You can also report stored estimates in tables equivalently using esttab. In doing so, for example, we can compare how OLS and MLE yield quite different estimates for university board membership by billionaires:"
   ]
  },
  {
   "cell_type": "code",
   "execution_count": 10,
   "metadata": {},
   "outputs": [],
   "source": [
    "est clear\n",
    "\n",
    "quietly eststo: regress boardtop30private pehedge inherited collegeschooltype i.year, cluster(id) ro\n",
    "quietly eststo: logit boardtop30private pehedge inherited collegeschooltype i.year, cluster(id) ro"
   ]
  },
  {
   "cell_type": "code",
   "execution_count": 11,
   "metadata": {},
   "outputs": [
    {
     "data": {
      "text/html": [
       "\n",
       "<table border=\"0\" width=\"*\">\n",
       "<caption>unexpontiated coefficients</caption>\n",
       "<tr><td colspan=5><hr></td></tr>\n",
       "<tr><td>            </td><td>         (1)</td><td>   </td><td>         (2)</td><td>   </td></tr>\n",
       "<tr><td>            </td><td>         OLS</td><td>   </td><td>MLE / logistic</td><td>   </td></tr>\n",
       "<tr><td colspan=5><hr></td></tr>\n",
       "<tr><td>main        </td><td>            </td><td>   </td><td>            </td><td>   </td></tr>\n",
       "<tr><td>pehedge     </td><td>        0.11</td><td>*  </td><td>        0.71</td><td>*  </td></tr>\n",
       "<tr><td>            </td><td>      (0.05)</td><td>   </td><td>      (0.31)</td><td>   </td></tr>\n",
       "<tr><td>inherited   </td><td>       -0.04</td><td>*  </td><td>       -0.45</td><td>*  </td></tr>\n",
       "<tr><td>            </td><td>      (0.02)</td><td>   </td><td>      (0.22)</td><td>   </td></tr>\n",
       "<tr><td>collegeschooltype</td><td>        0.07</td><td>***</td><td>        0.68</td><td>***</td></tr>\n",
       "<tr><td>            </td><td>      (0.01)</td><td>   </td><td>      (0.12)</td><td>   </td></tr>\n",
       "<tr><td colspan=5><hr></td></tr>\n",
       "<tr><td><i>N</i>    </td><td>        1200</td><td>   </td><td>        1200</td><td>   </td></tr>\n",
       "<tr><td colspan=5><hr></td></tr>\n",
       "<tr><td colspan=5>\n",
       "^ p<.1, * p<.05, ** p<.01, *** p<.001\n",
       "</td></tr>\n",
       "</table>\n",
       "\n"
      ],
      "text/plain": [
       "This front-end or document format cannot display HTML"
      ]
     },
     "metadata": {},
     "output_type": "display_data"
    }
   ],
   "source": [
    "%html\n",
    "\n",
    "esttab ///\n",
    ", cells(b(star fmt(2)) se(fmt(2) par)) stardetach  ///\n",
    "\tlegend starlevels(^ .1 * .05 ** .01 *** .001) html ///\n",
    "mlabels(\"OLS\" \"MLE / logistic\") title(\"unexpontiated coefficients\") ///\n",
    "collabels(none) keep(pehedge inherited collegeschooltype)"
   ]
  },
  {
   "cell_type": "markdown",
   "metadata": {},
   "source": [
    "* adding **\"eform\"** to esttab specifies that you want to output odds ratios: "
   ]
  },
  {
   "cell_type": "code",
   "execution_count": 12,
   "metadata": {},
   "outputs": [
    {
     "data": {
      "text/html": [
       "\n",
       "<table border=\"0\" width=\"*\">\n",
       "<caption>Odds Ratios</caption>\n",
       "<tr><td colspan=5><hr></td></tr>\n",
       "<tr><td>            </td><td>         (1)</td><td>   </td><td>         (2)</td><td>   </td></tr>\n",
       "<tr><td>            </td><td>         OLS</td><td>   </td><td>MLE / logistic</td><td>   </td></tr>\n",
       "<tr><td colspan=5><hr></td></tr>\n",
       "<tr><td>main        </td><td>            </td><td>   </td><td>            </td><td>   </td></tr>\n",
       "<tr><td>pehedge     </td><td>        1.11</td><td>*  </td><td>        2.04</td><td>*  </td></tr>\n",
       "<tr><td>            </td><td>      (0.06)</td><td>   </td><td>      (0.63)</td><td>   </td></tr>\n",
       "<tr><td>inherited   </td><td>        0.96</td><td>*  </td><td>        0.64</td><td>*  </td></tr>\n",
       "<tr><td>            </td><td>      (0.02)</td><td>   </td><td>      (0.14)</td><td>   </td></tr>\n",
       "<tr><td>collegeschooltype</td><td>        1.07</td><td>***</td><td>        1.97</td><td>***</td></tr>\n",
       "<tr><td>            </td><td>      (0.01)</td><td>   </td><td>      (0.24)</td><td>   </td></tr>\n",
       "<tr><td colspan=5><hr></td></tr>\n",
       "<tr><td><i>N</i>    </td><td>        1200</td><td>   </td><td>        1200</td><td>   </td></tr>\n",
       "<tr><td colspan=5><hr></td></tr>\n",
       "<tr><td colspan=5>\n",
       "Exponentiated coefficients\n",
       "<br />^ p<.1, * p<.05, ** p<.01, *** p<.001\n",
       "</td></tr>\n",
       "</table>\n",
       "\n"
      ],
      "text/plain": [
       "This front-end or document format cannot display HTML"
      ]
     },
     "metadata": {},
     "output_type": "display_data"
    }
   ],
   "source": [
    "%html\n",
    "\n",
    "esttab ///\n",
    ", cells(b(star fmt(2)) se(fmt(2) par)) stardetach  ///\n",
    "\tlegend starlevels(^ .1 * .05 ** .01 *** .001) html ///\n",
    "mlabels(\"OLS\" \"MLE / logistic\") title(\"Odds Ratios\") ///\n",
    "collabels(none) keep(pehedge inherited collegeschooltype) eform"
   ]
  }
 ],
 "metadata": {
  "kernelspec": {
   "display_name": "Stata",
   "language": "stata",
   "name": "stata"
  },
  "language_info": {
   "codemirror_mode": "stata",
   "file_extension": ".do",
   "mimetype": "text/x-stata",
   "name": "stata",
   "version": "15.1"
  }
 },
 "nbformat": 4,
 "nbformat_minor": 4
}
