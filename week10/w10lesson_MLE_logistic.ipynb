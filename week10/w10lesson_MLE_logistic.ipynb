{
 "cells": [
  {
   "cell_type": "markdown",
   "metadata": {},
   "source": [
    "### Week 10: Logistic regression\n",
    "\n",
    "By Charlie Eaton and Albina Gibadullina\n",
    "\n",
    "April 2, 2020\n",
    "\n",
    "1. Reactions to \"The Social Circuitry of High Finance\"\n",
    "2. Probabilities and odds ratios\n",
    "3. The Maximum Likelihood Estimation (MLE) intuition of logistic regression\n",
    "4. The magic of logs revisited: Log Likelihoods\n",
    "5. The MLE logistic equation to maxamize log likelihoods\n",
    "6. Implementing & Interpreting MLE logistic regression in Stata\n",
    "7. Postestimation and robustness"
   ]
  },
  {
   "cell_type": "markdown",
   "metadata": {},
   "source": [
    "### 1. \"The Social Circuitry of High Finance\""
   ]
  },
  {
   "cell_type": "code",
   "execution_count": 1,
   "metadata": {},
   "outputs": [
    {
     "data": {
      "text/html": [
       "<style>div.jp-Notebook .datagrid-container {min-height: 448px; }</style>"
      ],
      "text/plain": [
       "<IPython.core.display.HTML object>"
      ]
     },
     "metadata": {},
     "output_type": "display_data"
    },
    {
     "name": "stdout",
     "output_type": "stream",
     "text": [
      "\n",
      "Contains data from socialcircuitrybillionaires.dta\n",
      " Observations:         1,200                  \n",
      "    Variables:             6                  1 Apr 2020 01:18\n",
      "-------------------------------------------------------------------------------\n",
      "Variable      Storage   Display    Value\n",
      "    name         type    format    label      Variable label\n",
      "-------------------------------------------------------------------------------\n",
      "year            float   %10.0g                year of observation\n",
      "boardtop30pri~e float   %9.0g                 held seat on top 30 private\n",
      "                                                university board\n",
      "inherited       float   %9.0g                 in Forbes inherited wealth\n",
      "                                                category\n",
      "collegeschool~e float   %9.0g                 BA school elite status 0 to 3\n",
      "id              float   %9.0g                 person-level unique ID\n",
      "pehedge         float   %9.0g                 private equity or hedge fund\n",
      "                                                partner\n",
      "-------------------------------------------------------------------------------\n",
      "Sorted by: \n"
     ]
    }
   ],
   "source": [
    "set more off\n",
    "*log using w10lesson_MLE_logistic20200401.log\n",
    "use socialcircuitrybillionaires, clear\n",
    "describe"
   ]
  },
  {
   "cell_type": "code",
   "execution_count": 2,
   "metadata": {},
   "outputs": [
    {
     "data": {
      "text/html": [
       "<div>\n",
       "<style scoped>\n",
       "    .dataframe tbody tr th:only-of-type {\n",
       "        vertical-align: middle;\n",
       "    }\n",
       "\n",
       "    .dataframe tbody tr th {\n",
       "        vertical-align: top;\n",
       "    }\n",
       "\n",
       "    .dataframe thead th {\n",
       "        text-align: right;\n",
       "    }\n",
       "</style>\n",
       "<table border=\"1\" class=\"dataframe\">\n",
       "  <thead>\n",
       "    <tr style=\"text-align: right;\">\n",
       "      <th></th>\n",
       "      <th>year</th>\n",
       "      <th>boardtop30private</th>\n",
       "      <th>inherited</th>\n",
       "      <th>collegeschooltype</th>\n",
       "      <th>id</th>\n",
       "      <th>pehedge</th>\n",
       "    </tr>\n",
       "  </thead>\n",
       "  <tbody>\n",
       "    <tr>\n",
       "      <th>1</th>\n",
       "      <td>1989</td>\n",
       "      <td>0</td>\n",
       "      <td>0</td>\n",
       "      <td>0</td>\n",
       "      <td>865</td>\n",
       "      <td>0</td>\n",
       "    </tr>\n",
       "    <tr>\n",
       "      <th>2</th>\n",
       "      <td>1989</td>\n",
       "      <td>0</td>\n",
       "      <td>0</td>\n",
       "      <td>2</td>\n",
       "      <td>767</td>\n",
       "      <td>0</td>\n",
       "    </tr>\n",
       "    <tr>\n",
       "      <th>3</th>\n",
       "      <td>1989</td>\n",
       "      <td>0</td>\n",
       "      <td>1</td>\n",
       "      <td>0</td>\n",
       "      <td>662</td>\n",
       "      <td>0</td>\n",
       "    </tr>\n",
       "    <tr>\n",
       "      <th>4</th>\n",
       "      <td>1989</td>\n",
       "      <td>0</td>\n",
       "      <td>0</td>\n",
       "      <td>1</td>\n",
       "      <td>298</td>\n",
       "      <td>0</td>\n",
       "    </tr>\n",
       "    <tr>\n",
       "      <th>5</th>\n",
       "      <td>1989</td>\n",
       "      <td>0</td>\n",
       "      <td>0</td>\n",
       "      <td>1</td>\n",
       "      <td>446</td>\n",
       "      <td>0</td>\n",
       "    </tr>\n",
       "  </tbody>\n",
       "</table>\n",
       "</div>"
      ]
     },
     "metadata": {},
     "output_type": "display_data"
    }
   ],
   "source": [
    "%head"
   ]
  },
  {
   "cell_type": "markdown",
   "metadata": {},
   "source": [
    "### 2. Probabilities and odds ratios\n",
    "\n",
    "* A. With a dichotomous (binary) dependent variable Y, we cannot assume that regression residuals (errors of prediction) are normally distributed as OLS requires. And OLS will predict non-sensical values for Y (outside of the range of 0 to 1)\n",
    "\n",
    "* B. Instead, logistic regression predicts the logit of dependent variable Y (aka the log of the odds ratio for Y=1) for each observation based on independent variables: $ X_1 ... X_k $\n",
    "\n",
    "* C. Odds ratios are an expression of the probability that Y=1 is true.\n",
    "\n",
    "An example from \"Social Circuitry\":\n",
    "\n",
    "* Y is a dichotomous/binary dependent variable\n",
    "\n",
    "* Y = 1 if the Forbes 400 billionaire serves on the board of a top 30 private university that year, and is otherwise 0\n",
    "\n",
    "* The unconditioned probability that Y=1 is estimated as follows:\n",
    "\n",
    "### $ p=P(Y=1) = {f_{Y=1} \\over N} $\n",
    "\n",
    "We can estimate probability with a frequency table:"
   ]
  },
  {
   "cell_type": "code",
   "execution_count": 3,
   "metadata": {},
   "outputs": [
    {
     "name": "stdout",
     "output_type": "stream",
     "text": [
      "\n",
      "+-------------------+\n",
      "| Key               |\n",
      "|-------------------|\n",
      "|     frequency     |\n",
      "| column percentage |\n",
      "+-------------------+\n",
      "\n",
      " held seat |\n",
      " on top 30 |\n",
      "   private |   private equity or\n",
      "university |  hedge fund partner\n",
      "     board |         0          1 |     Total\n",
      "-----------+----------------------+----------\n",
      "         0 |       952         94 |     1,046 \n",
      "           |     88.81      73.44 |     87.17 \n",
      "-----------+----------------------+----------\n",
      "         1 |       120         34 |       154 \n",
      "           |     11.19      26.56 |     12.83 \n",
      "-----------+----------------------+----------\n",
      "     Total |     1,072        128 |     1,200 \n",
      "           |    100.00     100.00 |    100.00 \n"
     ]
    }
   ],
   "source": [
    "tab boardtop30private pehedge, column"
   ]
  },
  {
   "cell_type": "markdown",
   "metadata": {},
   "source": [
    "### From probability to an odds ratio:\n",
    "\n",
    "* An odds ratio is the probability of something being true divided by the probability that it is not true.\n",
    "\n",
    "* The formula for an odds ratio is:\n",
    "\n",
    "### $ OR = {p \\over (1-p)} $\n",
    "\n",
    "We can write this in Stata:"
   ]
  },
  {
   "cell_type": "code",
   "execution_count": 4,
   "metadata": {},
   "outputs": [
    {
     "name": "stdout",
     "output_type": "stream",
     "text": [
      "OR = p / (1-p) = .14718366\n",
      "OR = (fy=1 / fy=0) = .14722753\n"
     ]
    }
   ],
   "source": [
    "display \"OR = p / (1-p) = \" .1283 / (1-.1283)\n",
    "display \"OR = (fy=1 / fy=0) = \" 154 / 1046"
   ]
  },
  {
   "cell_type": "markdown",
   "metadata": {},
   "source": [
    "### 3. The Maximum Likelihood Estimation (MLE) intuition of logistic regression\n",
    "\n",
    "* The principle \"is to find the value of the \"coefficient\" that maximizes the likelihood of observing all of the sample data.\" (Treiman pg. 302)\n",
    "\n",
    "* This means our model and coefficients predict the **\"likelihood\"** of Y=1 rather than the value of Y for each observation.\n",
    "\n",
    "* Think of every observation of Y -- whether they are on a top university board -- for every billionaire in our dataset as involving a flip of a coin resulting in Heads, Y=yes, or Tails, Y=No.\n",
    "\n",
    "* But the coin toss is never really fair because the coin is weighted.\n",
    "\n",
    "* We estimate coefficients for our independent variables in logistic regression to predict how much weight towards yes or no (i.e. probability of yes or no) for each billionaire would give us the **Maximum Likelihood** of observing all of our exact data.\n",
    "\n",
    "* As shown above, among billionaires there is .128 rate of being on top university boards. But among **private equity or hedge fund billionaires** there is a .26 rate. Here is how it would look in Stata if we did 100 flips of a coin that was weighted according to these probabilities:"
   ]
  },
  {
   "cell_type": "code",
   "execution_count": 5,
   "metadata": {},
   "outputs": [],
   "source": [
    "quietly net install heads, from(https://stats.idre.ucla.edu/stat/stata/ado/teach)"
   ]
  },
  {
   "cell_type": "code",
   "execution_count": 6,
   "metadata": {},
   "outputs": [],
   "source": [
    "set scheme plotplainblind"
   ]
  },
  {
   "cell_type": "code",
   "execution_count": 7,
   "metadata": {},
   "outputs": [
    {
     "data": {
      "image/png": "[encoded data removed]",
      "text/plain": [
       "<IPython.core.display.Image object>"
      ]
     },
     "metadata": {},
     "output_type": "display_data"
    }
   ],
   "source": [
    "quietly heads, flips(100) prob(.128) \n",
    "quietly graph save plainbillionaires, replace\n",
    "\n",
    "quietly heads, flips(100) prob(.266)\n",
    "quietly graph save pehedgebillionaires, replace"
   ]
  },
  {
   "cell_type": "code",
   "execution_count": 8,
   "metadata": {},
   "outputs": [
    {
     "data": {
      "image/png": "[encoded data removed]",
      "text/plain": [
       "<IPython.core.display.Image object>"
      ]
     },
     "metadata": {},
     "output_type": "display_data"
    }
   ],
   "source": [
    "graph combine plainbillionaires.gph pehedgebillionaires.gph, ysize(6) xsize(12) iscale(.95) ///\n",
    "title(\"Frequency getting board seats across 100 coin flips for Plain Billionaires vs. PE/Hedge Billionaires\", size(medlarge))"
   ]
  },
  {
   "cell_type": "markdown",
   "metadata": {},
   "source": [
    "### 4. The magic of logs revisited: Log Likelihoods (logits)\n",
    "\n",
    "* Log likelihoods (logits) are the log of the odds ratio for y = 1, which logistic regression models in relationship to X covariates as follows:\n",
    "\n",
    "## $ \\log_e(\\frac{p_y}{1-p_y}) = \\alpha + \\beta_1 x_1 + ... \\beta_2 x_K $\n",
    "\n",
    "* We can flip this around to visually think about the intuition of the logistic model:\n",
    "\n",
    "## $ p_y = \\frac{1}{1+e^{\\alpha + \\beta_1 * -x}} $"
   ]
  },
  {
   "cell_type": "code",
   "execution_count": 9,
   "metadata": {},
   "outputs": [
    {
     "data": {
      "image/png": "[encoded data removed]",
      "text/plain": [
       "<IPython.core.display.Image object>"
      ]
     },
     "metadata": {},
     "output_type": "display_data"
    }
   ],
   "source": [
    "tw (function y = 1/(1+exp(6 + -x)), range(0 10))"
   ]
  },
  {
   "cell_type": "markdown",
   "metadata": {},
   "source": [
    "* this is more realistice than a linear OLS model that would predict observed values greater than 1 and less than zero for Y, which is non-sensical. See https://www.sciencedirect.com/science/article/abs/pii/S0165176505003150 and https://www.stata.com/meeting/us20/slides/us20_Allison.pdf"
   ]
  },
  {
   "cell_type": "code",
   "execution_count": 10,
   "metadata": {},
   "outputs": [
    {
     "data": {
      "image/png": "[encoded data removed]",
      "text/plain": [
       "<IPython.core.display.Image object>"
      ]
     },
     "metadata": {},
     "output_type": "display_data"
    }
   ],
   "source": [
    "tw (function y = -.5 + .2*x , range(0 10))"
   ]
  },
  {
   "cell_type": "markdown",
   "metadata": {},
   "source": [
    "* Maximum Likelihood Estimation (MLE) typically uses log likelihoods in part because logs make calculations easier for humans and computers, especially when it comes to very small probabilities.\n",
    "\n",
    "* To see this, **try using the calculator on your computer to multiply .01^25 * .01^25.** This is equivalent to multiplying .01 by itself 50 times.\n",
    "\n",
    "* Logs also have handy properties such as the log of a product, i.e. log(X * Y) being equal to the sum of the logs, i.e. log(X) + log(Y). For example:"
   ]
  },
  {
   "cell_type": "code",
   "execution_count": 11,
   "metadata": {},
   "outputs": [
    {
     "name": "stdout",
     "output_type": "stream",
     "text": [
      "log(10 * 10) = -18.420681\n",
      "log(10) + log(10) = -18.420681\n"
     ]
    }
   ],
   "source": [
    "display \"log(10 * 10) = \" log(.0001*.0001)\n",
    "display \"log(10) + log(10) = \" log(.0001) + log(.0001)"
   ]
  },
  {
   "cell_type": "markdown",
   "metadata": {},
   "source": [
    "### 5. The Maximum Likeihood Estimation (MLE) logistic equation to maximize log likelihoods\n",
    "\n",
    "* The MLE logit model equation predicts a logit (aka log odds) for each observation as the log of the odds ratio for the probability that Y=1 ( $ p = p_{Y=1} $ ):\n",
    "\n",
    "### logit (aka log odds) = $ \\log_e(OR) = \\log_e(\\frac{p}{1-p}) = \\alpha + \\beta_1 x_1 + ... \\beta_2 x_K $\n",
    "\n",
    "* MLE then estimates which coefficients maximize the sum of **log likelihoods** from each observation for the whole dataset.\n",
    "\n",
    "* MLE does this by predicting logits that express probabilities for Y=1 (and thus also for Y=0) for each observation.\n",
    "\n",
    "* We convert those probabilities to log likelihoods (log of probabilities) because we can the calculate the overall probability for what we see in the neighborhood by summing legible log likelihoods instead of multiplying probabilities for each observation to yield very small maximum probabilities for what we observe."
   ]
  },
  {
   "cell_type": "markdown",
   "metadata": {},
   "source": [
    "### For example, consider what we have for observed outcomes, maximimizing probabilities, and and maximizing log liklihoods for three observations in the billionaire data: \n",
    "    * Y=1, p(y=1)=.394, log(.394)=-.93\n",
    "    * Y=0, p(y=0)=.866, log(.866)=-.14 \n",
    "    * Y=1, p(y=1)=.171, log(.171)=-1.77\n",
    "\n",
    "* The log likelihoods are negative because the maximum probability possible is 1. And log likelihoods are the power to which you would need to raise $ e $ to get the probability below 1. This requires raising $ e $ to a negative number. For example, e^-.14... = .866. The negative exponent notation signifies that $ \\frac{1}{e^.14} = .866 $ FYI: e^.14 equals 1.15 as the 1/.14 root or 7th root of e (meaning 1.15^7 ~= e)\n",
    "\n",
    "* The overall probability for what we observe in the 3 observations is .394 * .866 * .171 = .058\n",
    "    \n",
    "* When you multiply probabilities for what is observed in the whole billionaire dataset, the probability of what we observe is 1.6 X 10^-181. In other words it is a probability of zero point 181 zeros 16\n",
    "\n",
    "* As noted above, it's easier for humans and the computers to compute and read the overall log likelihood for everything observed in the data.\n",
    "\n",
    "* The overall log likelihood for the 3 observations is -.93 + -.14 + -.177 = -2.84.\n",
    "\n",
    "* Magically ln(.058) = -2.84 and e^-2.84 = .058. "
   ]
  },
  {
   "cell_type": "markdown",
   "metadata": {},
   "source": [
    "## The procedures for estimating the logit can be derived from the painful algebraic explanation of the MLE logit model that follows.\n",
    "\n",
    "It should make more sense in a moment when I will illustrate it in an interactive Excel worksheet.\n",
    "\n",
    "\n",
    "### $ \\frac{p}{1-p} = e^{\\alpha + \\beta_1 x_1 + ... \\beta_2 x_K} $\n",
    "\n",
    "* further therefore:\n",
    "\n",
    "### $ {p} = e^{\\alpha...} - p \\cdot e^{\\alpha...}  $\n",
    "### $ {p} + p \\cdot e^{\\alpha...} = e^{\\alpha...} $\n",
    "### $ {p} \\cdot (1 + e^{\\alpha...}) = e^{\\alpha...} $\n",
    "### $ {p} = \\frac{e^{\\alpha...}}{1 + e^{\\alpha...}} $\n",
    "\n",
    "* The log likelihood for Y=1 | Y=0 based on the logit for **each observation** is then:\n",
    "\n",
    "\n",
    "### $ {Y} \\cdot \\ln{\\frac{e^{\\alpha...}}{1 + e^{\\alpha...}}} + (1-Y) \\cdot \\ln{(1 - \\frac{e^{\\alpha...}}{1 + e^{\\alpha...}})}   $\n",
    "\n",
    "* So that if Y=1, the higher the logit the higher the log likelihood, but if Y=0, the higher the logit the lower the log likelihood.\n",
    "\n",
    "* The logistic MLE estimation then iteratively adjusts each regression coefficient upwards and downwards until converging on a coefficient that maximizes the sum of log likelihoods for all observations:\n",
    "\n",
    "### $  \\sum_{i=1}^N {Y_i} \\cdot \\ln{\\frac{e^{\\alpha...}}{1 + e^{\\alpha...}}} + (1-Y_i) \\cdot \\ln{(1 - \\frac{e^{\\alpha...}}{1 + e^{\\alpha...}})} $\n",
    "\n",
    "* Now let's check this out in an interactive spreadsheet. Your task in the spreadsheet is adjust each regression coefficient by hand to maximize the sum of log likelihooks. The worksheet is here: https://github.com/charlieeatonphd/gradstats2/blob/master/week10/socialcircuitry.xlsx"
   ]
  },
  {
   "cell_type": "markdown",
   "metadata": {},
   "source": [
    "### 6. Implementing & Interpreting MLE logistic regression in Stata\n",
    "\n",
    "* Lets see how the coefficients estimated by Stata compare to what we estimated by hand:"
   ]
  },
  {
   "cell_type": "code",
   "execution_count": 12,
   "metadata": {},
   "outputs": [
    {
     "name": "stdout",
     "output_type": "stream",
     "text": [
      "\n",
      "Iteration 0:   log pseudolikelihood = -459.84734  \n",
      "Iteration 1:   log pseudolikelihood =  -420.6123  \n",
      "Iteration 2:   log pseudolikelihood = -416.17173  \n",
      "Iteration 3:   log pseudolikelihood = -416.16029  \n",
      "Iteration 4:   log pseudolikelihood = -416.16029  \n",
      "\n",
      "Logistic regression                                     Number of obs =  1,200\n",
      "                                                        Wald chi2(3)  =  76.99\n",
      "                                                        Prob > chi2   = 0.0000\n",
      "Log pseudolikelihood = -416.16029                       Pseudo R2     = 0.0950\n",
      "\n",
      "------------------------------------------------------------------------------\n",
      "             |               Robust\n",
      "boardtop30~e | Coefficient  std. err.      z    P>|z|     [95% conf. interval]\n",
      "-------------+----------------------------------------------------------------\n",
      "     pehedge |    .762881   .2308848     3.30   0.001     .3103552    1.215407\n",
      "   inherited |  -.3198332   .2027999    -1.58   0.115    -.7173137    .0776472\n",
      "collegesch~e |   .6845971   .0884142     7.74   0.000     .5113084    .8578858\n",
      "       _cons |  -3.228159   .2189707   -14.74   0.000    -3.657334   -2.798985\n",
      "------------------------------------------------------------------------------\n"
     ]
    }
   ],
   "source": [
    "logit boardtop30private pehedge inherited collegeschooltype, robust"
   ]
  },
  {
   "cell_type": "markdown",
   "metadata": {},
   "source": [
    "### But what do these coefficients mean?\n",
    "\n",
    "* The coefficients are the amount of change expected in the log of the odds ratio for Y=1 for every 1 unit change in X.\n",
    "\n",
    "* Thinking about the meaning of the coefficents makes my head hurt. One way to interpret them is to convert them to **odds ratios.**\n",
    "\n",
    "* To convert the coefficient to an odds ratio we exponentiate the coefficient (aka take the antilog) as follows:\n",
    "\n",
    "###  $ \\log_e(OR) = \\log_e(\\frac{p}{1-p}) = \\alpha + \\beta_1 x_1 + ... \\beta_2 x_K $\n",
    "\n",
    "therefore:\n",
    "\n",
    "### $ \\log_e(OR_\\beta{x_1}) = \\beta{x_1} $\n",
    "\n",
    "further therefore:\n",
    "\n",
    "### $ OR_\\beta{x_1} = e^{\\beta{x_1}} $\n",
    "\n",
    "* Or in Stata:"
   ]
  },
  {
   "cell_type": "code",
   "execution_count": 13,
   "metadata": {},
   "outputs": [
    {
     "name": "stdout",
     "output_type": "stream",
     "text": [
      "OR for beta(pe_hedge) = e^.762881 = 2.1444455\n"
     ]
    }
   ],
   "source": [
    "display \"OR for beta(pe_hedge) = e^.762881 = \" exp(.762881)"
   ]
  },
  {
   "cell_type": "markdown",
   "metadata": {},
   "source": [
    "* Or we can get **Odds Ratios** directly from the logistic regression command the **\"or\"** specification:"
   ]
  },
  {
   "cell_type": "code",
   "execution_count": 14,
   "metadata": {},
   "outputs": [
    {
     "name": "stdout",
     "output_type": "stream",
     "text": [
      "\n",
      "Iteration 0:   log pseudolikelihood = -459.84734  \n",
      "Iteration 1:   log pseudolikelihood =  -420.6123  \n",
      "Iteration 2:   log pseudolikelihood = -416.17173  \n",
      "Iteration 3:   log pseudolikelihood = -416.16029  \n",
      "Iteration 4:   log pseudolikelihood = -416.16029  \n",
      "\n",
      "Logistic regression                                     Number of obs =  1,200\n",
      "                                                        Wald chi2(3)  =  76.99\n",
      "                                                        Prob > chi2   = 0.0000\n",
      "Log pseudolikelihood = -416.16029                       Pseudo R2     = 0.0950\n",
      "\n",
      "------------------------------------------------------------------------------\n",
      "             |               Robust\n",
      "boardtop30~e | Odds ratio   std. err.      z    P>|z|     [95% conf. interval]\n",
      "-------------+----------------------------------------------------------------\n",
      "     pehedge |   2.144446   .4951198     3.30   0.001      1.36391    3.371666\n",
      "   inherited |   .7262701   .1472875    -1.58   0.115     .4880616    1.080741\n",
      "collegesch~e |   1.982973    .175323     7.74   0.000     1.667471     2.35817\n",
      "       _cons |   .0396304   .0086779   -14.74   0.000     .0258012    .0608718\n",
      "------------------------------------------------------------------------------\n",
      "Note: _cons estimates baseline odds.\n"
     ]
    }
   ],
   "source": [
    "logit boardtop30private pehedge inherited collegeschooltype, or robust"
   ]
  },
  {
   "cell_type": "markdown",
   "metadata": {},
   "source": [
    "### 7. Problems with Odd Ratios: Postestimation and robustness\n",
    "\n",
    "* An anonymous journal reviewer once wrote to me that \"One cannot straightforwardly interpret log-odds as effect measures (because they also reflect the degree of unobserved heterogeneity in the model)... I strongly suggest to report average marginal effects that provide readily interpretable effect estimates (see Breen/Karlson/Holm 2018).\" See https://www.annualreviews.org/doi/10.1146/annurev-soc-073117-041429\n",
    "\n",
    "* Postestimation and robustness precautions are similar to those that apply for OLS regression\n",
    "\n",
    "* Standard error estimates are evaluated with a Z test rather than a t-test for which P-values have equivalent meanings to their counterparts in OLS.\n",
    "\n",
    "* You similarly should specify robust or cluster robust standard errors.\n",
    "\n",
    "* You can also report stored estimates in tables equivalently using esttab. In doing so, for example, we can compare how OLS, MLE without average marginal effects, and MLE with average marginal effects postestimation yield meaningfully different estimates for university board membership by billionaires:"
   ]
  },
  {
   "cell_type": "code",
   "execution_count": 15,
   "metadata": {},
   "outputs": [],
   "source": [
    "est clear\n",
    "\n",
    "quietly eststo: regress boardtop30private pehedge inherited collegeschooltype i.year, cluster(id) ro\n",
    "quietly eststo: logit boardtop30private pehedge inherited collegeschooltype i.year, cluster(id) ro\n",
    "quietly eststo: margins, dydx(*) post atmeans"
   ]
  },
  {
   "cell_type": "code",
   "execution_count": 16,
   "metadata": {},
   "outputs": [
    {
     "name": "stdout",
     "output_type": "stream",
     "text": [
      "\n",
      "unexpontiated coefficients\n",
      "---------------------------------------------------------------\n",
      "                      (1)              (2)              (3)    \n",
      "                      OLS     MLE / logi~c     MLE margin~s    \n",
      "---------------------------------------------------------------\n",
      "main                                                           \n",
      "pehedge              0.11 *           0.71 *           0.06 *  \n",
      "                   (0.05)           (0.31)           (0.03)    \n",
      "inherited           -0.04 *          -0.45 *          -0.04 *  \n",
      "                   (0.02)           (0.22)           (0.02)    \n",
      "collegesch~e         0.07 ***         0.68 ***         0.06 ***\n",
      "                   (0.01)           (0.12)           (0.01)    \n",
      "_cons                0.00            -3.42 ***                 \n",
      "                   (0.02)           (0.31)                     \n",
      "---------------------------------------------------------------\n",
      "N                    1200             1200             1200    \n",
      "---------------------------------------------------------------\n",
      "^ p<.1, * p<.05, ** p<.01, *** p<.001\n"
     ]
    }
   ],
   "source": [
    "esttab ///\n",
    ", cells(b(star fmt(2)) se(fmt(2) par)) stardetach  ///\n",
    "\tlegend starlevels(^ .1 * .05 ** .01 *** .001) ///\n",
    "mlabels(\"OLS\" \"MLE / logistic\" \"MLE marginal effects\") title(\"unexpontiated coefficients\") ///\n",
    "collabels(none) keep(pehedge inherited collegeschooltype _cons)"
   ]
  },
  {
   "cell_type": "markdown",
   "metadata": {},
   "source": [
    "### adding **\"eform\"** to esttab specifies that you want to output odds ratios: "
   ]
  },
  {
   "cell_type": "code",
   "execution_count": 18,
   "metadata": {},
   "outputs": [
    {
     "name": "stdout",
     "output_type": "stream",
     "text": [
      "\n",
      "Odds Ratios\n",
      "---------------------------------------------------------------\n",
      "                      (1)              (2)              (3)    \n",
      "                      OLS     MLE / logi~c     MLE Margin~s    \n",
      "---------------------------------------------------------------\n",
      "main                                                           \n",
      "pehedge              1.11 *           2.04 *           1.07 *  \n",
      "                   (0.06)           (0.63)           (0.03)    \n",
      "inherited            0.96 *           0.64 *           0.96 *  \n",
      "                   (0.02)           (0.14)           (0.02)    \n",
      "collegesch~e         1.07 ***         1.97 ***         1.06 ***\n",
      "                   (0.01)           (0.24)           (0.01)    \n",
      "---------------------------------------------------------------\n",
      "N                    1200             1200             1200    \n",
      "---------------------------------------------------------------\n",
      "Exponentiated coefficients\n",
      "^ p<.1, * p<.05, ** p<.01, *** p<.001\n"
     ]
    }
   ],
   "source": [
    "esttab ///\n",
    ", cells(b(star fmt(2)) se(fmt(2) par)) stardetach  ///\n",
    "\tlegend starlevels(^ .1 * .05 ** .01 *** .001) ///\n",
    "mlabels(\"OLS\" \"MLE / logistic\" \"MLE Marginal Effects\") title(\"Odds Ratios\") ///\n",
    "collabels(none) keep(pehedge inherited collegeschooltype _cons) eform"
   ]
  },
  {
   "cell_type": "code",
   "execution_count": null,
   "metadata": {},
   "outputs": [],
   "source": []
  }
 ],
 "metadata": {
  "kernelspec": {
   "display_name": "Stata (nbstata)",
   "language": "stata",
   "name": "nbstata"
  },
  "language_info": {
   "file_extension": ".do",
   "mimetype": "text/x-stata",
   "name": "stata",
   "version": "17"
  }
 },
 "nbformat": 4,
 "nbformat_minor": 4
}
