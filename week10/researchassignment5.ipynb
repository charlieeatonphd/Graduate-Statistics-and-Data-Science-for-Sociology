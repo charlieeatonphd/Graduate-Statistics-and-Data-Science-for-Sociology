{
 "cells": [
  {
   "cell_type": "markdown",
   "metadata": {},
   "source": [
    "# Research Assignment 5 \n",
    "\n",
    "\n",
    "[your name]\n",
    "\n",
    "[working title of the project] \n",
    "\n",
    "[date]"
   ]
  },
  {
   "cell_type": "markdown",
   "metadata": {},
   "source": [
    "### 1. Develop hypotheses that approach a nominal variable in your dataset as a dependent variable (DV). [1 pt]\n",
    "\n",
    "* If your nominal variable has more than two categorical variables, such as political party affiliation categories of -- Democrat, Democratic Socialist, Green, Independent, or Republican -- develop hypotheses that treat being or not being in at least one of the categories as a dichotomous binomial dependent variable (DV).\n",
    "\n",
    "* Even if you are not interested in any categorical outcomes for your research project, still develop an hypothesis for at least one nominal variable in your data as a dependent variable. Thinking about potential influences on that variable could help you see if there are intervening relationships or omitted variable biases in your primary outcome of interest.\n",
    "\n",
    "Do the following when you write your hypothesis:\n",
    "\n",
    "    A. Write a separate hypothesis for each dependent variable (DV) you want to analyze.\n",
    "    \n",
    "    B. For each dependent variable (DV) state the predicted direction of association between your dependent variable DV and independent variables (IVs) in your model. You can predict no relationship if you do not expect a relationship.\n",
    "    \n",
    "    C. Write a couple sentences about the theoretical reasons (prior knowledge / research) for each of your predictions"
   ]
  },
  {
   "cell_type": "markdown",
   "metadata": {},
   "source": [
    "### 2. Test your hypotheses [3 pts]\n",
    "\n",
    "    A. Create a frequency table for your dependent variable (DV).\n",
    "\n",
    "    B. Estimate an OLS model regressing your dichotomous dependent variable (DV) on your hypothesized independent variables (IVs) and store the results.\n",
    "    \n",
    "    C. Estimate an MLE logistic model regressing your dichotomous dependent variable (DV) on your hypothesized independent variables (IVs) and store the results.\n",
    "    \n",
    "    D. Use esttab to output the coefficients for your OLS and MLE logistic models with html formatting within your Jupyter Notebook.\n",
    "    \n",
    "    E. Use esttab to reoutput your coefficients as odd ratios."
   ]
  },
  {
   "cell_type": "markdown",
   "metadata": {},
   "source": [
    "### 3. Interpret your results [1 pt]\n",
    "\n",
    "Write a couple sentences answering each of the following questions:\n",
    "\n",
    "    A. How would you interpret the relationship between your dependent variable(s) (DVs) and independent variables (IVs) based on the odds ratios for you MLE logistic model?\n",
    "\n",
    "    B. Do the overall estimates support or contradict your hypotheses? Why?\n",
    "    \n",
    "    C. Is there anything suprising in your model estimates? Why?\n",
    "    \n",
    "    D. How do the OLS coefficients and their standard errors compare to the MLE estimates? Are the coefficients and standard errors larger or smaller?"
   ]
  },
  {
   "cell_type": "code",
   "execution_count": null,
   "metadata": {},
   "outputs": [],
   "source": []
  }
 ],
 "metadata": {
  "kernelspec": {
   "display_name": "Stata",
   "language": "stata",
   "name": "stata"
  },
  "language_info": {
   "codemirror_mode": "stata",
   "file_extension": ".do",
   "mimetype": "text/x-stata",
   "name": "stata",
   "version": "15.1"
  }
 },
 "nbformat": 4,
 "nbformat_minor": 4
}
