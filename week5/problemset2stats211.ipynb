{
 "cells": [
  {
   "cell_type": "markdown",
   "metadata": {},
   "source": [
    "## Research assignment 2\n",
    "\n",
    "[your name]\n",
    "\n",
    "[working title of the project] \n",
    "\n",
    "[date]"
   ]
  },
  {
   "cell_type": "markdown",
   "metadata": {},
   "source": [
    "### 1. Write a paragraph about your hypotheses\n",
    "\n",
    "[Your answer here should explain:\n",
    "1. What are your dependent variables? Why do they interest you?\n",
    "2. What are your independent variables? What direction to you hypothesize will be the relationship between your dependent variable and your dependent variables?\n",
    "3. Why do you think your dependent variables are associated with your independent variables?\n",
    "4. What are your control variables? Do you think they will show any spurious, intervening, or interactive relationships? Why?]"
   ]
  },
  {
   "cell_type": "markdown",
   "metadata": {},
   "source": [
    "### 1. Setting up your session\n",
    "\n",
    "In the code cell below, do the following:\n",
    "\n",
    "1. set current directory \n",
    "2. set more off \n",
    "3. create log file \n",
    "4. download the data from its source if it's available online\n",
    "5. read the data in [preferably only variables you are going to use]"
   ]
  },
  {
   "cell_type": "markdown",
   "metadata": {},
   "source": []
  },
  {
   "cell_type": "markdown",
   "metadata": {},
   "source": [
    "### 2. Browse the data\n",
    "\n",
    "Do the following in separate cells. Do do these in separate cells, you will need to use the right click \"split cell\" option:\n",
    "\n",
    "1. Use \"describe\" to print details about the dataset\n",
    "2. Print the heads and tables of the data using the appropriate magic\n",
    "3. label the unique identifier variable\n",
    "4. Generate a frequency table to show the N for each unit of time if there is data for multiple units in time\n",
    "5. Check for missing data overall and within key categories of analysis (time, independent or dependent variable categories, etc)\n",
    "6. use summarize to create a table with summary statistics for each variable you plan to analyze"
   ]
  },
  {
   "cell_type": "code",
   "execution_count": 3,
   "metadata": {},
   "outputs": [],
   "source": []
  },
  {
   "cell_type": "markdown",
   "metadata": {},
   "source": [
    "### 3. Write a note summarizing what you learned from browsing the data\n",
    "\n",
    "[your note here]"
   ]
  },
  {
   "cell_type": "markdown",
   "metadata": {},
   "source": []
  },
  {
   "cell_type": "markdown",
   "metadata": {},
   "source": [
    "### 4. Create univariate histograms of interval ratio variables you plan to analyze.\n",
    "\n",
    "Write at least 3 forloops to generate histograms for all the variables you plan to analyze. Create titles for each histogram that notes whether it is a dependent, independent, or control variable (you can also note in titles whether control vars control for spurious, intervening, or interactive relationships). Begin with your dependent variables. Then make a note below to describe the shapes of the distributions and their implications for your study.\n",
    "\n",
    "[your note here]"
   ]
  },
  {
   "cell_type": "markdown",
   "metadata": {},
   "source": []
  },
  {
   "cell_type": "markdown",
   "metadata": {},
   "source": [
    "### 5. Create univariate count and % frequency tables for all categorical (nominal) variables you plan to analyze\n",
    "\n",
    "Again, use forloops. Then write a note below with a narrative summary of the distributions and their implications for your study.\n",
    "\n",
    "[your note here]"
   ]
  },
  {
   "cell_type": "code",
   "execution_count": null,
   "metadata": {},
   "outputs": [],
   "source": []
  },
  {
   "cell_type": "markdown",
   "metadata": {},
   "source": [
    "### 6. Make a relevant bivariate table and graph for your study\n",
    "\n",
    "Make the appropriate a) bivariate table and b) graph dependening on whether your dependent variable is nominal/categorical or interval ratio. If your dependent variable is nominal, make sure it is the row variable in the table. If your independent variable is interval ratio, convert it into an ordinal variable by creating a new variable with 3 to 5 categories each with an equal range of the interval ratio variable. Then use the new ordinal variable as your independent variable in the bivariate table and graph."
   ]
  },
  {
   "cell_type": "code",
   "execution_count": null,
   "metadata": {},
   "outputs": [],
   "source": []
  },
  {
   "cell_type": "markdown",
   "metadata": {},
   "source": [
    "### 7. Create partial bivariate tables and graphs\n",
    "\n",
    "For the bivariate table and graph you made for problem 6, split both into partial tables and graphs using one of your nominal/categorical control variables. If your control variable is interval ratio, convert it into an ordinal variable by creating a variable with 3 to 5 categories each with an equal range of the interval ratio variable.  Then use the new ordinal variable as your control variable to create the partial tables and graphs."
   ]
  },
  {
   "cell_type": "code",
   "execution_count": null,
   "metadata": {},
   "outputs": [],
   "source": []
  },
  {
   "cell_type": "markdown",
   "metadata": {},
   "source": [
    "### Interpret of your bivariate and partial tables and graphs\n",
    "\n",
    "Is there a relationship between your dependent and independent variables? Is it weak, strong, or non-existent? Do adding controls reveal any spurious, intervening, or interactive relationships? Do they conform with your hypotheses? If not, do you have any ideas for why and how you might test the reason why?"
   ]
  },
  {
   "cell_type": "code",
   "execution_count": null,
   "metadata": {},
   "outputs": [],
   "source": []
  }
 ],
 "metadata": {
  "kernelspec": {
   "display_name": "Stata",
   "language": "stata",
   "name": "stata"
  },
  "language_info": {
   "codemirror_mode": "stata",
   "file_extension": ".do",
   "mimetype": "text/x-stata",
   "name": "stata",
   "version": "15.1"
  }
 },
 "nbformat": 4,
 "nbformat_minor": 4
}
