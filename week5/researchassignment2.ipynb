{
 "cells": [
  {
   "cell_type": "markdown",
   "metadata": {},
   "source": [
    "## Stats 211 Problem set 2\n",
    "\n",
    "[your name]\n",
    "\n",
    "[working title of the project] \n",
    "\n",
    "[date]"
   ]
  },
  {
   "cell_type": "markdown",
   "metadata": {},
   "source": [
    "### 1. Explain any new or revised hypotheses for interval ratio data from your own project or from Charlie's grant and loan repayment data\n",
    "\n",
    "[Your answer here should explain:\n",
    "1. What are your dependent variables? Why do they interest you?\n",
    "2. What are your independent variables? What direction to you hypothesize will be the relationship between your dependent variable and your dependent variables?\n",
    "3. Why do you think your dependent variables are associated with your independent variables?\n",
    "4. What are your control variables? Do you think they will show any spurious, intervening, or interactive relationships? Why?]\n",
    "\n",
    "If you are working with the grant and loan repayment data, formulate hypotheses about:\n",
    "1. The relationship between state grant aid per student and the level of research at a university\n",
    "2. The relationship between loan repayment and college net price for low-income students. The later variable is name **netprice4lowincome**"
   ]
  },
  {
   "cell_type": "markdown",
   "metadata": {},
   "source": [
    "### 2. Setting up your session\n",
    "\n",
    "In the code cell below, do the following:\n",
    "\n",
    "1. set current directory \n",
    "2. set more off \n",
    "3. create log file \n",
    "4. download the data from its source if it's available online\n",
    "5. read the data in [preferably only variables you are going to use]"
   ]
  },
  {
   "cell_type": "markdown",
   "metadata": {},
   "source": []
  },
  {
   "cell_type": "markdown",
   "metadata": {},
   "source": [
    "### 3. Create a bar graph with confidence interval whiskers\n",
    "\n",
    "Create a bar graph that compares interval ratio data for a dependent variable across different nominal categories from an independent variable. If you are using Charlie's data, do this for the state grant aid per low income student variable name **sgrnt_low**"
   ]
  },
  {
   "cell_type": "code",
   "execution_count": 3,
   "metadata": {},
   "outputs": [],
   "source": []
  },
  {
   "cell_type": "markdown",
   "metadata": {},
   "source": [
    "### 4. Summarize what you learned from the bar graph\n",
    "\n",
    "Do the confidence intervals overlap across categories or not? What does this mean?"
   ]
  },
  {
   "cell_type": "markdown",
   "metadata": {},
   "source": []
  },
  {
   "cell_type": "markdown",
   "metadata": {},
   "source": [
    "### 4. Estimate OLS regression statistics for the relationship between two interval ratio variables and ouput the table below\n",
    "\n",
    "If you use Charlie's data, use the loan repayment variable and the **netprice4lowincome** variable."
   ]
  },
  {
   "cell_type": "markdown",
   "metadata": {},
   "source": []
  },
  {
   "cell_type": "markdown",
   "metadata": {},
   "source": [
    "### 5. Interpret the output\n",
    "\n",
    "1. What is the coefficient for your independent variable? What does it say about the size and direction of the relationship you estimated?\n",
    "\n",
    "2. What is the p-value for the coefficient for your independent variable? What does it indicate about how much confidence we can have in the estimated relationship?\n",
    "\n",
    "3. What is the $r^2$ coefficient of determination? What does it say about how much variation in your dependent variable is explained by the independent variable?\n",
    "\n",
    "4. What is the F-ratio for your $r^2$. What does it indicate about how much confidence we can have in the $r^2$ estimate?\n",
    "\n"
   ]
  },
  {
   "cell_type": "code",
   "execution_count": null,
   "metadata": {},
   "outputs": [],
   "source": []
  },
  {
   "cell_type": "markdown",
   "metadata": {},
   "source": [
    "### 6. Illustrate the OLS relationship with a scatter plot that includes a fitted line"
   ]
  },
  {
   "cell_type": "code",
   "execution_count": null,
   "metadata": {},
   "outputs": [],
   "source": []
  }
 ],
 "metadata": {
  "kernelspec": {
   "display_name": "Stata",
   "language": "stata",
   "name": "stata"
  },
  "language_info": {
   "codemirror_mode": "stata",
   "file_extension": ".do",
   "mimetype": "text/x-stata",
   "name": "stata",
   "version": "15.1"
  }
 },
 "nbformat": 4,
 "nbformat_minor": 4
}
