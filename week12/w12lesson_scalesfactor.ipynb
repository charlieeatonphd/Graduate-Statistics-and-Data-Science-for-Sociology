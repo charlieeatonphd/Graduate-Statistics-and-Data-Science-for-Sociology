{
 "cells": [
  {
   "cell_type": "markdown",
   "metadata": {},
   "source": [
    "### Week 12. Scales for lumping and reliability in a multidimensional world\n",
    "\n",
    "By Hyunsu Oh and Charlie Eaton, April 2020\n",
    "\n",
    "1. Scales as lumping in a multidimensional world: religion and abortion\n",
    "2. Scale validity, reliability, and standardization in multidimensional measurement\n",
    "3. Factor analysis and splitting scale groupings\n",
    "4. Regression and scale testing"
   ]
  },
  {
   "cell_type": "markdown",
   "metadata": {},
   "source": [
    "### 1. Scales as lumping in a multidimensional world: religiosity and abortion\n",
    "\n",
    "* Social beliefs, communities, and institutions are multi-dimensional\n",
    "* They are hard to measure directly\n",
    "* One solution is to combine multiple measures into a **multi-item scale**\n",
    "* **multi-item scales** take the average of multiple standardized measures related to our object of interest\n",
    "* standardized test scores such as the SAT are used ad nauseam as dependent (DV) and independent (IV) variables in the sociology of education even though they are not 1 measure, but in fact the combination of hundreds of measures per student (i.e. each student's answer to hundreds of questions)"
   ]
  },
  {
   "cell_type": "markdown",
   "metadata": {},
   "source": [
    "[your notes about religiosity and abortion belief measures]"
   ]
  },
  {
   "cell_type": "markdown",
   "metadata": {},
   "source": [
    "### 2. Scale validity, reliability, and standardization in multidimensional measurement\n",
    "\n",
    "Scales need to be:\n",
    "\n",
    "* **valid**: actually measuring social object of interest. I.e. what is relegiosity and how can it be measured?\n",
    "* **reliable**: yielding consistent results across different measures of the same thing and across the same measure over time\n",
    "* Cronbach's alpha is just a fancy formula showing that using larger numbers of measures with higher correlations with eachother gives us more reliability\n",
    "* What are different survey questions that we could potentially combine into multi-dimensional scales about religiosity and abortion beliefs?"
   ]
  },
  {
   "cell_type": "markdown",
   "metadata": {},
   "source": [
    "[your notes here about multidimensional religiosity & abortion belief questions]"
   ]
  },
  {
   "cell_type": "markdown",
   "metadata": {},
   "source": [
    "* Sometimes data measuring the same thing are recorded with differnt scales that need be standardized.\n",
    "* For example, survey responses to multiple dichotomous (yes/no) questions about religiosity together with 1-5 likert scale responses to other questions.\n",
    "* Or we might have questions about agreement/disagreement with positive and negative statements about religion. In both cases we would need to standardize data to measure positive\n",
    "* Use codebook below to examine multiple religiosity questions. How could we standardize these by recoding the likert scales for some questions?"
   ]
  },
  {
   "cell_type": "code",
   "execution_count": 1,
   "metadata": {},
   "outputs": [],
   "source": [
    "%set graph_format svg"
   ]
  },
  {
   "cell_type": "code",
   "execution_count": 2,
   "metadata": {},
   "outputs": [
    {
     "name": "stdout",
     "output_type": "stream",
     "text": [
      "\n",
      "\n",
      ". codebook comfort makefrnd religcon religint\n",
      "\n",
      "--------------------------------------------------------------------------------------------------------------------------------------------------------------------------------------------------------\n",
      "comfort                                                                                                                             religion helps people to gain comfort in times of trouble and sorrow\n",
      "--------------------------------------------------------------------------------------------------------------------------------------------------------------------------------------------------------\n",
      "\n",
      "                  type:  numeric (byte)\n",
      "                 label:  COMFORT\n",
      "\n",
      "                 range:  [1,5]                        units:  1\n",
      "         unique values:  5                        missing .:  0/2,348\n",
      "       unique mv codes:  3                       missing .*:  1,186/2,348\n",
      "\n",
      "            tabulation:  Freq.   Numeric  Label\n",
      "                           484         1  strongly agree\n",
      "                           602         2  agree\n",
      "                            55         3  neither agree nor disagree\n",
      "                            17         4  disagree\n",
      "                             4         5  strongly disagree\n",
      "                             2        .d  DONT KNOW\n",
      "                         1,173        .i  IAP\n",
      "                            11        .n  NA\n",
      "\n",
      "--------------------------------------------------------------------------------------------------------------------------------------------------------------------------------------------------------\n",
      "makefrnd                                                                                                                                                           religion helps people to make friends\n",
      "--------------------------------------------------------------------------------------------------------------------------------------------------------------------------------------------------------\n",
      "\n",
      "                  type:  numeric (byte)\n",
      "                 label:  MAKEFRND\n",
      "\n",
      "                 range:  [1,5]                        units:  1\n",
      "         unique values:  5                        missing .:  0/2,348\n",
      "       unique mv codes:  3                       missing .*:  1,191/2,348\n",
      "\n",
      "            tabulation:  Freq.   Numeric  Label\n",
      "                           228         1  strongly agree\n",
      "                           625         2  agree\n",
      "                           191         3  neither agree nor disagree\n",
      "                            96         4  disagree\n",
      "                            17         5  strongly disagree\n",
      "                             6        .d  DONT KNOW\n",
      "                         1,173        .i  IAP\n",
      "                            12        .n  NA\n",
      "\n",
      "--------------------------------------------------------------------------------------------------------------------------------------------------------------------------------------------------------\n",
      "religcon                                                                                                                                                                  religions bring more conflict \n",
      "--------------------------------------------------------------------------------------------------------------------------------------------------------------------------------------------------------\n",
      "\n",
      "                  type:  numeric (byte)\n",
      "                 label:  LABCV\n",
      "\n",
      "                 range:  [1,5]                        units:  1\n",
      "         unique values:  5                        missing .:  0/2,348\n",
      "       unique mv codes:  3                       missing .*:  1,204/2,348\n",
      "\n",
      "            tabulation:  Freq.   Numeric  Label\n",
      "                           185         1  strongly agree\n",
      "                           416         2  agree\n",
      "                           257         3  not agree/dsagre\n",
      "                           235         4  disagree\n",
      "                            51         5  strong disagree\n",
      "                            20        .c  CANT CHOOSE\n",
      "                         1,173        .i  IAP\n",
      "                            11        .n  NA\n",
      "\n",
      "--------------------------------------------------------------------------------------------------------------------------------------------------------------------------------------------------------\n",
      "religint                                                                                                                                                      religious people are often too intolerant \n",
      "--------------------------------------------------------------------------------------------------------------------------------------------------------------------------------------------------------\n",
      "\n",
      "                  type:  numeric (byte)\n",
      "                 label:  LABCV\n",
      "\n",
      "                 range:  [1,5]                        units:  1\n",
      "         unique values:  5                        missing .:  0/2,348\n",
      "       unique mv codes:  3                       missing .*:  1,191/2,348\n",
      "\n",
      "            tabulation:  Freq.   Numeric  Label\n",
      "                           179         1  strongly agree\n",
      "                           524         2  agree\n",
      "                           239         3  not agree/dsagre\n",
      "                           181         4  disagree\n",
      "                            34         5  strong disagree\n",
      "                            10        .c  CANT CHOOSE\n",
      "                         1,173        .i  IAP\n",
      "                             8        .n  NA\n"
     ]
    }
   ],
   "source": [
    "quietly {\n",
    "set line 200\n",
    "  set more off\n",
    "  use age sex race educ comfort makefrnd religcon religint ///\n",
    "   abdefect abnomore abhlth abpoor abrape absingle abany using gss2018w13, clear\n",
    "}\n",
    "codebook comfort makefrnd religcon religint"
   ]
  },
  {
   "cell_type": "markdown",
   "metadata": {},
   "source": [
    "### The Stata code below does the following:\n",
    "* recodes the likert scales for agreement with 2 negative statements about religion so that 5 will instead represent a positive belief about religion\n",
    "* renames the variables to indicate the positive beliefs they not represent - that religion 1) promotes tolerance, 2) promotes social harmony."
   ]
  },
  {
   "cell_type": "code",
   "execution_count": 4,
   "metadata": {},
   "outputs": [
    {
     "name": "stdout",
     "output_type": "stream",
     "text": [
      "\n",
      "(887 differences between religcon and noreligcon)\n",
      "(918 differences between religint and noreligint)\n",
      "\n",
      "\n"
     ]
    }
   ],
   "source": [
    "foreach var in religcon religint {\n",
    "    recode `var' (1=5) (2=4) (3=3) (4=2) (5=1), gen(no`var')\n",
    "}\n",
    "rename noreligint tolerant\n",
    "rename noreligcon harmony"
   ]
  },
  {
   "cell_type": "markdown",
   "metadata": {},
   "source": [
    "### 3. Factor analysis and splitting scale groupings\n",
    "\n",
    "* Factor analysis elaborates correlation analysis to determine what measures should be grouped together in what scales\n",
    "* Correlation matrices provide some intuition underlying factor analysis\n",
    "* Which of our religion measures are correlated with eachother based on our correlation matrix in Stata?"
   ]
  },
  {
   "cell_type": "code",
   "execution_count": 5,
   "metadata": {},
   "outputs": [
    {
     "name": "stdout",
     "output_type": "stream",
     "text": [
      "\n",
      "             |  comfort makefrnd  harmony tolerant\n",
      "-------------+------------------------------------\n",
      "     comfort |   1.0000 \n",
      "             |\n",
      "             |\n",
      "    makefrnd |   0.4399   1.0000 \n",
      "             |   0.0000\n",
      "             |\n",
      "     harmony |   0.1005   0.0263   1.0000 \n",
      "             |   0.0007   0.3759\n",
      "             |\n",
      "    tolerant |   0.0557   0.0319   0.4860   1.0000 \n",
      "             |   0.0589   0.2806   0.0000\n",
      "             |\n"
     ]
    }
   ],
   "source": [
    "pwcorr comfort makefrnd harmony tolerant, sig"
   ]
  },
  {
   "cell_type": "markdown",
   "metadata": {},
   "source": [
    "### Answer which of the following 6 combinations of our variables are strongly or weakly correlated with eachother:\n",
    "\n",
    "Religion:\n",
    "\n",
    "1. Gives comfort / provides friends [strongly / weakly]\n",
    "2. Gives comfort / fosters social harmony [strongly / weakly]\n",
    "3. Gives comfort / fosters tolerance [strongly / weakly]\n",
    "4. Provides friends / fosters social harmony [strongly / weakly]\n",
    "5. Provides friends / foster tolerance [strongly / weakly]\n",
    "6. Fosters tolerance / fosters social harmony [strongly / weakly]"
   ]
  },
  {
   "cell_type": "markdown",
   "metadata": {},
   "source": [
    "### Factor analysis estimates **factor loadings**:\n",
    "\n",
    "* a measure of how strongly each variable is correlated with other variables that are correlated with that unobserved factor\n",
    "* Stata estimates factor loading and plots the factor loads for the top 2 unobserved factors:"
   ]
  },
  {
   "cell_type": "code",
   "execution_count": 6,
   "metadata": {},
   "outputs": [
    {
     "name": "stdout",
     "output_type": "stream",
     "text": [
      "\n",
      "(obs=1,126)\n",
      "\n",
      "Factor analysis/correlation                      Number of obs    =      1,126\n",
      "    Method: principal factors                    Retained factors =          2\n",
      "    Rotation: (unrotated)                        Number of params =          6\n",
      "\n",
      "    --------------------------------------------------------------------------\n",
      "         Factor  |   Eigenvalue   Difference        Proportion   Cumulative\n",
      "    -------------+------------------------------------------------------------\n",
      "        Factor1  |      0.80196      0.23433            0.9157       0.9157\n",
      "        Factor2  |      0.56763      0.80150            0.6481       1.5638\n",
      "        Factor3  |     -0.23386      0.02605           -0.2670       1.2968\n",
      "        Factor4  |     -0.25992            .           -0.2968       1.0000\n",
      "    --------------------------------------------------------------------------\n",
      "    LR test: independent vs. saturated:  chi2(6)  =  558.79 Prob>chi2 = 0.0000\n",
      "\n",
      "Factor loadings (pattern matrix) and unique variances\n",
      "\n",
      "    -------------------------------------------------\n",
      "        Variable |  Factor1   Factor2 |   Uniqueness \n",
      "    -------------+--------------------+--------------\n",
      "         comfort |   0.3898    0.4191 |      0.6724  \n",
      "        makefrnd |   0.3350    0.4540 |      0.6817  \n",
      "         harmony |   0.5299   -0.2905 |      0.6348  \n",
      "        tolerant |   0.5069   -0.3186 |      0.6415  \n",
      "    -------------------------------------------------\n"
     ]
    },
    {
     "data": {
      "application/pdf": "[encoded data removed]",
      "image/svg+xml": [
       "<?xml version=\"1.0\" encoding=\"UTF-8\" standalone=\"no\"?>\n",
       "<!-- This is a Stata 15.1 generated SVG file (http://www.stata.com) -->\n",
       "\n",
       "<svg version=\"1.1\" width=\"600px\" height=\"436px\" viewBox=\"0 0 3960 2880\" xmlns=\"http://www.w3.org/2000/svg\" xmlns:xlink=\"http://www.w3.org/1999/xlink\">\n",
       "\t<desc>Stata Graph - Graph</desc>\n",
       "\t<rect x=\"0\" y=\"0\" width=\"3960\" height=\"2880\" style=\"fill:#EAF2F3;stroke:none\"/>\n",
       "\t<rect x=\"0.00\" y=\"0.00\" width=\"3959.88\" height=\"2880.00\" style=\"fill:#EAF2F3\"/>\n",
       "\t<rect x=\"2.88\" y=\"2.88\" width=\"3954.12\" height=\"2874.24\" style=\"fill:none;stroke:#EAF2F3;stroke-width:5.76\"/>\n",
       "\t<rect x=\"63.36\" y=\"237.98\" width=\"3833.16\" height=\"2578.66\" style=\"fill:#EAF2F3\"/>\n",
       "\t<rect x=\"66.24\" y=\"240.86\" width=\"3827.40\" height=\"2572.90\" style=\"fill:none;stroke:#EAF2F3;stroke-width:5.76\"/>\n",
       "\t<rect x=\"454.16\" y=\"338.71\" width=\"3341.50\" height=\"2087.11\" style=\"fill:#FFFFFF\"/>\n",
       "\t<rect x=\"457.04\" y=\"341.59\" width=\"3335.74\" height=\"2081.35\" style=\"fill:none;stroke:#FFFFFF;stroke-width:5.76\"/>\n",
       "\t<line x1=\"454.16\" y1=\"2362.46\" x2=\"3795.66\" y2=\"2362.46\" style=\"stroke:#EAF2F3;stroke-width:8.64\"/>\n",
       "\t<line x1=\"454.16\" y1=\"1903.33\" x2=\"3795.66\" y2=\"1903.33\" style=\"stroke:#EAF2F3;stroke-width:8.64\"/>\n",
       "\t<line x1=\"454.16\" y1=\"1444.21\" x2=\"3795.66\" y2=\"1444.21\" style=\"stroke:#EAF2F3;stroke-width:8.64\"/>\n",
       "\t<line x1=\"454.16\" y1=\"985.08\" x2=\"3795.66\" y2=\"985.08\" style=\"stroke:#EAF2F3;stroke-width:8.64\"/>\n",
       "\t<line x1=\"454.16\" y1=\"525.95\" x2=\"3795.66\" y2=\"525.95\" style=\"stroke:#EAF2F3;stroke-width:8.64\"/>\n",
       "\t<circle cx=\"1336.38\" cy=\"482.15\" r=\"26.35\" style=\"fill:#1A476F\"/>\n",
       "\t<circle cx=\"1336.38\" cy=\"482.15\" r=\"22.03\" style=\"fill:none;stroke:#1A476F;stroke-width:8.64\"/>\n",
       "\t<text x=\"1336.38\" y=\"580.00\" style=\"font-family:'Helvetica';font-size:79.94px;fill:#1A476f\" text-anchor=\"middle\">comfort</text>\n",
       "\t<circle cx=\"517.52\" cy=\"402.08\" r=\"26.35\" style=\"fill:#1A476F\"/>\n",
       "\t<circle cx=\"517.52\" cy=\"402.08\" r=\"22.03\" style=\"fill:none;stroke:#1A476F;stroke-width:8.64\"/>\n",
       "\t<text x=\"538.56\" y=\"494.36\" style=\"font-family:'Helvetica';font-size:79.94px;fill:#1A476f\">makefrnd</text>\n",
       "\t<circle cx=\"3432.58\" cy=\"2110.99\" r=\"26.35\" style=\"fill:#1A476F\"/>\n",
       "\t<circle cx=\"3432.58\" cy=\"2110.99\" r=\"22.03\" style=\"fill:none;stroke:#1A476F;stroke-width:8.64\"/>\n",
       "\t<text x=\"3411.54\" y=\"2074.61\" style=\"font-family:'Helvetica';font-size:79.94px;fill:#1A476f\" text-anchor=\"end\">harmony</text>\n",
       "\t<circle cx=\"3088.30\" cy=\"2175.59\" r=\"26.35\" style=\"fill:#1A476F\"/>\n",
       "\t<circle cx=\"3088.30\" cy=\"2175.59\" r=\"22.03\" style=\"fill:none;stroke:#1A476F;stroke-width:8.64\"/>\n",
       "\t<text x=\"3088.30\" y=\"2133.64\" style=\"font-family:'Helvetica';font-size:79.94px;fill:#1A476f\" text-anchor=\"middle\">tolerant</text>\n",
       "\t<line x1=\"454.16\" y1=\"2425.82\" x2=\"454.16\" y2=\"338.71\" style=\"stroke:#000000;stroke-width:5.76\"/>\n",
       "\t<line x1=\"454.16\" y1=\"2362.46\" x2=\"414.19\" y2=\"2362.46\" style=\"stroke:#000000;stroke-width:5.76\"/>\n",
       "\t<text x=\"364.08\" y=\"2362.46\" style=\"font-family:'Helvetica';font-size:99.99px;fill:#000000\" transform=\"rotate(-90 364.08,2362.46)\" text-anchor=\"middle\">-.4</text>\n",
       "\t<line x1=\"454.16\" y1=\"1903.33\" x2=\"414.19\" y2=\"1903.33\" style=\"stroke:#000000;stroke-width:5.76\"/>\n",
       "\t<text x=\"364.08\" y=\"1903.33\" style=\"font-family:'Helvetica';font-size:99.99px;fill:#000000\" transform=\"rotate(-90 364.08,1903.33)\" text-anchor=\"middle\">-.2</text>\n",
       "\t<line x1=\"454.16\" y1=\"1444.21\" x2=\"414.19\" y2=\"1444.21\" style=\"stroke:#000000;stroke-width:5.76\"/>\n",
       "\t<text x=\"364.08\" y=\"1444.21\" style=\"font-family:'Helvetica';font-size:99.99px;fill:#000000\" transform=\"rotate(-90 364.08,1444.21)\" text-anchor=\"middle\">0</text>\n",
       "\t<line x1=\"454.16\" y1=\"985.08\" x2=\"414.19\" y2=\"985.08\" style=\"stroke:#000000;stroke-width:5.76\"/>\n",
       "\t<text x=\"364.08\" y=\"985.08\" style=\"font-family:'Helvetica';font-size:99.99px;fill:#000000\" transform=\"rotate(-90 364.08,985.08)\" text-anchor=\"middle\">.2</text>\n",
       "\t<line x1=\"454.16\" y1=\"525.95\" x2=\"414.19\" y2=\"525.95\" style=\"stroke:#000000;stroke-width:5.76\"/>\n",
       "\t<text x=\"364.08\" y=\"525.95\" style=\"font-family:'Helvetica';font-size:99.99px;fill:#000000\" transform=\"rotate(-90 364.08,525.95)\" text-anchor=\"middle\">.4</text>\n",
       "\t<text x=\"254.07\" y=\"1382.33\" style=\"font-family:'Helvetica';font-size:99.99px;fill:#000000\" transform=\"rotate(-90 254.07,1382.33)\" text-anchor=\"middle\">Factor 2</text>\n",
       "\t<line x1=\"454.16\" y1=\"2425.82\" x2=\"3795.66\" y2=\"2425.82\" style=\"stroke:#000000;stroke-width:5.76\"/>\n",
       "\t<line x1=\"741.76\" y1=\"2425.82\" x2=\"741.76\" y2=\"2465.80\" style=\"stroke:#000000;stroke-width:5.76\"/>\n",
       "\t<text x=\"741.76\" y=\"2555.78\" style=\"font-family:'Helvetica';font-size:99.99px;fill:#000000\" text-anchor=\"middle\">.35</text>\n",
       "\t<line x1=\"1489.45\" y1=\"2425.82\" x2=\"1489.45\" y2=\"2465.80\" style=\"stroke:#000000;stroke-width:5.76\"/>\n",
       "\t<text x=\"1489.45\" y=\"2555.78\" style=\"font-family:'Helvetica';font-size:99.99px;fill:#000000\" text-anchor=\"middle\">.4</text>\n",
       "\t<line x1=\"2237.03\" y1=\"2425.82\" x2=\"2237.03\" y2=\"2465.80\" style=\"stroke:#000000;stroke-width:5.76\"/>\n",
       "\t<text x=\"2237.03\" y=\"2555.78\" style=\"font-family:'Helvetica';font-size:99.99px;fill:#000000\" text-anchor=\"middle\">.45</text>\n",
       "\t<line x1=\"2984.73\" y1=\"2425.82\" x2=\"2984.73\" y2=\"2465.80\" style=\"stroke:#000000;stroke-width:5.76\"/>\n",
       "\t<text x=\"2984.73\" y=\"2555.78\" style=\"font-family:'Helvetica';font-size:99.99px;fill:#000000\" text-anchor=\"middle\">.5</text>\n",
       "\t<line x1=\"3732.42\" y1=\"2425.82\" x2=\"3732.42\" y2=\"2465.80\" style=\"stroke:#000000;stroke-width:5.76\"/>\n",
       "\t<text x=\"3732.42\" y=\"2555.78\" style=\"font-family:'Helvetica';font-size:99.99px;fill:#000000\" text-anchor=\"middle\">.55</text>\n",
       "\t<text x=\"2124.91\" y=\"2665.79\" style=\"font-family:'Helvetica';font-size:99.99px;fill:#000000\" text-anchor=\"middle\">Factor 1</text>\n",
       "\t<text x=\"1980.00\" y=\"178.60\" style=\"font-family:'Helvetica';font-size:139.96px;fill:#1E2D53\" text-anchor=\"middle\">Factor loadings</text>\n",
       "</svg>\n"
      ],
      "text/html": [
       "                <iframe frameborder=\"0\" scrolling=\"no\" height=\"436\" width=\"600\"                srcdoc=\"<html><body>&lt;?xml version=&quot;1.0&quot; encoding=&quot;UTF-8&quot; standalone=&quot;no&quot;?&gt;\n",
       "&lt;!-- This is a Stata 15.1 generated SVG file (http://www.stata.com) --&gt;\n",
       "\n",
       "&lt;svg version=&quot;1.1&quot; width=&quot;600px&quot; height=&quot;436px&quot; viewBox=&quot;0 0 3960 2880&quot; xmlns=&quot;http://www.w3.org/2000/svg&quot; xmlns:xlink=&quot;http://www.w3.org/1999/xlink&quot;&gt;\n",
       "\t&lt;desc&gt;Stata Graph - Graph&lt;/desc&gt;\n",
       "\t&lt;rect x=&quot;0&quot; y=&quot;0&quot; width=&quot;3960&quot; height=&quot;2880&quot; style=&quot;fill:#EAF2F3;stroke:none&quot;/&gt;\n",
       "\t&lt;rect x=&quot;0.00&quot; y=&quot;0.00&quot; width=&quot;3959.88&quot; height=&quot;2880.00&quot; style=&quot;fill:#EAF2F3&quot;/&gt;\n",
       "\t&lt;rect x=&quot;2.88&quot; y=&quot;2.88&quot; width=&quot;3954.12&quot; height=&quot;2874.24&quot; style=&quot;fill:none;stroke:#EAF2F3;stroke-width:5.76&quot;/&gt;\n",
       "\t&lt;rect x=&quot;63.36&quot; y=&quot;237.98&quot; width=&quot;3833.16&quot; height=&quot;2578.66&quot; style=&quot;fill:#EAF2F3&quot;/&gt;\n",
       "\t&lt;rect x=&quot;66.24&quot; y=&quot;240.86&quot; width=&quot;3827.40&quot; height=&quot;2572.90&quot; style=&quot;fill:none;stroke:#EAF2F3;stroke-width:5.76&quot;/&gt;\n",
       "\t&lt;rect x=&quot;454.16&quot; y=&quot;338.71&quot; width=&quot;3341.50&quot; height=&quot;2087.11&quot; style=&quot;fill:#FFFFFF&quot;/&gt;\n",
       "\t&lt;rect x=&quot;457.04&quot; y=&quot;341.59&quot; width=&quot;3335.74&quot; height=&quot;2081.35&quot; style=&quot;fill:none;stroke:#FFFFFF;stroke-width:5.76&quot;/&gt;\n",
       "\t&lt;line x1=&quot;454.16&quot; y1=&quot;2362.46&quot; x2=&quot;3795.66&quot; y2=&quot;2362.46&quot; style=&quot;stroke:#EAF2F3;stroke-width:8.64&quot;/&gt;\n",
       "\t&lt;line x1=&quot;454.16&quot; y1=&quot;1903.33&quot; x2=&quot;3795.66&quot; y2=&quot;1903.33&quot; style=&quot;stroke:#EAF2F3;stroke-width:8.64&quot;/&gt;\n",
       "\t&lt;line x1=&quot;454.16&quot; y1=&quot;1444.21&quot; x2=&quot;3795.66&quot; y2=&quot;1444.21&quot; style=&quot;stroke:#EAF2F3;stroke-width:8.64&quot;/&gt;\n",
       "\t&lt;line x1=&quot;454.16&quot; y1=&quot;985.08&quot; x2=&quot;3795.66&quot; y2=&quot;985.08&quot; style=&quot;stroke:#EAF2F3;stroke-width:8.64&quot;/&gt;\n",
       "\t&lt;line x1=&quot;454.16&quot; y1=&quot;525.95&quot; x2=&quot;3795.66&quot; y2=&quot;525.95&quot; style=&quot;stroke:#EAF2F3;stroke-width:8.64&quot;/&gt;\n",
       "\t&lt;circle cx=&quot;1336.38&quot; cy=&quot;482.15&quot; r=&quot;26.35&quot; style=&quot;fill:#1A476F&quot;/&gt;\n",
       "\t&lt;circle cx=&quot;1336.38&quot; cy=&quot;482.15&quot; r=&quot;22.03&quot; style=&quot;fill:none;stroke:#1A476F;stroke-width:8.64&quot;/&gt;\n",
       "\t&lt;text x=&quot;1336.38&quot; y=&quot;580.00&quot; style=&quot;font-family:&#x27;Helvetica&#x27;;font-size:79.94px;fill:#1A476f&quot; text-anchor=&quot;middle&quot;&gt;comfort&lt;/text&gt;\n",
       "\t&lt;circle cx=&quot;517.52&quot; cy=&quot;402.08&quot; r=&quot;26.35&quot; style=&quot;fill:#1A476F&quot;/&gt;\n",
       "\t&lt;circle cx=&quot;517.52&quot; cy=&quot;402.08&quot; r=&quot;22.03&quot; style=&quot;fill:none;stroke:#1A476F;stroke-width:8.64&quot;/&gt;\n",
       "\t&lt;text x=&quot;538.56&quot; y=&quot;494.36&quot; style=&quot;font-family:&#x27;Helvetica&#x27;;font-size:79.94px;fill:#1A476f&quot;&gt;makefrnd&lt;/text&gt;\n",
       "\t&lt;circle cx=&quot;3432.58&quot; cy=&quot;2110.99&quot; r=&quot;26.35&quot; style=&quot;fill:#1A476F&quot;/&gt;\n",
       "\t&lt;circle cx=&quot;3432.58&quot; cy=&quot;2110.99&quot; r=&quot;22.03&quot; style=&quot;fill:none;stroke:#1A476F;stroke-width:8.64&quot;/&gt;\n",
       "\t&lt;text x=&quot;3411.54&quot; y=&quot;2074.61&quot; style=&quot;font-family:&#x27;Helvetica&#x27;;font-size:79.94px;fill:#1A476f&quot; text-anchor=&quot;end&quot;&gt;harmony&lt;/text&gt;\n",
       "\t&lt;circle cx=&quot;3088.30&quot; cy=&quot;2175.59&quot; r=&quot;26.35&quot; style=&quot;fill:#1A476F&quot;/&gt;\n",
       "\t&lt;circle cx=&quot;3088.30&quot; cy=&quot;2175.59&quot; r=&quot;22.03&quot; style=&quot;fill:none;stroke:#1A476F;stroke-width:8.64&quot;/&gt;\n",
       "\t&lt;text x=&quot;3088.30&quot; y=&quot;2133.64&quot; style=&quot;font-family:&#x27;Helvetica&#x27;;font-size:79.94px;fill:#1A476f&quot; text-anchor=&quot;middle&quot;&gt;tolerant&lt;/text&gt;\n",
       "\t&lt;line x1=&quot;454.16&quot; y1=&quot;2425.82&quot; x2=&quot;454.16&quot; y2=&quot;338.71&quot; style=&quot;stroke:#000000;stroke-width:5.76&quot;/&gt;\n",
       "\t&lt;line x1=&quot;454.16&quot; y1=&quot;2362.46&quot; x2=&quot;414.19&quot; y2=&quot;2362.46&quot; style=&quot;stroke:#000000;stroke-width:5.76&quot;/&gt;\n",
       "\t&lt;text x=&quot;364.08&quot; y=&quot;2362.46&quot; style=&quot;font-family:&#x27;Helvetica&#x27;;font-size:99.99px;fill:#000000&quot; transform=&quot;rotate(-90 364.08,2362.46)&quot; text-anchor=&quot;middle&quot;&gt;-.4&lt;/text&gt;\n",
       "\t&lt;line x1=&quot;454.16&quot; y1=&quot;1903.33&quot; x2=&quot;414.19&quot; y2=&quot;1903.33&quot; style=&quot;stroke:#000000;stroke-width:5.76&quot;/&gt;\n",
       "\t&lt;text x=&quot;364.08&quot; y=&quot;1903.33&quot; style=&quot;font-family:&#x27;Helvetica&#x27;;font-size:99.99px;fill:#000000&quot; transform=&quot;rotate(-90 364.08,1903.33)&quot; text-anchor=&quot;middle&quot;&gt;-.2&lt;/text&gt;\n",
       "\t&lt;line x1=&quot;454.16&quot; y1=&quot;1444.21&quot; x2=&quot;414.19&quot; y2=&quot;1444.21&quot; style=&quot;stroke:#000000;stroke-width:5.76&quot;/&gt;\n",
       "\t&lt;text x=&quot;364.08&quot; y=&quot;1444.21&quot; style=&quot;font-family:&#x27;Helvetica&#x27;;font-size:99.99px;fill:#000000&quot; transform=&quot;rotate(-90 364.08,1444.21)&quot; text-anchor=&quot;middle&quot;&gt;0&lt;/text&gt;\n",
       "\t&lt;line x1=&quot;454.16&quot; y1=&quot;985.08&quot; x2=&quot;414.19&quot; y2=&quot;985.08&quot; style=&quot;stroke:#000000;stroke-width:5.76&quot;/&gt;\n",
       "\t&lt;text x=&quot;364.08&quot; y=&quot;985.08&quot; style=&quot;font-family:&#x27;Helvetica&#x27;;font-size:99.99px;fill:#000000&quot; transform=&quot;rotate(-90 364.08,985.08)&quot; text-anchor=&quot;middle&quot;&gt;.2&lt;/text&gt;\n",
       "\t&lt;line x1=&quot;454.16&quot; y1=&quot;525.95&quot; x2=&quot;414.19&quot; y2=&quot;525.95&quot; style=&quot;stroke:#000000;stroke-width:5.76&quot;/&gt;\n",
       "\t&lt;text x=&quot;364.08&quot; y=&quot;525.95&quot; style=&quot;font-family:&#x27;Helvetica&#x27;;font-size:99.99px;fill:#000000&quot; transform=&quot;rotate(-90 364.08,525.95)&quot; text-anchor=&quot;middle&quot;&gt;.4&lt;/text&gt;\n",
       "\t&lt;text x=&quot;254.07&quot; y=&quot;1382.33&quot; style=&quot;font-family:&#x27;Helvetica&#x27;;font-size:99.99px;fill:#000000&quot; transform=&quot;rotate(-90 254.07,1382.33)&quot; text-anchor=&quot;middle&quot;&gt;Factor 2&lt;/text&gt;\n",
       "\t&lt;line x1=&quot;454.16&quot; y1=&quot;2425.82&quot; x2=&quot;3795.66&quot; y2=&quot;2425.82&quot; style=&quot;stroke:#000000;stroke-width:5.76&quot;/&gt;\n",
       "\t&lt;line x1=&quot;741.76&quot; y1=&quot;2425.82&quot; x2=&quot;741.76&quot; y2=&quot;2465.80&quot; style=&quot;stroke:#000000;stroke-width:5.76&quot;/&gt;\n",
       "\t&lt;text x=&quot;741.76&quot; y=&quot;2555.78&quot; style=&quot;font-family:&#x27;Helvetica&#x27;;font-size:99.99px;fill:#000000&quot; text-anchor=&quot;middle&quot;&gt;.35&lt;/text&gt;\n",
       "\t&lt;line x1=&quot;1489.45&quot; y1=&quot;2425.82&quot; x2=&quot;1489.45&quot; y2=&quot;2465.80&quot; style=&quot;stroke:#000000;stroke-width:5.76&quot;/&gt;\n",
       "\t&lt;text x=&quot;1489.45&quot; y=&quot;2555.78&quot; style=&quot;font-family:&#x27;Helvetica&#x27;;font-size:99.99px;fill:#000000&quot; text-anchor=&quot;middle&quot;&gt;.4&lt;/text&gt;\n",
       "\t&lt;line x1=&quot;2237.03&quot; y1=&quot;2425.82&quot; x2=&quot;2237.03&quot; y2=&quot;2465.80&quot; style=&quot;stroke:#000000;stroke-width:5.76&quot;/&gt;\n",
       "\t&lt;text x=&quot;2237.03&quot; y=&quot;2555.78&quot; style=&quot;font-family:&#x27;Helvetica&#x27;;font-size:99.99px;fill:#000000&quot; text-anchor=&quot;middle&quot;&gt;.45&lt;/text&gt;\n",
       "\t&lt;line x1=&quot;2984.73&quot; y1=&quot;2425.82&quot; x2=&quot;2984.73&quot; y2=&quot;2465.80&quot; style=&quot;stroke:#000000;stroke-width:5.76&quot;/&gt;\n",
       "\t&lt;text x=&quot;2984.73&quot; y=&quot;2555.78&quot; style=&quot;font-family:&#x27;Helvetica&#x27;;font-size:99.99px;fill:#000000&quot; text-anchor=&quot;middle&quot;&gt;.5&lt;/text&gt;\n",
       "\t&lt;line x1=&quot;3732.42&quot; y1=&quot;2425.82&quot; x2=&quot;3732.42&quot; y2=&quot;2465.80&quot; style=&quot;stroke:#000000;stroke-width:5.76&quot;/&gt;\n",
       "\t&lt;text x=&quot;3732.42&quot; y=&quot;2555.78&quot; style=&quot;font-family:&#x27;Helvetica&#x27;;font-size:99.99px;fill:#000000&quot; text-anchor=&quot;middle&quot;&gt;.55&lt;/text&gt;\n",
       "\t&lt;text x=&quot;2124.91&quot; y=&quot;2665.79&quot; style=&quot;font-family:&#x27;Helvetica&#x27;;font-size:99.99px;fill:#000000&quot; text-anchor=&quot;middle&quot;&gt;Factor 1&lt;/text&gt;\n",
       "\t&lt;text x=&quot;1980.00&quot; y=&quot;178.60&quot; style=&quot;font-family:&#x27;Helvetica&#x27;;font-size:139.96px;fill:#1E2D53&quot; text-anchor=&quot;middle&quot;&gt;Factor loadings&lt;/text&gt;\n",
       "&lt;/svg&gt;\n",
       "</body></html>\"></iframe>\n"
      ],
      "text/plain": [
       "This front-end cannot display the desired image type."
      ]
     },
     "metadata": {
      "image/svg+xml": {
       "height": 436,
       "width": 600
      },
      "text/html": {
       "height": 436,
       "width": 600
      }
     },
     "output_type": "display_data"
    },
    {
     "name": "stdout",
     "output_type": "stream",
     "text": [
      "\n",
      "\n"
     ]
    }
   ],
   "source": [
    "factor comfort makefrnd harmony tolerant\n",
    "loadingplot, norotated"
   ]
  },
  {
   "cell_type": "markdown",
   "metadata": {},
   "source": [
    "### Rotating the factor loading adjusts our factor loads to be positive:\n",
    "\n",
    "* Positive factor loads are easier to interpret\n",
    "* Variables for religion promotes a) Tolerant and b) harmony have high factor loading values on Factor 1 but low factor loading values on Factor 2\n",
    "* Variables for religion promotes c) friendship and d) comfort variables have high factor loading values on Factor 2 but low factor loading values on Factor 1:"
   ]
  },
  {
   "cell_type": "code",
   "execution_count": 7,
   "metadata": {},
   "outputs": [
    {
     "name": "stdout",
     "output_type": "stream",
     "text": [
      "\n",
      "\n",
      "\n",
      "Factor analysis/correlation                      Number of obs    =      1,126\n",
      "    Method: principal factors                    Retained factors =          2\n",
      "    Rotation: orthogonal varimax (Kaiser off)    Number of params =          6\n",
      "\n",
      "    --------------------------------------------------------------------------\n",
      "         Factor  |     Variance   Difference        Proportion   Cumulative\n",
      "    -------------+------------------------------------------------------------\n",
      "        Factor1  |      0.72569      0.08179            0.8286       0.8286\n",
      "        Factor2  |      0.64390            .            0.7352       1.5638\n",
      "    --------------------------------------------------------------------------\n",
      "    LR test: independent vs. saturated:  chi2(6)  =  558.79 Prob>chi2 = 0.0000\n",
      "\n",
      "Rotated factor loadings (pattern matrix) and unique variances\n",
      "\n",
      "    -------------------------------------------------\n",
      "        Variable |  Factor1   Factor2 |   Uniqueness \n",
      "    -------------+--------------------+--------------\n",
      "         comfort |   0.0810    0.5666 |      0.6724  \n",
      "        makefrnd |   0.0161    0.5640 |      0.6817  \n",
      "         harmony |   0.6010    0.0638 |      0.6348  \n",
      "        tolerant |   0.5981    0.0275 |      0.6415  \n",
      "    -------------------------------------------------\n",
      "\n",
      "Factor rotation matrix\n",
      "\n",
      "    --------------------------------\n",
      "                 | Factor1  Factor2 \n",
      "    -------------+------------------\n",
      "         Factor1 |  0.8213   0.5705 \n",
      "         Factor2 | -0.5705   0.8213 \n",
      "    --------------------------------\n"
     ]
    },
    {
     "data": {
      "application/pdf": "[encoded data removed]",
      "image/svg+xml": [
       "<?xml version=\"1.0\" encoding=\"UTF-8\" standalone=\"no\"?>\n",
       "<!-- This is a Stata 15.1 generated SVG file (http://www.stata.com) -->\n",
       "\n",
       "<svg version=\"1.1\" width=\"600px\" height=\"436px\" viewBox=\"0 0 3960 2880\" xmlns=\"http://www.w3.org/2000/svg\" xmlns:xlink=\"http://www.w3.org/1999/xlink\">\n",
       "\t<desc>Stata Graph - Graph</desc>\n",
       "\t<rect x=\"0\" y=\"0\" width=\"3960\" height=\"2880\" style=\"fill:#EAF2F3;stroke:none\"/>\n",
       "\t<rect x=\"0.00\" y=\"0.00\" width=\"3959.88\" height=\"2880.00\" style=\"fill:#EAF2F3\"/>\n",
       "\t<rect x=\"2.88\" y=\"2.88\" width=\"3954.12\" height=\"2874.24\" style=\"fill:none;stroke:#EAF2F3;stroke-width:5.76\"/>\n",
       "\t<rect x=\"63.36\" y=\"237.98\" width=\"3833.16\" height=\"2384.12\" style=\"fill:#EAF2F3\"/>\n",
       "\t<rect x=\"66.24\" y=\"240.86\" width=\"3827.40\" height=\"2378.36\" style=\"fill:none;stroke:#EAF2F3;stroke-width:5.76\"/>\n",
       "\t<rect x=\"454.16\" y=\"338.71\" width=\"3341.50\" height=\"1892.57\" style=\"fill:#FFFFFF\"/>\n",
       "\t<rect x=\"457.04\" y=\"341.59\" width=\"3335.74\" height=\"1886.81\" style=\"fill:none;stroke:#FFFFFF;stroke-width:5.76\"/>\n",
       "\t<line x1=\"454.16\" y1=\"2167.92\" x2=\"3795.66\" y2=\"2167.92\" style=\"stroke:#EAF2F3;stroke-width:8.64\"/>\n",
       "\t<line x1=\"454.16\" y1=\"1579.35\" x2=\"3795.66\" y2=\"1579.35\" style=\"stroke:#EAF2F3;stroke-width:8.64\"/>\n",
       "\t<line x1=\"454.16\" y1=\"990.65\" x2=\"3795.66\" y2=\"990.65\" style=\"stroke:#EAF2F3;stroke-width:8.64\"/>\n",
       "\t<line x1=\"454.16\" y1=\"402.08\" x2=\"3795.66\" y2=\"402.08\" style=\"stroke:#EAF2F3;stroke-width:8.64\"/>\n",
       "\t<circle cx=\"950.77\" cy=\"500.46\" r=\"26.35\" style=\"fill:#1A476F\"/>\n",
       "\t<circle cx=\"950.77\" cy=\"500.46\" r=\"22.03\" style=\"fill:none;stroke:#1A476F;stroke-width:8.64\"/>\n",
       "\t<text x=\"950.77\" y=\"598.31\" style=\"font-family:'Helvetica';font-size:79.94px;fill:#1A476f\" text-anchor=\"middle\">comfort</text>\n",
       "\t<circle cx=\"603.78\" cy=\"508.13\" r=\"26.35\" style=\"fill:#1A476F\"/>\n",
       "\t<circle cx=\"603.78\" cy=\"508.13\" r=\"22.03\" style=\"fill:none;stroke:#1A476F;stroke-width:8.64\"/>\n",
       "\t<text x=\"624.81\" y=\"600.42\" style=\"font-family:'Helvetica';font-size:79.94px;fill:#1A476f\">makefrnd</text>\n",
       "\t<circle cx=\"3732.42\" cy=\"1980.31\" r=\"26.35\" style=\"fill:#1A476F\"/>\n",
       "\t<circle cx=\"3732.42\" cy=\"1980.31\" r=\"22.03\" style=\"fill:none;stroke:#1A476F;stroke-width:8.64\"/>\n",
       "\t<text x=\"3711.39\" y=\"1943.93\" style=\"font-family:'Helvetica';font-size:79.94px;fill:#1A476f\" text-anchor=\"end\">harmony</text>\n",
       "\t<circle cx=\"3717.08\" cy=\"2086.86\" r=\"26.35\" style=\"fill:#1A476F\"/>\n",
       "\t<circle cx=\"3717.08\" cy=\"2086.86\" r=\"22.03\" style=\"fill:none;stroke:#1A476F;stroke-width:8.64\"/>\n",
       "\t<text x=\"3696.04\" y=\"2050.48\" style=\"font-family:'Helvetica';font-size:79.94px;fill:#1A476f\" text-anchor=\"end\">tolerant</text>\n",
       "\t<line x1=\"454.16\" y1=\"2231.28\" x2=\"454.16\" y2=\"338.71\" style=\"stroke:#000000;stroke-width:5.76\"/>\n",
       "\t<line x1=\"454.16\" y1=\"2167.92\" x2=\"414.19\" y2=\"2167.92\" style=\"stroke:#000000;stroke-width:5.76\"/>\n",
       "\t<text x=\"364.08\" y=\"2167.92\" style=\"font-family:'Helvetica';font-size:99.99px;fill:#000000\" transform=\"rotate(-90 364.08,2167.92)\" text-anchor=\"middle\">0</text>\n",
       "\t<line x1=\"454.16\" y1=\"1579.35\" x2=\"414.19\" y2=\"1579.35\" style=\"stroke:#000000;stroke-width:5.76\"/>\n",
       "\t<text x=\"364.08\" y=\"1579.35\" style=\"font-family:'Helvetica';font-size:99.99px;fill:#000000\" transform=\"rotate(-90 364.08,1579.35)\" text-anchor=\"middle\">.2</text>\n",
       "\t<line x1=\"454.16\" y1=\"990.65\" x2=\"414.19\" y2=\"990.65\" style=\"stroke:#000000;stroke-width:5.76\"/>\n",
       "\t<text x=\"364.08\" y=\"990.65\" style=\"font-family:'Helvetica';font-size:99.99px;fill:#000000\" transform=\"rotate(-90 364.08,990.65)\" text-anchor=\"middle\">.4</text>\n",
       "\t<line x1=\"454.16\" y1=\"402.08\" x2=\"414.19\" y2=\"402.08\" style=\"stroke:#000000;stroke-width:5.76\"/>\n",
       "\t<text x=\"364.08\" y=\"402.08\" style=\"font-family:'Helvetica';font-size:99.99px;fill:#000000\" transform=\"rotate(-90 364.08,402.08)\" text-anchor=\"middle\">.6</text>\n",
       "\t<text x=\"254.07\" y=\"1285.06\" style=\"font-family:'Helvetica';font-size:99.99px;fill:#000000\" transform=\"rotate(-90 254.07,1285.06)\" text-anchor=\"middle\">Factor 2</text>\n",
       "\t<line x1=\"454.16\" y1=\"2231.28\" x2=\"3795.66\" y2=\"2231.28\" style=\"stroke:#000000;stroke-width:5.76\"/>\n",
       "\t<line x1=\"517.52\" y1=\"2231.28\" x2=\"517.52\" y2=\"2271.38\" style=\"stroke:#000000;stroke-width:5.76\"/>\n",
       "\t<text x=\"517.52\" y=\"2361.24\" style=\"font-family:'Helvetica';font-size:99.99px;fill:#000000\" text-anchor=\"middle\">0</text>\n",
       "\t<line x1=\"1587.46\" y1=\"2231.28\" x2=\"1587.46\" y2=\"2271.38\" style=\"stroke:#000000;stroke-width:5.76\"/>\n",
       "\t<text x=\"1587.46\" y=\"2361.24\" style=\"font-family:'Helvetica';font-size:99.99px;fill:#000000\" text-anchor=\"middle\">.2</text>\n",
       "\t<line x1=\"2657.28\" y1=\"2231.28\" x2=\"2657.28\" y2=\"2271.38\" style=\"stroke:#000000;stroke-width:5.76\"/>\n",
       "\t<text x=\"2657.28\" y=\"2361.24\" style=\"font-family:'Helvetica';font-size:99.99px;fill:#000000\" text-anchor=\"middle\">.4</text>\n",
       "\t<line x1=\"3727.23\" y1=\"2231.28\" x2=\"3727.23\" y2=\"2271.38\" style=\"stroke:#000000;stroke-width:5.76\"/>\n",
       "\t<text x=\"3727.23\" y=\"2361.24\" style=\"font-family:'Helvetica';font-size:99.99px;fill:#000000\" text-anchor=\"middle\">.6</text>\n",
       "\t<text x=\"2124.91\" y=\"2471.25\" style=\"font-family:'Helvetica';font-size:99.99px;fill:#000000\" text-anchor=\"middle\">Factor 1</text>\n",
       "\t<text x=\"80.69\" y=\"2695.32\" style=\"font-family:'Helvetica';font-size:79.94px;fill:#000000\">Rotation: orthogonal varimax</text>\n",
       "\t<text x=\"80.69\" y=\"2775.27\" style=\"font-family:'Helvetica';font-size:79.94px;fill:#000000\">Method: principal factors</text>\n",
       "\t<text x=\"1980.00\" y=\"178.60\" style=\"font-family:'Helvetica';font-size:139.96px;fill:#1E2D53\" text-anchor=\"middle\">Factor loadings</text>\n",
       "</svg>\n"
      ],
      "text/html": [
       "                <iframe frameborder=\"0\" scrolling=\"no\" height=\"436\" width=\"600\"                srcdoc=\"<html><body>&lt;?xml version=&quot;1.0&quot; encoding=&quot;UTF-8&quot; standalone=&quot;no&quot;?&gt;\n",
       "&lt;!-- This is a Stata 15.1 generated SVG file (http://www.stata.com) --&gt;\n",
       "\n",
       "&lt;svg version=&quot;1.1&quot; width=&quot;600px&quot; height=&quot;436px&quot; viewBox=&quot;0 0 3960 2880&quot; xmlns=&quot;http://www.w3.org/2000/svg&quot; xmlns:xlink=&quot;http://www.w3.org/1999/xlink&quot;&gt;\n",
       "\t&lt;desc&gt;Stata Graph - Graph&lt;/desc&gt;\n",
       "\t&lt;rect x=&quot;0&quot; y=&quot;0&quot; width=&quot;3960&quot; height=&quot;2880&quot; style=&quot;fill:#EAF2F3;stroke:none&quot;/&gt;\n",
       "\t&lt;rect x=&quot;0.00&quot; y=&quot;0.00&quot; width=&quot;3959.88&quot; height=&quot;2880.00&quot; style=&quot;fill:#EAF2F3&quot;/&gt;\n",
       "\t&lt;rect x=&quot;2.88&quot; y=&quot;2.88&quot; width=&quot;3954.12&quot; height=&quot;2874.24&quot; style=&quot;fill:none;stroke:#EAF2F3;stroke-width:5.76&quot;/&gt;\n",
       "\t&lt;rect x=&quot;63.36&quot; y=&quot;237.98&quot; width=&quot;3833.16&quot; height=&quot;2384.12&quot; style=&quot;fill:#EAF2F3&quot;/&gt;\n",
       "\t&lt;rect x=&quot;66.24&quot; y=&quot;240.86&quot; width=&quot;3827.40&quot; height=&quot;2378.36&quot; style=&quot;fill:none;stroke:#EAF2F3;stroke-width:5.76&quot;/&gt;\n",
       "\t&lt;rect x=&quot;454.16&quot; y=&quot;338.71&quot; width=&quot;3341.50&quot; height=&quot;1892.57&quot; style=&quot;fill:#FFFFFF&quot;/&gt;\n",
       "\t&lt;rect x=&quot;457.04&quot; y=&quot;341.59&quot; width=&quot;3335.74&quot; height=&quot;1886.81&quot; style=&quot;fill:none;stroke:#FFFFFF;stroke-width:5.76&quot;/&gt;\n",
       "\t&lt;line x1=&quot;454.16&quot; y1=&quot;2167.92&quot; x2=&quot;3795.66&quot; y2=&quot;2167.92&quot; style=&quot;stroke:#EAF2F3;stroke-width:8.64&quot;/&gt;\n",
       "\t&lt;line x1=&quot;454.16&quot; y1=&quot;1579.35&quot; x2=&quot;3795.66&quot; y2=&quot;1579.35&quot; style=&quot;stroke:#EAF2F3;stroke-width:8.64&quot;/&gt;\n",
       "\t&lt;line x1=&quot;454.16&quot; y1=&quot;990.65&quot; x2=&quot;3795.66&quot; y2=&quot;990.65&quot; style=&quot;stroke:#EAF2F3;stroke-width:8.64&quot;/&gt;\n",
       "\t&lt;line x1=&quot;454.16&quot; y1=&quot;402.08&quot; x2=&quot;3795.66&quot; y2=&quot;402.08&quot; style=&quot;stroke:#EAF2F3;stroke-width:8.64&quot;/&gt;\n",
       "\t&lt;circle cx=&quot;950.77&quot; cy=&quot;500.46&quot; r=&quot;26.35&quot; style=&quot;fill:#1A476F&quot;/&gt;\n",
       "\t&lt;circle cx=&quot;950.77&quot; cy=&quot;500.46&quot; r=&quot;22.03&quot; style=&quot;fill:none;stroke:#1A476F;stroke-width:8.64&quot;/&gt;\n",
       "\t&lt;text x=&quot;950.77&quot; y=&quot;598.31&quot; style=&quot;font-family:&#x27;Helvetica&#x27;;font-size:79.94px;fill:#1A476f&quot; text-anchor=&quot;middle&quot;&gt;comfort&lt;/text&gt;\n",
       "\t&lt;circle cx=&quot;603.78&quot; cy=&quot;508.13&quot; r=&quot;26.35&quot; style=&quot;fill:#1A476F&quot;/&gt;\n",
       "\t&lt;circle cx=&quot;603.78&quot; cy=&quot;508.13&quot; r=&quot;22.03&quot; style=&quot;fill:none;stroke:#1A476F;stroke-width:8.64&quot;/&gt;\n",
       "\t&lt;text x=&quot;624.81&quot; y=&quot;600.42&quot; style=&quot;font-family:&#x27;Helvetica&#x27;;font-size:79.94px;fill:#1A476f&quot;&gt;makefrnd&lt;/text&gt;\n",
       "\t&lt;circle cx=&quot;3732.42&quot; cy=&quot;1980.31&quot; r=&quot;26.35&quot; style=&quot;fill:#1A476F&quot;/&gt;\n",
       "\t&lt;circle cx=&quot;3732.42&quot; cy=&quot;1980.31&quot; r=&quot;22.03&quot; style=&quot;fill:none;stroke:#1A476F;stroke-width:8.64&quot;/&gt;\n",
       "\t&lt;text x=&quot;3711.39&quot; y=&quot;1943.93&quot; style=&quot;font-family:&#x27;Helvetica&#x27;;font-size:79.94px;fill:#1A476f&quot; text-anchor=&quot;end&quot;&gt;harmony&lt;/text&gt;\n",
       "\t&lt;circle cx=&quot;3717.08&quot; cy=&quot;2086.86&quot; r=&quot;26.35&quot; style=&quot;fill:#1A476F&quot;/&gt;\n",
       "\t&lt;circle cx=&quot;3717.08&quot; cy=&quot;2086.86&quot; r=&quot;22.03&quot; style=&quot;fill:none;stroke:#1A476F;stroke-width:8.64&quot;/&gt;\n",
       "\t&lt;text x=&quot;3696.04&quot; y=&quot;2050.48&quot; style=&quot;font-family:&#x27;Helvetica&#x27;;font-size:79.94px;fill:#1A476f&quot; text-anchor=&quot;end&quot;&gt;tolerant&lt;/text&gt;\n",
       "\t&lt;line x1=&quot;454.16&quot; y1=&quot;2231.28&quot; x2=&quot;454.16&quot; y2=&quot;338.71&quot; style=&quot;stroke:#000000;stroke-width:5.76&quot;/&gt;\n",
       "\t&lt;line x1=&quot;454.16&quot; y1=&quot;2167.92&quot; x2=&quot;414.19&quot; y2=&quot;2167.92&quot; style=&quot;stroke:#000000;stroke-width:5.76&quot;/&gt;\n",
       "\t&lt;text x=&quot;364.08&quot; y=&quot;2167.92&quot; style=&quot;font-family:&#x27;Helvetica&#x27;;font-size:99.99px;fill:#000000&quot; transform=&quot;rotate(-90 364.08,2167.92)&quot; text-anchor=&quot;middle&quot;&gt;0&lt;/text&gt;\n",
       "\t&lt;line x1=&quot;454.16&quot; y1=&quot;1579.35&quot; x2=&quot;414.19&quot; y2=&quot;1579.35&quot; style=&quot;stroke:#000000;stroke-width:5.76&quot;/&gt;\n",
       "\t&lt;text x=&quot;364.08&quot; y=&quot;1579.35&quot; style=&quot;font-family:&#x27;Helvetica&#x27;;font-size:99.99px;fill:#000000&quot; transform=&quot;rotate(-90 364.08,1579.35)&quot; text-anchor=&quot;middle&quot;&gt;.2&lt;/text&gt;\n",
       "\t&lt;line x1=&quot;454.16&quot; y1=&quot;990.65&quot; x2=&quot;414.19&quot; y2=&quot;990.65&quot; style=&quot;stroke:#000000;stroke-width:5.76&quot;/&gt;\n",
       "\t&lt;text x=&quot;364.08&quot; y=&quot;990.65&quot; style=&quot;font-family:&#x27;Helvetica&#x27;;font-size:99.99px;fill:#000000&quot; transform=&quot;rotate(-90 364.08,990.65)&quot; text-anchor=&quot;middle&quot;&gt;.4&lt;/text&gt;\n",
       "\t&lt;line x1=&quot;454.16&quot; y1=&quot;402.08&quot; x2=&quot;414.19&quot; y2=&quot;402.08&quot; style=&quot;stroke:#000000;stroke-width:5.76&quot;/&gt;\n",
       "\t&lt;text x=&quot;364.08&quot; y=&quot;402.08&quot; style=&quot;font-family:&#x27;Helvetica&#x27;;font-size:99.99px;fill:#000000&quot; transform=&quot;rotate(-90 364.08,402.08)&quot; text-anchor=&quot;middle&quot;&gt;.6&lt;/text&gt;\n",
       "\t&lt;text x=&quot;254.07&quot; y=&quot;1285.06&quot; style=&quot;font-family:&#x27;Helvetica&#x27;;font-size:99.99px;fill:#000000&quot; transform=&quot;rotate(-90 254.07,1285.06)&quot; text-anchor=&quot;middle&quot;&gt;Factor 2&lt;/text&gt;\n",
       "\t&lt;line x1=&quot;454.16&quot; y1=&quot;2231.28&quot; x2=&quot;3795.66&quot; y2=&quot;2231.28&quot; style=&quot;stroke:#000000;stroke-width:5.76&quot;/&gt;\n",
       "\t&lt;line x1=&quot;517.52&quot; y1=&quot;2231.28&quot; x2=&quot;517.52&quot; y2=&quot;2271.38&quot; style=&quot;stroke:#000000;stroke-width:5.76&quot;/&gt;\n",
       "\t&lt;text x=&quot;517.52&quot; y=&quot;2361.24&quot; style=&quot;font-family:&#x27;Helvetica&#x27;;font-size:99.99px;fill:#000000&quot; text-anchor=&quot;middle&quot;&gt;0&lt;/text&gt;\n",
       "\t&lt;line x1=&quot;1587.46&quot; y1=&quot;2231.28&quot; x2=&quot;1587.46&quot; y2=&quot;2271.38&quot; style=&quot;stroke:#000000;stroke-width:5.76&quot;/&gt;\n",
       "\t&lt;text x=&quot;1587.46&quot; y=&quot;2361.24&quot; style=&quot;font-family:&#x27;Helvetica&#x27;;font-size:99.99px;fill:#000000&quot; text-anchor=&quot;middle&quot;&gt;.2&lt;/text&gt;\n",
       "\t&lt;line x1=&quot;2657.28&quot; y1=&quot;2231.28&quot; x2=&quot;2657.28&quot; y2=&quot;2271.38&quot; style=&quot;stroke:#000000;stroke-width:5.76&quot;/&gt;\n",
       "\t&lt;text x=&quot;2657.28&quot; y=&quot;2361.24&quot; style=&quot;font-family:&#x27;Helvetica&#x27;;font-size:99.99px;fill:#000000&quot; text-anchor=&quot;middle&quot;&gt;.4&lt;/text&gt;\n",
       "\t&lt;line x1=&quot;3727.23&quot; y1=&quot;2231.28&quot; x2=&quot;3727.23&quot; y2=&quot;2271.38&quot; style=&quot;stroke:#000000;stroke-width:5.76&quot;/&gt;\n",
       "\t&lt;text x=&quot;3727.23&quot; y=&quot;2361.24&quot; style=&quot;font-family:&#x27;Helvetica&#x27;;font-size:99.99px;fill:#000000&quot; text-anchor=&quot;middle&quot;&gt;.6&lt;/text&gt;\n",
       "\t&lt;text x=&quot;2124.91&quot; y=&quot;2471.25&quot; style=&quot;font-family:&#x27;Helvetica&#x27;;font-size:99.99px;fill:#000000&quot; text-anchor=&quot;middle&quot;&gt;Factor 1&lt;/text&gt;\n",
       "\t&lt;text x=&quot;80.69&quot; y=&quot;2695.32&quot; style=&quot;font-family:&#x27;Helvetica&#x27;;font-size:79.94px;fill:#000000&quot;&gt;Rotation: orthogonal varimax&lt;/text&gt;\n",
       "\t&lt;text x=&quot;80.69&quot; y=&quot;2775.27&quot; style=&quot;font-family:&#x27;Helvetica&#x27;;font-size:79.94px;fill:#000000&quot;&gt;Method: principal factors&lt;/text&gt;\n",
       "\t&lt;text x=&quot;1980.00&quot; y=&quot;178.60&quot; style=&quot;font-family:&#x27;Helvetica&#x27;;font-size:139.96px;fill:#1E2D53&quot; text-anchor=&quot;middle&quot;&gt;Factor loadings&lt;/text&gt;\n",
       "&lt;/svg&gt;\n",
       "</body></html>\"></iframe>\n"
      ],
      "text/plain": [
       "This front-end cannot display the desired image type."
      ]
     },
     "metadata": {
      "image/svg+xml": {
       "height": 436,
       "width": 600
      },
      "text/html": {
       "height": 436,
       "width": 600
      }
     },
     "output_type": "display_data"
    },
    {
     "name": "stdout",
     "output_type": "stream",
     "text": [
      "\n",
      "\n"
     ]
    }
   ],
   "source": [
    "quietly factor comfort makefrnd harmony tolerant\n",
    "rotate, varimax\n",
    "loadingplot"
   ]
  },
  {
   "cell_type": "markdown",
   "metadata": {},
   "source": [
    "### Generate scale variables:\n",
    "\n",
    "Based on the factor analysis:\n",
    "\n",
    "* Tolerance and harmony variables are correlated and make sense to combine in a scale.\n",
    "* I'm going to call the tolerance/harmony scale variable **society** because the component variables measure beliefs about the benefits of religion to society\n",
    "* I'm going to call the friend/comfort variables **individual** because they measure beliefs about the benefits of religion to individuals\n",
    "* In both cases, I just calculate the mean of the two component variables:"
   ]
  },
  {
   "cell_type": "code",
   "execution_count": 8,
   "metadata": {},
   "outputs": [
    {
     "name": "stdout",
     "output_type": "stream",
     "text": [
      "\n",
      "(1,192 missing values generated)\n",
      "\n",
      "(1,212 missing values generated)\n"
     ]
    }
   ],
   "source": [
    "gen individual=(makefrnd+comfort)/2\n",
    "gen society=(harmony+tolerant)/2"
   ]
  },
  {
   "cell_type": "markdown",
   "metadata": {},
   "source": [
    "### Abortion factor analysis and scales\n",
    "\n",
    "* The following code replicates Treiman's factor analysis of abortion beliefs\n",
    "* It constructs two scales for support of abortion in **therapeutic** cases and in **personal preference** cases"
   ]
  },
  {
   "cell_type": "code",
   "execution_count": 9,
   "metadata": {},
   "outputs": [
    {
     "name": "stdout",
     "output_type": "stream",
     "text": [
      "\n",
      "\n",
      "\n",
      "\n",
      "Factor analysis/correlation                      Number of obs    =      1,386\n",
      "    Method: principal factors                    Retained factors =          2\n",
      "    Rotation: orthogonal varimax (Kaiser off)    Number of params =         13\n",
      "\n",
      "    --------------------------------------------------------------------------\n",
      "         Factor  |     Variance   Difference        Proportion   Cumulative\n",
      "    -------------+------------------------------------------------------------\n",
      "        Factor1  |      3.15600      1.73613            0.7609       0.7609\n",
      "        Factor2  |      1.41986            .            0.3423       1.1033\n",
      "    --------------------------------------------------------------------------\n",
      "    LR test: independent vs. saturated:  chi2(21) = 6374.10 Prob>chi2 = 0.0000\n",
      "\n",
      "Rotated factor loadings (pattern matrix) and unique variances\n",
      "\n",
      "    -------------------------------------------------\n",
      "        Variable |  Factor1   Factor2 |   Uniqueness \n",
      "    -------------+--------------------+--------------\n",
      "        abdefect |   0.3911    0.6124 |      0.4721  \n",
      "        abnomore |   0.8287    0.2575 |      0.2469  \n",
      "          abhlth |   0.2057    0.6492 |      0.5362  \n",
      "          abpoor |   0.8550    0.2331 |      0.2146  \n",
      "          abrape |   0.3895    0.6235 |      0.4595  \n",
      "        absingle |   0.8813    0.2026 |      0.1823  \n",
      "           abany |   0.7839    0.2700 |      0.3126  \n",
      "    -------------------------------------------------\n",
      "\n",
      "Factor rotation matrix\n",
      "\n",
      "    --------------------------------\n",
      "                 | Factor1  Factor2 \n",
      "    -------------+------------------\n",
      "         Factor1 |  0.8723   0.4889 \n",
      "         Factor2 | -0.4889   0.8723 \n",
      "    --------------------------------\n"
     ]
    },
    {
     "data": {
      "application/pdf": "[encoded data removed]",
      "image/svg+xml": [
       "<?xml version=\"1.0\" encoding=\"UTF-8\" standalone=\"no\"?>\n",
       "<!-- This is a Stata 15.1 generated SVG file (http://www.stata.com) -->\n",
       "\n",
       "<svg version=\"1.1\" width=\"600px\" height=\"436px\" viewBox=\"0 0 3960 2880\" xmlns=\"http://www.w3.org/2000/svg\" xmlns:xlink=\"http://www.w3.org/1999/xlink\">\n",
       "\t<desc>Stata Graph - Graph</desc>\n",
       "\t<rect x=\"0\" y=\"0\" width=\"3960\" height=\"2880\" style=\"fill:#EAF2F3;stroke:none\"/>\n",
       "\t<rect x=\"0.00\" y=\"0.00\" width=\"3959.88\" height=\"2880.00\" style=\"fill:#EAF2F3\"/>\n",
       "\t<rect x=\"2.88\" y=\"2.88\" width=\"3954.12\" height=\"2874.24\" style=\"fill:none;stroke:#EAF2F3;stroke-width:5.76\"/>\n",
       "\t<rect x=\"63.36\" y=\"237.98\" width=\"3833.16\" height=\"2384.12\" style=\"fill:#EAF2F3\"/>\n",
       "\t<rect x=\"66.24\" y=\"240.86\" width=\"3827.40\" height=\"2378.36\" style=\"fill:none;stroke:#EAF2F3;stroke-width:5.76\"/>\n",
       "\t<rect x=\"454.16\" y=\"338.71\" width=\"3341.50\" height=\"1892.57\" style=\"fill:#FFFFFF\"/>\n",
       "\t<rect x=\"457.04\" y=\"341.59\" width=\"3335.74\" height=\"1886.81\" style=\"fill:none;stroke:#FFFFFF;stroke-width:5.76\"/>\n",
       "\t<line x1=\"454.16\" y1=\"2167.92\" x2=\"3795.66\" y2=\"2167.92\" style=\"stroke:#EAF2F3;stroke-width:8.64\"/>\n",
       "\t<line x1=\"454.16\" y1=\"1814.85\" x2=\"3795.66\" y2=\"1814.85\" style=\"stroke:#EAF2F3;stroke-width:8.64\"/>\n",
       "\t<line x1=\"454.16\" y1=\"1461.66\" x2=\"3795.66\" y2=\"1461.66\" style=\"stroke:#EAF2F3;stroke-width:8.64\"/>\n",
       "\t<line x1=\"454.16\" y1=\"1108.46\" x2=\"3795.66\" y2=\"1108.46\" style=\"stroke:#EAF2F3;stroke-width:8.64\"/>\n",
       "\t<line x1=\"454.16\" y1=\"755.27\" x2=\"3795.66\" y2=\"755.27\" style=\"stroke:#EAF2F3;stroke-width:8.64\"/>\n",
       "\t<line x1=\"454.16\" y1=\"402.08\" x2=\"3795.66\" y2=\"402.08\" style=\"stroke:#EAF2F3;stroke-width:8.64\"/>\n",
       "\t<circle cx=\"1285.27\" cy=\"711.58\" r=\"26.35\" style=\"fill:#1A476F\"/>\n",
       "\t<circle cx=\"1285.27\" cy=\"711.58\" r=\"22.03\" style=\"fill:none;stroke:#1A476F;stroke-width:8.64\"/>\n",
       "\t<text x=\"1285.27\" y=\"809.44\" style=\"font-family:'Helvetica';font-size:79.94px;fill:#1A476f\" text-anchor=\"middle\">abdefect</text>\n",
       "\t<circle cx=\"3044.13\" cy=\"1964.84\" r=\"26.35\" style=\"fill:#1A476F\"/>\n",
       "\t<circle cx=\"3044.13\" cy=\"1964.84\" r=\"22.03\" style=\"fill:none;stroke:#1A476F;stroke-width:8.64\"/>\n",
       "\t<text x=\"3002.18\" y=\"1992.85\" style=\"font-family:'Helvetica';font-size:79.94px;fill:#1A476f\" text-anchor=\"end\">abnomore</text>\n",
       "\t<circle cx=\"540.29\" cy=\"581.52\" r=\"26.35\" style=\"fill:#1A476F\"/>\n",
       "\t<circle cx=\"540.29\" cy=\"581.52\" r=\"22.03\" style=\"fill:none;stroke:#1A476F;stroke-width:8.64\"/>\n",
       "\t<text x=\"561.33\" y=\"673.80\" style=\"font-family:'Helvetica';font-size:79.94px;fill:#1A476f\">abhlth</text>\n",
       "\t<circle cx=\"3149.81\" cy=\"2050.97\" r=\"26.35\" style=\"fill:#1A476F\"/>\n",
       "\t<circle cx=\"3149.81\" cy=\"2050.97\" r=\"22.03\" style=\"fill:none;stroke:#1A476F;stroke-width:8.64\"/>\n",
       "\t<text x=\"3128.77\" y=\"2014.59\" style=\"font-family:'Helvetica';font-size:79.94px;fill:#1A476f\" text-anchor=\"end\">abpoor</text>\n",
       "\t<circle cx=\"1279.20\" cy=\"672.23\" r=\"26.35\" style=\"fill:#1A476F\"/>\n",
       "\t<circle cx=\"1279.20\" cy=\"672.23\" r=\"22.03\" style=\"fill:none;stroke:#1A476F;stroke-width:8.64\"/>\n",
       "\t<text x=\"1279.20\" y=\"770.08\" style=\"font-family:'Helvetica';font-size:79.94px;fill:#1A476f\" text-anchor=\"middle\">abrape</text>\n",
       "\t<circle cx=\"3255.24\" cy=\"2158.76\" r=\"26.35\" style=\"fill:#1A476F\"/>\n",
       "\t<circle cx=\"3255.24\" cy=\"2158.76\" r=\"22.03\" style=\"fill:none;stroke:#1A476F;stroke-width:8.64\"/>\n",
       "\t<text x=\"3234.21\" y=\"2122.38\" style=\"font-family:'Helvetica';font-size:79.94px;fill:#1A476f\" text-anchor=\"end\">absingle</text>\n",
       "\t<circle cx=\"2863.82\" cy=\"1920.66\" r=\"26.35\" style=\"fill:#1A476F\"/>\n",
       "\t<circle cx=\"2863.82\" cy=\"1920.66\" r=\"22.03\" style=\"fill:none;stroke:#1A476F;stroke-width:8.64\"/>\n",
       "\t<text x=\"2863.82\" y=\"2018.51\" style=\"font-family:'Helvetica';font-size:79.94px;fill:#1A476f\" text-anchor=\"middle\">abany</text>\n",
       "\t<line x1=\"454.16\" y1=\"2231.28\" x2=\"454.16\" y2=\"338.71\" style=\"stroke:#000000;stroke-width:5.76\"/>\n",
       "\t<line x1=\"454.16\" y1=\"2167.92\" x2=\"414.19\" y2=\"2167.92\" style=\"stroke:#000000;stroke-width:5.76\"/>\n",
       "\t<text x=\"364.08\" y=\"2167.92\" style=\"font-family:'Helvetica';font-size:99.99px;fill:#000000\" transform=\"rotate(-90 364.08,2167.92)\" text-anchor=\"middle\">.2</text>\n",
       "\t<line x1=\"454.16\" y1=\"1814.85\" x2=\"414.19\" y2=\"1814.85\" style=\"stroke:#000000;stroke-width:5.76\"/>\n",
       "\t<text x=\"364.08\" y=\"1814.85\" style=\"font-family:'Helvetica';font-size:99.99px;fill:#000000\" transform=\"rotate(-90 364.08,1814.85)\" text-anchor=\"middle\">.3</text>\n",
       "\t<line x1=\"454.16\" y1=\"1461.66\" x2=\"414.19\" y2=\"1461.66\" style=\"stroke:#000000;stroke-width:5.76\"/>\n",
       "\t<text x=\"364.08\" y=\"1461.66\" style=\"font-family:'Helvetica';font-size:99.99px;fill:#000000\" transform=\"rotate(-90 364.08,1461.66)\" text-anchor=\"middle\">.4</text>\n",
       "\t<line x1=\"454.16\" y1=\"1108.46\" x2=\"414.19\" y2=\"1108.46\" style=\"stroke:#000000;stroke-width:5.76\"/>\n",
       "\t<text x=\"364.08\" y=\"1108.46\" style=\"font-family:'Helvetica';font-size:99.99px;fill:#000000\" transform=\"rotate(-90 364.08,1108.46)\" text-anchor=\"middle\">.5</text>\n",
       "\t<line x1=\"454.16\" y1=\"755.27\" x2=\"414.19\" y2=\"755.27\" style=\"stroke:#000000;stroke-width:5.76\"/>\n",
       "\t<text x=\"364.08\" y=\"755.27\" style=\"font-family:'Helvetica';font-size:99.99px;fill:#000000\" transform=\"rotate(-90 364.08,755.27)\" text-anchor=\"middle\">.6</text>\n",
       "\t<line x1=\"454.16\" y1=\"402.08\" x2=\"414.19\" y2=\"402.08\" style=\"stroke:#000000;stroke-width:5.76\"/>\n",
       "\t<text x=\"364.08\" y=\"402.08\" style=\"font-family:'Helvetica';font-size:99.99px;fill:#000000\" transform=\"rotate(-90 364.08,402.08)\" text-anchor=\"middle\">.7</text>\n",
       "\t<text x=\"254.07\" y=\"1285.06\" style=\"font-family:'Helvetica';font-size:99.99px;fill:#000000\" transform=\"rotate(-90 254.07,1285.06)\" text-anchor=\"middle\">Factor 2</text>\n",
       "\t<line x1=\"454.16\" y1=\"2231.28\" x2=\"3795.66\" y2=\"2231.28\" style=\"stroke:#000000;stroke-width:5.76\"/>\n",
       "\t<line x1=\"517.52\" y1=\"2231.28\" x2=\"517.52\" y2=\"2271.38\" style=\"stroke:#000000;stroke-width:5.76\"/>\n",
       "\t<text x=\"517.52\" y=\"2361.24\" style=\"font-family:'Helvetica';font-size:99.99px;fill:#000000\" text-anchor=\"middle\">.2</text>\n",
       "\t<line x1=\"1321.15\" y1=\"2231.28\" x2=\"1321.15\" y2=\"2271.38\" style=\"stroke:#000000;stroke-width:5.76\"/>\n",
       "\t<text x=\"1321.15\" y=\"2361.24\" style=\"font-family:'Helvetica';font-size:99.99px;fill:#000000\" text-anchor=\"middle\">.4</text>\n",
       "\t<line x1=\"2124.91\" y1=\"2231.28\" x2=\"2124.91\" y2=\"2271.38\" style=\"stroke:#000000;stroke-width:5.76\"/>\n",
       "\t<text x=\"2124.91\" y=\"2361.24\" style=\"font-family:'Helvetica';font-size:99.99px;fill:#000000\" text-anchor=\"middle\">.6</text>\n",
       "\t<line x1=\"2928.67\" y1=\"2231.28\" x2=\"2928.67\" y2=\"2271.38\" style=\"stroke:#000000;stroke-width:5.76\"/>\n",
       "\t<text x=\"2928.67\" y=\"2361.24\" style=\"font-family:'Helvetica';font-size:99.99px;fill:#000000\" text-anchor=\"middle\">.8</text>\n",
       "\t<line x1=\"3732.42\" y1=\"2231.28\" x2=\"3732.42\" y2=\"2271.38\" style=\"stroke:#000000;stroke-width:5.76\"/>\n",
       "\t<text x=\"3732.42\" y=\"2361.24\" style=\"font-family:'Helvetica';font-size:99.99px;fill:#000000\" text-anchor=\"middle\">1</text>\n",
       "\t<text x=\"2124.91\" y=\"2471.25\" style=\"font-family:'Helvetica';font-size:99.99px;fill:#000000\" text-anchor=\"middle\">Factor 1</text>\n",
       "\t<text x=\"80.69\" y=\"2695.32\" style=\"font-family:'Helvetica';font-size:79.94px;fill:#000000\">Rotation: orthogonal varimax</text>\n",
       "\t<text x=\"80.69\" y=\"2775.27\" style=\"font-family:'Helvetica';font-size:79.94px;fill:#000000\">Method: principal factors</text>\n",
       "\t<text x=\"1980.00\" y=\"178.60\" style=\"font-family:'Helvetica';font-size:139.96px;fill:#1E2D53\" text-anchor=\"middle\">Factor loadings</text>\n",
       "</svg>\n"
      ],
      "text/html": [
       "                <iframe frameborder=\"0\" scrolling=\"no\" height=\"436\" width=\"600\"                srcdoc=\"<html><body>&lt;?xml version=&quot;1.0&quot; encoding=&quot;UTF-8&quot; standalone=&quot;no&quot;?&gt;\n",
       "&lt;!-- This is a Stata 15.1 generated SVG file (http://www.stata.com) --&gt;\n",
       "\n",
       "&lt;svg version=&quot;1.1&quot; width=&quot;600px&quot; height=&quot;436px&quot; viewBox=&quot;0 0 3960 2880&quot; xmlns=&quot;http://www.w3.org/2000/svg&quot; xmlns:xlink=&quot;http://www.w3.org/1999/xlink&quot;&gt;\n",
       "\t&lt;desc&gt;Stata Graph - Graph&lt;/desc&gt;\n",
       "\t&lt;rect x=&quot;0&quot; y=&quot;0&quot; width=&quot;3960&quot; height=&quot;2880&quot; style=&quot;fill:#EAF2F3;stroke:none&quot;/&gt;\n",
       "\t&lt;rect x=&quot;0.00&quot; y=&quot;0.00&quot; width=&quot;3959.88&quot; height=&quot;2880.00&quot; style=&quot;fill:#EAF2F3&quot;/&gt;\n",
       "\t&lt;rect x=&quot;2.88&quot; y=&quot;2.88&quot; width=&quot;3954.12&quot; height=&quot;2874.24&quot; style=&quot;fill:none;stroke:#EAF2F3;stroke-width:5.76&quot;/&gt;\n",
       "\t&lt;rect x=&quot;63.36&quot; y=&quot;237.98&quot; width=&quot;3833.16&quot; height=&quot;2384.12&quot; style=&quot;fill:#EAF2F3&quot;/&gt;\n",
       "\t&lt;rect x=&quot;66.24&quot; y=&quot;240.86&quot; width=&quot;3827.40&quot; height=&quot;2378.36&quot; style=&quot;fill:none;stroke:#EAF2F3;stroke-width:5.76&quot;/&gt;\n",
       "\t&lt;rect x=&quot;454.16&quot; y=&quot;338.71&quot; width=&quot;3341.50&quot; height=&quot;1892.57&quot; style=&quot;fill:#FFFFFF&quot;/&gt;\n",
       "\t&lt;rect x=&quot;457.04&quot; y=&quot;341.59&quot; width=&quot;3335.74&quot; height=&quot;1886.81&quot; style=&quot;fill:none;stroke:#FFFFFF;stroke-width:5.76&quot;/&gt;\n",
       "\t&lt;line x1=&quot;454.16&quot; y1=&quot;2167.92&quot; x2=&quot;3795.66&quot; y2=&quot;2167.92&quot; style=&quot;stroke:#EAF2F3;stroke-width:8.64&quot;/&gt;\n",
       "\t&lt;line x1=&quot;454.16&quot; y1=&quot;1814.85&quot; x2=&quot;3795.66&quot; y2=&quot;1814.85&quot; style=&quot;stroke:#EAF2F3;stroke-width:8.64&quot;/&gt;\n",
       "\t&lt;line x1=&quot;454.16&quot; y1=&quot;1461.66&quot; x2=&quot;3795.66&quot; y2=&quot;1461.66&quot; style=&quot;stroke:#EAF2F3;stroke-width:8.64&quot;/&gt;\n",
       "\t&lt;line x1=&quot;454.16&quot; y1=&quot;1108.46&quot; x2=&quot;3795.66&quot; y2=&quot;1108.46&quot; style=&quot;stroke:#EAF2F3;stroke-width:8.64&quot;/&gt;\n",
       "\t&lt;line x1=&quot;454.16&quot; y1=&quot;755.27&quot; x2=&quot;3795.66&quot; y2=&quot;755.27&quot; style=&quot;stroke:#EAF2F3;stroke-width:8.64&quot;/&gt;\n",
       "\t&lt;line x1=&quot;454.16&quot; y1=&quot;402.08&quot; x2=&quot;3795.66&quot; y2=&quot;402.08&quot; style=&quot;stroke:#EAF2F3;stroke-width:8.64&quot;/&gt;\n",
       "\t&lt;circle cx=&quot;1285.27&quot; cy=&quot;711.58&quot; r=&quot;26.35&quot; style=&quot;fill:#1A476F&quot;/&gt;\n",
       "\t&lt;circle cx=&quot;1285.27&quot; cy=&quot;711.58&quot; r=&quot;22.03&quot; style=&quot;fill:none;stroke:#1A476F;stroke-width:8.64&quot;/&gt;\n",
       "\t&lt;text x=&quot;1285.27&quot; y=&quot;809.44&quot; style=&quot;font-family:&#x27;Helvetica&#x27;;font-size:79.94px;fill:#1A476f&quot; text-anchor=&quot;middle&quot;&gt;abdefect&lt;/text&gt;\n",
       "\t&lt;circle cx=&quot;3044.13&quot; cy=&quot;1964.84&quot; r=&quot;26.35&quot; style=&quot;fill:#1A476F&quot;/&gt;\n",
       "\t&lt;circle cx=&quot;3044.13&quot; cy=&quot;1964.84&quot; r=&quot;22.03&quot; style=&quot;fill:none;stroke:#1A476F;stroke-width:8.64&quot;/&gt;\n",
       "\t&lt;text x=&quot;3002.18&quot; y=&quot;1992.85&quot; style=&quot;font-family:&#x27;Helvetica&#x27;;font-size:79.94px;fill:#1A476f&quot; text-anchor=&quot;end&quot;&gt;abnomore&lt;/text&gt;\n",
       "\t&lt;circle cx=&quot;540.29&quot; cy=&quot;581.52&quot; r=&quot;26.35&quot; style=&quot;fill:#1A476F&quot;/&gt;\n",
       "\t&lt;circle cx=&quot;540.29&quot; cy=&quot;581.52&quot; r=&quot;22.03&quot; style=&quot;fill:none;stroke:#1A476F;stroke-width:8.64&quot;/&gt;\n",
       "\t&lt;text x=&quot;561.33&quot; y=&quot;673.80&quot; style=&quot;font-family:&#x27;Helvetica&#x27;;font-size:79.94px;fill:#1A476f&quot;&gt;abhlth&lt;/text&gt;\n",
       "\t&lt;circle cx=&quot;3149.81&quot; cy=&quot;2050.97&quot; r=&quot;26.35&quot; style=&quot;fill:#1A476F&quot;/&gt;\n",
       "\t&lt;circle cx=&quot;3149.81&quot; cy=&quot;2050.97&quot; r=&quot;22.03&quot; style=&quot;fill:none;stroke:#1A476F;stroke-width:8.64&quot;/&gt;\n",
       "\t&lt;text x=&quot;3128.77&quot; y=&quot;2014.59&quot; style=&quot;font-family:&#x27;Helvetica&#x27;;font-size:79.94px;fill:#1A476f&quot; text-anchor=&quot;end&quot;&gt;abpoor&lt;/text&gt;\n",
       "\t&lt;circle cx=&quot;1279.20&quot; cy=&quot;672.23&quot; r=&quot;26.35&quot; style=&quot;fill:#1A476F&quot;/&gt;\n",
       "\t&lt;circle cx=&quot;1279.20&quot; cy=&quot;672.23&quot; r=&quot;22.03&quot; style=&quot;fill:none;stroke:#1A476F;stroke-width:8.64&quot;/&gt;\n",
       "\t&lt;text x=&quot;1279.20&quot; y=&quot;770.08&quot; style=&quot;font-family:&#x27;Helvetica&#x27;;font-size:79.94px;fill:#1A476f&quot; text-anchor=&quot;middle&quot;&gt;abrape&lt;/text&gt;\n",
       "\t&lt;circle cx=&quot;3255.24&quot; cy=&quot;2158.76&quot; r=&quot;26.35&quot; style=&quot;fill:#1A476F&quot;/&gt;\n",
       "\t&lt;circle cx=&quot;3255.24&quot; cy=&quot;2158.76&quot; r=&quot;22.03&quot; style=&quot;fill:none;stroke:#1A476F;stroke-width:8.64&quot;/&gt;\n",
       "\t&lt;text x=&quot;3234.21&quot; y=&quot;2122.38&quot; style=&quot;font-family:&#x27;Helvetica&#x27;;font-size:79.94px;fill:#1A476f&quot; text-anchor=&quot;end&quot;&gt;absingle&lt;/text&gt;\n",
       "\t&lt;circle cx=&quot;2863.82&quot; cy=&quot;1920.66&quot; r=&quot;26.35&quot; style=&quot;fill:#1A476F&quot;/&gt;\n",
       "\t&lt;circle cx=&quot;2863.82&quot; cy=&quot;1920.66&quot; r=&quot;22.03&quot; style=&quot;fill:none;stroke:#1A476F;stroke-width:8.64&quot;/&gt;\n",
       "\t&lt;text x=&quot;2863.82&quot; y=&quot;2018.51&quot; style=&quot;font-family:&#x27;Helvetica&#x27;;font-size:79.94px;fill:#1A476f&quot; text-anchor=&quot;middle&quot;&gt;abany&lt;/text&gt;\n",
       "\t&lt;line x1=&quot;454.16&quot; y1=&quot;2231.28&quot; x2=&quot;454.16&quot; y2=&quot;338.71&quot; style=&quot;stroke:#000000;stroke-width:5.76&quot;/&gt;\n",
       "\t&lt;line x1=&quot;454.16&quot; y1=&quot;2167.92&quot; x2=&quot;414.19&quot; y2=&quot;2167.92&quot; style=&quot;stroke:#000000;stroke-width:5.76&quot;/&gt;\n",
       "\t&lt;text x=&quot;364.08&quot; y=&quot;2167.92&quot; style=&quot;font-family:&#x27;Helvetica&#x27;;font-size:99.99px;fill:#000000&quot; transform=&quot;rotate(-90 364.08,2167.92)&quot; text-anchor=&quot;middle&quot;&gt;.2&lt;/text&gt;\n",
       "\t&lt;line x1=&quot;454.16&quot; y1=&quot;1814.85&quot; x2=&quot;414.19&quot; y2=&quot;1814.85&quot; style=&quot;stroke:#000000;stroke-width:5.76&quot;/&gt;\n",
       "\t&lt;text x=&quot;364.08&quot; y=&quot;1814.85&quot; style=&quot;font-family:&#x27;Helvetica&#x27;;font-size:99.99px;fill:#000000&quot; transform=&quot;rotate(-90 364.08,1814.85)&quot; text-anchor=&quot;middle&quot;&gt;.3&lt;/text&gt;\n",
       "\t&lt;line x1=&quot;454.16&quot; y1=&quot;1461.66&quot; x2=&quot;414.19&quot; y2=&quot;1461.66&quot; style=&quot;stroke:#000000;stroke-width:5.76&quot;/&gt;\n",
       "\t&lt;text x=&quot;364.08&quot; y=&quot;1461.66&quot; style=&quot;font-family:&#x27;Helvetica&#x27;;font-size:99.99px;fill:#000000&quot; transform=&quot;rotate(-90 364.08,1461.66)&quot; text-anchor=&quot;middle&quot;&gt;.4&lt;/text&gt;\n",
       "\t&lt;line x1=&quot;454.16&quot; y1=&quot;1108.46&quot; x2=&quot;414.19&quot; y2=&quot;1108.46&quot; style=&quot;stroke:#000000;stroke-width:5.76&quot;/&gt;\n",
       "\t&lt;text x=&quot;364.08&quot; y=&quot;1108.46&quot; style=&quot;font-family:&#x27;Helvetica&#x27;;font-size:99.99px;fill:#000000&quot; transform=&quot;rotate(-90 364.08,1108.46)&quot; text-anchor=&quot;middle&quot;&gt;.5&lt;/text&gt;\n",
       "\t&lt;line x1=&quot;454.16&quot; y1=&quot;755.27&quot; x2=&quot;414.19&quot; y2=&quot;755.27&quot; style=&quot;stroke:#000000;stroke-width:5.76&quot;/&gt;\n",
       "\t&lt;text x=&quot;364.08&quot; y=&quot;755.27&quot; style=&quot;font-family:&#x27;Helvetica&#x27;;font-size:99.99px;fill:#000000&quot; transform=&quot;rotate(-90 364.08,755.27)&quot; text-anchor=&quot;middle&quot;&gt;.6&lt;/text&gt;\n",
       "\t&lt;line x1=&quot;454.16&quot; y1=&quot;402.08&quot; x2=&quot;414.19&quot; y2=&quot;402.08&quot; style=&quot;stroke:#000000;stroke-width:5.76&quot;/&gt;\n",
       "\t&lt;text x=&quot;364.08&quot; y=&quot;402.08&quot; style=&quot;font-family:&#x27;Helvetica&#x27;;font-size:99.99px;fill:#000000&quot; transform=&quot;rotate(-90 364.08,402.08)&quot; text-anchor=&quot;middle&quot;&gt;.7&lt;/text&gt;\n",
       "\t&lt;text x=&quot;254.07&quot; y=&quot;1285.06&quot; style=&quot;font-family:&#x27;Helvetica&#x27;;font-size:99.99px;fill:#000000&quot; transform=&quot;rotate(-90 254.07,1285.06)&quot; text-anchor=&quot;middle&quot;&gt;Factor 2&lt;/text&gt;\n",
       "\t&lt;line x1=&quot;454.16&quot; y1=&quot;2231.28&quot; x2=&quot;3795.66&quot; y2=&quot;2231.28&quot; style=&quot;stroke:#000000;stroke-width:5.76&quot;/&gt;\n",
       "\t&lt;line x1=&quot;517.52&quot; y1=&quot;2231.28&quot; x2=&quot;517.52&quot; y2=&quot;2271.38&quot; style=&quot;stroke:#000000;stroke-width:5.76&quot;/&gt;\n",
       "\t&lt;text x=&quot;517.52&quot; y=&quot;2361.24&quot; style=&quot;font-family:&#x27;Helvetica&#x27;;font-size:99.99px;fill:#000000&quot; text-anchor=&quot;middle&quot;&gt;.2&lt;/text&gt;\n",
       "\t&lt;line x1=&quot;1321.15&quot; y1=&quot;2231.28&quot; x2=&quot;1321.15&quot; y2=&quot;2271.38&quot; style=&quot;stroke:#000000;stroke-width:5.76&quot;/&gt;\n",
       "\t&lt;text x=&quot;1321.15&quot; y=&quot;2361.24&quot; style=&quot;font-family:&#x27;Helvetica&#x27;;font-size:99.99px;fill:#000000&quot; text-anchor=&quot;middle&quot;&gt;.4&lt;/text&gt;\n",
       "\t&lt;line x1=&quot;2124.91&quot; y1=&quot;2231.28&quot; x2=&quot;2124.91&quot; y2=&quot;2271.38&quot; style=&quot;stroke:#000000;stroke-width:5.76&quot;/&gt;\n",
       "\t&lt;text x=&quot;2124.91&quot; y=&quot;2361.24&quot; style=&quot;font-family:&#x27;Helvetica&#x27;;font-size:99.99px;fill:#000000&quot; text-anchor=&quot;middle&quot;&gt;.6&lt;/text&gt;\n",
       "\t&lt;line x1=&quot;2928.67&quot; y1=&quot;2231.28&quot; x2=&quot;2928.67&quot; y2=&quot;2271.38&quot; style=&quot;stroke:#000000;stroke-width:5.76&quot;/&gt;\n",
       "\t&lt;text x=&quot;2928.67&quot; y=&quot;2361.24&quot; style=&quot;font-family:&#x27;Helvetica&#x27;;font-size:99.99px;fill:#000000&quot; text-anchor=&quot;middle&quot;&gt;.8&lt;/text&gt;\n",
       "\t&lt;line x1=&quot;3732.42&quot; y1=&quot;2231.28&quot; x2=&quot;3732.42&quot; y2=&quot;2271.38&quot; style=&quot;stroke:#000000;stroke-width:5.76&quot;/&gt;\n",
       "\t&lt;text x=&quot;3732.42&quot; y=&quot;2361.24&quot; style=&quot;font-family:&#x27;Helvetica&#x27;;font-size:99.99px;fill:#000000&quot; text-anchor=&quot;middle&quot;&gt;1&lt;/text&gt;\n",
       "\t&lt;text x=&quot;2124.91&quot; y=&quot;2471.25&quot; style=&quot;font-family:&#x27;Helvetica&#x27;;font-size:99.99px;fill:#000000&quot; text-anchor=&quot;middle&quot;&gt;Factor 1&lt;/text&gt;\n",
       "\t&lt;text x=&quot;80.69&quot; y=&quot;2695.32&quot; style=&quot;font-family:&#x27;Helvetica&#x27;;font-size:79.94px;fill:#000000&quot;&gt;Rotation: orthogonal varimax&lt;/text&gt;\n",
       "\t&lt;text x=&quot;80.69&quot; y=&quot;2775.27&quot; style=&quot;font-family:&#x27;Helvetica&#x27;;font-size:79.94px;fill:#000000&quot;&gt;Method: principal factors&lt;/text&gt;\n",
       "\t&lt;text x=&quot;1980.00&quot; y=&quot;178.60&quot; style=&quot;font-family:&#x27;Helvetica&#x27;;font-size:139.96px;fill:#1E2D53&quot; text-anchor=&quot;middle&quot;&gt;Factor loadings&lt;/text&gt;\n",
       "&lt;/svg&gt;\n",
       "</body></html>\"></iframe>\n"
      ],
      "text/plain": [
       "This front-end cannot display the desired image type."
      ]
     },
     "metadata": {
      "image/svg+xml": {
       "height": 436,
       "width": 600
      },
      "text/html": {
       "height": 436,
       "width": 600
      }
     },
     "output_type": "display_data"
    },
    {
     "name": "stdout",
     "output_type": "stream",
     "text": [
      "\n",
      "\n",
      "\n",
      "(884 missing values generated)\n",
      "\n",
      "(905 missing values generated)\n",
      "\n",
      "\n",
      "    Variable |        Obs        Mean    Std. Dev.       Min        Max\n",
      "-------------+---------------------------------------------------------\n",
      "    personal |      1,464    .5015369    .4567292          0          1\n",
      " therapeutic |      1,443    .1704782    .3089263          0          1\n"
     ]
    }
   ],
   "source": [
    "foreach var in abdefect abnomore abhlth abpoor abrape absingle abany {\n",
    "quietly replace `var'=`var'-1\n",
    "}\n",
    "quietly factor abdefect abnomore abhlth abpoor abrape absingle abany\n",
    "rotate, varimax\n",
    "loadingplot\n",
    "gen personal=(abnomore+abpoor+absingle+abany)/4\n",
    "gen therapeutic=(abdefect+abhlth+abrape)/3\n",
    "sum personal therapeutic"
   ]
  },
  {
   "cell_type": "markdown",
   "metadata": {},
   "source": [
    "### Standardizing religion and abortion scales\n",
    "\n",
    "* The following code standardizes the religion and abortion scales\n",
    "* Following Treiman, I standardize each scale to range from 0 to 1"
   ]
  },
  {
   "cell_type": "code",
   "execution_count": 13,
   "metadata": {},
   "outputs": [
    {
     "name": "stdout",
     "output_type": "stream",
     "text": [
      "\n",
      "    Variable |        Obs        Mean    Std. Dev.       Min        Max\n",
      "-------------+---------------------------------------------------------\n",
      "  individual |      1,156    .2308607    .1659576          0          1\n",
      "     society |      1,136     .618728    .2300444          0          1\n",
      "     society |      1,136     .618728    .2300444          0          1\n",
      "    makefrnd |      1,157    .2945117    .2229436          0          1\n",
      "     comfort |      1,162     .167599    .1667896          0          1\n",
      "-------------+---------------------------------------------------------\n",
      "     harmony |      1,144    .5981206    .2785311          0          1\n",
      "    tolerant |      1,157    .6367761    .2558446          0          1\n"
     ]
    }
   ],
   "source": [
    "foreach var in individual society makefrnd comfort harmony tolerant {\n",
    "quietly replace `var'=`var'-1\n",
    "quietly replace `var'=`var'/4 if `var'!=0\n",
    "}\n",
    "sum individual society society makefrnd comfort harmony tolerant"
   ]
  },
  {
   "cell_type": "markdown",
   "metadata": {},
   "source": [
    "### 4. Regression and scale testing\n",
    "\n",
    "* Good reliability tests of scales are as dependent (DV) and independent (IV) variables in regression models\n",
    "* The direction of regression coefficients for scales should be the same as for their components\n",
    "* E.g. the following regresses the abortion (DVs) on on the two religion scales (IVs) in models 1 & 2 and on the component parts of the religion scales (IVs) in models 3 and 4\n",
    "* Are all of the regression coefficients of the component parts in the same direction?\n",
    "* What does this reveal about differences in influence on types of abortion supported (DVs) of the individual vs society beliefs about religion?"
   ]
  },
  {
   "cell_type": "code",
   "execution_count": 11,
   "metadata": {},
   "outputs": [
    {
     "name": "stdout",
     "output_type": "stream",
     "text": [
      "\n",
      "\n",
      ". esttab , stats(r2 N, labels(\"R-Sqaured\" \"N\")) cells(b(star fmt(2)) se(fmt(2) par)) stardetach   legend starlevels(^ .1 * .05 ** .01 *** .001) mlabels(\"personal\" \"therapeutic\" \"personal\" \"therapeutic\n",
      "> \") collabels(none) keep(individual society makefrnd comfort harmony tolerant)\n",
      "\n",
      "--------------------------------------------------------------------------------\n",
      "                      (1)              (2)              (3)              (4)    \n",
      "                 personal      therapeutic         personal      therapeutic    \n",
      "--------------------------------------------------------------------------------\n",
      "individual          -0.10            -0.17 **                                   \n",
      "                   (0.11)           (0.06)                                      \n",
      "society             -0.34 ***        -0.21 ***                                  \n",
      "                   (0.07)           (0.05)                                      \n",
      "makefrnd                                               0.00            -0.09 ^  \n",
      "                                                     (0.08)           (0.05)    \n",
      "comfort                                               -0.14            -0.07    \n",
      "                                                     (0.12)           (0.08)    \n",
      "harmony                                               -0.08            -0.09 ^  \n",
      "                                                     (0.07)           (0.05)    \n",
      "tolerant                                              -0.27 ***        -0.13 *  \n",
      "                                                     (0.08)           (0.05)    \n",
      "--------------------------------------------------------------------------------\n",
      "R-Sqaured            0.09             0.06             0.09             0.06    \n",
      "N                  694.00           690.00           694.00           690.00    \n",
      "--------------------------------------------------------------------------------\n",
      "^ p<.1, * p<.05, ** p<.01, *** p<.001\n"
     ]
    }
   ],
   "source": [
    "quietly {\n",
    "est clear\n",
    "eststo: regress personal individual society age i.sex i.race educ, ro\n",
    "eststo: regress therapeutic individual society age i.sex i.race educ, ro\n",
    "eststo: regress personal makefrnd comfort harmony tolerant age i.sex i.race educ, ro\n",
    "eststo: regress therapeutic makefrnd comfort harmony tolerant age i.sex i.race educ, ro\n",
    "}\n",
    "esttab ///\n",
    ", stats(r2 N, labels(\"R-Sqaured\" \"N\")) cells(b(star fmt(2)) se(fmt(2) par)) stardetach  ///\n",
    "\tlegend starlevels(^ .1 * .05 ** .01 *** .001) ///\n",
    "mlabels(\"personal\" \"therapeutic\" \"personal\" \"therapeutic\") ///\n",
    "collabels(none) keep(individual society makefrnd comfort harmony tolerant)"
   ]
  },
  {
   "cell_type": "markdown",
   "metadata": {},
   "source": [
    "### Also regress the component parts of dependent variable (DV) scales\n",
    "\n",
    "* In this case, the component parts of the abortion scale were dichotomous indicator variables\n",
    "* So we should use logistic regression:"
   ]
  },
  {
   "cell_type": "code",
   "execution_count": 16,
   "metadata": {},
   "outputs": [
    {
     "name": "stdout",
     "output_type": "stream",
     "text": [
      "\n",
      "\n",
      "\n",
      ". esttab , stats(r2 N, labels(\"R-Sqaured\" \"N\")) cells(b(star fmt(2)) se(fmt(2) par)) stardetach   legend starlevels(^ .1 * .05 ** .01 *** .001) mlabels(\"no more kids\" \"poor\" \"single\" \"any reason\" \"bir\n",
      "> th defect\" \"mom health\" \"rape\") collabels(none) drop(age sex race educ _cons)\n",
      "\n",
      "-----------------------------------------------------------------------------------------------------------------------------------\n",
      "                      (1)              (2)              (3)              (4)              (5)              (6)              (7)    \n",
      "             no more kids             poor           single       any reason     birth defect       mom health             rape    \n",
      "-----------------------------------------------------------------------------------------------------------------------------------\n",
      "main                                                                                                                               \n",
      "individual          -0.88 ^          -0.59            -0.22            -0.11            -0.76            -1.78 *          -1.51 *  \n",
      "                   (0.51)           (0.50)           (0.49)           (0.50)           (0.63)           (0.85)           (0.64)    \n",
      "society             -1.51 ***        -1.20 ***        -1.30 ***        -1.89 ***        -1.48 ***        -0.88 ^          -1.89 ***\n",
      "                   (0.34)           (0.34)           (0.34)           (0.35)           (0.41)           (0.53)           (0.43)    \n",
      "-----------------------------------------------------------------------------------------------------------------------------------\n",
      "R-Sqaured                                                                                                                          \n",
      "N                  717.00           719.00           720.00           725.00           714.00           720.00           716.00    \n",
      "-----------------------------------------------------------------------------------------------------------------------------------\n",
      "^ p<.1, * p<.05, ** p<.01, *** p<.001\n"
     ]
    }
   ],
   "source": [
    "est clear\n",
    "quietly {\n",
    "foreach var in abnomore abpoor absingle abany abdefect abhlth abrape {\n",
    "eststo: logistic `var' individual society age sex race educ, ro\n",
    "    }\n",
    "    }\n",
    "esttab ///\n",
    ", stats(r2 N, labels(\"R-Sqaured\" \"N\")) cells(b(star fmt(2)) se(fmt(2) par)) stardetach  ///\n",
    "\tlegend starlevels(^ .1 * .05 ** .01 *** .001) ///\n",
    "mlabels(\"no more kids\" \"poor\" \"single\" \"any reason\" \"birth defect\" \"mom health\" \"rape\") ///\n",
    "collabels(none) drop(age sex race educ _cons)"
   ]
  },
  {
   "cell_type": "code",
   "execution_count": null,
   "metadata": {},
   "outputs": [],
   "source": []
  }
 ],
 "metadata": {
  "kernelspec": {
   "display_name": "Stata",
   "language": "stata",
   "name": "stata"
  },
  "language_info": {
   "codemirror_mode": "stata",
   "file_extension": ".do",
   "mimetype": "text/x-stata",
   "name": "stata",
   "version": "15.1"
  }
 },
 "nbformat": 4,
 "nbformat_minor": 4
}
