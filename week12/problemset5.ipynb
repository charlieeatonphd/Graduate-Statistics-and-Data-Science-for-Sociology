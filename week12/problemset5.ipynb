{
 "cells": [
  {
   "cell_type": "markdown",
   "metadata": {},
   "source": [
    "# Problem Set 5 \n",
    "\n",
    "[your name]\n",
    "\n",
    "[working title of the project] \n",
    "\n",
    "[date]"
   ]
  },
  {
   "cell_type": "markdown",
   "metadata": {},
   "source": [
    "### 1. Develop hypotheses involving a muli-item scale as either a dependent variable (DV) or independent variable (IV) [1 pt]\n",
    "\n",
    "Do the following when you write your hypothesis:\n",
    "\n",
    "    A. Write a couple sentences about the theoretical reasons (prior knowledge / research) for why you think that multiple dependent or independent variables of interest are correlated with eachother in one or more groupings\n",
    "    \n",
    "    B. Tell us a 1-word variable name that you will assign to each multi-item scale that you think could well represent your potentially correlated variables. The 1-word variable names should reflect your theory in response to prompt A above.\n",
    "    \n",
    "    C. State the predicted direction of association between your dependent variable DV (multi-item scales or otherwise) and independent variables (IVs) (multi-item scales or otherwise) in your proposed model. You can predict no relationship if you do not expect a relationship."
   ]
  },
  {
   "cell_type": "markdown",
   "metadata": {},
   "source": [
    "### 2. Estimate a correlation matrix [1 pt]\n",
    "\n",
    "    A. The matrix should include at least 4 independent or dependent variables (but not both) that you want to include in your multi-item scales \n",
    "    B. Make a list in this markdown cell that categorizes each potential correlation as strong or weak\n",
    "    C. Standardize the 4 variables so that they are all positively correlated"
   ]
  },
  {
   "cell_type": "markdown",
   "metadata": {},
   "source": [
    "### 3. Estimate factor loadings [1 pt]\n",
    "\n",
    "    A. Estimate factor loadings for the variables you propose including in your multi-item scale(s)\n",
    "    B. Rotate and plot the factor loadings\n",
    "    C. Do the factor loadings support your hypothesis that multiple items should be grouped into a scale?\n",
    "    D. Do the factor loadings suggest any proposed items should not be included in your scale? Or that an additional scale is in order?"
   ]
  },
  {
   "cell_type": "markdown",
   "metadata": {},
   "source": [
    "### 4. Calculate the scales and test them in a regression model [1 pt]\n",
    "\n",
    "    A. Generate new scale variables that average all the items in eacj scale.\n",
    "    B. Standardize each scale to be 0-1\n",
    "    C. Estimate separate models that regress your dependent variables on your independent variables 1) using the scale variables, and 2) using the separate component items of the scale variables\n",
    "    D. Output your models (at least 2 models) using esttab so we can easily compare results"
   ]
  },
  {
   "cell_type": "markdown",
   "metadata": {},
   "source": [
    "### 5. Interpret your regression estimates [1 pt]\n",
    "\n",
    "    A. Which of your hypotheses were supported or rejected?\n",
    "    B. Were the coefficients using your multi-item scales in the same direction as the coefficients for their component variables?\n",
    "    C. Were the coefficients larger or more statistically significant when you used multi-item scales?"
   ]
  },
  {
   "cell_type": "code",
   "execution_count": null,
   "metadata": {},
   "outputs": [],
   "source": []
  }
 ],
 "metadata": {
  "kernelspec": {
   "display_name": "Stata",
   "language": "stata",
   "name": "stata"
  },
  "language_info": {
   "codemirror_mode": "stata",
   "file_extension": ".do",
   "mimetype": "text/x-stata",
   "name": "stata",
   "version": "15.1"
  }
 },
 "nbformat": 4,
 "nbformat_minor": 4
}
