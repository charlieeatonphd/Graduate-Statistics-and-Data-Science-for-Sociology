{
 "cells": [
  {
   "cell_type": "markdown",
   "metadata": {},
   "source": [
    "# Week 8. Interactions between independent variables"
   ]
  },
  {
   "cell_type": "markdown",
   "metadata": {},
   "source": [
    "### By Hyunsu Oh and Charlie Eaton"
   ]
  },
  {
   "cell_type": "markdown",
   "metadata": {},
   "source": [
    "## 1. An example of interactions:\n",
    "\n",
    "* which are the dependent (DV) and independent variables (IVs)?\n",
    "* why does the DV have an interactive relationship to the IVs?\n",
    "\n",
    "<img src=\"abortioninteraction.jpeg\" width=\"600\" align=\"left\">"
   ]
  },
  {
   "cell_type": "markdown",
   "metadata": {},
   "source": [
    "## 2. Interactions involving nominal independent variables\n",
    "\n",
    "    A. Develop a hypothesis about whether income (DV) is or is not interactively associated with race (IV) and sex (IV)\n",
    "    \n",
    "    B. State the direction of the associations you predict for EACH independent variable (IV)\n",
    "    \n",
    "    C. Our hypotheses are constrained by sex being measured only as male/female and race only being measured as white/black/other\n",
    "    \n",
    "    D. Use the code below to test your hypotheses visually"
   ]
  },
  {
   "cell_type": "markdown",
   "metadata": {},
   "source": [
    "(Your hyphothesis here)"
   ]
  },
  {
   "cell_type": "markdown",
   "metadata": {},
   "source": [
    "Set your graph format and install the 538 scheme"
   ]
  },
  {
   "cell_type": "code",
   "execution_count": null,
   "metadata": {},
   "outputs": [],
   "source": [
    "%set graph_format svg"
   ]
  },
  {
   "cell_type": "code",
   "execution_count": null,
   "metadata": {},
   "outputs": [],
   "source": [
    "ssc install g538schemes\n",
    "capture log close\n",
    "log using w8lesson_interactionlog20200311.log\n",
    "set more off\n",
    "use \"GSS2018w8\", clear\n",
    "gen age2=age^2\n",
    "ds"
   ]
  },
  {
   "cell_type": "code",
   "execution_count": null,
   "metadata": {},
   "outputs": [],
   "source": [
    "graph bar realrinc, over(sex) over(race) asyvars ytitle (Income in constant dollar) ///\n",
    "  blabel(bar, format(%7.0fc)) legend(rows(1) position(1) ring(0)) scheme(538w)"
   ]
  },
  {
   "cell_type": "markdown",
   "metadata": {},
   "source": [
    "### Do the results in the graph support or contradict your hypothesis?"
   ]
  },
  {
   "cell_type": "markdown",
   "metadata": {},
   "source": [
    "## 3. Interaction estimates with nomominal variables in regression\n",
    "\n",
    "    A. Interaction estimates add independent variables (IVs) to the model that multiply the interactive variables by each other:\n",
    "    \n",
    "$ \\hat{Y} = \\alpha_{1} + \\beta_{1}x_1 + \\beta_{2}x_2 + \\beta_{3}(x_1\\cdot x_2) $\n",
    "\n",
    "    B. We do this with dummy variables for nominal IVs:\n",
    "    \n",
    "$ \\hat{Y} = \\alpha_{1} + \\beta_{1}D_{x1,2} + \\beta_{2}D_{x2,2} + \\beta_{2}D_{x2,3}$\n",
    "    \n",
    "    There are multiple ways to do this in Stata:"
   ]
  },
  {
   "cell_type": "code",
   "execution_count": null,
   "metadata": {},
   "outputs": [],
   "source": [
    "quietly {\n",
    "set line 140\n",
    "*Method number 1\n",
    "gen white= race==1\n",
    "gen black= race==2\n",
    "gen female= sex==2\n",
    "gen whitexfemale = white * female\n",
    "gen blackxfemale = black * female\n",
    "\n",
    "*Method number 2\n",
    "xi i.race*i.sex, noomit\n",
    "}\n",
    "*Compare the 2 methods\n",
    "list race sex white _Irace_1 black _Irace_2 female _Isex_2 whitexfemale _IracXsex_1_2 blackxfemale _IracXsex_2_2 if _n<13"
   ]
  },
  {
   "cell_type": "markdown",
   "metadata": {},
   "source": [
    "### There's no need to create new variables before regression\n",
    "\n",
    "Instead, we can use the following syntax to say we want to interact dummies for the 2 nominal variables:\n",
    "\n",
    "**--i.var1##i.var2--**\n",
    "\n",
    "This code will include both the uninteracted dummies and the interacted dummies (minus omitted categories)\n",
    "\n",
    "Edit the second regression equation below to regress both the uninteracted dummies and the interacted dummies"
   ]
  },
  {
   "cell_type": "code",
   "execution_count": null,
   "metadata": {},
   "outputs": [],
   "source": [
    "est clear\n",
    "quietly eststo: reg realrinc i.race i.sex age age2\n",
    "quietly eststo: reg realrinc i.[var1]##i.[var2] age age2"
   ]
  },
  {
   "cell_type": "markdown",
   "metadata": {},
   "source": [
    "### Then output the 2 models using the esttab code below and lets compare"
   ]
  },
  {
   "cell_type": "code",
   "execution_count": null,
   "metadata": {},
   "outputs": [],
   "source": [
    "%html\n",
    "esttab, stats(r2 N, labels(\"R2\" \"N\") fmt(%10.2fc %10.0fc)) cells(b(star fmt(%10.0fc)) se(fmt(%6.0fc) par) N (fmt(%10.0fc)) r2 (fmt(%10.2f))) ///\n",
    "  nobase noconstant starlevels(* .1 ** .05 *** .01) mlabels(\"Model 1\" \"Model 2\") drop(age age2 _cons)  ///\n",
    "  coeflabels (2.race \"Black\" 3.race \"Other\" 2.sex \"Female\" 2.race#2.sex \"Black female\" /// \n",
    "  3.race#2.sex \"Other female\")  html"
   ]
  },
  {
   "cell_type": "markdown",
   "metadata": {},
   "source": [
    "### It is confusing to interpret the combined coefficients of interaction terms\n",
    "\n",
    "    A. To estimate the predicted effect on income (DV) of being female (IV) for Black survey respondents, we have to add coefficients:\n",
    "\n",
    "$ \\beta_{2}D_{female} + \\beta_{3}D_{black*female}$\n",
    "\n",
    "= -12,534 + 13,325 = 791 compared to a -12,534 effect of being female for whites\n",
    "\n",
    "    B. To estimate the effect on income (DV) of being black (IV) among women, we have to do a similar procedure.\n",
    "\n",
    "    C. The surprising direction of race for women and of sex for black respondents suggests we are doing something wrong, let's log income moving forward\n",
    "\n",
    "## 4. The **--margins--** / regression adjusted redictions are clearer\n",
    "\n",
    "edit --margins-- to income across nominal categories if other covariates are held constant at their means:"
   ]
  },
  {
   "cell_type": "code",
   "execution_count": null,
   "metadata": {},
   "outputs": [],
   "source": [
    "*create a logged income variable\n",
    "gen realrincln=log(realrinc)\n",
    "\n",
    "quietly eststo: reg realrincln i.race##i.sex age age2\n",
    "quietly margins i.[var1], over(race) atmeans\n",
    "marginsplot, scheme(538w)\n",
    "\n",
    "quietly eststo: reg realrincln i.race##i.sex age age2 \n",
    "quietly margins i.race, over([var2]) atmeans\n",
    "marginsplot, scheme(538w)"
   ]
  },
  {
   "cell_type": "markdown",
   "metadata": {},
   "source": [
    "## 5. Interactions of interval ratio variables with each other and with nominal variables\n",
    "\n",
    "    A. Consider the possibility of an interation effect on income (DV) involving education (IV) and race (IV)\n",
    "    \n",
    "    B. Do you think the effect on income (DV) of education (IV) will differ across race (IV)? Do you think the effect of race (IV) will differ across education (IV)?\n",
    "    \n",
    "    C. Write your predictions as hypotheses\n",
    "    \n",
    "  "
   ]
  },
  {
   "cell_type": "markdown",
   "metadata": {},
   "source": [
    "### Procedures for interacting interval ration variables with nominal variables:\n",
    "\n",
    "A. No dummy variables are involved with interval ratio variables\n",
    "    \n",
    "B. So the regression equation for 2 interacted interval ratio variables (IVs) is just:\n",
    "    \n",
    "$ \\hat{Y} = \\alpha_{1} + \\beta_{1}x_1 + \\beta_{2}x_2 + \\beta_{3}(x_1\\cdot x_2) $\n",
    "\n",
    "C. The equation for interacting 1 interval ratio variable with 1 nominal variable is:\n",
    "    \n",
    "$ \\hat{Y} = \\alpha_{1} + \\beta_{1}x_1 + \\beta_{2}D_{x2,2} + \\beta_{3}D_{x2,2}\\cdot x_1 $\n",
    "\n",
    "D. In Stata, we write this using the **--##--** syntax together with c.var1 to tell Stata that an interacted variable is continuous. Complete the following code to do this:"
   ]
  },
  {
   "cell_type": "code",
   "execution_count": null,
   "metadata": {},
   "outputs": [],
   "source": [
    "est clear\n",
    "\n",
    "quietly eststo: reg realrincln i.race educ age age2\n",
    "quietly eststo: reg realrincln i.[var1]##c.[var2] age age2"
   ]
  },
  {
   "cell_type": "code",
   "execution_count": null,
   "metadata": {},
   "outputs": [],
   "source": [
    "%html\n",
    "esttab, html noconstant stats(r2 N, labels(\"R2\" \"N\") fmt(%10.2fc %10.0fc)) cells(b(star fmt(%10.2fc)) se(fmt(%6.2fc) par)) ///\n",
    "  nobase starlevels(* .1 ** .05 *** .01) mlabels(\"Model 1\" \"Model 2\") drop(age age2 _cons) ///\n",
    "  coeflabels (2.race \"Black\" 3.race \"Other\" educ \"Years of education\" ///\n",
    "  2.race#c.educ \"Black * education\" 3.race#c.educ \"Other * education\")  "
   ]
  },
  {
   "cell_type": "markdown",
   "metadata": {},
   "source": [
    "### Back to margins\n",
    "\n",
    "    A. This time, we want to estimate differences in income between racial groups and educational levels\n",
    "    \n",
    "    B. To do this, we use the **--at(var1(0(i)max)--** syntax to specify the education levels we want estimates for"
   ]
  },
  {
   "cell_type": "code",
   "execution_count": null,
   "metadata": {},
   "outputs": [],
   "source": [
    "quietly margins race, at(educ=(0(1)20)) atmeans\n",
    "marginsplot, noci legend(on) title(\"\") subtitle(\"\") xtitle(\"Years of schooling\") ///\n",
    "  ytitle(\"Log income\") legend(rows(1) position(1) ring(0)) scheme(538w)"
   ]
  },
  {
   "cell_type": "markdown",
   "metadata": {},
   "source": [
    "### How would you interpret the above graph?"
   ]
  },
  {
   "cell_type": "markdown",
   "metadata": {},
   "source": [
    "## 6. Interactions between continuous variables"
   ]
  },
  {
   "cell_type": "markdown",
   "metadata": {},
   "source": [
    "    A. Consider the effects on logged income (DV) of age (IV) and (time in current job)\n",
    "    \n",
    "    B. How do you think the effect of time on the job might change as age changes?\n",
    "    \n",
    "    C. Express your prediction as a hypothesis\n",
    "    \n",
    "    D. Look at the distributions below as scatter plots"
   ]
  },
  {
   "cell_type": "code",
   "execution_count": null,
   "metadata": {},
   "outputs": [],
   "source": [
    "quietly twoway (scatter realrincln age) (lfit realrincln age), name(age, replace) scheme(538w)\n",
    "quietly twoway (scatter realrincln yearsjob) (lfit realrincln yearsjob), name(yearsjob, replace) scheme(538w)\n",
    "  graph combine age yearsjob, scheme(538w)"
   ]
  },
  {
   "cell_type": "markdown",
   "metadata": {},
   "source": [
    "### Estimate models with an interaction and some controls"
   ]
  },
  {
   "cell_type": "code",
   "execution_count": null,
   "metadata": {},
   "outputs": [],
   "source": [
    "est clear\n",
    "\n",
    "quietly eststo: reg realrincln age yearsjob educ i.race i.sex\n",
    "quietly eststo: reg realrincln c.yearsjob##c.age educ i.race i.sex"
   ]
  },
  {
   "cell_type": "code",
   "execution_count": null,
   "metadata": {},
   "outputs": [],
   "source": [
    "%html\n",
    "esttab, stats(r2 N, labels(\"R2\" \"N\")) cells(b(star fmt(3)) se(fmt(3) par)) ///\n",
    "  nobase noconstant starlevels(* .1 ** .05 *** .01) mlabels(\"Model 1\" \"Model 2\") drop(_cons educ 2.race 3.race 2.sex) ///\n",
    "  coeflabels (age \"Age\" yearsjob \"Work experience\" c.age#c.yearsjob \"Age * work experience\") html"
   ]
  },
  {
   "cell_type": "markdown",
   "metadata": {},
   "source": [
    "### How could you interpret the negative interaction term?"
   ]
  },
  {
   "cell_type": "markdown",
   "metadata": {},
   "source": [
    "### Visualize with marginsplot"
   ]
  },
  {
   "cell_type": "code",
   "execution_count": null,
   "metadata": {},
   "outputs": [],
   "source": [
    "quietly margins, at(yearsjob=(0(10)55) age=(18(10)90)) vsquish\n",
    "marginsplot, noci x(yearsjob) recast(line) addplot(scatter realrincln age, m(oh)) xlabel(20(10)90) scheme(538w) legend(title(prediction by age))"
   ]
  }
 ],
 "metadata": {
  "kernelspec": {
   "display_name": "Stata",
   "language": "stata",
   "name": "stata"
  },
  "language_info": {
   "codemirror_mode": "stata",
   "file_extension": ".do",
   "mimetype": "text/x-stata",
   "name": "stata",
   "version": "15.1"
  }
 },
 "nbformat": 4,
 "nbformat_minor": 4
}
