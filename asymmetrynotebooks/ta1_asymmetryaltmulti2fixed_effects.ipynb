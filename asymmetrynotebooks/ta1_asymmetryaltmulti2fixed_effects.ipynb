{
 "cells": [
  {
   "cell_type": "markdown",
   "metadata": {},
   "source": [
    "## Replication for \"Asymmetry by Design\", March 22, 2020\n",
    "### By Adam Goldstein and Charlie Eaton\n",
    "\n",
    "### Appendix Table A1: Fixed effects models for 2 or more multibrand strategy"
   ]
  },
  {
   "cell_type": "code",
   "execution_count": 1,
   "metadata": {},
   "outputs": [],
   "source": [
    "use \"/Users/Charlie/Dropbox/asymmetry by Design/Data/asymmetry_20191229.dta\", clear\n",
    "set scheme plotplain\n",
    "set more off\n",
    "quietly xtset unitid year\n",
    "\n",
    "quietly replace alt2multi_brands_all=alt2multi_brands_all2"
   ]
  },
  {
   "cell_type": "code",
   "execution_count": 2,
   "metadata": {},
   "outputs": [],
   "source": [
    "quietly eststo: reghdfe tuitionall_c_w alt2multi_brands_all system_under online all_under i.iclevel ///\n",
    "pell_grants_per_fte_c_w white_share_w black_share_w hisp_share_w selective dpcttype*, absorb(unitid year) cluster(systemid year)"
   ]
  },
  {
   "cell_type": "code",
   "execution_count": 3,
   "metadata": {},
   "outputs": [],
   "source": [
    "quietly eststo: reghdfe loan_amount_borrower_c_w alt2multi_brands_all system_under online all_under i.iclevel ///\n",
    "pell_grants_per_fte_c_w white_share_w black_share_w hisp_share_w selective dpcttype*, absorb(unitid year) cluster(systemid year)"
   ]
  },
  {
   "cell_type": "code",
   "execution_count": 4,
   "metadata": {},
   "outputs": [],
   "source": [
    "quietly eststo: reghdfe ft_faculty_per_100fte_w alt2multi_brands_all system_under online all_under selective ///\n",
    "pell_grants_per_fte_c_w white_share_w black_share_w hisp_share_w i.iclevel dpcttype*, absorb(unitid year) cluster(systemid year)"
   ]
  },
  {
   "cell_type": "code",
   "execution_count": 5,
   "metadata": {},
   "outputs": [],
   "source": [
    "quietly eststo: reghdfe grad_rate_150_p_w alt2multi_brands_all system_under online all_under i.iclevel ///\n",
    "pell_grants_per_fte_c_w pctchrtgrbkaat pctchrtgrhispt pctchrtgrwhitt selective dpcttype*, absorb(unitid year) cluster(systemid year)"
   ]
  },
  {
   "cell_type": "code",
   "execution_count": 6,
   "metadata": {},
   "outputs": [],
   "source": [
    "quietly use \"/Users/Charlie/Dropbox/asymmetry by Design/Data/d_OPEID_asymmetry.dta\", clear\n",
    "\n",
    "quietly eststo: reghdfe mn_earn_wne_p6_c_w l2.alt2multi_brands_all system_under all_under selective online i.iclevel dpcttype* ///\n",
    "white_share_w black_share_w hisp_share_w earn_pct_lo , absorb(opeid year) cluster(systemid year)\n",
    " \n",
    "quietly eststo: reghdfe rpy_3yr_rt_supp_w l2.alt2multi_brands_all system_under all_under selective online i.iclevel dpcttype* ///\n",
    "white_share_w black_share_w hisp_share_w rpy_3yr_pct_lo, absorb(opeid year) cluster(systemid year)"
   ]
  },
  {
   "cell_type": "code",
   "execution_count": 7,
   "metadata": {},
   "outputs": [],
   "source": [
    "quietly use \"/Users/Charlie/Dropbox/asymmetry by Design/Data/asymmetry_20191229.dta\", clear\n",
    "\n",
    "quietly collapse (mean) online selective ///\n",
    "white_share_w black_share_w hisp_share_w pell_grants_per_fte_c_w ///\n",
    "dpcttype_health dpcttype_law dpcttype_culinarycosmetic dpcttype_arts dpcttype_tech dpcttype_biz ///\n",
    "(first) state_n (min) iclevel (max) system_under pe_ind public law_enf_frst_this_yr alt2multi_brands_all, by(systemid year)\n",
    "\n",
    "quietly xtset systemid year\n",
    "\n",
    "quietly eststo: reghdfe f2.law_enf_frst_this_yr alt2multi_brands_all ///\n",
    "system_under online i.iclevel selective white_share_w black_share_w hisp_share_w pell_grants_per_fte_c_w, absorb(systemid year) cluster(systemid year)"
   ]
  },
  {
   "cell_type": "code",
   "execution_count": 8,
   "metadata": {},
   "outputs": [],
   "source": [
    "quietly esttab using \"/Users/Charlie/Dropbox/Asymmetry by Design/Figures/ta1altmultibrand_fe_price_quality_outcome2.csv\", ///\n",
    " keep (alt2multi_brands_all L2.alt2multi_brands_all) r2(%9.1g) se(%9.1g) b(%9.1g) nogaps stardetach ///\n",
    " star(* 0.10 ** 0.05 *** 0.01) varwidth(30) replace ar2 br nocon"
   ]
  },
  {
   "cell_type": "code",
   "execution_count": 9,
   "metadata": {},
   "outputs": [
    {
     "data": {
      "text/html": [
       "\n",
       "<table border=\"0\" width=\"*\">\n",
       "<tr><td colspan=15><hr></td></tr>\n",
       "<tr><td>                              </td><td>         (1)</td><td>              </td><td>         (2)</td><td>              </td><td>         (3)</td><td>              </td><td>         (4)</td><td>              </td><td>         (5)</td><td>              </td><td>         (6)</td><td>              </td><td>         (7)</td><td>              </td></tr>\n",
       "<tr><td>                              </td><td>tuitionall_c_w</td><td>              </td><td>loan_amount_borrower_c_w</td><td>              </td><td>ft_faculty_per_100fte_w</td><td>              </td><td>grad_rate_150_p_w</td><td>              </td><td>mn_earn_wne_p6_c_w</td><td>              </td><td>rpy_3yr_rt_supp_w</td><td>              </td><td>F2.law_enf_frst_this_yr</td><td>              </td></tr>\n",
       "<tr><td colspan=15><hr></td></tr>\n",
       "<tr><td>alt2multi_brands_all          </td><td>         560</td><td><sup>**</sup> </td><td>         722</td><td><sup>**</sup> </td><td>        -.16</td><td>              </td><td>      -.0079</td><td>              </td><td>            </td><td>              </td><td>            </td><td>              </td><td>        .019</td><td>              </td></tr>\n",
       "<tr><td>                              </td><td>       [268]</td><td>              </td><td>       [256]</td><td>              </td><td>        [.3]</td><td>              </td><td>     [.0085]</td><td>              </td><td>            </td><td>              </td><td>            </td><td>              </td><td>      [.017]</td><td>              </td></tr>\n",
       "<tr><td>L2.alt2multi_brands_all       </td><td>            </td><td>              </td><td>            </td><td>              </td><td>            </td><td>              </td><td>            </td><td>              </td><td>       -1097</td><td><sup>**</sup> </td><td>          -1</td><td><sup>***</sup></td><td>            </td><td>              </td></tr>\n",
       "<tr><td>                              </td><td>            </td><td>              </td><td>            </td><td>              </td><td>            </td><td>              </td><td>            </td><td>              </td><td>       [367]</td><td>              </td><td>       [.27]</td><td>              </td><td>            </td><td>              </td></tr>\n",
       "<tr><td colspan=15><hr></td></tr>\n",
       "<tr><td><i>N</i>                      </td><td>       38744</td><td>              </td><td>       32686</td><td>              </td><td>        9590</td><td>              </td><td>       12240</td><td>              </td><td>        5767</td><td>              </td><td>        8687</td><td>              </td><td>       19514</td><td>              </td></tr>\n",
       "<tr><td><i>R</i><sup>2</sup>          </td><td>         .76</td><td>              </td><td>         .57</td><td>              </td><td>         .64</td><td>              </td><td>         .66</td><td>              </td><td>         .94</td><td>              </td><td>         .92</td><td>              </td><td>         .11</td><td>              </td></tr>\n",
       "<tr><td>adj. <i>R</i><sup>2</sup>     </td><td>       0.734</td><td>              </td><td>       0.523</td><td>              </td><td>       0.582</td><td>              </td><td>       0.618</td><td>              </td><td>       0.923</td><td>              </td><td>       0.907</td><td>              </td><td>       0.006</td><td>              </td></tr>\n",
       "<tr><td colspan=15><hr></td></tr>\n",
       "<tr><td colspan=15>\n",
       "Standard errors in brackets\n",
       "<br /><sup>*</sup> <i>p</i> < 0.10, <sup>**</sup> <i>p</i> < 0.05, <sup>***</sup> <i>p</i> < 0.01\n",
       "</td></tr>\n",
       "</table>\n",
       "\n"
      ],
      "text/plain": [
       "This front-end or document format cannot display HTML"
      ]
     },
     "metadata": {},
     "output_type": "display_data"
    }
   ],
   "source": [
    "%html\n",
    "esttab, ///\n",
    " keep (alt2multi_brands_all L2.alt2multi_brands_all) r2(%9.1g) se(%9.1g) b(%9.1g) nogaps stardetach ///\n",
    " star(* 0.10 ** 0.05 *** 0.01) varwidth(30) replace ar2 br nocon html"
   ]
  }
 ],
 "metadata": {
  "kernelspec": {
   "display_name": "Stata",
   "language": "stata",
   "name": "stata"
  },
  "language_info": {
   "codemirror_mode": "stata",
   "file_extension": ".do",
   "mimetype": "text/x-stata",
   "name": "stata",
   "version": "15.1"
  }
 },
 "nbformat": 4,
 "nbformat_minor": 4
}
