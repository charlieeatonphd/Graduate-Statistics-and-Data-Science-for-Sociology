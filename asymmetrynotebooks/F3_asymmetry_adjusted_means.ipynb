{
 "cells": [
  {
   "cell_type": "code",
   "execution_count": 3,
   "metadata": {},
   "outputs": [],
   "source": [
    "quietly use \"/Users/Charlie/Dropbox/asymmetry by Design/Data/asymmetry_20191229.dta\", clear\n",
    "quietly set scheme plotplain\n",
    "quietly set more off\n",
    "\n",
    "quietly label define alt2multi_brands_all 0 \"Two or fewer brands\" 1 \"More than 3 brands\"\n",
    "quietly label values alt2multi_brands_all alt2multi_brands_all\n",
    "\n",
    "*quietly collapse (first) instnm*, by(unitid)\n",
    "*describe"
   ]
  },
  {
   "cell_type": "code",
   "execution_count": 4,
   "metadata": {},
   "outputs": [],
   "source": [
    "*Adjusted Tuition\n",
    "quietly reg tuitionall_c_w i.alt2multi_brands_all selective white_share_w black_share_w hisp_share_w ///\n",
    "dpcttype_health dpcttype_law dpcttype_culinarycosmetic dpcttype_arts dpcttype_tech dpcttype_biz ///\n",
    "i.iclevel i.year i.state_ i.state_n pell_grants_per_fte_c_w  , cluster(systemid) rob noomitted\n",
    "\n",
    "quietly margins i.alt2multi_brands_all, atmeans\n",
    "\n",
    "quietly marginsplot, horizontal unique recast(scatter) xtitle(\"\") scale(3) xsize(4.5) ysize(1) ///\n",
    "ytitle(\"\") title(\"Annual price of tuition (2015 $)\") ///\n",
    "name(adjusted_tuition, replace) graphregion(margin(large)) xlabel(13000(1000)17000,format(%10.0fc) nogrid) ylab(, nogrid)"
   ]
  },
  {
   "cell_type": "code",
   "execution_count": 5,
   "metadata": {},
   "outputs": [],
   "source": [
    "*Adjusted Loans\n",
    "quietly reg loan_amount_borrower_c_w i.alt2multi_brands_all selective white_share_w ///\n",
    "black_share_w hisp_share_w    ///\n",
    "dpcttype_health dpcttype_law dpcttype_culinarycosmetic dpcttype_arts dpcttype_tech dpcttype_biz ///\n",
    "i.iclevel i.year i.state_ i.state_n pell_grants_per_fte_c_w  , cluster(systemid) rob noomitted"
   ]
  },
  {
   "cell_type": "code",
   "execution_count": 6,
   "metadata": {},
   "outputs": [],
   "source": [
    "quietly margins i.alt2multi_brands_all, atmeans\n",
    "\n",
    "quietly marginsplot, horizontal unique recast(scatter) xtitle(\"\") scale(3) xsize(4.5) ysize(1) ///\n",
    "ytitle(\"\") title(\"First year loan borrowing (2015 $)\") ///\n",
    "xlabel(6500(500)8500, format(%10.0fc) nogrid) ylab(, nogrid)  graphregion(margin(large)) ///\n",
    "name(adjusted_loan, replace) graphregion(margin(large)) "
   ]
  },
  {
   "cell_type": "code",
   "execution_count": 7,
   "metadata": {},
   "outputs": [],
   "source": [
    "*Adjusted Faculty\n",
    "\n",
    "quietly reg ft_faculty_per_100fte_w i.alt2multi_brands_all selective white_share_w ///\n",
    "black_share_w hisp_share_w dpcttype* ///\n",
    "i.iclevel i.year i.state_ i.state_n pell_grants_per_fte_c_w  , cluster(systemid) rob noomitted\n",
    "\n",
    "quietly margins i.alt2multi_brands_all, atmeans\n",
    "\n",
    "quietly marginsplot, horizontal unique recast(scatter) xtitle(\"\") scale(3) xsize(4.5) ysize(1) ///\n",
    "ytitle(\"\") title(\"Fulltime faculty per 100 FTE students\") graphregion(margin(large)) ///\n",
    "name(adjusted_faculty, replace) graphregion(margin(large)) xlab(2(.5)4, nogrid) ylab(, nogrid)"
   ]
  },
  {
   "cell_type": "code",
   "execution_count": 8,
   "metadata": {},
   "outputs": [],
   "source": [
    "*Adjusted Grad Rate\n",
    "quietly reg grad_rate_150_p2yr_w i.alt2multi_brands_all selective ///\n",
    "pct2yrchrtgrbkaat pct2yrchrtgrhispt pct2yrchrtgrwhitt   ///\n",
    "dpcttype* i.year i.iclevel i.state_n pell_grants_per_fte_c_w, cluster(systemid) rob noomitted\n",
    "\n",
    "quietly margins i.alt2multi_brands_all, atmeans level(95)\n",
    "\n",
    "quietly marginsplot, horizontal unique recast(scatter) xtitle(\"\") scale(3) xsize(4.5) ysize(1) ///\n",
    "ytitle(\"\") title(\"Graduation rate (lower degree/certificate)\") graphregion(margin(large)) ///\n",
    "name(adjusted_grad_rate2yr, replace) xlab(.2(.1).6)  "
   ]
  },
  {
   "cell_type": "code",
   "execution_count": 9,
   "metadata": {},
   "outputs": [],
   "source": [
    "*Adjusted Grad Rad\n",
    "quietly reg grad_rate_150_p4yr_w i.alt2multi_brands_all selective  ///\n",
    "pct4yrchrtgrbkaat_w pct4yrchrtgrwhitt_w pct4yrchrtgrhispt_w ///\n",
    "dpcttype* i.year i.state_n i.iclevel i.state_n pell_grants_per_fte_c_w, cluster(systemid) rob noomitted\n",
    "\n",
    "quietly margins i.alt2multi_brands_all, atmeans level(95)\n",
    "\n",
    "quietly marginsplot, horizontal unique recast(scatter) xtitle(\"\") scale(3) xsize(4.5) ysize(1) ///\n",
    "ytitle(\"\") title(\"Graduation rate (4-year degree)\") graphregion(margin(large)) ///\n",
    "name(adjusted_grad_rate4yr, replace) xlab(.2(.1).6)"
   ]
  },
  {
   "cell_type": "code",
   "execution_count": 10,
   "metadata": {},
   "outputs": [
    {
     "name": "stdout",
     "output_type": "stream",
     "text": [
      "\n",
      "\n",
      "(689 observations deleted)\n",
      "\n",
      "\n",
      "(69,594 missing values generated)\n",
      "\n",
      "\n",
      "\n",
      "\n",
      "       panel variable:  opeid (unbalanced)\n",
      "        time variable:  year, 1987 to 2016, but with gaps\n",
      "                delta:  1 unit\n",
      "\n",
      "\n",
      "\n"
     ]
    }
   ],
   "source": [
    "*Adjusted Earnings\n",
    "use \"/Users/Charlie/Dropbox/asymmetry by Design/Data/d_OPEID_asymmetry.dta\", clear\n",
    "drop if rankopeid!=1\n",
    "sort opeid year\n",
    "by opeid: gen lagmulti=alt2multi_brands_all[_n-2]\n",
    "\n",
    "label define alt2multi_brands_all 0 \"Two or fewer brands\" 1 \"More than 3 brands\"\n",
    "label values lagmulti alt2multi_brands_all\n",
    "label values alt2multi_brands_all alt2multi_brands_all\n",
    "xtset opeid year\n",
    "\n",
    "quietly reg mn_earn_wne_p6_c_w i.lagmulti selective i.iclevel ///\n",
    "white_share_w black_share_w hisp_share_w ///\n",
    "dpcttype* i.year i.state_n earn_pct_lo  , cluster(systemid) rob noomitted\n",
    "\n",
    "quietly margins i.lagmulti, atmeans level( 95)\n",
    "\n",
    "quietly marginsplot, horizontal unique recast(scatter)  scale(3) xsize(4.5) ysize(1) ///\n",
    "title(Mean pay 6 years after school (2015 $)) ytitle(\"\") xtitle(\"\") scheme(plotplain) ///\n",
    "name(adjusted_earnings, replace) xlab(31000(1000)35000, format(%10.0fc) nogrid) ylab(, nogrid) graphregion(margin(large))"
   ]
  },
  {
   "cell_type": "code",
   "execution_count": 11,
   "metadata": {},
   "outputs": [],
   "source": [
    "*Adjusted Repayment\n",
    "quietly replace rpy_3yr_rt_supp_w=rpy_3yr_rt_supp_w/100\n",
    "quietly reg rpy_3yr_rt_supp_w i.lagmulti selective i.iclevel ///\n",
    "white_share_w black_share_w hisp_share_w ///\n",
    "dpcttype* i.year i.state_n rpy_3yr_pct_lo  , cluster(systemid) rob noomitted\n",
    "\n",
    "quietly margins i.lagmulti, atmeans level( 95)\n",
    "\n",
    "quietly marginsplot, horizontal unique recast(scatter) scale(3) xsize(4.5) ysize(1) ///\n",
    "xtitle(Students who repaid any debt by 3 years after school (% )) ytitle(\"\") xtitle(\"\") ///\n",
    "title(\"Share students who repaid any debt after 3 years\") scheme(plotplain) ///\n",
    "name(adjusted_repay, replace) xlab(.32(.03).44, nogrid) ylab(, nogrid)  graphregion(margin(large))"
   ]
  },
  {
   "cell_type": "code",
   "execution_count": 12,
   "metadata": {},
   "outputs": [],
   "source": [
    "quietly use \"/Users/Charlie/Dropbox/asymmetry by Design/Data/d_OPEID_asymmetry.dta\", clear\n",
    "\n",
    "quietly label define alt2multi_brands_all 0 \"Two or fewer brands\" 1 \"More than 3 brands\"\n",
    "quietly label values alt2multi_brands_all alt2multi_brands_all\n",
    "\n",
    "**\n",
    "quietly gen borrower_defense_100student = claimcount / fte_count * 100\n",
    "winsor borrower_defense_100student, p(.01) gen(borrower_defense_100student_w)\n",
    "\n",
    "quietly poisson borrower_defense_100student_w i.alt2multi_brands_all selective ///\n",
    "white_share_w black_share_w hisp_share_w  ///\n",
    "dpcttype_health dpcttype_law dpcttype_culinarycosmetic dpcttype_arts dpcttype_tech dpcttype_biz ///\n",
    "i.iclevel i.state_n pell_grants_per_fte_c_w  , cluster(systemid) rob noomitted\n",
    "\n",
    "quietly margins i.alt2multi_brands_all, atmeans\n",
    "\n",
    "quietly marginsplot, horizontal unique recast(scatter) xtitle(\"\") scale(3) xsize(4.5) ysize(1) ///\n",
    "ytitle(\"\") title(\"Borrower defense claims per 100 students\") ///\n",
    "name(borrower_defense, replace) graphregion(margin(large)) xlab(0(2)8, nogrid) ylab(, nogrid)"
   ]
  },
  {
   "cell_type": "code",
   "execution_count": 13,
   "metadata": {},
   "outputs": [],
   "source": [
    "quietly use \"/Users/Charlie/Dropbox/asymmetry by Design/Data/asymmetry_20191229.dta\", clear\n",
    "\n",
    "quietly collapse (rawsum) sftesale sftetotl (mean) grad_rate_150_p_w ///\n",
    "pctchrtgrbkaat_w pctchrtgrwhitt_w pctchrtgrhispt_w loan_amount_borrower_c_w tuitionall_c_w selective ///\n",
    "white_share_w black_share_w hisp_share_w pell_grants_per_fte_c_w dist_pell_s ///\n",
    "dpcttype_health dpcttype_law dpcttype_culinarycosmetic dpcttype_arts dpcttype_tech dpcttype_biz  ///\n",
    "(first) state_n   (min) iclevel (max) law_enf_frst_this_yr alt2multi_brands_all [aweight=all_under], by(systemid year)\n",
    "\n",
    "quietly label define alt2multi_brands_all 0 \"Two or fewer brands\" 1 \"More than 3 brands\"\n",
    "quietly label values alt2multi_brands_all alt2multi_brands_all\n",
    "\n",
    "quietly gen fracsales2= sftesale /sftetotl\n",
    "\n",
    "quietly xtset systemid year"
   ]
  },
  {
   "cell_type": "code",
   "execution_count": 14,
   "metadata": {},
   "outputs": [],
   "source": [
    "**Adjusted Sales\n",
    "quietly reg fracsales2 i.alt2multi_brands_all selective ///\n",
    "white_share_w black_share_w hisp_share_w dpcttype* pell_grants_per_fte_c_w  ///\n",
    "i.iclevel i.year i.state_n  , cluster(systemid) rob noomitted\n",
    "\n",
    "quietly margins i.alt2multi_brands_all, atmeans\n",
    "\n",
    "quietly marginsplot, horizontal unique recast(scatter) xtitle(\"\") scale(3) xsize(4.5) ysize(1) ///\n",
    "ytitle(\"\") title(\"Share employees in sales\") graphregion(margin(large)) ///\n",
    "name(adjusted_sales, replace) xlabel(0(.03).12)"
   ]
  },
  {
   "cell_type": "code",
   "execution_count": 15,
   "metadata": {},
   "outputs": [],
   "source": [
    "quietly probit law_enf_frst_this_yr i.alt2multi_brands_all selective ///\n",
    "white_share_w black_share_w hisp_share_w pell_grants_per_fte_c_w ///\n",
    "dpcttype* i.iclevel i.state_n i.year, cluster(systemid) rob noomitted\n",
    "\n",
    "quietly margins i.alt2multi_brands_all, atmeans \n",
    "\n",
    "quietly marginsplot, horizontal unique recast(scatter) xtitle(\"\") scale(3) xsize(4.5) ysize(1) ///\n",
    "ytitle(\"\")  title(\"Probability of incurring law enforcement action\") xtitle(\"\") ///\n",
    "name(law_enforcement, replace) graphregion(margin(large)) ylab(, nogrid) xlab(0(.015).06)"
   ]
  },
  {
   "cell_type": "code",
   "execution_count": 16,
   "metadata": {},
   "outputs": [
    {
     "data": {
      "application/pdf": "[encoded data removed]",
      "text/plain": [
       "This front-end cannot display the desired image type."
      ]
     },
     "metadata": {},
     "output_type": "display_data"
    },
    {
     "name": "stdout",
     "output_type": "stream",
     "text": [
      "\n",
      "\n",
      "\n",
      "(file /Users/Charlie/Dropbox/Asymmetry by Design/Figures/F4a_regression_adjustme\n",
      "> nts20191222.pdf written in PDF format)\n"
     ]
    }
   ],
   "source": [
    "graph combine adjusted_sales adjusted_tuition adjusted_loan adjusted_faculty ///\n",
    ", cols(1) ycommon xsize(6.5) ysize(7) scale(.3) ///\n",
    "graphregion(margin(small)) name(adjusted_demopricefaculty, replace)\n",
    "\n",
    "graph export \"/Users/Charlie/Dropbox/Asymmetry by Design/Figures/F4a_regression_adjustments20191222.pdf\", replace"
   ]
  },
  {
   "cell_type": "code",
   "execution_count": 17,
   "metadata": {},
   "outputs": [
    {
     "data": {
      "application/pdf": "[encoded data removed]",
      "text/plain": [
       "This front-end cannot display the desired image type."
      ]
     },
     "metadata": {},
     "output_type": "display_data"
    },
    {
     "name": "stdout",
     "output_type": "stream",
     "text": [
      "\n",
      "\n",
      "\n",
      "(file /Users/Charlie/Dropbox/Asymmetry by Design/Figures/F4b_regression_adjustme\n",
      "> nts20191222.pdf written in PDF format)\n"
     ]
    }
   ],
   "source": [
    "graph combine adjusted_grad_rate2yr adjusted_grad_rate4yr ///\n",
    "adjusted_earnings adjusted_repay borrower_defense law_enforcement, cols(1) ycommon ///\n",
    "xsize(6.5) ysize(7) scale(.3) ///\n",
    "graphregion(margin(small)) name(adjusted_outcomes, replace)\n",
    "\n",
    "graph export \"/Users/Charlie/Dropbox/Asymmetry by Design/Figures/F4b_regression_adjustments20191222.pdf\", replace"
   ]
  },
  {
   "cell_type": "code",
   "execution_count": 18,
   "metadata": {},
   "outputs": [
    {
     "name": "stderr",
     "output_type": "stream",
     "text": [
      "stata_kernel error: code entered was incomplete.\n",
      "\n",
      "This usually means that a loop or program was not correctly terminated.\n",
      "This can also happen if you are in `#delimit ;` mode and did not end the\n",
      "command with `;`. Use `%delimit` to see the current delimiter mode and\n",
      "use `#delimit cr` to switch back to the default mode where `;` is\n",
      "unnecessary.\n"
     ]
    }
   ],
   "source": [
    "/**Adjusted Black Share\n",
    "quietly reg black_share_w i.alt2multi_brands_all selective  ///\n",
    "dpcttype_health dpcttype_law dpcttype_culinarycosmetic dpcttype_arts dpcttype_tech dpcttype_biz ///\n",
    "i.iclevel i.year i.state_n pell_grants_per_fte_c_w, cluster(systemid) rob noomitted\n",
    "\n",
    "quietly margins i.alt2multi_brands_all, atmeans\n",
    "\n",
    "marginsplot, horizontal unique recast(scatter) xtitle(\"\") scale(3) xsize(4.5) ysize(1) ///\n",
    "ytitle(\"\") title(\"Share students Black\") graphregion(margin(large)) ///\n",
    "name(adjusted_black, replace) xlab(.18(.02).26)\n",
    "\n",
    "**Adjusted Pell Share\n",
    "quietly reg fed_grant_pct_c_w i.alt2multi_brands_all ///\n",
    "dpcttype_health dpcttype_law dpcttype_culinarycosmetic dpcttype_arts dpcttype_tech dpcttype_biz ///\n",
    "i.iclevel i.year i.state_n, cluster(systemid) rob noomitted\n",
    "\n",
    "quietly margins i.alt2multi_brands_all, atmeans\n",
    "\n",
    "marginsplot, horizontal unique recast(scatter) xtitle(\"\") scale(3) xsize(4.5) ysize(1) ///\n",
    "ytitle(\"\") title(\"Share students receiving Pell\") graphregion(margin(large)) ///\n",
    "name(adjusted_pell, replace)"
   ]
  }
 ],
 "metadata": {
  "kernelspec": {
   "display_name": "Stata",
   "language": "stata",
   "name": "stata"
  },
  "language_info": {
   "codemirror_mode": "stata",
   "file_extension": ".do",
   "mimetype": "text/x-stata",
   "name": "stata",
   "version": "15.1"
  }
 },
 "nbformat": 4,
 "nbformat_minor": 4
}
