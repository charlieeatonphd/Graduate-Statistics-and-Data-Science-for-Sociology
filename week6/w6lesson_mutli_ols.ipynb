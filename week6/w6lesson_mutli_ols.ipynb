{
 "cells": [
  {
   "cell_type": "markdown",
   "metadata": {},
   "source": [
    "# Week 6: From cross tabs to multiple regression\n",
    "\n",
    "## By Hyunsu Oh and Charlie Eaton"
   ]
  },
  {
   "cell_type": "markdown",
   "metadata": {},
   "source": [
    "Human capital theorists argue that higher incomes are caused by investment in human capital (i.e. education).\n",
    "\n",
    "Other sociologists argue that income is influenced by gender and racial discrimination in the labor market.\n",
    " \n",
    "We will test these theories with OLS multiple regression models using data from the General Social Survey 2018."
   ]
  },
  {
   "cell_type": "markdown",
   "metadata": {},
   "source": [
    "## Read the data in and describe to see what variables we have"
   ]
  },
  {
   "cell_type": "code",
   "execution_count": null,
   "metadata": {},
   "outputs": [],
   "source": [
    "set more off\n",
    "capture log close\n",
    "log using w6lecture_multreg_log20200226.log\n",
    "use realrinc age sex race educ yearsjob paeduc PASEI10 using\n",
    "describe\n",
    "summarize realrinc age sex race educ yearsjob paeduc"
   ]
  },
  {
   "cell_type": "code",
   "execution_count": null,
   "metadata": {},
   "outputs": [],
   "source": [
    "%head if _n<=5"
   ]
  },
  {
   "cell_type": "markdown",
   "metadata": {},
   "source": [
    "## What do you think the variables measure?\n",
    "\n",
    "1. What is the dependent variable?\n",
    "2. Which variables measure causes of income variation suggested by human capital theory? Why?\n",
    "3. Which variables measure causes suggested by theories of labor market discrimination? Why?\n",
    "4. Which variables control for other factors? Why do they matter?"
   ]
  },
  {
   "cell_type": "markdown",
   "metadata": {},
   "source": [
    "## Develop hypotheses using variables from the data\n",
    "\n",
    "With your neighbor, make at least 1 hypothesis for each theory that includes an intervening or spurious relationship involving more than 1 independent variable"
   ]
  },
  {
   "cell_type": "markdown",
   "metadata": {},
   "source": [
    "## Now, let's examine our dependent variable using histogram"
   ]
  },
  {
   "cell_type": "code",
   "execution_count": 7,
   "metadata": {},
   "outputs": [],
   "source": [
    "%set graph_format svg"
   ]
  },
  {
   "cell_type": "code",
   "execution_count": null,
   "metadata": {},
   "outputs": [],
   "source": [
    "[your code here]"
   ]
  },
  {
   "cell_type": "markdown",
   "metadata": {},
   "source": [
    "## Then, let's take a look at the relationships between our DV and IVs."
   ]
  },
  {
   "cell_type": "markdown",
   "metadata": {},
   "source": [
    "Let's generate scatter plots between our DV and appropriate IVs"
   ]
  },
  {
   "cell_type": "code",
   "execution_count": null,
   "metadata": {},
   "outputs": [],
   "source": [
    "foreach x of var age age sex race educ educ yearsjob paeduc PASEI10 {\n",
    "  graph twoway (scatter realrinc `x') (lfit realrinc `x', color(red)), name(`x', replace) legend(off) ytitle(income) scheme(plotplainblind)\n",
    "}"
   ]
  },
  {
   "cell_type": "markdown",
   "metadata": {},
   "source": [
    "### FYI, we can visualize these plots in one space. For instance,"
   ]
  },
  {
   "cell_type": "code",
   "execution_count": null,
   "metadata": {},
   "outputs": [],
   "source": [
    "graph combine age sex race educ yearsjob paeduc PASEI10, col(3) "
   ]
  },
  {
   "cell_type": "markdown",
   "metadata": {},
   "source": [
    "## What do you think the numeric values represent for sex and race?\n",
    "\n",
    "write some code to find out"
   ]
  },
  {
   "cell_type": "code",
   "execution_count": null,
   "metadata": {},
   "outputs": [],
   "source": [
    "[your code here]"
   ]
  },
  {
   "cell_type": "markdown",
   "metadata": {},
   "source": [
    "You may want to run correlation analysis to see the linear relationship among variables"
   ]
  },
  {
   "cell_type": "code",
   "execution_count": null,
   "metadata": {},
   "outputs": [],
   "source": [
    "correlate realrinc age sex race educ paeduc yearsjob"
   ]
  },
  {
   "cell_type": "code",
   "execution_count": null,
   "metadata": {},
   "outputs": [],
   "source": [
    "pwcorr realrinc age sex race educ paeduc yearsjob, sig"
   ]
  },
  {
   "cell_type": "markdown",
   "metadata": {},
   "source": [
    "### Why do you think we get \"1.0000\" across the diagonal?"
   ]
  },
  {
   "cell_type": "markdown",
   "metadata": {},
   "source": [
    "### Should we change any of our hypotheses based on the correlation matrix?"
   ]
  },
  {
   "cell_type": "markdown",
   "metadata": {},
   "source": [
    "## OLS multiple regression accounts for correlations between IVs\n",
    "\n",
    "Here is the extension of the regression equation to multpiple regression:\n",
    "\n",
    "$\\hat{Y} = \\alpha + \\beta \\times x $\n",
    "\n",
    "$\\hat{Y} = \\alpha + \\beta_1 \\cdot x_1 + \\beta_2 \\cdot x_2. ... + \\beta_k \\cdot x_K $\n",
    "\n",
    "$x_1$ is 1st independent variable\n",
    "\n",
    "$x_2$ is 2nd indepdent variable\n",
    "\n",
    "K is the number of independent variables"
   ]
  },
  {
   "cell_type": "markdown",
   "metadata": {},
   "source": [
    "### Write a multiple regression equation in LaTex\n",
    "\n",
    "Cut and paste LaTex code from the above cell.\n",
    "\n",
    "Include all of the 6 independent variables.\n",
    "\n",
    "Label each independent variable with a subscript with the first 1 or 2 letters for the variable."
   ]
  },
  {
   "cell_type": "markdown",
   "metadata": {},
   "source": [
    "### Write the regression equation in Stata and estimate the mode\n",
    "\n",
    "Replace the numbers for X and for beta with the first initial of the variables you want to include."
   ]
  },
  {
   "cell_type": "code",
   "execution_count": null,
   "metadata": {},
   "outputs": [],
   "source": []
  },
  {
   "cell_type": "markdown",
   "metadata": {},
   "source": [
    "## How would you interpret the coefficients?"
   ]
  },
  {
   "cell_type": "markdown",
   "metadata": {},
   "source": [
    "[your answer here]"
   ]
  },
  {
   "cell_type": "markdown",
   "metadata": {},
   "source": [
    "## Does this regression analysis really test our hypotheses?\n",
    "\n",
    "How can we test if there are any of the intervening or spurious relationships we hypothesized?\n",
    "\n",
    "Write two regression equations that together test one such hypothesis."
   ]
  },
  {
   "cell_type": "code",
   "execution_count": null,
   "metadata": {},
   "outputs": [],
   "source": [
    "[your code here]"
   ]
  },
  {
   "cell_type": "markdown",
   "metadata": {},
   "source": [
    "## How would you interpret the coefficients of the two models together?"
   ]
  },
  {
   "cell_type": "markdown",
   "metadata": {},
   "source": [
    "## It's way easier to interpret models together if we combine their results in 1 table\n",
    "\n",
    "We use -eststo- with regress and -esttab- to do this."
   ]
  },
  {
   "cell_type": "code",
   "execution_count": 81,
   "metadata": {},
   "outputs": [],
   "source": [
    "est clear\n",
    "\n",
    "quietly eststo: reg \n",
    "quietly eststo: reg \n",
    "quietly eststo: reg "
   ]
  },
  {
   "cell_type": "code",
   "execution_count": null,
   "metadata": {},
   "outputs": [],
   "source": [
    "%html\n",
    "esttab, stats(r2 N, labels(\"R-Sqaured\" \"N\")) cells(b(star fmt(3)) se(fmt(3) par)) /// \n",
    "  nobase mlabels (\"Model 1\" \"Model 2\" \"Model 3\") starlevels(* .05 ** .01 *** .001) ///\n",
    "  coeflabels (_cons \"Constant\" 2.sex \"female\" 2.race \"black\" 3.race \"other race\" ///\n",
    "educ \"years of schooling\" yearsjob \"job tenure\" paeduc \"father's education\" ///\n",
    "PASEI10 \"father's socioeconomic index\") html"
   ]
  },
  {
   "cell_type": "code",
   "execution_count": null,
   "metadata": {},
   "outputs": [],
   "source": [
    "quietly esttab, stats(r2 N, labels(\"R-Sqaured\" \"N\")) cells(b(star fmt(3)) se(fmt(3) par)) /// \n",
    "  nobase mlabels (\"Model 1\" \"Model 2\" \"Model 3\") starlevels(* .05 ** .01 *** .001) ///\n",
    "  coeflabels (_cons \"Constant\" 2.sex \"female\" 2.race \"black\" 3.race \"other race\" ///\n",
    "educ \"years of schooling\" yearsjob \"job tenure\" paeduc \"father's education\" ///\n",
    "PASEI10 \"father's socioeconomic index\") rtf"
   ]
  }
 ],
 "metadata": {
  "kernelspec": {
   "display_name": "Stata",
   "language": "stata",
   "name": "stata"
  },
  "language_info": {
   "codemirror_mode": "stata",
   "file_extension": ".do",
   "mimetype": "text/x-stata",
   "name": "stata",
   "version": "15.1"
  }
 },
 "nbformat": 4,
 "nbformat_minor": 4
}
