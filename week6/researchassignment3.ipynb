{
 "cells": [
  {
   "cell_type": "markdown",
   "metadata": {},
   "source": [
    "# Research assignment 3\n",
    "\n",
    "[your name]\n",
    "\n",
    "[working title of the project] \n",
    "\n",
    "[date]"
   ]
  },
  {
   "cell_type": "markdown",
   "metadata": {},
   "source": [
    "## 1. Build your hypothesis\n",
    "\n",
    "Write bullet points that answer the following questions:\n",
    "\n",
    "    A. What is your depedent variable? For this assignment, your depedent should be a continuous variable. Describe how your depedent variable is measured. If your data doesn't allow this, you can use either the General Social Survey 2018 or the Grant and Loan Repayment data. \n",
    "    \n",
    "    B. What are the indepedent variables you are most interested in? Are they interval ratio or nominal? Why?\n",
    "\n",
    "    C. What are your control variables? Are they interval ratio or nominal? Why?\n",
    "\n",
    "    D. What are your hyphotheses on the relationships between your dependent and independent variables (including control variables)? Make seperate hypotheses for separate independent variables and for intervening relationships that involve multiple independent variables of interest."
   ]
  },
  {
   "cell_type": "markdown",
   "metadata": {},
   "source": [
    "## 2. Prepare your data\n",
    "\n",
    "Do the following:\n",
    "\n",
    "    A. Set current directory\n",
    "\n",
    "    B. Set more off\n",
    "\n",
    "    C. Creat log file\n",
    "    \n",
    "    D. Load only variable from the dataset that you will use\n",
    "\n",
    "    E. Use -describe- and -codebook- to see details of the varaibles"
   ]
  },
  {
   "cell_type": "code",
   "execution_count": null,
   "metadata": {},
   "outputs": [],
   "source": [
    "[Your code here]"
   ]
  },
  {
   "cell_type": "markdown",
   "metadata": {},
   "source": [
    "## 3. Use scatterplots to visually assess relationships between your dependent variable and all of your independent variables\n",
    "\n",
    "    A. Quietly generate scatterplots for the dependent variable and each independent variable (including contol variables). Then use graph combine to examine all of the scatter plots.\n",
    "\n",
    "    B. Write a paragraph interpreting what the scatterplots show"
   ]
  },
  {
   "cell_type": "code",
   "execution_count": null,
   "metadata": {},
   "outputs": [],
   "source": [
    "[your code here]"
   ]
  },
  {
   "cell_type": "markdown",
   "metadata": {},
   "source": [
    "## 4. Assess multicorrelation among your independent variables\n",
    "\n",
    "    A. Create a correlation matrix for all of your variables.\n",
    "\n",
    "    B. . Write bullet points or a short paragraph summarizing what the matrix shows."
   ]
  },
  {
   "cell_type": "code",
   "execution_count": null,
   "metadata": {},
   "outputs": [],
   "source": [
    "[your code here]"
   ]
  },
  {
   "cell_type": "markdown",
   "metadata": {},
   "source": [
    "## 5. Describe at least 2 OLS models to test your hypotheses\n",
    "\n",
    "Write a paragraph or a set of bullet points that explain:\n",
    "\n",
    "    A. Which model tests which of your hypotheses\n",
    "    \n",
    "    B. Which variables are included in each model\n",
    "    \n",
    "    B. How/why adding particular variables to subsequent models will test for spurious or intervening relationships"
   ]
  },
  {
   "cell_type": "markdown",
   "metadata": {},
   "source": [
    "## 6. Write OLS regression equations for each model\n",
    "\n",
    "Use subscripts to indicate which symbols represesent your different independent variables. To do so, you can copy and paste the LaTex code in this week's lesson notebook and edit the subscripts."
   ]
  },
  {
   "cell_type": "markdown",
   "metadata": {},
   "source": [
    "## 7. Estimate your models with stata\n",
    "\n",
    "    A. Write Stata code to estimate the models and store the regression results\n",
    "    \n",
    "    B. Write code to output the estimates in a table within Jupyter Notebook and as an RTF file"
   ]
  },
  {
   "cell_type": "code",
   "execution_count": null,
   "metadata": {},
   "outputs": [],
   "source": [
    "[your code here]"
   ]
  },
  {
   "cell_type": "markdown",
   "metadata": {},
   "source": [
    "## 8. Summarize the results for your hypotheses\n",
    "\n",
    "    A. Which of your hypotheses are supported and which are rejected by the (in)consistency of coefficients across all of your models?\n",
    "    \n",
    "    B. Which of your hypotheses regarding intervening or spurious relationships are supported / rejected by similarities / differences in coefficients across all of your models?\n",
    "\n",
    "    C. What ideas do you have for why any of your hypotheses were rejected? Are there additional omitted variables do you think you should include to test your hypotheses that might change your results? Why?"
   ]
  }
 ],
 "metadata": {
  "kernelspec": {
   "display_name": "Stata",
   "language": "stata",
   "name": "stata"
  },
  "language_info": {
   "codemirror_mode": "stata",
   "file_extension": ".do",
   "mimetype": "text/x-stata",
   "name": "stata",
   "version": "15.1"
  }
 },
 "nbformat": 4,
 "nbformat_minor": 4
}
