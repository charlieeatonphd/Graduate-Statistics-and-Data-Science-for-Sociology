{
 "cells": [
  {
   "cell_type": "code",
   "execution_count": 1,
   "metadata": {},
   "outputs": [
    {
     "name": "stdout",
     "output_type": "stream",
     "text": [
      "\n",
      "/Users/Charlie/Dropbox/Bankers in the Ivory Tower Book/2 Our New Financial Oligarchy/Data/Boards 2000 to 2017\n",
      "\n",
      "\n",
      "\n",
      "\n",
      "\n",
      "\n",
      "\n",
      "(1 real change made)\n",
      "\n",
      "(1 real change made)\n",
      "\n"
     ]
    }
   ],
   "source": [
    "cd \"/Users/Charlie/Dropbox/Bankers in the Ivory Tower Book/2 Our New Financial Oligarchy/Data/Boards 2000 to 2017\"\n",
    "set more off\n",
    "use forbes400_alum_board_1989_2003_2017, clear\n",
    "\n",
    "quietly egen finance=rowtotal(pe hedge otherfin)\n",
    "quietly egen pehedge=rowtotal(pe hedge)\n",
    "quietly cd \"/Users/Charlie/Stata_Notebooks/\"\n",
    "quietly outsheet using forbes400_alum_board_1989_2003_2017.csv, comma replace\n",
    "replace id=895 if id==712 & middlen==\"alfred\"\n",
    "replace id=896 if id==311 & middlen==\"\"\n",
    "quietly cd \"/Users/Charlie/Dropbox/Bankers in the Ivory Tower Book/2 Our New Financial Oligarchy/Data/Boards 2000 to 2017\""
   ]
  },
  {
   "cell_type": "code",
   "execution_count": 2,
   "metadata": {},
   "outputs": [],
   "source": [
    "est clear\n",
    "\n",
    "quietly eststo: logistic boardtop30public finance technology inherited ///\n",
    "i.year, ro cluster(id) \n",
    "\n",
    "quietly eststo: logistic boardtop30private finance technology inherited ///\n",
    "i.year, ro cluster(id)\n",
    "\n",
    "quietly eststo: logistic boardtop30private finance technology inherited worth ///\n",
    "i.year, ro cluster(id) \n",
    "\n",
    "quietly eststo: logistic boardtop30private pehedge otherfin technology worth inherited ///\n",
    "i.year, ro cluster(id) \n",
    "\n",
    "quietly eststo: logistic boardtop30private pehedge otherfin technology worth inherited ///\n",
    "ib4.collegeschooltype ib1.mbaschooltype i.year, ro cluster(id)"
   ]
  },
  {
   "cell_type": "code",
   "execution_count": 3,
   "metadata": {},
   "outputs": [
    {
     "data": {
      "text/html": [
       "\n",
       "<table border=\"0\" width=\"*\">\n",
       "<caption>Table 2: Odds ratios for university board membership among Forbes 400</caption>\n",
       "<tr><td colspan=11><hr></td></tr>\n",
       "<tr><td>            </td><td>         (1)</td><td>   </td><td>         (2)</td><td>   </td><td>         (3)</td><td>   </td><td>         (4)</td><td>   </td><td>         (5)</td><td>   </td></tr>\n",
       "<tr><td>            </td><td>Top 30 Public</td><td>   </td><td>Top 30 Private</td><td>   </td><td>Top 30 Private</td><td>   </td><td>Top 30 Private</td><td>   </td><td>        est5</td><td>   </td></tr>\n",
       "<tr><td colspan=11><hr></td></tr>\n",
       "<tr><td>inherited wealth</td><td>        0.86</td><td>   </td><td>        0.59</td><td>*  </td><td>        0.59</td><td>*  </td><td>        0.56</td><td>** </td><td>        0.68</td><td>^  </td></tr>\n",
       "<tr><td>            </td><td>      (0.53)</td><td>   </td><td>      (0.12)</td><td>   </td><td>      (0.12)</td><td>   </td><td>      (0.12)</td><td>   </td><td>      (0.15)</td><td>   </td></tr>\n",
       "<tr><td>technology  </td><td>        0.86</td><td>   </td><td>        1.13</td><td>   </td><td>        1.18</td><td>   </td><td>        1.19</td><td>   </td><td>        1.05</td><td>   </td></tr>\n",
       "<tr><td>            </td><td>      (1.03)</td><td>   </td><td>      (0.48)</td><td>   </td><td>      (0.50)</td><td>   </td><td>      (0.51)</td><td>   </td><td>      (0.47)</td><td>   </td></tr>\n",
       "<tr><td>finance     </td><td>        1.00</td><td>   </td><td>        2.45</td><td>***</td><td>        2.46</td><td>***</td><td>            </td><td>   </td><td>            </td><td>   </td></tr>\n",
       "<tr><td>            </td><td>         (.)</td><td>   </td><td>      (0.65)</td><td>   </td><td>      (0.66)</td><td>   </td><td>            </td><td>   </td><td>            </td><td>   </td></tr>\n",
       "<tr><td>worth in billions (2017 $)</td><td>            </td><td>   </td><td>            </td><td>   </td><td>        0.99</td><td>   </td><td>        0.99</td><td>   </td><td>        0.99</td><td>   </td></tr>\n",
       "<tr><td>            </td><td>            </td><td>   </td><td>            </td><td>   </td><td>      (0.01)</td><td>   </td><td>      (0.01)</td><td>   </td><td>      (0.02)</td><td>   </td></tr>\n",
       "<tr><td>pehedge     </td><td>            </td><td>   </td><td>            </td><td>   </td><td>            </td><td>   </td><td>        3.17</td><td>***</td><td>        1.67</td><td>   </td></tr>\n",
       "<tr><td>            </td><td>            </td><td>   </td><td>            </td><td>   </td><td>            </td><td>   </td><td>      (1.02)</td><td>   </td><td>      (0.55)</td><td>   </td></tr>\n",
       "<tr><td>other finance</td><td>            </td><td>   </td><td>            </td><td>   </td><td>            </td><td>   </td><td>        1.78</td><td>   </td><td>        1.49</td><td>   </td></tr>\n",
       "<tr><td>            </td><td>            </td><td>   </td><td>            </td><td>   </td><td>            </td><td>   </td><td>      (0.70)</td><td>   </td><td>      (0.63)</td><td>   </td></tr>\n",
       "<tr><td>Top 30 public BA</td><td>            </td><td>   </td><td>            </td><td>   </td><td>            </td><td>   </td><td>            </td><td>   </td><td>        4.54</td><td>^  </td></tr>\n",
       "<tr><td>            </td><td>            </td><td>   </td><td>            </td><td>   </td><td>            </td><td>   </td><td>            </td><td>   </td><td>      (3.73)</td><td>   </td></tr>\n",
       "<tr><td>Top 30 private BA</td><td>            </td><td>   </td><td>            </td><td>   </td><td>            </td><td>   </td><td>            </td><td>   </td><td>        8.51</td><td>** </td></tr>\n",
       "<tr><td>            </td><td>            </td><td>   </td><td>            </td><td>   </td><td>            </td><td>   </td><td>            </td><td>   </td><td>      (6.41)</td><td>   </td></tr>\n",
       "<tr><td>Top 30 public MBA</td><td>            </td><td>   </td><td>            </td><td>   </td><td>            </td><td>   </td><td>            </td><td>   </td><td>        1.23</td><td>   </td></tr>\n",
       "<tr><td>            </td><td>            </td><td>   </td><td>            </td><td>   </td><td>            </td><td>   </td><td>            </td><td>   </td><td>      (1.22)</td><td>   </td></tr>\n",
       "<tr><td>Top 30 private MBA</td><td>            </td><td>   </td><td>            </td><td>   </td><td>            </td><td>   </td><td>            </td><td>   </td><td>        2.78</td><td>***</td></tr>\n",
       "<tr><td>            </td><td>            </td><td>   </td><td>            </td><td>   </td><td>            </td><td>   </td><td>            </td><td>   </td><td>      (0.84)</td><td>   </td></tr>\n",
       "<tr><td colspan=11><hr></td></tr>\n",
       "<tr><td><i>N</i>    </td><td>         965</td><td>   </td><td>        1200</td><td>   </td><td>        1199</td><td>   </td><td>        1199</td><td>   </td><td>        1189</td><td>   </td></tr>\n",
       "<tr><td colspan=11><hr></td></tr>\n",
       "<tr><td colspan=11>\n",
       "Exponentiated coefficients\n",
       "<br />^ p<.1, * p<.05, ** p<.01, *** p<.001\n",
       "</td></tr>\n",
       "</table>\n",
       "\n"
      ],
      "text/plain": [
       "This front-end or document format cannot display HTML"
      ]
     },
     "metadata": {},
     "output_type": "display_data"
    }
   ],
   "source": [
    "%html\n",
    "\n",
    "esttab ///\n",
    ", eform cells(b(star fmt(2)) se(fmt(2) par)) stardetach  ///\n",
    "\tlegend starlevels(^ .1 * .05 ** .01 *** .001) ///\n",
    "    keep ( worth inherited technology finance pehedge otherfin ///\n",
    "2.collegeschooltype 3.collegeschooltype ///\n",
    "2.mbaschooltype 3.mbaschooltype) ///\n",
    "\torder ( inherited technology finance worth pehedge otherfin ///\n",
    "2.collegeschooltype 3.collegeschooltype ///\n",
    "2.mbaschooltype 3.mbaschooltype) ///\n",
    "coeflabels(finance \"finance\" pe \"private equity\" hedge \"hedge fund\" otherfin \"other finance\" ///\n",
    "tech \"technology\" worth \"worth in billions (2017 $)\" inherited \"inherited wealth\" ///\n",
    "1.collegeschooltype \"Non-top 60 BA\" 2.collegeschooltype \"Top 30 public BA\" 3.collegeschooltype \"Top 30 private BA\" ///) replace\n",
    "2.mbaschooltype \"Top 30 public MBA\" 3.mbaschooltype \"Top 30 private MBA\") ///\n",
    "replace br  nocon html collabels(none) ///\n",
    "mlabels(\"Top 30 Public\" \"Top 30 Private\" \"Top 30 Private\" \"Top 30 Private\") ///\n",
    "title(Table 2: Odds ratios for university board membership among Forbes 400) eqlabels(none)"
   ]
  },
  {
   "cell_type": "code",
   "execution_count": 4,
   "metadata": {},
   "outputs": [
    {
     "name": "stdout",
     "output_type": "stream",
     "text": [
      "(output written to T3_circuitry_Forbes_board20200128.rtf)\n"
     ]
    }
   ],
   "source": [
    "esttab using T3_circuitry_Forbes_board20200128.rtf  ///\n",
    ",  cells(b(star fmt(2)) se(fmt(2) par)) stardetach  ///\n",
    "\tlegend starlevels(^ .1 * .05 ** .01 *** .001) ///\n",
    "    keep ( worth inherited technology finance pehedge otherfin ///\n",
    "2.collegeschooltype 3.collegeschooltype ///\n",
    "2.mbaschooltype 3.mbaschooltype) ///\n",
    "\torder ( worth inherited technology finance pehedge otherfin ///\n",
    "2.collegeschooltype 3.collegeschooltype ///\n",
    "2.mbaschooltype 3.mbaschooltype) ///\n",
    "coeflabels(finance \"finance\" pe \"private equity\" hedge \"hedge fund\" otherfin \"other finance\" ///\n",
    "tech \"technology\" worth \"worth in billions (2017 $)\" inherited \"inherited wealth\" ///\n",
    "1.collegeschooltype \"Non-top 60 BA\" 2.collegeschooltype \"Top 30 public BA\" 3.collegeschooltype \"Top 30 private BA\" ///) replace\n",
    "2.mbaschooltype \"Top 30 public MBA\" 3.mbaschooltype \"Top 30 private MBA\") ///\n",
    "replace br  nocon collabels(none) ///\n",
    "mlabels(\"Top 30 Public\" \"Top 30 Private\" \"Top 30 Private\" \"Top 30 Private\") ///\n",
    "title(Table 2: Odds ratios for university board membership among Forbes 400) eqlabels(none)"
   ]
  }
 ],
 "metadata": {
  "kernelspec": {
   "display_name": "Stata",
   "language": "stata",
   "name": "stata"
  },
  "language_info": {
   "codemirror_mode": "stata",
   "file_extension": ".do",
   "mimetype": "text/x-stata",
   "name": "stata",
   "version": "15.1"
  }
 },
 "nbformat": 4,
 "nbformat_minor": 4
}
