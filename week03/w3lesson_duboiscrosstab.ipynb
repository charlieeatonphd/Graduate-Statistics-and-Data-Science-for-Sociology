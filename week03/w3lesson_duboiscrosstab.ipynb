{
 "cells": [
  {
   "cell_type": "markdown",
   "metadata": {
    "nbgrader": {
     "grade": false,
     "grade_id": "cell-b22b7a7ab2c2897a",
     "locked": true,
     "schema_version": 3,
     "solution": false,
     "task": false
    }
   },
   "source": [
    "# 1. Du Bois, cross tabulations, and data exploration"
   ]
  },
  {
   "cell_type": "markdown",
   "metadata": {
    "nbgrader": {
     "grade": false,
     "grade_id": "cell-45d9dcb89e9e0cb0",
     "locked": true,
     "schema_version": 3,
     "solution": false,
     "task": false
    }
   },
   "source": [
    "\"Many of the examples in the first 3 chapters are quite old, drawn from studies conducted as far back as the 1960s. This is because at that time tabular analysis was the 'state of the art'.\" Treiman, pp. 1"
   ]
  },
  {
   "cell_type": "markdown",
   "metadata": {
    "nbgrader": {
     "grade": false,
     "grade_id": "cell-591ec66377b9bf82",
     "locked": true,
     "schema_version": 3,
     "solution": false,
     "task": false
    }
   },
   "source": [
    "## All knowledge requires comparison"
   ]
  },
  {
   "cell_type": "markdown",
   "metadata": {
    "nbgrader": {
     "grade": false,
     "grade_id": "cell-1712e25a3c30c3be",
     "locked": true,
     "schema_version": 3,
     "solution": false,
     "task": false
    }
   },
   "source": [
    "In statistics, what are the 3 fundamental levels measurement for comparison?"
   ]
  },
  {
   "cell_type": "markdown",
   "metadata": {
    "nbgrader": {
     "grade": false,
     "grade_id": "cell-c9da98bb25c52f54",
     "locked": true,
     "points": 1,
     "schema_version": 3,
     "solution": false,
     "task": true
    }
   },
   "source": [
    "Your answers here:\n",
    "1. nominal - categories like regious affiliations\n",
    "2. ordinal - most health, health, unhealthy, very unhealy (scale) rank ordered\n",
    "3. interval - ratio - counts, amounts, rates that are continues "
   ]
  },
  {
   "cell_type": "markdown",
   "metadata": {
    "nbgrader": {
     "grade": false,
     "grade_id": "cell-648840ca09734074",
     "locked": true,
     "schema_version": 3,
     "solution": false,
     "task": false
    }
   },
   "source": [
    "## One descriptive form of comparison is to present univariate distributions"
   ]
  },
  {
   "cell_type": "markdown",
   "metadata": {
    "nbgrader": {
     "grade": false,
     "grade_id": "cell-648840ca09734074",
     "locked": true,
     "schema_version": 3,
     "solution": false,
     "task": false
    }
   },
   "source": [
    "### Example 1: What level of measurement is used for the following Du Bois comparison?\n",
    "Add your answer here: "
   ]
  },
  {
   "cell_type": "markdown",
   "metadata": {
    "nbgrader": {
     "grade": false,
     "grade_id": "cell-08b016c150650fdb",
     "locked": true,
     "schema_version": 3,
     "solution": false,
     "task": false
    }
   },
   "source": [
    "<img src=\"https://miro.medium.com/max/2652/1*ci_qRah4EQqsW31hDqSCLw.png\" width=\"400\" align=\"left\">"
   ]
  },
  {
   "cell_type": "markdown",
   "metadata": {},
   "source": [
    "### Example 2: Fewer illustrations of univariate distributions of interval ratio data\n",
    "What are examples statistics and plots we use for univariate distributions of interval ratio variabls?\n",
    "1. Histogram - continuous frequency distribution\n",
    "2. Box plot - plot statistics such as interquartile range, median, percentiles in a distribution\n",
    "3. Mean, standard deviation, mode"
   ]
  },
  {
   "cell_type": "markdown",
   "metadata": {},
   "source": [
    "## Download Charlie's data on for-profit colleges to your directory using the code below"
   ]
  },
  {
   "cell_type": "code",
   "execution_count": 16,
   "metadata": {},
   "outputs": [],
   "source": [
    "copy \"https://raw.githubusercontent.com/charlieeatonphd/agilepredators/master/agilepredatorsdata20191116.csv\" ///\n",
    "agilepredatorsdata20191116.csv"
   ]
  },
  {
   "cell_type": "markdown",
   "metadata": {},
   "source": [
    "## Now read Charlie's data into Stata"
   ]
  },
  {
   "cell_type": "code",
   "execution_count": 23,
   "metadata": {},
   "outputs": [
    {
     "name": "stdout",
     "output_type": "stream",
     "text": [
      "\n",
      "(52 vars, 205,262 obs)\n",
      "\n",
      "(197,685 observations deleted)\n"
     ]
    }
   ],
   "source": [
    "insheet using \"agilepredatorsdata20191116.csv\", comma clear\n",
    "keep if year==2014"
   ]
  },
  {
   "cell_type": "markdown",
   "metadata": {},
   "source": [
    "### Check out the names of all the variables"
   ]
  },
  {
   "cell_type": "code",
   "execution_count": 27,
   "metadata": {},
   "outputs": [
    {
     "name": "stdout",
     "output_type": "stream",
     "text": [
      "all_under                 dist_pell_s               grtotltallgradchrt        idx_gr                    not_pe_po                 pct4yrchrtgrbkaat_w       pe_ind                    poswitcherall             total_enrollment\n",
      "all_under_w               dist_white_share_w        grtotltchrt2yr            idx_sfa                   online                    pct4yrchrtgrhispt_w       peacqu                    poswitchsystemall         tuitionall_c_w\n",
      "chain                     fed_grant_pct_w           grtotltchrt4yr            inst_name_new             owner_pe                  pct4yrchrtgrwhitt_w       peswitcherall             selective                 unitid\n",
      "dist_black_share_w        grad_rate_150_p2yr_w      iclevel                   investevent               pct2yrchrtgrbkaat_w       pctchrtgrbkaat_w          peswitchsystemall         state_n                   year\n",
      "dist_fed_grant_pct_w      grad_rate_150_p4yr_w      idx_ef                    ipo                       pct2yrchrtgrhispt_w       pctchrtgrhispt_w          po_ind                    systemid\n",
      "dist_hisp_share_w         grad_rate_150_p_w         idx_f                     loan_amount_borrower_c_w  pct2yrchrtgrwhitt_w       pctchrtgrwhitt_w          poacqu                    systemnm\n"
     ]
    }
   ],
   "source": [
    "ds, varwidth(29) alpha"
   ]
  },
  {
   "cell_type": "markdown",
   "metadata": {},
   "source": [
    "## Check out the summary stats for college-level tuition rates, add a label\n",
    "\n",
    "What level of measurement does this var use?"
   ]
  },
  {
   "cell_type": "code",
   "execution_count": 28,
   "metadata": {},
   "outputs": [
    {
     "name": "stdout",
     "output_type": "stream",
     "text": [
      "\n",
      "      +------------------------------------------------+\n",
      "      |                       inst_name_new   tuitio~w |\n",
      "      |------------------------------------------------|\n",
      "   1. |            ALABAMA A & M UNIVERSITY   5637.231 |\n",
      "   2. | UNIVERSITY OF ALABAMA AT BIRMINGHAM   7264.286 |\n",
      "   3. |       SOUTHERN CHRISTIAN UNIVERSITY   6955.811 |\n",
      "   4. | UNIVERSITY OF ALABAMA IN HUNTSVILLE    9266.35 |\n",
      "   5. |            ALABAMA STATE UNIVERSITY   6992.102 |\n",
      "      +------------------------------------------------+\n"
     ]
    }
   ],
   "source": [
    "list inst_name_new tuitionall_c_w if _n<6"
   ]
  },
  {
   "cell_type": "code",
   "execution_count": 25,
   "metadata": {},
   "outputs": [
    {
     "name": "stdout",
     "output_type": "stream",
     "text": [
      "\n",
      "\n",
      "    Variable |        Obs        Mean    Std. Dev.       Min        Max\n",
      "-------------+---------------------------------------------------------\n",
      "tuitionall~w |      7,209    13730.04    9019.011    205.615   38608.27\n",
      "grad_rat~p_w |          0\n",
      "\n"
     ]
    }
   ],
   "source": [
    "sum tuitionall_c_w\n",
    "label var tuitionall_c_w \"college-level annual tuition rate\""
   ]
  },
  {
   "cell_type": "markdown",
   "metadata": {},
   "source": [
    "### Summarize again with more detail"
   ]
  },
  {
   "cell_type": "code",
   "execution_count": 22,
   "metadata": {},
   "outputs": [
    {
     "name": "stdout",
     "output_type": "stream",
     "text": [
      "\n",
      "\n",
      "              college-level annual tuition rate\n",
      "-------------------------------------------------------------\n",
      "      Percentiles      Smallest\n",
      " 1%     977.8459        205.615\n",
      " 5%     1984.926        205.615\n",
      "10%     2897.246        205.615       Obs               7,209\n",
      "25%     6616.085        205.615       Sum of Wgt.       7,209\n",
      "\n",
      "50%     13089.02                      Mean           13730.04\n",
      "                        Largest       Std. Dev.      9019.011\n",
      "75%     17637.52       38608.27\n",
      "90%      27107.5       38608.27       Variance       8.13e+07\n",
      "95%     33147.96       38608.27       Skewness        .898302\n",
      "99%     38608.27       38608.27       Kurtosis       3.584447\n",
      "\n"
     ]
    }
   ],
   "source": [
    "sum tuitionall_c_w, detail\n",
    "label var tuitionall_c_w \"college-level annual tuition rate\""
   ]
  },
  {
   "cell_type": "markdown",
   "metadata": {},
   "source": [
    ". \n",
    ". \n",
    "## These stats, including pctiles, are a wall of inpenetrable numbers. Lets try histograms"
   ]
  },
  {
   "cell_type": "code",
   "execution_count": 4,
   "metadata": {},
   "outputs": [
    {
     "name": "stdout",
     "output_type": "stream",
     "text": [
      "(bin=38, start=205.61501, width=1010.5962)\n"
     ]
    },
    {
     "data": {
      "application/pdf": "[encoded data removed]",
      "image/svg+xml": [
       "<?xml version=\"1.0\" encoding=\"UTF-8\" standalone=\"no\"?>\n",
       "<!-- This is a Stata 15.1 generated SVG file (http://www.stata.com) -->\n",
       "\n",
       "<svg version=\"1.1\" width=\"600px\" height=\"436px\" viewBox=\"0 0 3960 2880\" xmlns=\"http://www.w3.org/2000/svg\" xmlns:xlink=\"http://www.w3.org/1999/xlink\">\n",
       "\t<desc>Stata Graph - Graph</desc>\n",
       "\t<rect x=\"0\" y=\"0\" width=\"3960\" height=\"2880\" style=\"fill:#EAF2F3;stroke:none\"/>\n",
       "\t<rect x=\"0.00\" y=\"0.00\" width=\"3959.88\" height=\"2880.00\" style=\"fill:#EAF2F3\"/>\n",
       "\t<rect x=\"2.88\" y=\"2.88\" width=\"3954.12\" height=\"2874.24\" style=\"fill:none;stroke:#EAF2F3;stroke-width:5.76\"/>\n",
       "\t<rect x=\"390.80\" y=\"100.86\" width=\"3468.22\" height=\"2388.33\" style=\"fill:#FFFFFF\"/>\n",
       "\t<rect x=\"393.68\" y=\"103.74\" width=\"3462.46\" height=\"2382.57\" style=\"fill:none;stroke:#FFFFFF;stroke-width:5.76\"/>\n",
       "\t<line x1=\"390.80\" y1=\"2489.19\" x2=\"3859.02\" y2=\"2489.19\" style=\"stroke:#EAF2F3;stroke-width:8.64\"/>\n",
       "\t<line x1=\"390.80\" y1=\"1907.91\" x2=\"3859.02\" y2=\"1907.91\" style=\"stroke:#EAF2F3;stroke-width:8.64\"/>\n",
       "\t<line x1=\"390.80\" y1=\"1326.64\" x2=\"3859.02\" y2=\"1326.64\" style=\"stroke:#EAF2F3;stroke-width:8.64\"/>\n",
       "\t<line x1=\"390.80\" y1=\"745.37\" x2=\"3859.02\" y2=\"745.37\" style=\"stroke:#EAF2F3;stroke-width:8.64\"/>\n",
       "\t<line x1=\"390.80\" y1=\"164.22\" x2=\"3859.02\" y2=\"164.22\" style=\"stroke:#EAF2F3;stroke-width:8.64\"/>\n",
       "\t<rect x=\"495.99\" y=\"1870.91\" width=\"83.90\" height=\"618.27\" style=\"fill:#CAC27E\"/>\n",
       "\t<rect x=\"500.31\" y=\"1875.23\" width=\"75.26\" height=\"609.63\" style=\"fill:none;stroke:#D7D29E;stroke-width:8.64\"/>\n",
       "\t<rect x=\"579.89\" y=\"1352.26\" width=\"83.78\" height=\"1136.93\" style=\"fill:#CAC27E\"/>\n",
       "\t<rect x=\"584.21\" y=\"1356.58\" width=\"75.14\" height=\"1128.29\" style=\"fill:none;stroke:#D7D29E;stroke-width:8.64\"/>\n",
       "\t<rect x=\"663.67\" y=\"993.25\" width=\"83.78\" height=\"1495.94\" style=\"fill:#CAC27E\"/>\n",
       "\t<rect x=\"667.99\" y=\"997.57\" width=\"75.14\" height=\"1487.30\" style=\"fill:none;stroke:#D7D29E;stroke-width:8.64\"/>\n",
       "\t<rect x=\"747.45\" y=\"817.77\" width=\"83.78\" height=\"1671.42\" style=\"fill:#CAC27E\"/>\n",
       "\t<rect x=\"751.77\" y=\"822.09\" width=\"75.14\" height=\"1662.78\" style=\"fill:none;stroke:#D7D29E;stroke-width:8.64\"/>\n",
       "\t<rect x=\"831.23\" y=\"1531.83\" width=\"83.78\" height=\"957.36\" style=\"fill:#CAC27E\"/>\n",
       "\t<rect x=\"835.55\" y=\"1536.15\" width=\"75.14\" height=\"948.72\" style=\"fill:none;stroke:#D7D29E;stroke-width:8.64\"/>\n",
       "\t<rect x=\"915.01\" y=\"1499.90\" width=\"83.78\" height=\"989.29\" style=\"fill:#CAC27E\"/>\n",
       "\t<rect x=\"919.33\" y=\"1504.22\" width=\"75.14\" height=\"980.65\" style=\"fill:none;stroke:#D7D29E;stroke-width:8.64\"/>\n",
       "\t<rect x=\"998.79\" y=\"1651.50\" width=\"83.78\" height=\"837.69\" style=\"fill:#CAC27E\"/>\n",
       "\t<rect x=\"1003.11\" y=\"1655.82\" width=\"75.14\" height=\"829.05\" style=\"fill:none;stroke:#D7D29E;stroke-width:8.64\"/>\n",
       "\t<rect x=\"1082.57\" y=\"1755.20\" width=\"83.90\" height=\"733.98\" style=\"fill:#CAC27E\"/>\n",
       "\t<rect x=\"1086.88\" y=\"1759.52\" width=\"75.26\" height=\"725.34\" style=\"fill:none;stroke:#D7D29E;stroke-width:8.64\"/>\n",
       "\t<rect x=\"1166.47\" y=\"1543.71\" width=\"83.78\" height=\"945.48\" style=\"fill:#CAC27E\"/>\n",
       "\t<rect x=\"1170.79\" y=\"1548.03\" width=\"75.14\" height=\"936.84\" style=\"fill:none;stroke:#D7D29E;stroke-width:8.64\"/>\n",
       "\t<rect x=\"1250.25\" y=\"1340.25\" width=\"83.78\" height=\"1148.93\" style=\"fill:#CAC27E\"/>\n",
       "\t<rect x=\"1254.57\" y=\"1344.57\" width=\"75.14\" height=\"1140.29\" style=\"fill:none;stroke:#D7D29E;stroke-width:8.64\"/>\n",
       "\t<rect x=\"1334.03\" y=\"1156.85\" width=\"83.78\" height=\"1332.33\" style=\"fill:#CAC27E\"/>\n",
       "\t<rect x=\"1338.34\" y=\"1161.17\" width=\"75.14\" height=\"1323.69\" style=\"fill:none;stroke:#D7D29E;stroke-width:8.64\"/>\n",
       "\t<rect x=\"1417.80\" y=\"949.32\" width=\"83.78\" height=\"1539.87\" style=\"fill:#CAC27E\"/>\n",
       "\t<rect x=\"1422.12\" y=\"953.64\" width=\"75.14\" height=\"1531.23\" style=\"fill:none;stroke:#D7D29E;stroke-width:8.64\"/>\n",
       "\t<rect x=\"1501.58\" y=\"1160.81\" width=\"83.78\" height=\"1328.37\" style=\"fill:#CAC27E\"/>\n",
       "\t<rect x=\"1505.90\" y=\"1165.13\" width=\"75.14\" height=\"1319.73\" style=\"fill:none;stroke:#D7D29E;stroke-width:8.64\"/>\n",
       "\t<rect x=\"1585.36\" y=\"973.32\" width=\"83.78\" height=\"1515.86\" style=\"fill:#CAC27E\"/>\n",
       "\t<rect x=\"1589.68\" y=\"977.64\" width=\"75.14\" height=\"1507.22\" style=\"fill:none;stroke:#D7D29E;stroke-width:8.64\"/>\n",
       "\t<rect x=\"1669.14\" y=\"666.17\" width=\"83.90\" height=\"1823.02\" style=\"fill:#CAC27E\"/>\n",
       "\t<rect x=\"1673.46\" y=\"670.49\" width=\"75.26\" height=\"1814.38\" style=\"fill:none;stroke:#D7D29E;stroke-width:8.64\"/>\n",
       "\t<rect x=\"1753.04\" y=\"362.97\" width=\"83.78\" height=\"2126.22\" style=\"fill:#CAC27E\"/>\n",
       "\t<rect x=\"1757.36\" y=\"367.29\" width=\"75.14\" height=\"2117.58\" style=\"fill:none;stroke:#D7D29E;stroke-width:8.64\"/>\n",
       "\t<rect x=\"1836.82\" y=\"1376.27\" width=\"83.78\" height=\"1112.92\" style=\"fill:#CAC27E\"/>\n",
       "\t<rect x=\"1841.14\" y=\"1380.59\" width=\"75.14\" height=\"1104.28\" style=\"fill:none;stroke:#D7D29E;stroke-width:8.64\"/>\n",
       "\t<rect x=\"1920.60\" y=\"905.51\" width=\"83.78\" height=\"1583.68\" style=\"fill:#CAC27E\"/>\n",
       "\t<rect x=\"1924.92\" y=\"909.83\" width=\"75.14\" height=\"1575.04\" style=\"fill:none;stroke:#D7D29E;stroke-width:8.64\"/>\n",
       "\t<rect x=\"2004.38\" y=\"1715.35\" width=\"83.78\" height=\"773.83\" style=\"fill:#CAC27E\"/>\n",
       "\t<rect x=\"2008.70\" y=\"1719.67\" width=\"75.14\" height=\"765.19\" style=\"fill:none;stroke:#D7D29E;stroke-width:8.64\"/>\n",
       "\t<rect x=\"2088.16\" y=\"2106.29\" width=\"83.78\" height=\"382.89\" style=\"fill:#CAC27E\"/>\n",
       "\t<rect x=\"2092.48\" y=\"2110.61\" width=\"75.14\" height=\"374.25\" style=\"fill:none;stroke:#D7D29E;stroke-width:8.64\"/>\n",
       "\t<rect x=\"2171.94\" y=\"2178.07\" width=\"83.78\" height=\"311.12\" style=\"fill:#CAC27E\"/>\n",
       "\t<rect x=\"2176.26\" y=\"2182.39\" width=\"75.14\" height=\"302.48\" style=\"fill:none;stroke:#D7D29E;stroke-width:8.64\"/>\n",
       "\t<rect x=\"2255.72\" y=\"2245.89\" width=\"83.90\" height=\"243.30\" style=\"fill:#CAC27E\"/>\n",
       "\t<rect x=\"2260.03\" y=\"2250.21\" width=\"75.26\" height=\"234.66\" style=\"fill:none;stroke:#D7D29E;stroke-width:8.64\"/>\n",
       "\t<rect x=\"2339.62\" y=\"2245.89\" width=\"83.78\" height=\"243.30\" style=\"fill:#CAC27E\"/>\n",
       "\t<rect x=\"2343.94\" y=\"2250.21\" width=\"75.14\" height=\"234.66\" style=\"fill:none;stroke:#D7D29E;stroke-width:8.64\"/>\n",
       "\t<rect x=\"2423.40\" y=\"2142.18\" width=\"83.78\" height=\"347.01\" style=\"fill:#CAC27E\"/>\n",
       "\t<rect x=\"2427.72\" y=\"2146.50\" width=\"75.14\" height=\"338.37\" style=\"fill:none;stroke:#D7D29E;stroke-width:8.64\"/>\n",
       "\t<rect x=\"2507.18\" y=\"2194.03\" width=\"83.78\" height=\"295.15\" style=\"fill:#CAC27E\"/>\n",
       "\t<rect x=\"2511.49\" y=\"2198.35\" width=\"75.14\" height=\"286.51\" style=\"fill:none;stroke:#D7D29E;stroke-width:8.64\"/>\n",
       "\t<rect x=\"2590.95\" y=\"2261.85\" width=\"83.78\" height=\"227.34\" style=\"fill:#CAC27E\"/>\n",
       "\t<rect x=\"2595.27\" y=\"2266.17\" width=\"75.14\" height=\"218.70\" style=\"fill:none;stroke:#D7D29E;stroke-width:8.64\"/>\n",
       "\t<rect x=\"2674.73\" y=\"2213.96\" width=\"83.78\" height=\"275.23\" style=\"fill:#CAC27E\"/>\n",
       "\t<rect x=\"2679.05\" y=\"2218.28\" width=\"75.14\" height=\"266.59\" style=\"fill:none;stroke:#D7D29E;stroke-width:8.64\"/>\n",
       "\t<rect x=\"2758.51\" y=\"2197.99\" width=\"83.90\" height=\"291.19\" style=\"fill:#CAC27E\"/>\n",
       "\t<rect x=\"2762.83\" y=\"2202.31\" width=\"75.26\" height=\"282.55\" style=\"fill:none;stroke:#D7D29E;stroke-width:8.64\"/>\n",
       "\t<rect x=\"2842.29\" y=\"2166.06\" width=\"83.90\" height=\"323.12\" style=\"fill:#CAC27E\"/>\n",
       "\t<rect x=\"2846.61\" y=\"2170.38\" width=\"75.26\" height=\"314.48\" style=\"fill:none;stroke:#D7D29E;stroke-width:8.64\"/>\n",
       "\t<rect x=\"2926.19\" y=\"2281.77\" width=\"83.78\" height=\"207.41\" style=\"fill:#CAC27E\"/>\n",
       "\t<rect x=\"2930.51\" y=\"2286.09\" width=\"75.14\" height=\"198.77\" style=\"fill:none;stroke:#D7D29E;stroke-width:8.64\"/>\n",
       "\t<rect x=\"3009.97\" y=\"2325.71\" width=\"83.78\" height=\"163.48\" style=\"fill:#CAC27E\"/>\n",
       "\t<rect x=\"3014.29\" y=\"2330.03\" width=\"75.14\" height=\"154.84\" style=\"fill:none;stroke:#D7D29E;stroke-width:8.64\"/>\n",
       "\t<rect x=\"3093.75\" y=\"2305.66\" width=\"83.78\" height=\"183.53\" style=\"fill:#CAC27E\"/>\n",
       "\t<rect x=\"3098.07\" y=\"2309.98\" width=\"75.14\" height=\"174.89\" style=\"fill:none;stroke:#D7D29E;stroke-width:8.64\"/>\n",
       "\t<rect x=\"3177.53\" y=\"2281.77\" width=\"83.78\" height=\"207.41\" style=\"fill:#CAC27E\"/>\n",
       "\t<rect x=\"3181.85\" y=\"2286.09\" width=\"75.14\" height=\"198.77\" style=\"fill:none;stroke:#D7D29E;stroke-width:8.64\"/>\n",
       "\t<rect x=\"3261.31\" y=\"2365.56\" width=\"83.78\" height=\"123.63\" style=\"fill:#CAC27E\"/>\n",
       "\t<rect x=\"3265.63\" y=\"2369.88\" width=\"75.14\" height=\"114.99\" style=\"fill:none;stroke:#D7D29E;stroke-width:8.64\"/>\n",
       "\t<rect x=\"3345.09\" y=\"2337.59\" width=\"83.90\" height=\"151.60\" style=\"fill:#CAC27E\"/>\n",
       "\t<rect x=\"3349.41\" y=\"2341.91\" width=\"75.26\" height=\"142.96\" style=\"fill:none;stroke:#D7D29E;stroke-width:8.64\"/>\n",
       "\t<rect x=\"3428.99\" y=\"2381.52\" width=\"83.78\" height=\"107.67\" style=\"fill:#CAC27E\"/>\n",
       "\t<rect x=\"3433.31\" y=\"2385.84\" width=\"75.14\" height=\"99.03\" style=\"fill:none;stroke:#D7D29E;stroke-width:8.64\"/>\n",
       "\t<rect x=\"3512.77\" y=\"2397.48\" width=\"83.78\" height=\"91.70\" style=\"fill:#CAC27E\"/>\n",
       "\t<rect x=\"3517.09\" y=\"2401.80\" width=\"75.14\" height=\"83.06\" style=\"fill:none;stroke:#D7D29E;stroke-width:8.64\"/>\n",
       "\t<rect x=\"3596.55\" y=\"1579.72\" width=\"83.78\" height=\"909.47\" style=\"fill:#CAC27E\"/>\n",
       "\t<rect x=\"3600.87\" y=\"1584.04\" width=\"75.14\" height=\"900.83\" style=\"fill:none;stroke:#D7D29E;stroke-width:8.64\"/>\n",
       "\t<line x1=\"390.80\" y1=\"2489.19\" x2=\"390.80\" y2=\"100.86\" style=\"stroke:#000000;stroke-width:5.76\"/>\n",
       "\t<line x1=\"390.80\" y1=\"2489.19\" x2=\"350.83\" y2=\"2489.19\" style=\"stroke:#000000;stroke-width:5.76\"/>\n",
       "\t<text x=\"300.72\" y=\"2489.19\" style=\"font-family:'Helvetica';font-size:99.99px;fill:#000000\" transform=\"rotate(-90 300.72,2489.19)\" text-anchor=\"middle\">0</text>\n",
       "\t<line x1=\"390.80\" y1=\"1907.91\" x2=\"350.83\" y2=\"1907.91\" style=\"stroke:#000000;stroke-width:5.76\"/>\n",
       "\t<text x=\"300.72\" y=\"1907.91\" style=\"font-family:'Helvetica';font-size:99.99px;fill:#000000\" transform=\"rotate(-90 300.72,1907.91)\" text-anchor=\"middle\">2.0e-05</text>\n",
       "\t<line x1=\"390.80\" y1=\"1326.64\" x2=\"350.83\" y2=\"1326.64\" style=\"stroke:#000000;stroke-width:5.76\"/>\n",
       "\t<text x=\"300.72\" y=\"1326.64\" style=\"font-family:'Helvetica';font-size:99.99px;fill:#000000\" transform=\"rotate(-90 300.72,1326.64)\" text-anchor=\"middle\">4.0e-05</text>\n",
       "\t<line x1=\"390.80\" y1=\"745.37\" x2=\"350.83\" y2=\"745.37\" style=\"stroke:#000000;stroke-width:5.76\"/>\n",
       "\t<text x=\"300.72\" y=\"745.37\" style=\"font-family:'Helvetica';font-size:99.99px;fill:#000000\" transform=\"rotate(-90 300.72,745.37)\" text-anchor=\"middle\">6.0e-05</text>\n",
       "\t<line x1=\"390.80\" y1=\"164.22\" x2=\"350.83\" y2=\"164.22\" style=\"stroke:#000000;stroke-width:5.76\"/>\n",
       "\t<text x=\"300.72\" y=\"164.22\" style=\"font-family:'Helvetica';font-size:99.99px;fill:#000000\" transform=\"rotate(-90 300.72,164.22)\" text-anchor=\"middle\">8.0e-05</text>\n",
       "\t<text x=\"190.71\" y=\"1294.96\" style=\"font-family:'Helvetica';font-size:99.99px;fill:#000000\" transform=\"rotate(-90 190.71,1294.96)\" text-anchor=\"middle\">Density</text>\n",
       "\t<line x1=\"390.80\" y1=\"2489.19\" x2=\"3859.02\" y2=\"2489.19\" style=\"stroke:#000000;stroke-width:5.76\"/>\n",
       "\t<line x1=\"479.04\" y1=\"2489.19\" x2=\"479.04\" y2=\"2529.16\" style=\"stroke:#000000;stroke-width:5.76\"/>\n",
       "\t<text x=\"479.04\" y=\"2619.14\" style=\"font-family:'Helvetica';font-size:99.99px;fill:#000000\" text-anchor=\"middle\">0</text>\n",
       "\t<line x1=\"1308.16\" y1=\"2489.19\" x2=\"1308.16\" y2=\"2529.16\" style=\"stroke:#000000;stroke-width:5.76\"/>\n",
       "\t<text x=\"1308.16\" y=\"2619.14\" style=\"font-family:'Helvetica';font-size:99.99px;fill:#000000\" text-anchor=\"middle\">10000</text>\n",
       "\t<line x1=\"2137.41\" y1=\"2489.19\" x2=\"2137.41\" y2=\"2529.16\" style=\"stroke:#000000;stroke-width:5.76\"/>\n",
       "\t<text x=\"2137.41\" y=\"2619.14\" style=\"font-family:'Helvetica';font-size:99.99px;fill:#000000\" text-anchor=\"middle\">20000</text>\n",
       "\t<line x1=\"2966.53\" y1=\"2489.19\" x2=\"2966.53\" y2=\"2529.16\" style=\"stroke:#000000;stroke-width:5.76\"/>\n",
       "\t<text x=\"2966.53\" y=\"2619.14\" style=\"font-family:'Helvetica';font-size:99.99px;fill:#000000\" text-anchor=\"middle\">30000</text>\n",
       "\t<line x1=\"3795.66\" y1=\"2489.19\" x2=\"3795.66\" y2=\"2529.16\" style=\"stroke:#000000;stroke-width:5.76\"/>\n",
       "\t<text x=\"3795.66\" y=\"2619.14\" style=\"font-family:'Helvetica';font-size:99.99px;fill:#000000\" text-anchor=\"middle\">40000</text>\n",
       "\t<text x=\"2124.91\" y=\"2729.16\" style=\"font-family:'Helvetica';font-size:99.99px;fill:#000000\" text-anchor=\"middle\">college-level annual tuition rate</text>\n",
       "</svg>\n"
      ],
      "text/html": [
       "                <iframe frameborder=\"0\" scrolling=\"no\" height=\"436\" width=\"600\"                srcdoc=\"<html><body>&lt;?xml version=&quot;1.0&quot; encoding=&quot;UTF-8&quot; standalone=&quot;no&quot;?&gt;\n",
       "&lt;!-- This is a Stata 15.1 generated SVG file (http://www.stata.com) --&gt;\n",
       "\n",
       "&lt;svg version=&quot;1.1&quot; width=&quot;600px&quot; height=&quot;436px&quot; viewBox=&quot;0 0 3960 2880&quot; xmlns=&quot;http://www.w3.org/2000/svg&quot; xmlns:xlink=&quot;http://www.w3.org/1999/xlink&quot;&gt;\n",
       "\t&lt;desc&gt;Stata Graph - Graph&lt;/desc&gt;\n",
       "\t&lt;rect x=&quot;0&quot; y=&quot;0&quot; width=&quot;3960&quot; height=&quot;2880&quot; style=&quot;fill:#EAF2F3;stroke:none&quot;/&gt;\n",
       "\t&lt;rect x=&quot;0.00&quot; y=&quot;0.00&quot; width=&quot;3959.88&quot; height=&quot;2880.00&quot; style=&quot;fill:#EAF2F3&quot;/&gt;\n",
       "\t&lt;rect x=&quot;2.88&quot; y=&quot;2.88&quot; width=&quot;3954.12&quot; height=&quot;2874.24&quot; style=&quot;fill:none;stroke:#EAF2F3;stroke-width:5.76&quot;/&gt;\n",
       "\t&lt;rect x=&quot;390.80&quot; y=&quot;100.86&quot; width=&quot;3468.22&quot; height=&quot;2388.33&quot; style=&quot;fill:#FFFFFF&quot;/&gt;\n",
       "\t&lt;rect x=&quot;393.68&quot; y=&quot;103.74&quot; width=&quot;3462.46&quot; height=&quot;2382.57&quot; style=&quot;fill:none;stroke:#FFFFFF;stroke-width:5.76&quot;/&gt;\n",
       "\t&lt;line x1=&quot;390.80&quot; y1=&quot;2489.19&quot; x2=&quot;3859.02&quot; y2=&quot;2489.19&quot; style=&quot;stroke:#EAF2F3;stroke-width:8.64&quot;/&gt;\n",
       "\t&lt;line x1=&quot;390.80&quot; y1=&quot;1907.91&quot; x2=&quot;3859.02&quot; y2=&quot;1907.91&quot; style=&quot;stroke:#EAF2F3;stroke-width:8.64&quot;/&gt;\n",
       "\t&lt;line x1=&quot;390.80&quot; y1=&quot;1326.64&quot; x2=&quot;3859.02&quot; y2=&quot;1326.64&quot; style=&quot;stroke:#EAF2F3;stroke-width:8.64&quot;/&gt;\n",
       "\t&lt;line x1=&quot;390.80&quot; y1=&quot;745.37&quot; x2=&quot;3859.02&quot; y2=&quot;745.37&quot; style=&quot;stroke:#EAF2F3;stroke-width:8.64&quot;/&gt;\n",
       "\t&lt;line x1=&quot;390.80&quot; y1=&quot;164.22&quot; x2=&quot;3859.02&quot; y2=&quot;164.22&quot; style=&quot;stroke:#EAF2F3;stroke-width:8.64&quot;/&gt;\n",
       "\t&lt;rect x=&quot;495.99&quot; y=&quot;1870.91&quot; width=&quot;83.90&quot; height=&quot;618.27&quot; style=&quot;fill:#CAC27E&quot;/&gt;\n",
       "\t&lt;rect x=&quot;500.31&quot; y=&quot;1875.23&quot; width=&quot;75.26&quot; height=&quot;609.63&quot; style=&quot;fill:none;stroke:#D7D29E;stroke-width:8.64&quot;/&gt;\n",
       "\t&lt;rect x=&quot;579.89&quot; y=&quot;1352.26&quot; width=&quot;83.78&quot; height=&quot;1136.93&quot; style=&quot;fill:#CAC27E&quot;/&gt;\n",
       "\t&lt;rect x=&quot;584.21&quot; y=&quot;1356.58&quot; width=&quot;75.14&quot; height=&quot;1128.29&quot; style=&quot;fill:none;stroke:#D7D29E;stroke-width:8.64&quot;/&gt;\n",
       "\t&lt;rect x=&quot;663.67&quot; y=&quot;993.25&quot; width=&quot;83.78&quot; height=&quot;1495.94&quot; style=&quot;fill:#CAC27E&quot;/&gt;\n",
       "\t&lt;rect x=&quot;667.99&quot; y=&quot;997.57&quot; width=&quot;75.14&quot; height=&quot;1487.30&quot; style=&quot;fill:none;stroke:#D7D29E;stroke-width:8.64&quot;/&gt;\n",
       "\t&lt;rect x=&quot;747.45&quot; y=&quot;817.77&quot; width=&quot;83.78&quot; height=&quot;1671.42&quot; style=&quot;fill:#CAC27E&quot;/&gt;\n",
       "\t&lt;rect x=&quot;751.77&quot; y=&quot;822.09&quot; width=&quot;75.14&quot; height=&quot;1662.78&quot; style=&quot;fill:none;stroke:#D7D29E;stroke-width:8.64&quot;/&gt;\n",
       "\t&lt;rect x=&quot;831.23&quot; y=&quot;1531.83&quot; width=&quot;83.78&quot; height=&quot;957.36&quot; style=&quot;fill:#CAC27E&quot;/&gt;\n",
       "\t&lt;rect x=&quot;835.55&quot; y=&quot;1536.15&quot; width=&quot;75.14&quot; height=&quot;948.72&quot; style=&quot;fill:none;stroke:#D7D29E;stroke-width:8.64&quot;/&gt;\n",
       "\t&lt;rect x=&quot;915.01&quot; y=&quot;1499.90&quot; width=&quot;83.78&quot; height=&quot;989.29&quot; style=&quot;fill:#CAC27E&quot;/&gt;\n",
       "\t&lt;rect x=&quot;919.33&quot; y=&quot;1504.22&quot; width=&quot;75.14&quot; height=&quot;980.65&quot; style=&quot;fill:none;stroke:#D7D29E;stroke-width:8.64&quot;/&gt;\n",
       "\t&lt;rect x=&quot;998.79&quot; y=&quot;1651.50&quot; width=&quot;83.78&quot; height=&quot;837.69&quot; style=&quot;fill:#CAC27E&quot;/&gt;\n",
       "\t&lt;rect x=&quot;1003.11&quot; y=&quot;1655.82&quot; width=&quot;75.14&quot; height=&quot;829.05&quot; style=&quot;fill:none;stroke:#D7D29E;stroke-width:8.64&quot;/&gt;\n",
       "\t&lt;rect x=&quot;1082.57&quot; y=&quot;1755.20&quot; width=&quot;83.90&quot; height=&quot;733.98&quot; style=&quot;fill:#CAC27E&quot;/&gt;\n",
       "\t&lt;rect x=&quot;1086.88&quot; y=&quot;1759.52&quot; width=&quot;75.26&quot; height=&quot;725.34&quot; style=&quot;fill:none;stroke:#D7D29E;stroke-width:8.64&quot;/&gt;\n",
       "\t&lt;rect x=&quot;1166.47&quot; y=&quot;1543.71&quot; width=&quot;83.78&quot; height=&quot;945.48&quot; style=&quot;fill:#CAC27E&quot;/&gt;\n",
       "\t&lt;rect x=&quot;1170.79&quot; y=&quot;1548.03&quot; width=&quot;75.14&quot; height=&quot;936.84&quot; style=&quot;fill:none;stroke:#D7D29E;stroke-width:8.64&quot;/&gt;\n",
       "\t&lt;rect x=&quot;1250.25&quot; y=&quot;1340.25&quot; width=&quot;83.78&quot; height=&quot;1148.93&quot; style=&quot;fill:#CAC27E&quot;/&gt;\n",
       "\t&lt;rect x=&quot;1254.57&quot; y=&quot;1344.57&quot; width=&quot;75.14&quot; height=&quot;1140.29&quot; style=&quot;fill:none;stroke:#D7D29E;stroke-width:8.64&quot;/&gt;\n",
       "\t&lt;rect x=&quot;1334.03&quot; y=&quot;1156.85&quot; width=&quot;83.78&quot; height=&quot;1332.33&quot; style=&quot;fill:#CAC27E&quot;/&gt;\n",
       "\t&lt;rect x=&quot;1338.34&quot; y=&quot;1161.17&quot; width=&quot;75.14&quot; height=&quot;1323.69&quot; style=&quot;fill:none;stroke:#D7D29E;stroke-width:8.64&quot;/&gt;\n",
       "\t&lt;rect x=&quot;1417.80&quot; y=&quot;949.32&quot; width=&quot;83.78&quot; height=&quot;1539.87&quot; style=&quot;fill:#CAC27E&quot;/&gt;\n",
       "\t&lt;rect x=&quot;1422.12&quot; y=&quot;953.64&quot; width=&quot;75.14&quot; height=&quot;1531.23&quot; style=&quot;fill:none;stroke:#D7D29E;stroke-width:8.64&quot;/&gt;\n",
       "\t&lt;rect x=&quot;1501.58&quot; y=&quot;1160.81&quot; width=&quot;83.78&quot; height=&quot;1328.37&quot; style=&quot;fill:#CAC27E&quot;/&gt;\n",
       "\t&lt;rect x=&quot;1505.90&quot; y=&quot;1165.13&quot; width=&quot;75.14&quot; height=&quot;1319.73&quot; style=&quot;fill:none;stroke:#D7D29E;stroke-width:8.64&quot;/&gt;\n",
       "\t&lt;rect x=&quot;1585.36&quot; y=&quot;973.32&quot; width=&quot;83.78&quot; height=&quot;1515.86&quot; style=&quot;fill:#CAC27E&quot;/&gt;\n",
       "\t&lt;rect x=&quot;1589.68&quot; y=&quot;977.64&quot; width=&quot;75.14&quot; height=&quot;1507.22&quot; style=&quot;fill:none;stroke:#D7D29E;stroke-width:8.64&quot;/&gt;\n",
       "\t&lt;rect x=&quot;1669.14&quot; y=&quot;666.17&quot; width=&quot;83.90&quot; height=&quot;1823.02&quot; style=&quot;fill:#CAC27E&quot;/&gt;\n",
       "\t&lt;rect x=&quot;1673.46&quot; y=&quot;670.49&quot; width=&quot;75.26&quot; height=&quot;1814.38&quot; style=&quot;fill:none;stroke:#D7D29E;stroke-width:8.64&quot;/&gt;\n",
       "\t&lt;rect x=&quot;1753.04&quot; y=&quot;362.97&quot; width=&quot;83.78&quot; height=&quot;2126.22&quot; style=&quot;fill:#CAC27E&quot;/&gt;\n",
       "\t&lt;rect x=&quot;1757.36&quot; y=&quot;367.29&quot; width=&quot;75.14&quot; height=&quot;2117.58&quot; style=&quot;fill:none;stroke:#D7D29E;stroke-width:8.64&quot;/&gt;\n",
       "\t&lt;rect x=&quot;1836.82&quot; y=&quot;1376.27&quot; width=&quot;83.78&quot; height=&quot;1112.92&quot; style=&quot;fill:#CAC27E&quot;/&gt;\n",
       "\t&lt;rect x=&quot;1841.14&quot; y=&quot;1380.59&quot; width=&quot;75.14&quot; height=&quot;1104.28&quot; style=&quot;fill:none;stroke:#D7D29E;stroke-width:8.64&quot;/&gt;\n",
       "\t&lt;rect x=&quot;1920.60&quot; y=&quot;905.51&quot; width=&quot;83.78&quot; height=&quot;1583.68&quot; style=&quot;fill:#CAC27E&quot;/&gt;\n",
       "\t&lt;rect x=&quot;1924.92&quot; y=&quot;909.83&quot; width=&quot;75.14&quot; height=&quot;1575.04&quot; style=&quot;fill:none;stroke:#D7D29E;stroke-width:8.64&quot;/&gt;\n",
       "\t&lt;rect x=&quot;2004.38&quot; y=&quot;1715.35&quot; width=&quot;83.78&quot; height=&quot;773.83&quot; style=&quot;fill:#CAC27E&quot;/&gt;\n",
       "\t&lt;rect x=&quot;2008.70&quot; y=&quot;1719.67&quot; width=&quot;75.14&quot; height=&quot;765.19&quot; style=&quot;fill:none;stroke:#D7D29E;stroke-width:8.64&quot;/&gt;\n",
       "\t&lt;rect x=&quot;2088.16&quot; y=&quot;2106.29&quot; width=&quot;83.78&quot; height=&quot;382.89&quot; style=&quot;fill:#CAC27E&quot;/&gt;\n",
       "\t&lt;rect x=&quot;2092.48&quot; y=&quot;2110.61&quot; width=&quot;75.14&quot; height=&quot;374.25&quot; style=&quot;fill:none;stroke:#D7D29E;stroke-width:8.64&quot;/&gt;\n",
       "\t&lt;rect x=&quot;2171.94&quot; y=&quot;2178.07&quot; width=&quot;83.78&quot; height=&quot;311.12&quot; style=&quot;fill:#CAC27E&quot;/&gt;\n",
       "\t&lt;rect x=&quot;2176.26&quot; y=&quot;2182.39&quot; width=&quot;75.14&quot; height=&quot;302.48&quot; style=&quot;fill:none;stroke:#D7D29E;stroke-width:8.64&quot;/&gt;\n",
       "\t&lt;rect x=&quot;2255.72&quot; y=&quot;2245.89&quot; width=&quot;83.90&quot; height=&quot;243.30&quot; style=&quot;fill:#CAC27E&quot;/&gt;\n",
       "\t&lt;rect x=&quot;2260.03&quot; y=&quot;2250.21&quot; width=&quot;75.26&quot; height=&quot;234.66&quot; style=&quot;fill:none;stroke:#D7D29E;stroke-width:8.64&quot;/&gt;\n",
       "\t&lt;rect x=&quot;2339.62&quot; y=&quot;2245.89&quot; width=&quot;83.78&quot; height=&quot;243.30&quot; style=&quot;fill:#CAC27E&quot;/&gt;\n",
       "\t&lt;rect x=&quot;2343.94&quot; y=&quot;2250.21&quot; width=&quot;75.14&quot; height=&quot;234.66&quot; style=&quot;fill:none;stroke:#D7D29E;stroke-width:8.64&quot;/&gt;\n",
       "\t&lt;rect x=&quot;2423.40&quot; y=&quot;2142.18&quot; width=&quot;83.78&quot; height=&quot;347.01&quot; style=&quot;fill:#CAC27E&quot;/&gt;\n",
       "\t&lt;rect x=&quot;2427.72&quot; y=&quot;2146.50&quot; width=&quot;75.14&quot; height=&quot;338.37&quot; style=&quot;fill:none;stroke:#D7D29E;stroke-width:8.64&quot;/&gt;\n",
       "\t&lt;rect x=&quot;2507.18&quot; y=&quot;2194.03&quot; width=&quot;83.78&quot; height=&quot;295.15&quot; style=&quot;fill:#CAC27E&quot;/&gt;\n",
       "\t&lt;rect x=&quot;2511.49&quot; y=&quot;2198.35&quot; width=&quot;75.14&quot; height=&quot;286.51&quot; style=&quot;fill:none;stroke:#D7D29E;stroke-width:8.64&quot;/&gt;\n",
       "\t&lt;rect x=&quot;2590.95&quot; y=&quot;2261.85&quot; width=&quot;83.78&quot; height=&quot;227.34&quot; style=&quot;fill:#CAC27E&quot;/&gt;\n",
       "\t&lt;rect x=&quot;2595.27&quot; y=&quot;2266.17&quot; width=&quot;75.14&quot; height=&quot;218.70&quot; style=&quot;fill:none;stroke:#D7D29E;stroke-width:8.64&quot;/&gt;\n",
       "\t&lt;rect x=&quot;2674.73&quot; y=&quot;2213.96&quot; width=&quot;83.78&quot; height=&quot;275.23&quot; style=&quot;fill:#CAC27E&quot;/&gt;\n",
       "\t&lt;rect x=&quot;2679.05&quot; y=&quot;2218.28&quot; width=&quot;75.14&quot; height=&quot;266.59&quot; style=&quot;fill:none;stroke:#D7D29E;stroke-width:8.64&quot;/&gt;\n",
       "\t&lt;rect x=&quot;2758.51&quot; y=&quot;2197.99&quot; width=&quot;83.90&quot; height=&quot;291.19&quot; style=&quot;fill:#CAC27E&quot;/&gt;\n",
       "\t&lt;rect x=&quot;2762.83&quot; y=&quot;2202.31&quot; width=&quot;75.26&quot; height=&quot;282.55&quot; style=&quot;fill:none;stroke:#D7D29E;stroke-width:8.64&quot;/&gt;\n",
       "\t&lt;rect x=&quot;2842.29&quot; y=&quot;2166.06&quot; width=&quot;83.90&quot; height=&quot;323.12&quot; style=&quot;fill:#CAC27E&quot;/&gt;\n",
       "\t&lt;rect x=&quot;2846.61&quot; y=&quot;2170.38&quot; width=&quot;75.26&quot; height=&quot;314.48&quot; style=&quot;fill:none;stroke:#D7D29E;stroke-width:8.64&quot;/&gt;\n",
       "\t&lt;rect x=&quot;2926.19&quot; y=&quot;2281.77&quot; width=&quot;83.78&quot; height=&quot;207.41&quot; style=&quot;fill:#CAC27E&quot;/&gt;\n",
       "\t&lt;rect x=&quot;2930.51&quot; y=&quot;2286.09&quot; width=&quot;75.14&quot; height=&quot;198.77&quot; style=&quot;fill:none;stroke:#D7D29E;stroke-width:8.64&quot;/&gt;\n",
       "\t&lt;rect x=&quot;3009.97&quot; y=&quot;2325.71&quot; width=&quot;83.78&quot; height=&quot;163.48&quot; style=&quot;fill:#CAC27E&quot;/&gt;\n",
       "\t&lt;rect x=&quot;3014.29&quot; y=&quot;2330.03&quot; width=&quot;75.14&quot; height=&quot;154.84&quot; style=&quot;fill:none;stroke:#D7D29E;stroke-width:8.64&quot;/&gt;\n",
       "\t&lt;rect x=&quot;3093.75&quot; y=&quot;2305.66&quot; width=&quot;83.78&quot; height=&quot;183.53&quot; style=&quot;fill:#CAC27E&quot;/&gt;\n",
       "\t&lt;rect x=&quot;3098.07&quot; y=&quot;2309.98&quot; width=&quot;75.14&quot; height=&quot;174.89&quot; style=&quot;fill:none;stroke:#D7D29E;stroke-width:8.64&quot;/&gt;\n",
       "\t&lt;rect x=&quot;3177.53&quot; y=&quot;2281.77&quot; width=&quot;83.78&quot; height=&quot;207.41&quot; style=&quot;fill:#CAC27E&quot;/&gt;\n",
       "\t&lt;rect x=&quot;3181.85&quot; y=&quot;2286.09&quot; width=&quot;75.14&quot; height=&quot;198.77&quot; style=&quot;fill:none;stroke:#D7D29E;stroke-width:8.64&quot;/&gt;\n",
       "\t&lt;rect x=&quot;3261.31&quot; y=&quot;2365.56&quot; width=&quot;83.78&quot; height=&quot;123.63&quot; style=&quot;fill:#CAC27E&quot;/&gt;\n",
       "\t&lt;rect x=&quot;3265.63&quot; y=&quot;2369.88&quot; width=&quot;75.14&quot; height=&quot;114.99&quot; style=&quot;fill:none;stroke:#D7D29E;stroke-width:8.64&quot;/&gt;\n",
       "\t&lt;rect x=&quot;3345.09&quot; y=&quot;2337.59&quot; width=&quot;83.90&quot; height=&quot;151.60&quot; style=&quot;fill:#CAC27E&quot;/&gt;\n",
       "\t&lt;rect x=&quot;3349.41&quot; y=&quot;2341.91&quot; width=&quot;75.26&quot; height=&quot;142.96&quot; style=&quot;fill:none;stroke:#D7D29E;stroke-width:8.64&quot;/&gt;\n",
       "\t&lt;rect x=&quot;3428.99&quot; y=&quot;2381.52&quot; width=&quot;83.78&quot; height=&quot;107.67&quot; style=&quot;fill:#CAC27E&quot;/&gt;\n",
       "\t&lt;rect x=&quot;3433.31&quot; y=&quot;2385.84&quot; width=&quot;75.14&quot; height=&quot;99.03&quot; style=&quot;fill:none;stroke:#D7D29E;stroke-width:8.64&quot;/&gt;\n",
       "\t&lt;rect x=&quot;3512.77&quot; y=&quot;2397.48&quot; width=&quot;83.78&quot; height=&quot;91.70&quot; style=&quot;fill:#CAC27E&quot;/&gt;\n",
       "\t&lt;rect x=&quot;3517.09&quot; y=&quot;2401.80&quot; width=&quot;75.14&quot; height=&quot;83.06&quot; style=&quot;fill:none;stroke:#D7D29E;stroke-width:8.64&quot;/&gt;\n",
       "\t&lt;rect x=&quot;3596.55&quot; y=&quot;1579.72&quot; width=&quot;83.78&quot; height=&quot;909.47&quot; style=&quot;fill:#CAC27E&quot;/&gt;\n",
       "\t&lt;rect x=&quot;3600.87&quot; y=&quot;1584.04&quot; width=&quot;75.14&quot; height=&quot;900.83&quot; style=&quot;fill:none;stroke:#D7D29E;stroke-width:8.64&quot;/&gt;\n",
       "\t&lt;line x1=&quot;390.80&quot; y1=&quot;2489.19&quot; x2=&quot;390.80&quot; y2=&quot;100.86&quot; style=&quot;stroke:#000000;stroke-width:5.76&quot;/&gt;\n",
       "\t&lt;line x1=&quot;390.80&quot; y1=&quot;2489.19&quot; x2=&quot;350.83&quot; y2=&quot;2489.19&quot; style=&quot;stroke:#000000;stroke-width:5.76&quot;/&gt;\n",
       "\t&lt;text x=&quot;300.72&quot; y=&quot;2489.19&quot; style=&quot;font-family:&#x27;Helvetica&#x27;;font-size:99.99px;fill:#000000&quot; transform=&quot;rotate(-90 300.72,2489.19)&quot; text-anchor=&quot;middle&quot;&gt;0&lt;/text&gt;\n",
       "\t&lt;line x1=&quot;390.80&quot; y1=&quot;1907.91&quot; x2=&quot;350.83&quot; y2=&quot;1907.91&quot; style=&quot;stroke:#000000;stroke-width:5.76&quot;/&gt;\n",
       "\t&lt;text x=&quot;300.72&quot; y=&quot;1907.91&quot; style=&quot;font-family:&#x27;Helvetica&#x27;;font-size:99.99px;fill:#000000&quot; transform=&quot;rotate(-90 300.72,1907.91)&quot; text-anchor=&quot;middle&quot;&gt;2.0e-05&lt;/text&gt;\n",
       "\t&lt;line x1=&quot;390.80&quot; y1=&quot;1326.64&quot; x2=&quot;350.83&quot; y2=&quot;1326.64&quot; style=&quot;stroke:#000000;stroke-width:5.76&quot;/&gt;\n",
       "\t&lt;text x=&quot;300.72&quot; y=&quot;1326.64&quot; style=&quot;font-family:&#x27;Helvetica&#x27;;font-size:99.99px;fill:#000000&quot; transform=&quot;rotate(-90 300.72,1326.64)&quot; text-anchor=&quot;middle&quot;&gt;4.0e-05&lt;/text&gt;\n",
       "\t&lt;line x1=&quot;390.80&quot; y1=&quot;745.37&quot; x2=&quot;350.83&quot; y2=&quot;745.37&quot; style=&quot;stroke:#000000;stroke-width:5.76&quot;/&gt;\n",
       "\t&lt;text x=&quot;300.72&quot; y=&quot;745.37&quot; style=&quot;font-family:&#x27;Helvetica&#x27;;font-size:99.99px;fill:#000000&quot; transform=&quot;rotate(-90 300.72,745.37)&quot; text-anchor=&quot;middle&quot;&gt;6.0e-05&lt;/text&gt;\n",
       "\t&lt;line x1=&quot;390.80&quot; y1=&quot;164.22&quot; x2=&quot;350.83&quot; y2=&quot;164.22&quot; style=&quot;stroke:#000000;stroke-width:5.76&quot;/&gt;\n",
       "\t&lt;text x=&quot;300.72&quot; y=&quot;164.22&quot; style=&quot;font-family:&#x27;Helvetica&#x27;;font-size:99.99px;fill:#000000&quot; transform=&quot;rotate(-90 300.72,164.22)&quot; text-anchor=&quot;middle&quot;&gt;8.0e-05&lt;/text&gt;\n",
       "\t&lt;text x=&quot;190.71&quot; y=&quot;1294.96&quot; style=&quot;font-family:&#x27;Helvetica&#x27;;font-size:99.99px;fill:#000000&quot; transform=&quot;rotate(-90 190.71,1294.96)&quot; text-anchor=&quot;middle&quot;&gt;Density&lt;/text&gt;\n",
       "\t&lt;line x1=&quot;390.80&quot; y1=&quot;2489.19&quot; x2=&quot;3859.02&quot; y2=&quot;2489.19&quot; style=&quot;stroke:#000000;stroke-width:5.76&quot;/&gt;\n",
       "\t&lt;line x1=&quot;479.04&quot; y1=&quot;2489.19&quot; x2=&quot;479.04&quot; y2=&quot;2529.16&quot; style=&quot;stroke:#000000;stroke-width:5.76&quot;/&gt;\n",
       "\t&lt;text x=&quot;479.04&quot; y=&quot;2619.14&quot; style=&quot;font-family:&#x27;Helvetica&#x27;;font-size:99.99px;fill:#000000&quot; text-anchor=&quot;middle&quot;&gt;0&lt;/text&gt;\n",
       "\t&lt;line x1=&quot;1308.16&quot; y1=&quot;2489.19&quot; x2=&quot;1308.16&quot; y2=&quot;2529.16&quot; style=&quot;stroke:#000000;stroke-width:5.76&quot;/&gt;\n",
       "\t&lt;text x=&quot;1308.16&quot; y=&quot;2619.14&quot; style=&quot;font-family:&#x27;Helvetica&#x27;;font-size:99.99px;fill:#000000&quot; text-anchor=&quot;middle&quot;&gt;10000&lt;/text&gt;\n",
       "\t&lt;line x1=&quot;2137.41&quot; y1=&quot;2489.19&quot; x2=&quot;2137.41&quot; y2=&quot;2529.16&quot; style=&quot;stroke:#000000;stroke-width:5.76&quot;/&gt;\n",
       "\t&lt;text x=&quot;2137.41&quot; y=&quot;2619.14&quot; style=&quot;font-family:&#x27;Helvetica&#x27;;font-size:99.99px;fill:#000000&quot; text-anchor=&quot;middle&quot;&gt;20000&lt;/text&gt;\n",
       "\t&lt;line x1=&quot;2966.53&quot; y1=&quot;2489.19&quot; x2=&quot;2966.53&quot; y2=&quot;2529.16&quot; style=&quot;stroke:#000000;stroke-width:5.76&quot;/&gt;\n",
       "\t&lt;text x=&quot;2966.53&quot; y=&quot;2619.14&quot; style=&quot;font-family:&#x27;Helvetica&#x27;;font-size:99.99px;fill:#000000&quot; text-anchor=&quot;middle&quot;&gt;30000&lt;/text&gt;\n",
       "\t&lt;line x1=&quot;3795.66&quot; y1=&quot;2489.19&quot; x2=&quot;3795.66&quot; y2=&quot;2529.16&quot; style=&quot;stroke:#000000;stroke-width:5.76&quot;/&gt;\n",
       "\t&lt;text x=&quot;3795.66&quot; y=&quot;2619.14&quot; style=&quot;font-family:&#x27;Helvetica&#x27;;font-size:99.99px;fill:#000000&quot; text-anchor=&quot;middle&quot;&gt;40000&lt;/text&gt;\n",
       "\t&lt;text x=&quot;2124.91&quot; y=&quot;2729.16&quot; style=&quot;font-family:&#x27;Helvetica&#x27;;font-size:99.99px;fill:#000000&quot; text-anchor=&quot;middle&quot;&gt;college-level annual tuition rate&lt;/text&gt;\n",
       "&lt;/svg&gt;\n",
       "</body></html>\"></iframe>\n"
      ],
      "text/plain": [
       "This front-end cannot display the desired image type."
      ]
     },
     "metadata": {
      "image/svg+xml": {
       "height": 436,
       "width": 600
      },
      "text/html": {
       "height": 436,
       "width": 600
      }
     },
     "output_type": "display_data"
    },
    {
     "name": "stdout",
     "output_type": "stream",
     "text": [
      "\n",
      "\n"
     ]
    }
   ],
   "source": [
    "histogram tuitionall_c_w"
   ]
  },
  {
   "cell_type": "markdown",
   "metadata": {},
   "source": [
    "## How about Boxplots?"
   ]
  },
  {
   "cell_type": "code",
   "execution_count": 5,
   "metadata": {},
   "outputs": [
    {
     "data": {
      "application/pdf": "[encoded data removed]",
      "image/svg+xml": [
       "<?xml version=\"1.0\" encoding=\"UTF-8\" standalone=\"no\"?>\n",
       "<!-- This is a Stata 15.1 generated SVG file (http://www.stata.com) -->\n",
       "\n",
       "<svg version=\"1.1\" width=\"600px\" height=\"436px\" viewBox=\"0 0 3960 2880\" xmlns=\"http://www.w3.org/2000/svg\" xmlns:xlink=\"http://www.w3.org/1999/xlink\">\n",
       "\t<desc>Stata Graph - Graph</desc>\n",
       "\t<rect x=\"0\" y=\"0\" width=\"3960\" height=\"2880\" style=\"fill:#EAF2F3;stroke:none\"/>\n",
       "\t<rect x=\"0.00\" y=\"0.00\" width=\"3959.88\" height=\"2880.00\" style=\"fill:#EAF2F3\"/>\n",
       "\t<rect x=\"2.88\" y=\"2.88\" width=\"3954.12\" height=\"2874.24\" style=\"fill:none;stroke:#EAF2F3;stroke-width:5.76\"/>\n",
       "\t<rect x=\"390.80\" y=\"100.86\" width=\"3468.22\" height=\"2533.86\" style=\"fill:#FFFFFF\"/>\n",
       "\t<rect x=\"393.68\" y=\"103.74\" width=\"3462.46\" height=\"2528.10\" style=\"fill:none;stroke:#FFFFFF;stroke-width:5.76\"/>\n",
       "\t<line x1=\"390.80\" y1=\"2533.86\" x2=\"3859.02\" y2=\"2533.86\" style=\"stroke:#EAF2F3;stroke-width:8.64\"/>\n",
       "\t<line x1=\"390.80\" y1=\"1950.86\" x2=\"3859.02\" y2=\"1950.86\" style=\"stroke:#EAF2F3;stroke-width:8.64\"/>\n",
       "\t<line x1=\"390.80\" y1=\"1367.73\" x2=\"3859.02\" y2=\"1367.73\" style=\"stroke:#EAF2F3;stroke-width:8.64\"/>\n",
       "\t<line x1=\"390.80\" y1=\"784.72\" x2=\"3859.02\" y2=\"784.72\" style=\"stroke:#EAF2F3;stroke-width:8.64\"/>\n",
       "\t<line x1=\"390.80\" y1=\"201.60\" x2=\"3859.02\" y2=\"201.60\" style=\"stroke:#EAF2F3;stroke-width:8.64\"/>\n",
       "\t<rect x=\"958.20\" y=\"1505.47\" width=\"2333.43\" height=\"642.65\" style=\"fill:#8DA3B7\"/>\n",
       "\t<rect x=\"962.52\" y=\"1509.79\" width=\"2324.79\" height=\"634.01\" style=\"fill:none;stroke:#1A476F;stroke-width:8.64\"/>\n",
       "\t<line x1=\"958.20\" y1=\"1770.67\" x2=\"3291.63\" y2=\"1770.67\" style=\"stroke:#1A476F;stroke-width:8.64\"/>\n",
       "\t<line x1=\"2124.91\" y1=\"2148.12\" x2=\"2124.91\" y2=\"2521.86\" style=\"stroke:#1A476F;stroke-width:8.64\"/>\n",
       "\t<line x1=\"2124.91\" y1=\"1505.47\" x2=\"2124.91\" y2=\"543.65\" style=\"stroke:#1A476F;stroke-width:8.64\"/>\n",
       "\t<line x1=\"1343.31\" y1=\"2521.86\" x2=\"2906.64\" y2=\"2521.86\" style=\"stroke:#1A476F;stroke-width:8.64\"/>\n",
       "\t<line x1=\"1343.31\" y1=\"543.65\" x2=\"2906.64\" y2=\"543.65\" style=\"stroke:#1A476F;stroke-width:8.64\"/>\n",
       "\t<line x1=\"390.80\" y1=\"2634.72\" x2=\"390.80\" y2=\"100.86\" style=\"stroke:#000000;stroke-width:5.76\"/>\n",
       "\t<line x1=\"390.80\" y1=\"2533.86\" x2=\"350.83\" y2=\"2533.86\" style=\"stroke:#000000;stroke-width:5.76\"/>\n",
       "\t<text x=\"300.72\" y=\"2533.86\" style=\"font-family:'Helvetica';font-size:99.99px;fill:#000000\" transform=\"rotate(-90 300.72,2533.86)\" text-anchor=\"middle\">0</text>\n",
       "\t<line x1=\"390.80\" y1=\"1950.86\" x2=\"350.83\" y2=\"1950.86\" style=\"stroke:#000000;stroke-width:5.76\"/>\n",
       "\t<text x=\"300.72\" y=\"1950.86\" style=\"font-family:'Helvetica';font-size:99.99px;fill:#000000\" transform=\"rotate(-90 300.72,1950.86)\" text-anchor=\"middle\">10,000</text>\n",
       "\t<line x1=\"390.80\" y1=\"1367.73\" x2=\"350.83\" y2=\"1367.73\" style=\"stroke:#000000;stroke-width:5.76\"/>\n",
       "\t<text x=\"300.72\" y=\"1367.73\" style=\"font-family:'Helvetica';font-size:99.99px;fill:#000000\" transform=\"rotate(-90 300.72,1367.73)\" text-anchor=\"middle\">20,000</text>\n",
       "\t<line x1=\"390.80\" y1=\"784.72\" x2=\"350.83\" y2=\"784.72\" style=\"stroke:#000000;stroke-width:5.76\"/>\n",
       "\t<text x=\"300.72\" y=\"784.72\" style=\"font-family:'Helvetica';font-size:99.99px;fill:#000000\" transform=\"rotate(-90 300.72,784.72)\" text-anchor=\"middle\">30,000</text>\n",
       "\t<line x1=\"390.80\" y1=\"201.60\" x2=\"350.83\" y2=\"201.60\" style=\"stroke:#000000;stroke-width:5.76\"/>\n",
       "\t<text x=\"300.72\" y=\"201.60\" style=\"font-family:'Helvetica';font-size:99.99px;fill:#000000\" transform=\"rotate(-90 300.72,201.60)\" text-anchor=\"middle\">40,000</text>\n",
       "\t<text x=\"190.71\" y=\"1367.73\" style=\"font-family:'Helvetica';font-size:99.99px;fill:#000000\" transform=\"rotate(-90 190.71,1367.73)\" text-anchor=\"middle\">college-level annual tuition rate</text>\n",
       "\t<line x1=\"390.80\" y1=\"2634.72\" x2=\"3859.02\" y2=\"2634.72\" style=\"stroke:#000000;stroke-width:5.76\"/>\n",
       "\t<text x=\"408.00\" y=\"2737.89\" style=\"font-family:'Helvetica';font-size:79.94px;fill:#000000\">excludes outside values</text>\n",
       "</svg>\n"
      ],
      "text/html": [
       "                <iframe frameborder=\"0\" scrolling=\"no\" height=\"436\" width=\"600\"                srcdoc=\"<html><body>&lt;?xml version=&quot;1.0&quot; encoding=&quot;UTF-8&quot; standalone=&quot;no&quot;?&gt;\n",
       "&lt;!-- This is a Stata 15.1 generated SVG file (http://www.stata.com) --&gt;\n",
       "\n",
       "&lt;svg version=&quot;1.1&quot; width=&quot;600px&quot; height=&quot;436px&quot; viewBox=&quot;0 0 3960 2880&quot; xmlns=&quot;http://www.w3.org/2000/svg&quot; xmlns:xlink=&quot;http://www.w3.org/1999/xlink&quot;&gt;\n",
       "\t&lt;desc&gt;Stata Graph - Graph&lt;/desc&gt;\n",
       "\t&lt;rect x=&quot;0&quot; y=&quot;0&quot; width=&quot;3960&quot; height=&quot;2880&quot; style=&quot;fill:#EAF2F3;stroke:none&quot;/&gt;\n",
       "\t&lt;rect x=&quot;0.00&quot; y=&quot;0.00&quot; width=&quot;3959.88&quot; height=&quot;2880.00&quot; style=&quot;fill:#EAF2F3&quot;/&gt;\n",
       "\t&lt;rect x=&quot;2.88&quot; y=&quot;2.88&quot; width=&quot;3954.12&quot; height=&quot;2874.24&quot; style=&quot;fill:none;stroke:#EAF2F3;stroke-width:5.76&quot;/&gt;\n",
       "\t&lt;rect x=&quot;390.80&quot; y=&quot;100.86&quot; width=&quot;3468.22&quot; height=&quot;2533.86&quot; style=&quot;fill:#FFFFFF&quot;/&gt;\n",
       "\t&lt;rect x=&quot;393.68&quot; y=&quot;103.74&quot; width=&quot;3462.46&quot; height=&quot;2528.10&quot; style=&quot;fill:none;stroke:#FFFFFF;stroke-width:5.76&quot;/&gt;\n",
       "\t&lt;line x1=&quot;390.80&quot; y1=&quot;2533.86&quot; x2=&quot;3859.02&quot; y2=&quot;2533.86&quot; style=&quot;stroke:#EAF2F3;stroke-width:8.64&quot;/&gt;\n",
       "\t&lt;line x1=&quot;390.80&quot; y1=&quot;1950.86&quot; x2=&quot;3859.02&quot; y2=&quot;1950.86&quot; style=&quot;stroke:#EAF2F3;stroke-width:8.64&quot;/&gt;\n",
       "\t&lt;line x1=&quot;390.80&quot; y1=&quot;1367.73&quot; x2=&quot;3859.02&quot; y2=&quot;1367.73&quot; style=&quot;stroke:#EAF2F3;stroke-width:8.64&quot;/&gt;\n",
       "\t&lt;line x1=&quot;390.80&quot; y1=&quot;784.72&quot; x2=&quot;3859.02&quot; y2=&quot;784.72&quot; style=&quot;stroke:#EAF2F3;stroke-width:8.64&quot;/&gt;\n",
       "\t&lt;line x1=&quot;390.80&quot; y1=&quot;201.60&quot; x2=&quot;3859.02&quot; y2=&quot;201.60&quot; style=&quot;stroke:#EAF2F3;stroke-width:8.64&quot;/&gt;\n",
       "\t&lt;rect x=&quot;958.20&quot; y=&quot;1505.47&quot; width=&quot;2333.43&quot; height=&quot;642.65&quot; style=&quot;fill:#8DA3B7&quot;/&gt;\n",
       "\t&lt;rect x=&quot;962.52&quot; y=&quot;1509.79&quot; width=&quot;2324.79&quot; height=&quot;634.01&quot; style=&quot;fill:none;stroke:#1A476F;stroke-width:8.64&quot;/&gt;\n",
       "\t&lt;line x1=&quot;958.20&quot; y1=&quot;1770.67&quot; x2=&quot;3291.63&quot; y2=&quot;1770.67&quot; style=&quot;stroke:#1A476F;stroke-width:8.64&quot;/&gt;\n",
       "\t&lt;line x1=&quot;2124.91&quot; y1=&quot;2148.12&quot; x2=&quot;2124.91&quot; y2=&quot;2521.86&quot; style=&quot;stroke:#1A476F;stroke-width:8.64&quot;/&gt;\n",
       "\t&lt;line x1=&quot;2124.91&quot; y1=&quot;1505.47&quot; x2=&quot;2124.91&quot; y2=&quot;543.65&quot; style=&quot;stroke:#1A476F;stroke-width:8.64&quot;/&gt;\n",
       "\t&lt;line x1=&quot;1343.31&quot; y1=&quot;2521.86&quot; x2=&quot;2906.64&quot; y2=&quot;2521.86&quot; style=&quot;stroke:#1A476F;stroke-width:8.64&quot;/&gt;\n",
       "\t&lt;line x1=&quot;1343.31&quot; y1=&quot;543.65&quot; x2=&quot;2906.64&quot; y2=&quot;543.65&quot; style=&quot;stroke:#1A476F;stroke-width:8.64&quot;/&gt;\n",
       "\t&lt;line x1=&quot;390.80&quot; y1=&quot;2634.72&quot; x2=&quot;390.80&quot; y2=&quot;100.86&quot; style=&quot;stroke:#000000;stroke-width:5.76&quot;/&gt;\n",
       "\t&lt;line x1=&quot;390.80&quot; y1=&quot;2533.86&quot; x2=&quot;350.83&quot; y2=&quot;2533.86&quot; style=&quot;stroke:#000000;stroke-width:5.76&quot;/&gt;\n",
       "\t&lt;text x=&quot;300.72&quot; y=&quot;2533.86&quot; style=&quot;font-family:&#x27;Helvetica&#x27;;font-size:99.99px;fill:#000000&quot; transform=&quot;rotate(-90 300.72,2533.86)&quot; text-anchor=&quot;middle&quot;&gt;0&lt;/text&gt;\n",
       "\t&lt;line x1=&quot;390.80&quot; y1=&quot;1950.86&quot; x2=&quot;350.83&quot; y2=&quot;1950.86&quot; style=&quot;stroke:#000000;stroke-width:5.76&quot;/&gt;\n",
       "\t&lt;text x=&quot;300.72&quot; y=&quot;1950.86&quot; style=&quot;font-family:&#x27;Helvetica&#x27;;font-size:99.99px;fill:#000000&quot; transform=&quot;rotate(-90 300.72,1950.86)&quot; text-anchor=&quot;middle&quot;&gt;10,000&lt;/text&gt;\n",
       "\t&lt;line x1=&quot;390.80&quot; y1=&quot;1367.73&quot; x2=&quot;350.83&quot; y2=&quot;1367.73&quot; style=&quot;stroke:#000000;stroke-width:5.76&quot;/&gt;\n",
       "\t&lt;text x=&quot;300.72&quot; y=&quot;1367.73&quot; style=&quot;font-family:&#x27;Helvetica&#x27;;font-size:99.99px;fill:#000000&quot; transform=&quot;rotate(-90 300.72,1367.73)&quot; text-anchor=&quot;middle&quot;&gt;20,000&lt;/text&gt;\n",
       "\t&lt;line x1=&quot;390.80&quot; y1=&quot;784.72&quot; x2=&quot;350.83&quot; y2=&quot;784.72&quot; style=&quot;stroke:#000000;stroke-width:5.76&quot;/&gt;\n",
       "\t&lt;text x=&quot;300.72&quot; y=&quot;784.72&quot; style=&quot;font-family:&#x27;Helvetica&#x27;;font-size:99.99px;fill:#000000&quot; transform=&quot;rotate(-90 300.72,784.72)&quot; text-anchor=&quot;middle&quot;&gt;30,000&lt;/text&gt;\n",
       "\t&lt;line x1=&quot;390.80&quot; y1=&quot;201.60&quot; x2=&quot;350.83&quot; y2=&quot;201.60&quot; style=&quot;stroke:#000000;stroke-width:5.76&quot;/&gt;\n",
       "\t&lt;text x=&quot;300.72&quot; y=&quot;201.60&quot; style=&quot;font-family:&#x27;Helvetica&#x27;;font-size:99.99px;fill:#000000&quot; transform=&quot;rotate(-90 300.72,201.60)&quot; text-anchor=&quot;middle&quot;&gt;40,000&lt;/text&gt;\n",
       "\t&lt;text x=&quot;190.71&quot; y=&quot;1367.73&quot; style=&quot;font-family:&#x27;Helvetica&#x27;;font-size:99.99px;fill:#000000&quot; transform=&quot;rotate(-90 190.71,1367.73)&quot; text-anchor=&quot;middle&quot;&gt;college-level annual tuition rate&lt;/text&gt;\n",
       "\t&lt;line x1=&quot;390.80&quot; y1=&quot;2634.72&quot; x2=&quot;3859.02&quot; y2=&quot;2634.72&quot; style=&quot;stroke:#000000;stroke-width:5.76&quot;/&gt;\n",
       "\t&lt;text x=&quot;408.00&quot; y=&quot;2737.89&quot; style=&quot;font-family:&#x27;Helvetica&#x27;;font-size:79.94px;fill:#000000&quot;&gt;excludes outside values&lt;/text&gt;\n",
       "&lt;/svg&gt;\n",
       "</body></html>\"></iframe>\n"
      ],
      "text/plain": [
       "This front-end cannot display the desired image type."
      ]
     },
     "metadata": {
      "image/svg+xml": {
       "height": 436,
       "width": 600
      },
      "text/html": {
       "height": 436,
       "width": 600
      }
     },
     "output_type": "display_data"
    }
   ],
   "source": [
    "graph box tuitionall_c_w, nooutsides"
   ]
  },
  {
   "cell_type": "markdown",
   "metadata": {},
   "source": [
    "# Going back to Du Bois - he uses a bar graph for his nominal data on \"race amalgamation\", instead of a table\n",
    "\n",
    "## Let's compare the efficacy of a table vs a bar graph for the distribution of college \"ownership\" forms in just 2014\n",
    "\n",
    "# First the table:"
   ]
  },
  {
   "cell_type": "code",
   "execution_count": 3,
   "metadata": {},
   "outputs": [
    {
     "name": "stdout",
     "output_type": "stream",
     "text": [
      "\n",
      "\n",
      "\n",
      "---------------------------------------------------------------------------------------------------------------------------------------------------------------------------------------------------------------------------------------------------------------\n",
      "owner_pe                                                                                                                                                                                                                                         ownership form\n",
      "---------------------------------------------------------------------------------------------------------------------------------------------------------------------------------------------------------------------------------------------------------------\n",
      "\n",
      "                  type:  string (str15)\n",
      "\n",
      "         unique values:  6                        missing \"\":  0/7,577\n",
      "\n",
      "            tabulation:  Freq.  Value\n",
      "                         1,302  \"Community\"\n",
      "                         1,920  \"Non-profit\"\n",
      "                           552  \"Private equity\"\n",
      "                         2,167  \"Privately held\"\n",
      "                           922  \"Publicly traded\"\n",
      "                           714  \"State\"\n",
      "\n",
      "               warning:  variable has embedded blanks\n",
      "\n",
      "\n",
      " ownership form |      Freq.     Percent        Cum.\n",
      "----------------+-----------------------------------\n",
      "      Community |      1,302       17.18       17.18\n",
      "     Non-profit |      1,920       25.34       42.52\n",
      " Private equity |        552        7.29       49.81\n",
      " Privately held |      2,167       28.60       78.41\n",
      "Publicly traded |        922       12.17       90.58\n",
      "          State |        714        9.42      100.00\n",
      "----------------+-----------------------------------\n",
      "          Total |      7,577      100.00\n"
     ]
    }
   ],
   "source": [
    "label var owner_pe \"ownership form\" // since var label was missing\n",
    "codebook owner_pe\n",
    "tab owner_pe"
   ]
  },
  {
   "cell_type": "markdown",
   "metadata": {},
   "source": [
    "# Now the bar graph"
   ]
  },
  {
   "cell_type": "code",
   "execution_count": 4,
   "metadata": {},
   "outputs": [
    {
     "data": {
      "application/pdf": "[encoded data removed]",
      "image/svg+xml": [
       "<?xml version=\"1.0\" encoding=\"UTF-8\" standalone=\"no\"?>\n",
       "<!-- This is a Stata 15.1 generated SVG file (http://www.stata.com) -->\n",
       "\n",
       "<svg version=\"1.1\" width=\"600px\" height=\"436px\" viewBox=\"0 0 3960 2880\" xmlns=\"http://www.w3.org/2000/svg\" xmlns:xlink=\"http://www.w3.org/1999/xlink\">\n",
       "\t<desc>Stata Graph - Graph</desc>\n",
       "\t<rect x=\"0\" y=\"0\" width=\"3960\" height=\"2880\" style=\"fill:#EAF2F3;stroke:none\"/>\n",
       "\t<rect x=\"0.00\" y=\"0.00\" width=\"3959.88\" height=\"2880.00\" style=\"fill:#EAF2F3\"/>\n",
       "\t<rect x=\"2.88\" y=\"2.88\" width=\"3954.12\" height=\"2874.24\" style=\"fill:none;stroke:#EAF2F3;stroke-width:5.76\"/>\n",
       "\t<rect x=\"867.36\" y=\"100.86\" width=\"2991.66\" height=\"2388.33\" style=\"fill:#FFFFFF\"/>\n",
       "\t<rect x=\"870.24\" y=\"103.74\" width=\"2985.90\" height=\"2382.57\" style=\"fill:none;stroke:#FFFFFF;stroke-width:5.76\"/>\n",
       "\t<line x1=\"867.36\" y1=\"2489.19\" x2=\"867.36\" y2=\"100.86\" style=\"stroke:#EAF2F3;stroke-width:8.64\"/>\n",
       "\t<line x1=\"1534.38\" y1=\"2489.19\" x2=\"1534.38\" y2=\"100.86\" style=\"stroke:#EAF2F3;stroke-width:8.64\"/>\n",
       "\t<line x1=\"2201.51\" y1=\"2489.19\" x2=\"2201.51\" y2=\"100.86\" style=\"stroke:#EAF2F3;stroke-width:8.64\"/>\n",
       "\t<line x1=\"2868.53\" y1=\"2489.19\" x2=\"2868.53\" y2=\"100.86\" style=\"stroke:#EAF2F3;stroke-width:8.64\"/>\n",
       "\t<line x1=\"3535.54\" y1=\"2489.19\" x2=\"3535.54\" y2=\"100.86\" style=\"stroke:#EAF2F3;stroke-width:8.64\"/>\n",
       "\t<rect x=\"867.36\" y=\"2119.28\" width=\"952.50\" height=\"224.24\" style=\"fill:#1A476F\"/>\n",
       "\t<rect x=\"870.24\" y=\"2122.16\" width=\"946.74\" height=\"218.48\" style=\"fill:none;stroke:#1A476F;stroke-width:5.76\"/>\n",
       "\t<rect x=\"867.36\" y=\"1744.68\" width=\"1230.07\" height=\"224.37\" style=\"fill:#1A476F\"/>\n",
       "\t<rect x=\"870.24\" y=\"1747.56\" width=\"1224.32\" height=\"218.61\" style=\"fill:none;stroke:#1A476F;stroke-width:5.76\"/>\n",
       "\t<rect x=\"867.36\" y=\"1370.08\" width=\"2890.92\" height=\"224.37\" style=\"fill:#1A476F\"/>\n",
       "\t<rect x=\"870.24\" y=\"1372.96\" width=\"2885.16\" height=\"218.61\" style=\"fill:none;stroke:#1A476F;stroke-width:5.76\"/>\n",
       "\t<rect x=\"867.36\" y=\"995.60\" width=\"736.44\" height=\"224.24\" style=\"fill:#1A476F\"/>\n",
       "\t<rect x=\"870.24\" y=\"998.48\" width=\"730.68\" height=\"218.48\" style=\"fill:none;stroke:#1A476F;stroke-width:5.76\"/>\n",
       "\t<rect x=\"867.36\" y=\"621.00\" width=\"2561.38\" height=\"224.37\" style=\"fill:#1A476F\"/>\n",
       "\t<rect x=\"870.24\" y=\"623.88\" width=\"2555.62\" height=\"218.61\" style=\"fill:none;stroke:#1A476F;stroke-width:5.76\"/>\n",
       "\t<rect x=\"867.36\" y=\"246.52\" width=\"1736.95\" height=\"224.24\" style=\"fill:#1A476F\"/>\n",
       "\t<rect x=\"870.24\" y=\"249.40\" width=\"1731.20\" height=\"218.48\" style=\"fill:none;stroke:#1A476F;stroke-width:5.76\"/>\n",
       "\t<line x1=\"867.36\" y1=\"2489.19\" x2=\"3859.02\" y2=\"2489.19\" style=\"stroke:#000000;stroke-width:5.76\"/>\n",
       "\t<line x1=\"867.36\" y1=\"2489.19\" x2=\"867.36\" y2=\"2529.16\" style=\"stroke:#000000;stroke-width:5.76\"/>\n",
       "\t<text x=\"867.36\" y=\"2619.14\" style=\"font-family:'Helvetica';font-size:99.99px;fill:#000000\" text-anchor=\"middle\">0</text>\n",
       "\t<line x1=\"1534.38\" y1=\"2489.19\" x2=\"1534.38\" y2=\"2529.16\" style=\"stroke:#000000;stroke-width:5.76\"/>\n",
       "\t<text x=\"1534.38\" y=\"2619.14\" style=\"font-family:'Helvetica';font-size:99.99px;fill:#000000\" text-anchor=\"middle\">500</text>\n",
       "\t<line x1=\"2201.51\" y1=\"2489.19\" x2=\"2201.51\" y2=\"2529.16\" style=\"stroke:#000000;stroke-width:5.76\"/>\n",
       "\t<text x=\"2201.51\" y=\"2619.14\" style=\"font-family:'Helvetica';font-size:99.99px;fill:#000000\" text-anchor=\"middle\">1,000</text>\n",
       "\t<line x1=\"2868.53\" y1=\"2489.19\" x2=\"2868.53\" y2=\"2529.16\" style=\"stroke:#000000;stroke-width:5.76\"/>\n",
       "\t<text x=\"2868.53\" y=\"2619.14\" style=\"font-family:'Helvetica';font-size:99.99px;fill:#000000\" text-anchor=\"middle\">1,500</text>\n",
       "\t<line x1=\"3535.54\" y1=\"2489.19\" x2=\"3535.54\" y2=\"2529.16\" style=\"stroke:#000000;stroke-width:5.76\"/>\n",
       "\t<text x=\"3535.54\" y=\"2619.14\" style=\"font-family:'Helvetica';font-size:99.99px;fill:#000000\" text-anchor=\"middle\">2,000</text>\n",
       "\t<text x=\"2363.25\" y=\"2729.16\" style=\"font-family:'Helvetica';font-size:99.99px;fill:#000000\" text-anchor=\"middle\">count of campus</text>\n",
       "\t<line x1=\"867.36\" y1=\"2489.19\" x2=\"867.36\" y2=\"100.86\" style=\"stroke:#000000;stroke-width:5.76\"/>\n",
       "\t<text x=\"827.39\" y=\"2266.43\" style=\"font-family:'Helvetica';font-size:99.99px;fill:#000000\" text-anchor=\"end\">State</text>\n",
       "\t<text x=\"827.39\" y=\"1891.83\" style=\"font-family:'Helvetica';font-size:99.99px;fill:#000000\" text-anchor=\"end\">Publicly traded</text>\n",
       "\t<text x=\"827.39\" y=\"1517.35\" style=\"font-family:'Helvetica';font-size:99.99px;fill:#000000\" text-anchor=\"end\">Privately held</text>\n",
       "\t<text x=\"827.39\" y=\"1142.75\" style=\"font-family:'Helvetica';font-size:99.99px;fill:#000000\" text-anchor=\"end\">Private equity</text>\n",
       "\t<text x=\"827.39\" y=\"768.15\" style=\"font-family:'Helvetica';font-size:99.99px;fill:#000000\" text-anchor=\"end\">Non-profit</text>\n",
       "\t<text x=\"827.39\" y=\"393.67\" style=\"font-family:'Helvetica';font-size:99.99px;fill:#000000\" text-anchor=\"end\">Community</text>\n",
       "</svg>\n"
      ],
      "text/html": [
       "                <iframe frameborder=\"0\" scrolling=\"no\" height=\"436\" width=\"600\"                srcdoc=\"<html><body>&lt;?xml version=&quot;1.0&quot; encoding=&quot;UTF-8&quot; standalone=&quot;no&quot;?&gt;\n",
       "&lt;!-- This is a Stata 15.1 generated SVG file (http://www.stata.com) --&gt;\n",
       "\n",
       "&lt;svg version=&quot;1.1&quot; width=&quot;600px&quot; height=&quot;436px&quot; viewBox=&quot;0 0 3960 2880&quot; xmlns=&quot;http://www.w3.org/2000/svg&quot; xmlns:xlink=&quot;http://www.w3.org/1999/xlink&quot;&gt;\n",
       "\t&lt;desc&gt;Stata Graph - Graph&lt;/desc&gt;\n",
       "\t&lt;rect x=&quot;0&quot; y=&quot;0&quot; width=&quot;3960&quot; height=&quot;2880&quot; style=&quot;fill:#EAF2F3;stroke:none&quot;/&gt;\n",
       "\t&lt;rect x=&quot;0.00&quot; y=&quot;0.00&quot; width=&quot;3959.88&quot; height=&quot;2880.00&quot; style=&quot;fill:#EAF2F3&quot;/&gt;\n",
       "\t&lt;rect x=&quot;2.88&quot; y=&quot;2.88&quot; width=&quot;3954.12&quot; height=&quot;2874.24&quot; style=&quot;fill:none;stroke:#EAF2F3;stroke-width:5.76&quot;/&gt;\n",
       "\t&lt;rect x=&quot;867.36&quot; y=&quot;100.86&quot; width=&quot;2991.66&quot; height=&quot;2388.33&quot; style=&quot;fill:#FFFFFF&quot;/&gt;\n",
       "\t&lt;rect x=&quot;870.24&quot; y=&quot;103.74&quot; width=&quot;2985.90&quot; height=&quot;2382.57&quot; style=&quot;fill:none;stroke:#FFFFFF;stroke-width:5.76&quot;/&gt;\n",
       "\t&lt;line x1=&quot;867.36&quot; y1=&quot;2489.19&quot; x2=&quot;867.36&quot; y2=&quot;100.86&quot; style=&quot;stroke:#EAF2F3;stroke-width:8.64&quot;/&gt;\n",
       "\t&lt;line x1=&quot;1534.38&quot; y1=&quot;2489.19&quot; x2=&quot;1534.38&quot; y2=&quot;100.86&quot; style=&quot;stroke:#EAF2F3;stroke-width:8.64&quot;/&gt;\n",
       "\t&lt;line x1=&quot;2201.51&quot; y1=&quot;2489.19&quot; x2=&quot;2201.51&quot; y2=&quot;100.86&quot; style=&quot;stroke:#EAF2F3;stroke-width:8.64&quot;/&gt;\n",
       "\t&lt;line x1=&quot;2868.53&quot; y1=&quot;2489.19&quot; x2=&quot;2868.53&quot; y2=&quot;100.86&quot; style=&quot;stroke:#EAF2F3;stroke-width:8.64&quot;/&gt;\n",
       "\t&lt;line x1=&quot;3535.54&quot; y1=&quot;2489.19&quot; x2=&quot;3535.54&quot; y2=&quot;100.86&quot; style=&quot;stroke:#EAF2F3;stroke-width:8.64&quot;/&gt;\n",
       "\t&lt;rect x=&quot;867.36&quot; y=&quot;2119.28&quot; width=&quot;952.50&quot; height=&quot;224.24&quot; style=&quot;fill:#1A476F&quot;/&gt;\n",
       "\t&lt;rect x=&quot;870.24&quot; y=&quot;2122.16&quot; width=&quot;946.74&quot; height=&quot;218.48&quot; style=&quot;fill:none;stroke:#1A476F;stroke-width:5.76&quot;/&gt;\n",
       "\t&lt;rect x=&quot;867.36&quot; y=&quot;1744.68&quot; width=&quot;1230.07&quot; height=&quot;224.37&quot; style=&quot;fill:#1A476F&quot;/&gt;\n",
       "\t&lt;rect x=&quot;870.24&quot; y=&quot;1747.56&quot; width=&quot;1224.32&quot; height=&quot;218.61&quot; style=&quot;fill:none;stroke:#1A476F;stroke-width:5.76&quot;/&gt;\n",
       "\t&lt;rect x=&quot;867.36&quot; y=&quot;1370.08&quot; width=&quot;2890.92&quot; height=&quot;224.37&quot; style=&quot;fill:#1A476F&quot;/&gt;\n",
       "\t&lt;rect x=&quot;870.24&quot; y=&quot;1372.96&quot; width=&quot;2885.16&quot; height=&quot;218.61&quot; style=&quot;fill:none;stroke:#1A476F;stroke-width:5.76&quot;/&gt;\n",
       "\t&lt;rect x=&quot;867.36&quot; y=&quot;995.60&quot; width=&quot;736.44&quot; height=&quot;224.24&quot; style=&quot;fill:#1A476F&quot;/&gt;\n",
       "\t&lt;rect x=&quot;870.24&quot; y=&quot;998.48&quot; width=&quot;730.68&quot; height=&quot;218.48&quot; style=&quot;fill:none;stroke:#1A476F;stroke-width:5.76&quot;/&gt;\n",
       "\t&lt;rect x=&quot;867.36&quot; y=&quot;621.00&quot; width=&quot;2561.38&quot; height=&quot;224.37&quot; style=&quot;fill:#1A476F&quot;/&gt;\n",
       "\t&lt;rect x=&quot;870.24&quot; y=&quot;623.88&quot; width=&quot;2555.62&quot; height=&quot;218.61&quot; style=&quot;fill:none;stroke:#1A476F;stroke-width:5.76&quot;/&gt;\n",
       "\t&lt;rect x=&quot;867.36&quot; y=&quot;246.52&quot; width=&quot;1736.95&quot; height=&quot;224.24&quot; style=&quot;fill:#1A476F&quot;/&gt;\n",
       "\t&lt;rect x=&quot;870.24&quot; y=&quot;249.40&quot; width=&quot;1731.20&quot; height=&quot;218.48&quot; style=&quot;fill:none;stroke:#1A476F;stroke-width:5.76&quot;/&gt;\n",
       "\t&lt;line x1=&quot;867.36&quot; y1=&quot;2489.19&quot; x2=&quot;3859.02&quot; y2=&quot;2489.19&quot; style=&quot;stroke:#000000;stroke-width:5.76&quot;/&gt;\n",
       "\t&lt;line x1=&quot;867.36&quot; y1=&quot;2489.19&quot; x2=&quot;867.36&quot; y2=&quot;2529.16&quot; style=&quot;stroke:#000000;stroke-width:5.76&quot;/&gt;\n",
       "\t&lt;text x=&quot;867.36&quot; y=&quot;2619.14&quot; style=&quot;font-family:&#x27;Helvetica&#x27;;font-size:99.99px;fill:#000000&quot; text-anchor=&quot;middle&quot;&gt;0&lt;/text&gt;\n",
       "\t&lt;line x1=&quot;1534.38&quot; y1=&quot;2489.19&quot; x2=&quot;1534.38&quot; y2=&quot;2529.16&quot; style=&quot;stroke:#000000;stroke-width:5.76&quot;/&gt;\n",
       "\t&lt;text x=&quot;1534.38&quot; y=&quot;2619.14&quot; style=&quot;font-family:&#x27;Helvetica&#x27;;font-size:99.99px;fill:#000000&quot; text-anchor=&quot;middle&quot;&gt;500&lt;/text&gt;\n",
       "\t&lt;line x1=&quot;2201.51&quot; y1=&quot;2489.19&quot; x2=&quot;2201.51&quot; y2=&quot;2529.16&quot; style=&quot;stroke:#000000;stroke-width:5.76&quot;/&gt;\n",
       "\t&lt;text x=&quot;2201.51&quot; y=&quot;2619.14&quot; style=&quot;font-family:&#x27;Helvetica&#x27;;font-size:99.99px;fill:#000000&quot; text-anchor=&quot;middle&quot;&gt;1,000&lt;/text&gt;\n",
       "\t&lt;line x1=&quot;2868.53&quot; y1=&quot;2489.19&quot; x2=&quot;2868.53&quot; y2=&quot;2529.16&quot; style=&quot;stroke:#000000;stroke-width:5.76&quot;/&gt;\n",
       "\t&lt;text x=&quot;2868.53&quot; y=&quot;2619.14&quot; style=&quot;font-family:&#x27;Helvetica&#x27;;font-size:99.99px;fill:#000000&quot; text-anchor=&quot;middle&quot;&gt;1,500&lt;/text&gt;\n",
       "\t&lt;line x1=&quot;3535.54&quot; y1=&quot;2489.19&quot; x2=&quot;3535.54&quot; y2=&quot;2529.16&quot; style=&quot;stroke:#000000;stroke-width:5.76&quot;/&gt;\n",
       "\t&lt;text x=&quot;3535.54&quot; y=&quot;2619.14&quot; style=&quot;font-family:&#x27;Helvetica&#x27;;font-size:99.99px;fill:#000000&quot; text-anchor=&quot;middle&quot;&gt;2,000&lt;/text&gt;\n",
       "\t&lt;text x=&quot;2363.25&quot; y=&quot;2729.16&quot; style=&quot;font-family:&#x27;Helvetica&#x27;;font-size:99.99px;fill:#000000&quot; text-anchor=&quot;middle&quot;&gt;count of campus&lt;/text&gt;\n",
       "\t&lt;line x1=&quot;867.36&quot; y1=&quot;2489.19&quot; x2=&quot;867.36&quot; y2=&quot;100.86&quot; style=&quot;stroke:#000000;stroke-width:5.76&quot;/&gt;\n",
       "\t&lt;text x=&quot;827.39&quot; y=&quot;2266.43&quot; style=&quot;font-family:&#x27;Helvetica&#x27;;font-size:99.99px;fill:#000000&quot; text-anchor=&quot;end&quot;&gt;State&lt;/text&gt;\n",
       "\t&lt;text x=&quot;827.39&quot; y=&quot;1891.83&quot; style=&quot;font-family:&#x27;Helvetica&#x27;;font-size:99.99px;fill:#000000&quot; text-anchor=&quot;end&quot;&gt;Publicly traded&lt;/text&gt;\n",
       "\t&lt;text x=&quot;827.39&quot; y=&quot;1517.35&quot; style=&quot;font-family:&#x27;Helvetica&#x27;;font-size:99.99px;fill:#000000&quot; text-anchor=&quot;end&quot;&gt;Privately held&lt;/text&gt;\n",
       "\t&lt;text x=&quot;827.39&quot; y=&quot;1142.75&quot; style=&quot;font-family:&#x27;Helvetica&#x27;;font-size:99.99px;fill:#000000&quot; text-anchor=&quot;end&quot;&gt;Private equity&lt;/text&gt;\n",
       "\t&lt;text x=&quot;827.39&quot; y=&quot;768.15&quot; style=&quot;font-family:&#x27;Helvetica&#x27;;font-size:99.99px;fill:#000000&quot; text-anchor=&quot;end&quot;&gt;Non-profit&lt;/text&gt;\n",
       "\t&lt;text x=&quot;827.39&quot; y=&quot;393.67&quot; style=&quot;font-family:&#x27;Helvetica&#x27;;font-size:99.99px;fill:#000000&quot; text-anchor=&quot;end&quot;&gt;Community&lt;/text&gt;\n",
       "&lt;/svg&gt;\n",
       "</body></html>\"></iframe>\n"
      ],
      "text/plain": [
       "This front-end cannot display the desired image type."
      ]
     },
     "metadata": {
      "image/svg+xml": {
       "height": 436,
       "width": 600
      },
      "text/html": {
       "height": 436,
       "width": 600
      }
     },
     "output_type": "display_data"
    }
   ],
   "source": [
    "gen campus=1\n",
    "graph hbar (count) campus, over(owner_pe)"
   ]
  },
  {
   "cell_type": "markdown",
   "metadata": {},
   "source": [
    "# Maybe a percentage table is more informative?"
   ]
  },
  {
   "cell_type": "code",
   "execution_count": 5,
   "metadata": {},
   "outputs": [
    {
     "data": {
      "application/pdf": "[encoded data removed]",
      "image/svg+xml": [
       "<?xml version=\"1.0\" encoding=\"UTF-8\" standalone=\"no\"?>\n",
       "<!-- This is a Stata 15.1 generated SVG file (http://www.stata.com) -->\n",
       "\n",
       "<svg version=\"1.1\" width=\"600px\" height=\"436px\" viewBox=\"0 0 3960 2880\" xmlns=\"http://www.w3.org/2000/svg\" xmlns:xlink=\"http://www.w3.org/1999/xlink\">\n",
       "\t<desc>Stata Graph - Graph</desc>\n",
       "\t<rect x=\"0\" y=\"0\" width=\"3960\" height=\"2880\" style=\"fill:#EAF2F3;stroke:none\"/>\n",
       "\t<rect x=\"0.00\" y=\"0.00\" width=\"3959.88\" height=\"2880.00\" style=\"fill:#EAF2F3\"/>\n",
       "\t<rect x=\"2.88\" y=\"2.88\" width=\"3954.12\" height=\"2874.24\" style=\"fill:none;stroke:#EAF2F3;stroke-width:5.76\"/>\n",
       "\t<rect x=\"1240.72\" y=\"100.86\" width=\"2618.30\" height=\"2388.33\" style=\"fill:#FFFFFF\"/>\n",
       "\t<rect x=\"1243.60\" y=\"103.74\" width=\"2612.54\" height=\"2382.57\" style=\"fill:none;stroke:#FFFFFF;stroke-width:5.76\"/>\n",
       "\t<line x1=\"1240.72\" y1=\"2489.19\" x2=\"1240.72\" y2=\"100.86\" style=\"stroke:#EAF2F3;stroke-width:8.64\"/>\n",
       "\t<line x1=\"2079.87\" y1=\"2489.19\" x2=\"2079.87\" y2=\"100.86\" style=\"stroke:#EAF2F3;stroke-width:8.64\"/>\n",
       "\t<line x1=\"2919.14\" y1=\"2489.19\" x2=\"2919.14\" y2=\"100.86\" style=\"stroke:#EAF2F3;stroke-width:8.64\"/>\n",
       "\t<line x1=\"3758.29\" y1=\"2489.19\" x2=\"3758.29\" y2=\"100.86\" style=\"stroke:#EAF2F3;stroke-width:8.64\"/>\n",
       "\t<rect x=\"1240.72\" y=\"1978.33\" width=\"790.76\" height=\"341.68\" style=\"fill:#C10534\"/>\n",
       "\t<rect x=\"1243.60\" y=\"1981.21\" width=\"785.00\" height=\"335.92\" style=\"fill:none;stroke:#C10534;stroke-width:5.76\"/>\n",
       "\t<rect x=\"1240.72\" y=\"1636.64\" width=\"1021.19\" height=\"341.68\" style=\"fill:#6E8E84\"/>\n",
       "\t<rect x=\"1243.60\" y=\"1639.52\" width=\"1015.43\" height=\"335.92\" style=\"fill:none;stroke:#6E8E84;stroke-width:5.76\"/>\n",
       "\t<rect x=\"1240.72\" y=\"1294.96\" width=\"2400.01\" height=\"341.68\" style=\"fill:#E37E00\"/>\n",
       "\t<rect x=\"1243.60\" y=\"1297.84\" width=\"2394.25\" height=\"335.92\" style=\"fill:none;stroke:#E37E00;stroke-width:5.76\"/>\n",
       "\t<rect x=\"1240.72\" y=\"953.28\" width=\"611.33\" height=\"341.68\" style=\"fill:#55752F\"/>\n",
       "\t<rect x=\"1243.60\" y=\"956.16\" width=\"605.57\" height=\"335.92\" style=\"fill:none;stroke:#55752F;stroke-width:5.76\"/>\n",
       "\t<rect x=\"1240.72\" y=\"611.59\" width=\"2126.52\" height=\"341.68\" style=\"fill:#90353B\"/>\n",
       "\t<rect x=\"1243.60\" y=\"614.47\" width=\"2120.76\" height=\"335.92\" style=\"fill:none;stroke:#90353B;stroke-width:5.76\"/>\n",
       "\t<rect x=\"1240.72\" y=\"269.91\" width=\"1442.06\" height=\"341.68\" style=\"fill:#1A476F\"/>\n",
       "\t<rect x=\"1243.60\" y=\"272.79\" width=\"1436.30\" height=\"335.92\" style=\"fill:none;stroke:#1A476F;stroke-width:5.76\"/>\n",
       "\t<text x=\"2071.45\" y=\"2177.25\" style=\"font-family:'Helvetica';font-size:79.94px;fill:#000000\">9.42325</text>\n",
       "\t<text x=\"2301.87\" y=\"1835.56\" style=\"font-family:'Helvetica';font-size:79.94px;fill:#000000\">12.1684</text>\n",
       "\t<text x=\"3680.82\" y=\"1493.88\" style=\"font-family:'Helvetica';font-size:79.94px;fill:#000000\">28.5997</text>\n",
       "\t<text x=\"1892.01\" y=\"1152.19\" style=\"font-family:'Helvetica';font-size:79.94px;fill:#000000\">7.28521</text>\n",
       "\t<text x=\"3407.21\" y=\"810.51\" style=\"font-family:'Helvetica';font-size:79.94px;fill:#000000\">25.3398</text>\n",
       "\t<text x=\"2722.75\" y=\"468.82\" style=\"font-family:'Helvetica';font-size:79.94px;fill:#000000\">17.1836</text>\n",
       "\t<line x1=\"1240.72\" y1=\"2489.19\" x2=\"3859.02\" y2=\"2489.19\" style=\"stroke:#000000;stroke-width:5.76\"/>\n",
       "\t<line x1=\"1240.72\" y1=\"2489.19\" x2=\"1240.72\" y2=\"2529.16\" style=\"stroke:#000000;stroke-width:5.76\"/>\n",
       "\t<text x=\"1240.72\" y=\"2619.14\" style=\"font-family:'Helvetica';font-size:99.99px;fill:#000000\" text-anchor=\"middle\">0</text>\n",
       "\t<line x1=\"2079.87\" y1=\"2489.19\" x2=\"2079.87\" y2=\"2529.16\" style=\"stroke:#000000;stroke-width:5.76\"/>\n",
       "\t<text x=\"2079.87\" y=\"2619.14\" style=\"font-family:'Helvetica';font-size:99.99px;fill:#000000\" text-anchor=\"middle\">10</text>\n",
       "\t<line x1=\"2919.14\" y1=\"2489.19\" x2=\"2919.14\" y2=\"2529.16\" style=\"stroke:#000000;stroke-width:5.76\"/>\n",
       "\t<text x=\"2919.14\" y=\"2619.14\" style=\"font-family:'Helvetica';font-size:99.99px;fill:#000000\" text-anchor=\"middle\">20</text>\n",
       "\t<line x1=\"3758.29\" y1=\"2489.19\" x2=\"3758.29\" y2=\"2529.16\" style=\"stroke:#000000;stroke-width:5.76\"/>\n",
       "\t<text x=\"3758.29\" y=\"2619.14\" style=\"font-family:'Helvetica';font-size:99.99px;fill:#000000\" text-anchor=\"middle\">30</text>\n",
       "\t<text x=\"2549.87\" y=\"2729.16\" style=\"font-family:'Helvetica';font-size:99.99px;fill:#000000\" text-anchor=\"middle\">percent</text>\n",
       "\t<line x1=\"1240.72\" y1=\"2489.19\" x2=\"1240.72\" y2=\"100.86\" style=\"stroke:#000000;stroke-width:5.76\"/>\n",
       "\t<text x=\"1200.75\" y=\"2184.26\" style=\"font-family:'Helvetica';font-size:99.99px;fill:#000000\" text-anchor=\"end\">mean of _Iowner_pe_6</text>\n",
       "\t<text x=\"1200.75\" y=\"1842.58\" style=\"font-family:'Helvetica';font-size:99.99px;fill:#000000\" text-anchor=\"end\">mean of _Iowner_pe_5</text>\n",
       "\t<text x=\"1200.75\" y=\"1500.89\" style=\"font-family:'Helvetica';font-size:99.99px;fill:#000000\" text-anchor=\"end\">mean of _Iowner_pe_4</text>\n",
       "\t<text x=\"1200.75\" y=\"1159.21\" style=\"font-family:'Helvetica';font-size:99.99px;fill:#000000\" text-anchor=\"end\">mean of _Iowner_pe_3</text>\n",
       "\t<text x=\"1200.75\" y=\"817.52\" style=\"font-family:'Helvetica';font-size:99.99px;fill:#000000\" text-anchor=\"end\">mean of _Iowner_pe_2</text>\n",
       "\t<text x=\"1200.75\" y=\"475.84\" style=\"font-family:'Helvetica';font-size:99.99px;fill:#000000\" text-anchor=\"end\">mean of _Iowner_pe_1</text>\n",
       "</svg>\n"
      ],
      "text/html": [
       "                <iframe frameborder=\"0\" scrolling=\"no\" height=\"436\" width=\"600\"                srcdoc=\"<html><body>&lt;?xml version=&quot;1.0&quot; encoding=&quot;UTF-8&quot; standalone=&quot;no&quot;?&gt;\n",
       "&lt;!-- This is a Stata 15.1 generated SVG file (http://www.stata.com) --&gt;\n",
       "\n",
       "&lt;svg version=&quot;1.1&quot; width=&quot;600px&quot; height=&quot;436px&quot; viewBox=&quot;0 0 3960 2880&quot; xmlns=&quot;http://www.w3.org/2000/svg&quot; xmlns:xlink=&quot;http://www.w3.org/1999/xlink&quot;&gt;\n",
       "\t&lt;desc&gt;Stata Graph - Graph&lt;/desc&gt;\n",
       "\t&lt;rect x=&quot;0&quot; y=&quot;0&quot; width=&quot;3960&quot; height=&quot;2880&quot; style=&quot;fill:#EAF2F3;stroke:none&quot;/&gt;\n",
       "\t&lt;rect x=&quot;0.00&quot; y=&quot;0.00&quot; width=&quot;3959.88&quot; height=&quot;2880.00&quot; style=&quot;fill:#EAF2F3&quot;/&gt;\n",
       "\t&lt;rect x=&quot;2.88&quot; y=&quot;2.88&quot; width=&quot;3954.12&quot; height=&quot;2874.24&quot; style=&quot;fill:none;stroke:#EAF2F3;stroke-width:5.76&quot;/&gt;\n",
       "\t&lt;rect x=&quot;1240.72&quot; y=&quot;100.86&quot; width=&quot;2618.30&quot; height=&quot;2388.33&quot; style=&quot;fill:#FFFFFF&quot;/&gt;\n",
       "\t&lt;rect x=&quot;1243.60&quot; y=&quot;103.74&quot; width=&quot;2612.54&quot; height=&quot;2382.57&quot; style=&quot;fill:none;stroke:#FFFFFF;stroke-width:5.76&quot;/&gt;\n",
       "\t&lt;line x1=&quot;1240.72&quot; y1=&quot;2489.19&quot; x2=&quot;1240.72&quot; y2=&quot;100.86&quot; style=&quot;stroke:#EAF2F3;stroke-width:8.64&quot;/&gt;\n",
       "\t&lt;line x1=&quot;2079.87&quot; y1=&quot;2489.19&quot; x2=&quot;2079.87&quot; y2=&quot;100.86&quot; style=&quot;stroke:#EAF2F3;stroke-width:8.64&quot;/&gt;\n",
       "\t&lt;line x1=&quot;2919.14&quot; y1=&quot;2489.19&quot; x2=&quot;2919.14&quot; y2=&quot;100.86&quot; style=&quot;stroke:#EAF2F3;stroke-width:8.64&quot;/&gt;\n",
       "\t&lt;line x1=&quot;3758.29&quot; y1=&quot;2489.19&quot; x2=&quot;3758.29&quot; y2=&quot;100.86&quot; style=&quot;stroke:#EAF2F3;stroke-width:8.64&quot;/&gt;\n",
       "\t&lt;rect x=&quot;1240.72&quot; y=&quot;1978.33&quot; width=&quot;790.76&quot; height=&quot;341.68&quot; style=&quot;fill:#C10534&quot;/&gt;\n",
       "\t&lt;rect x=&quot;1243.60&quot; y=&quot;1981.21&quot; width=&quot;785.00&quot; height=&quot;335.92&quot; style=&quot;fill:none;stroke:#C10534;stroke-width:5.76&quot;/&gt;\n",
       "\t&lt;rect x=&quot;1240.72&quot; y=&quot;1636.64&quot; width=&quot;1021.19&quot; height=&quot;341.68&quot; style=&quot;fill:#6E8E84&quot;/&gt;\n",
       "\t&lt;rect x=&quot;1243.60&quot; y=&quot;1639.52&quot; width=&quot;1015.43&quot; height=&quot;335.92&quot; style=&quot;fill:none;stroke:#6E8E84;stroke-width:5.76&quot;/&gt;\n",
       "\t&lt;rect x=&quot;1240.72&quot; y=&quot;1294.96&quot; width=&quot;2400.01&quot; height=&quot;341.68&quot; style=&quot;fill:#E37E00&quot;/&gt;\n",
       "\t&lt;rect x=&quot;1243.60&quot; y=&quot;1297.84&quot; width=&quot;2394.25&quot; height=&quot;335.92&quot; style=&quot;fill:none;stroke:#E37E00;stroke-width:5.76&quot;/&gt;\n",
       "\t&lt;rect x=&quot;1240.72&quot; y=&quot;953.28&quot; width=&quot;611.33&quot; height=&quot;341.68&quot; style=&quot;fill:#55752F&quot;/&gt;\n",
       "\t&lt;rect x=&quot;1243.60&quot; y=&quot;956.16&quot; width=&quot;605.57&quot; height=&quot;335.92&quot; style=&quot;fill:none;stroke:#55752F;stroke-width:5.76&quot;/&gt;\n",
       "\t&lt;rect x=&quot;1240.72&quot; y=&quot;611.59&quot; width=&quot;2126.52&quot; height=&quot;341.68&quot; style=&quot;fill:#90353B&quot;/&gt;\n",
       "\t&lt;rect x=&quot;1243.60&quot; y=&quot;614.47&quot; width=&quot;2120.76&quot; height=&quot;335.92&quot; style=&quot;fill:none;stroke:#90353B;stroke-width:5.76&quot;/&gt;\n",
       "\t&lt;rect x=&quot;1240.72&quot; y=&quot;269.91&quot; width=&quot;1442.06&quot; height=&quot;341.68&quot; style=&quot;fill:#1A476F&quot;/&gt;\n",
       "\t&lt;rect x=&quot;1243.60&quot; y=&quot;272.79&quot; width=&quot;1436.30&quot; height=&quot;335.92&quot; style=&quot;fill:none;stroke:#1A476F;stroke-width:5.76&quot;/&gt;\n",
       "\t&lt;text x=&quot;2071.45&quot; y=&quot;2177.25&quot; style=&quot;font-family:&#x27;Helvetica&#x27;;font-size:79.94px;fill:#000000&quot;&gt;9.42325&lt;/text&gt;\n",
       "\t&lt;text x=&quot;2301.87&quot; y=&quot;1835.56&quot; style=&quot;font-family:&#x27;Helvetica&#x27;;font-size:79.94px;fill:#000000&quot;&gt;12.1684&lt;/text&gt;\n",
       "\t&lt;text x=&quot;3680.82&quot; y=&quot;1493.88&quot; style=&quot;font-family:&#x27;Helvetica&#x27;;font-size:79.94px;fill:#000000&quot;&gt;28.5997&lt;/text&gt;\n",
       "\t&lt;text x=&quot;1892.01&quot; y=&quot;1152.19&quot; style=&quot;font-family:&#x27;Helvetica&#x27;;font-size:79.94px;fill:#000000&quot;&gt;7.28521&lt;/text&gt;\n",
       "\t&lt;text x=&quot;3407.21&quot; y=&quot;810.51&quot; style=&quot;font-family:&#x27;Helvetica&#x27;;font-size:79.94px;fill:#000000&quot;&gt;25.3398&lt;/text&gt;\n",
       "\t&lt;text x=&quot;2722.75&quot; y=&quot;468.82&quot; style=&quot;font-family:&#x27;Helvetica&#x27;;font-size:79.94px;fill:#000000&quot;&gt;17.1836&lt;/text&gt;\n",
       "\t&lt;line x1=&quot;1240.72&quot; y1=&quot;2489.19&quot; x2=&quot;3859.02&quot; y2=&quot;2489.19&quot; style=&quot;stroke:#000000;stroke-width:5.76&quot;/&gt;\n",
       "\t&lt;line x1=&quot;1240.72&quot; y1=&quot;2489.19&quot; x2=&quot;1240.72&quot; y2=&quot;2529.16&quot; style=&quot;stroke:#000000;stroke-width:5.76&quot;/&gt;\n",
       "\t&lt;text x=&quot;1240.72&quot; y=&quot;2619.14&quot; style=&quot;font-family:&#x27;Helvetica&#x27;;font-size:99.99px;fill:#000000&quot; text-anchor=&quot;middle&quot;&gt;0&lt;/text&gt;\n",
       "\t&lt;line x1=&quot;2079.87&quot; y1=&quot;2489.19&quot; x2=&quot;2079.87&quot; y2=&quot;2529.16&quot; style=&quot;stroke:#000000;stroke-width:5.76&quot;/&gt;\n",
       "\t&lt;text x=&quot;2079.87&quot; y=&quot;2619.14&quot; style=&quot;font-family:&#x27;Helvetica&#x27;;font-size:99.99px;fill:#000000&quot; text-anchor=&quot;middle&quot;&gt;10&lt;/text&gt;\n",
       "\t&lt;line x1=&quot;2919.14&quot; y1=&quot;2489.19&quot; x2=&quot;2919.14&quot; y2=&quot;2529.16&quot; style=&quot;stroke:#000000;stroke-width:5.76&quot;/&gt;\n",
       "\t&lt;text x=&quot;2919.14&quot; y=&quot;2619.14&quot; style=&quot;font-family:&#x27;Helvetica&#x27;;font-size:99.99px;fill:#000000&quot; text-anchor=&quot;middle&quot;&gt;20&lt;/text&gt;\n",
       "\t&lt;line x1=&quot;3758.29&quot; y1=&quot;2489.19&quot; x2=&quot;3758.29&quot; y2=&quot;2529.16&quot; style=&quot;stroke:#000000;stroke-width:5.76&quot;/&gt;\n",
       "\t&lt;text x=&quot;3758.29&quot; y=&quot;2619.14&quot; style=&quot;font-family:&#x27;Helvetica&#x27;;font-size:99.99px;fill:#000000&quot; text-anchor=&quot;middle&quot;&gt;30&lt;/text&gt;\n",
       "\t&lt;text x=&quot;2549.87&quot; y=&quot;2729.16&quot; style=&quot;font-family:&#x27;Helvetica&#x27;;font-size:99.99px;fill:#000000&quot; text-anchor=&quot;middle&quot;&gt;percent&lt;/text&gt;\n",
       "\t&lt;line x1=&quot;1240.72&quot; y1=&quot;2489.19&quot; x2=&quot;1240.72&quot; y2=&quot;100.86&quot; style=&quot;stroke:#000000;stroke-width:5.76&quot;/&gt;\n",
       "\t&lt;text x=&quot;1200.75&quot; y=&quot;2184.26&quot; style=&quot;font-family:&#x27;Helvetica&#x27;;font-size:99.99px;fill:#000000&quot; text-anchor=&quot;end&quot;&gt;mean of _Iowner_pe_6&lt;/text&gt;\n",
       "\t&lt;text x=&quot;1200.75&quot; y=&quot;1842.58&quot; style=&quot;font-family:&#x27;Helvetica&#x27;;font-size:99.99px;fill:#000000&quot; text-anchor=&quot;end&quot;&gt;mean of _Iowner_pe_5&lt;/text&gt;\n",
       "\t&lt;text x=&quot;1200.75&quot; y=&quot;1500.89&quot; style=&quot;font-family:&#x27;Helvetica&#x27;;font-size:99.99px;fill:#000000&quot; text-anchor=&quot;end&quot;&gt;mean of _Iowner_pe_4&lt;/text&gt;\n",
       "\t&lt;text x=&quot;1200.75&quot; y=&quot;1159.21&quot; style=&quot;font-family:&#x27;Helvetica&#x27;;font-size:99.99px;fill:#000000&quot; text-anchor=&quot;end&quot;&gt;mean of _Iowner_pe_3&lt;/text&gt;\n",
       "\t&lt;text x=&quot;1200.75&quot; y=&quot;817.52&quot; style=&quot;font-family:&#x27;Helvetica&#x27;;font-size:99.99px;fill:#000000&quot; text-anchor=&quot;end&quot;&gt;mean of _Iowner_pe_2&lt;/text&gt;\n",
       "\t&lt;text x=&quot;1200.75&quot; y=&quot;475.84&quot; style=&quot;font-family:&#x27;Helvetica&#x27;;font-size:99.99px;fill:#000000&quot; text-anchor=&quot;end&quot;&gt;mean of _Iowner_pe_1&lt;/text&gt;\n",
       "&lt;/svg&gt;\n",
       "</body></html>\"></iframe>\n"
      ],
      "text/plain": [
       "This front-end cannot display the desired image type."
      ]
     },
     "metadata": {
      "image/svg+xml": {
       "height": 436,
       "width": 600
      },
      "text/html": {
       "height": 436,
       "width": 600
      }
     },
     "output_type": "display_data"
    }
   ],
   "source": [
    "xi i.owner_pe, noomit // create dummy vars for ownership\n",
    "graph hbar _Iowner_pe*, label percentages legend(off) blabel(bar) showyvars"
   ]
  },
  {
   "cell_type": "markdown",
   "metadata": {},
   "source": [
    "# Barf, the bar labels are confusing and sorting bars would help"
   ]
  },
  {
   "cell_type": "code",
   "execution_count": 30,
   "metadata": {},
   "outputs": [
    {
     "data": {
      "application/pdf": "[encoded data removed]",
      "image/svg+xml": [
       "<?xml version=\"1.0\" encoding=\"UTF-8\" standalone=\"no\"?>\n",
       "<!-- This is a Stata 15.1 generated SVG file (http://www.stata.com) -->\n",
       "\n",
       "<svg version=\"1.1\" width=\"600px\" height=\"436px\" viewBox=\"0 0 3960 2880\" xmlns=\"http://www.w3.org/2000/svg\" xmlns:xlink=\"http://www.w3.org/1999/xlink\">\n",
       "\t<desc>Stata Graph - Graph</desc>\n",
       "\t<rect x=\"0\" y=\"0\" width=\"3960\" height=\"2880\" style=\"fill:#EAF2F3;stroke:none\"/>\n",
       "\t<rect x=\"0.00\" y=\"0.00\" width=\"3959.88\" height=\"2880.00\" style=\"fill:#EAF2F3\"/>\n",
       "\t<rect x=\"2.88\" y=\"2.88\" width=\"3954.12\" height=\"2874.24\" style=\"fill:none;stroke:#EAF2F3;stroke-width:5.76\"/>\n",
       "\t<rect x=\"865.88\" y=\"100.86\" width=\"2993.14\" height=\"2388.33\" style=\"fill:#FFFFFF\"/>\n",
       "\t<rect x=\"868.76\" y=\"103.74\" width=\"2987.38\" height=\"2382.57\" style=\"fill:none;stroke:#FFFFFF;stroke-width:5.76\"/>\n",
       "\t<line x1=\"865.88\" y1=\"2489.19\" x2=\"865.88\" y2=\"100.86\" style=\"stroke:#EAF2F3;stroke-width:8.64\"/>\n",
       "\t<line x1=\"1830.02\" y1=\"2489.19\" x2=\"1830.02\" y2=\"100.86\" style=\"stroke:#EAF2F3;stroke-width:8.64\"/>\n",
       "\t<line x1=\"2794.15\" y1=\"2489.19\" x2=\"2794.15\" y2=\"100.86\" style=\"stroke:#EAF2F3;stroke-width:8.64\"/>\n",
       "\t<line x1=\"3758.29\" y1=\"2489.19\" x2=\"3758.29\" y2=\"100.86\" style=\"stroke:#EAF2F3;stroke-width:8.64\"/>\n",
       "\t<rect x=\"865.88\" y=\"1978.33\" width=\"702.41\" height=\"341.68\" style=\"fill:#C10534\"/>\n",
       "\t<rect x=\"868.76\" y=\"1981.21\" width=\"696.65\" height=\"335.92\" style=\"fill:none;stroke:#C10534;stroke-width:5.76\"/>\n",
       "\t<rect x=\"865.88\" y=\"1636.64\" width=\"908.57\" height=\"341.68\" style=\"fill:#6E8E84\"/>\n",
       "\t<rect x=\"868.76\" y=\"1639.52\" width=\"902.81\" height=\"335.92\" style=\"fill:none;stroke:#6E8E84;stroke-width:5.76\"/>\n",
       "\t<rect x=\"865.88\" y=\"1294.96\" width=\"1173.15\" height=\"341.68\" style=\"fill:#E37E00\"/>\n",
       "\t<rect x=\"868.76\" y=\"1297.84\" width=\"1167.39\" height=\"335.92\" style=\"fill:none;stroke:#E37E00;stroke-width:5.76\"/>\n",
       "\t<rect x=\"865.88\" y=\"953.28\" width=\"1656.77\" height=\"341.68\" style=\"fill:#55752F\"/>\n",
       "\t<rect x=\"868.76\" y=\"956.16\" width=\"1651.01\" height=\"335.92\" style=\"fill:none;stroke:#55752F;stroke-width:5.76\"/>\n",
       "\t<rect x=\"865.88\" y=\"611.59\" width=\"2443.07\" height=\"341.68\" style=\"fill:#90353B\"/>\n",
       "\t<rect x=\"868.76\" y=\"614.47\" width=\"2437.31\" height=\"335.92\" style=\"fill:none;stroke:#90353B;stroke-width:5.76\"/>\n",
       "\t<rect x=\"865.88\" y=\"269.91\" width=\"2757.40\" height=\"341.68\" style=\"fill:#1A476F\"/>\n",
       "\t<rect x=\"868.76\" y=\"272.79\" width=\"2751.64\" height=\"335.92\" style=\"fill:none;stroke:#1A476F;stroke-width:5.76\"/>\n",
       "\t<text x=\"1608.26\" y=\"2177.25\" style=\"font-family:'Helvetica';font-size:79.94px;fill:#000000\">7.3</text>\n",
       "\t<text x=\"1814.42\" y=\"1835.56\" style=\"font-family:'Helvetica';font-size:79.94px;fill:#000000\">9.4</text>\n",
       "\t<text x=\"2079.12\" y=\"1493.88\" style=\"font-family:'Helvetica';font-size:79.94px;fill:#000000\">12.2</text>\n",
       "\t<text x=\"2562.61\" y=\"1152.19\" style=\"font-family:'Helvetica';font-size:79.94px;fill:#000000\">17.2</text>\n",
       "\t<text x=\"3348.92\" y=\"810.51\" style=\"font-family:'Helvetica';font-size:79.94px;fill:#000000\">25.3</text>\n",
       "\t<text x=\"3663.25\" y=\"468.82\" style=\"font-family:'Helvetica';font-size:79.94px;fill:#000000\">28.6</text>\n",
       "\t<line x1=\"865.88\" y1=\"2489.19\" x2=\"3859.02\" y2=\"2489.19\" style=\"stroke:#000000;stroke-width:5.76\"/>\n",
       "\t<line x1=\"865.88\" y1=\"2489.19\" x2=\"865.88\" y2=\"2529.16\" style=\"stroke:#000000;stroke-width:5.76\"/>\n",
       "\t<text x=\"865.88\" y=\"2619.14\" style=\"font-family:'Helvetica';font-size:99.99px;fill:#000000\" text-anchor=\"middle\">0</text>\n",
       "\t<line x1=\"1830.02\" y1=\"2489.19\" x2=\"1830.02\" y2=\"2529.16\" style=\"stroke:#000000;stroke-width:5.76\"/>\n",
       "\t<text x=\"1830.02\" y=\"2619.14\" style=\"font-family:'Helvetica';font-size:99.99px;fill:#000000\" text-anchor=\"middle\">10</text>\n",
       "\t<line x1=\"2794.15\" y1=\"2489.19\" x2=\"2794.15\" y2=\"2529.16\" style=\"stroke:#000000;stroke-width:5.76\"/>\n",
       "\t<text x=\"2794.15\" y=\"2619.14\" style=\"font-family:'Helvetica';font-size:99.99px;fill:#000000\" text-anchor=\"middle\">20</text>\n",
       "\t<line x1=\"3758.29\" y1=\"2489.19\" x2=\"3758.29\" y2=\"2529.16\" style=\"stroke:#000000;stroke-width:5.76\"/>\n",
       "\t<text x=\"3758.29\" y=\"2619.14\" style=\"font-family:'Helvetica';font-size:99.99px;fill:#000000\" text-anchor=\"middle\">30</text>\n",
       "\t<text x=\"2362.51\" y=\"2729.16\" style=\"font-family:'Helvetica';font-size:99.99px;fill:#000000\" text-anchor=\"middle\">percent</text>\n",
       "\t<line x1=\"865.88\" y1=\"2489.19\" x2=\"865.88\" y2=\"100.86\" style=\"stroke:#000000;stroke-width:5.76\"/>\n",
       "\t<text x=\"825.91\" y=\"2184.26\" style=\"font-family:'Helvetica';font-size:99.99px;fill:#000000\" text-anchor=\"end\">state</text>\n",
       "\t<text x=\"825.91\" y=\"1842.58\" style=\"font-family:'Helvetica';font-size:99.99px;fill:#000000\" text-anchor=\"end\">private equity</text>\n",
       "\t<text x=\"825.91\" y=\"1500.89\" style=\"font-family:'Helvetica';font-size:99.99px;fill:#000000\" text-anchor=\"end\">publicly traded</text>\n",
       "\t<text x=\"825.91\" y=\"1159.21\" style=\"font-family:'Helvetica';font-size:99.99px;fill:#000000\" text-anchor=\"end\">non-profit</text>\n",
       "\t<text x=\"825.91\" y=\"817.52\" style=\"font-family:'Helvetica';font-size:99.99px;fill:#000000\" text-anchor=\"end\">community</text>\n",
       "\t<text x=\"825.91\" y=\"475.84\" style=\"font-family:'Helvetica';font-size:99.99px;fill:#000000\" text-anchor=\"end\">privately held</text>\n",
       "</svg>\n"
      ],
      "text/html": [
       "                <iframe frameborder=\"0\" scrolling=\"no\" height=\"436\" width=\"600\"                srcdoc=\"<html><body>&lt;?xml version=&quot;1.0&quot; encoding=&quot;UTF-8&quot; standalone=&quot;no&quot;?&gt;\n",
       "&lt;!-- This is a Stata 15.1 generated SVG file (http://www.stata.com) --&gt;\n",
       "\n",
       "&lt;svg version=&quot;1.1&quot; width=&quot;600px&quot; height=&quot;436px&quot; viewBox=&quot;0 0 3960 2880&quot; xmlns=&quot;http://www.w3.org/2000/svg&quot; xmlns:xlink=&quot;http://www.w3.org/1999/xlink&quot;&gt;\n",
       "\t&lt;desc&gt;Stata Graph - Graph&lt;/desc&gt;\n",
       "\t&lt;rect x=&quot;0&quot; y=&quot;0&quot; width=&quot;3960&quot; height=&quot;2880&quot; style=&quot;fill:#EAF2F3;stroke:none&quot;/&gt;\n",
       "\t&lt;rect x=&quot;0.00&quot; y=&quot;0.00&quot; width=&quot;3959.88&quot; height=&quot;2880.00&quot; style=&quot;fill:#EAF2F3&quot;/&gt;\n",
       "\t&lt;rect x=&quot;2.88&quot; y=&quot;2.88&quot; width=&quot;3954.12&quot; height=&quot;2874.24&quot; style=&quot;fill:none;stroke:#EAF2F3;stroke-width:5.76&quot;/&gt;\n",
       "\t&lt;rect x=&quot;865.88&quot; y=&quot;100.86&quot; width=&quot;2993.14&quot; height=&quot;2388.33&quot; style=&quot;fill:#FFFFFF&quot;/&gt;\n",
       "\t&lt;rect x=&quot;868.76&quot; y=&quot;103.74&quot; width=&quot;2987.38&quot; height=&quot;2382.57&quot; style=&quot;fill:none;stroke:#FFFFFF;stroke-width:5.76&quot;/&gt;\n",
       "\t&lt;line x1=&quot;865.88&quot; y1=&quot;2489.19&quot; x2=&quot;865.88&quot; y2=&quot;100.86&quot; style=&quot;stroke:#EAF2F3;stroke-width:8.64&quot;/&gt;\n",
       "\t&lt;line x1=&quot;1830.02&quot; y1=&quot;2489.19&quot; x2=&quot;1830.02&quot; y2=&quot;100.86&quot; style=&quot;stroke:#EAF2F3;stroke-width:8.64&quot;/&gt;\n",
       "\t&lt;line x1=&quot;2794.15&quot; y1=&quot;2489.19&quot; x2=&quot;2794.15&quot; y2=&quot;100.86&quot; style=&quot;stroke:#EAF2F3;stroke-width:8.64&quot;/&gt;\n",
       "\t&lt;line x1=&quot;3758.29&quot; y1=&quot;2489.19&quot; x2=&quot;3758.29&quot; y2=&quot;100.86&quot; style=&quot;stroke:#EAF2F3;stroke-width:8.64&quot;/&gt;\n",
       "\t&lt;rect x=&quot;865.88&quot; y=&quot;1978.33&quot; width=&quot;702.41&quot; height=&quot;341.68&quot; style=&quot;fill:#C10534&quot;/&gt;\n",
       "\t&lt;rect x=&quot;868.76&quot; y=&quot;1981.21&quot; width=&quot;696.65&quot; height=&quot;335.92&quot; style=&quot;fill:none;stroke:#C10534;stroke-width:5.76&quot;/&gt;\n",
       "\t&lt;rect x=&quot;865.88&quot; y=&quot;1636.64&quot; width=&quot;908.57&quot; height=&quot;341.68&quot; style=&quot;fill:#6E8E84&quot;/&gt;\n",
       "\t&lt;rect x=&quot;868.76&quot; y=&quot;1639.52&quot; width=&quot;902.81&quot; height=&quot;335.92&quot; style=&quot;fill:none;stroke:#6E8E84;stroke-width:5.76&quot;/&gt;\n",
       "\t&lt;rect x=&quot;865.88&quot; y=&quot;1294.96&quot; width=&quot;1173.15&quot; height=&quot;341.68&quot; style=&quot;fill:#E37E00&quot;/&gt;\n",
       "\t&lt;rect x=&quot;868.76&quot; y=&quot;1297.84&quot; width=&quot;1167.39&quot; height=&quot;335.92&quot; style=&quot;fill:none;stroke:#E37E00;stroke-width:5.76&quot;/&gt;\n",
       "\t&lt;rect x=&quot;865.88&quot; y=&quot;953.28&quot; width=&quot;1656.77&quot; height=&quot;341.68&quot; style=&quot;fill:#55752F&quot;/&gt;\n",
       "\t&lt;rect x=&quot;868.76&quot; y=&quot;956.16&quot; width=&quot;1651.01&quot; height=&quot;335.92&quot; style=&quot;fill:none;stroke:#55752F;stroke-width:5.76&quot;/&gt;\n",
       "\t&lt;rect x=&quot;865.88&quot; y=&quot;611.59&quot; width=&quot;2443.07&quot; height=&quot;341.68&quot; style=&quot;fill:#90353B&quot;/&gt;\n",
       "\t&lt;rect x=&quot;868.76&quot; y=&quot;614.47&quot; width=&quot;2437.31&quot; height=&quot;335.92&quot; style=&quot;fill:none;stroke:#90353B;stroke-width:5.76&quot;/&gt;\n",
       "\t&lt;rect x=&quot;865.88&quot; y=&quot;269.91&quot; width=&quot;2757.40&quot; height=&quot;341.68&quot; style=&quot;fill:#1A476F&quot;/&gt;\n",
       "\t&lt;rect x=&quot;868.76&quot; y=&quot;272.79&quot; width=&quot;2751.64&quot; height=&quot;335.92&quot; style=&quot;fill:none;stroke:#1A476F;stroke-width:5.76&quot;/&gt;\n",
       "\t&lt;text x=&quot;1608.26&quot; y=&quot;2177.25&quot; style=&quot;font-family:&#x27;Helvetica&#x27;;font-size:79.94px;fill:#000000&quot;&gt;7.3&lt;/text&gt;\n",
       "\t&lt;text x=&quot;1814.42&quot; y=&quot;1835.56&quot; style=&quot;font-family:&#x27;Helvetica&#x27;;font-size:79.94px;fill:#000000&quot;&gt;9.4&lt;/text&gt;\n",
       "\t&lt;text x=&quot;2079.12&quot; y=&quot;1493.88&quot; style=&quot;font-family:&#x27;Helvetica&#x27;;font-size:79.94px;fill:#000000&quot;&gt;12.2&lt;/text&gt;\n",
       "\t&lt;text x=&quot;2562.61&quot; y=&quot;1152.19&quot; style=&quot;font-family:&#x27;Helvetica&#x27;;font-size:79.94px;fill:#000000&quot;&gt;17.2&lt;/text&gt;\n",
       "\t&lt;text x=&quot;3348.92&quot; y=&quot;810.51&quot; style=&quot;font-family:&#x27;Helvetica&#x27;;font-size:79.94px;fill:#000000&quot;&gt;25.3&lt;/text&gt;\n",
       "\t&lt;text x=&quot;3663.25&quot; y=&quot;468.82&quot; style=&quot;font-family:&#x27;Helvetica&#x27;;font-size:79.94px;fill:#000000&quot;&gt;28.6&lt;/text&gt;\n",
       "\t&lt;line x1=&quot;865.88&quot; y1=&quot;2489.19&quot; x2=&quot;3859.02&quot; y2=&quot;2489.19&quot; style=&quot;stroke:#000000;stroke-width:5.76&quot;/&gt;\n",
       "\t&lt;line x1=&quot;865.88&quot; y1=&quot;2489.19&quot; x2=&quot;865.88&quot; y2=&quot;2529.16&quot; style=&quot;stroke:#000000;stroke-width:5.76&quot;/&gt;\n",
       "\t&lt;text x=&quot;865.88&quot; y=&quot;2619.14&quot; style=&quot;font-family:&#x27;Helvetica&#x27;;font-size:99.99px;fill:#000000&quot; text-anchor=&quot;middle&quot;&gt;0&lt;/text&gt;\n",
       "\t&lt;line x1=&quot;1830.02&quot; y1=&quot;2489.19&quot; x2=&quot;1830.02&quot; y2=&quot;2529.16&quot; style=&quot;stroke:#000000;stroke-width:5.76&quot;/&gt;\n",
       "\t&lt;text x=&quot;1830.02&quot; y=&quot;2619.14&quot; style=&quot;font-family:&#x27;Helvetica&#x27;;font-size:99.99px;fill:#000000&quot; text-anchor=&quot;middle&quot;&gt;10&lt;/text&gt;\n",
       "\t&lt;line x1=&quot;2794.15&quot; y1=&quot;2489.19&quot; x2=&quot;2794.15&quot; y2=&quot;2529.16&quot; style=&quot;stroke:#000000;stroke-width:5.76&quot;/&gt;\n",
       "\t&lt;text x=&quot;2794.15&quot; y=&quot;2619.14&quot; style=&quot;font-family:&#x27;Helvetica&#x27;;font-size:99.99px;fill:#000000&quot; text-anchor=&quot;middle&quot;&gt;20&lt;/text&gt;\n",
       "\t&lt;line x1=&quot;3758.29&quot; y1=&quot;2489.19&quot; x2=&quot;3758.29&quot; y2=&quot;2529.16&quot; style=&quot;stroke:#000000;stroke-width:5.76&quot;/&gt;\n",
       "\t&lt;text x=&quot;3758.29&quot; y=&quot;2619.14&quot; style=&quot;font-family:&#x27;Helvetica&#x27;;font-size:99.99px;fill:#000000&quot; text-anchor=&quot;middle&quot;&gt;30&lt;/text&gt;\n",
       "\t&lt;text x=&quot;2362.51&quot; y=&quot;2729.16&quot; style=&quot;font-family:&#x27;Helvetica&#x27;;font-size:99.99px;fill:#000000&quot; text-anchor=&quot;middle&quot;&gt;percent&lt;/text&gt;\n",
       "\t&lt;line x1=&quot;865.88&quot; y1=&quot;2489.19&quot; x2=&quot;865.88&quot; y2=&quot;100.86&quot; style=&quot;stroke:#000000;stroke-width:5.76&quot;/&gt;\n",
       "\t&lt;text x=&quot;825.91&quot; y=&quot;2184.26&quot; style=&quot;font-family:&#x27;Helvetica&#x27;;font-size:99.99px;fill:#000000&quot; text-anchor=&quot;end&quot;&gt;state&lt;/text&gt;\n",
       "\t&lt;text x=&quot;825.91&quot; y=&quot;1842.58&quot; style=&quot;font-family:&#x27;Helvetica&#x27;;font-size:99.99px;fill:#000000&quot; text-anchor=&quot;end&quot;&gt;private equity&lt;/text&gt;\n",
       "\t&lt;text x=&quot;825.91&quot; y=&quot;1500.89&quot; style=&quot;font-family:&#x27;Helvetica&#x27;;font-size:99.99px;fill:#000000&quot; text-anchor=&quot;end&quot;&gt;publicly traded&lt;/text&gt;\n",
       "\t&lt;text x=&quot;825.91&quot; y=&quot;1159.21&quot; style=&quot;font-family:&#x27;Helvetica&#x27;;font-size:99.99px;fill:#000000&quot; text-anchor=&quot;end&quot;&gt;non-profit&lt;/text&gt;\n",
       "\t&lt;text x=&quot;825.91&quot; y=&quot;817.52&quot; style=&quot;font-family:&#x27;Helvetica&#x27;;font-size:99.99px;fill:#000000&quot; text-anchor=&quot;end&quot;&gt;community&lt;/text&gt;\n",
       "\t&lt;text x=&quot;825.91&quot; y=&quot;475.84&quot; style=&quot;font-family:&#x27;Helvetica&#x27;;font-size:99.99px;fill:#000000&quot; text-anchor=&quot;end&quot;&gt;privately held&lt;/text&gt;\n",
       "&lt;/svg&gt;\n",
       "</body></html>\"></iframe>\n"
      ],
      "text/plain": [
       "This front-end cannot display the desired image type."
      ]
     },
     "metadata": {
      "image/svg+xml": {
       "height": 436,
       "width": 600
      },
      "text/html": {
       "height": 436,
       "width": 600
      }
     },
     "output_type": "display_data"
    },
    {
     "data": {
      "application/pdf": "[encoded data removed]",
      "image/svg+xml": [
       "<?xml version=\"1.0\" encoding=\"UTF-8\" standalone=\"no\"?>\n",
       "<!-- This is a Stata 15.1 generated SVG file (http://www.stata.com) -->\n",
       "\n",
       "<svg version=\"1.1\" width=\"600px\" height=\"436px\" viewBox=\"0 0 3960 2880\" xmlns=\"http://www.w3.org/2000/svg\" xmlns:xlink=\"http://www.w3.org/1999/xlink\">\n",
       "\t<desc>Stata Graph - Graph</desc>\n",
       "\t<rect x=\"0\" y=\"0\" width=\"3960\" height=\"2880\" style=\"fill:#EAF2F3;stroke:none\"/>\n",
       "\t<rect x=\"0.00\" y=\"0.00\" width=\"3959.88\" height=\"2880.00\" style=\"fill:#EAF2F3\"/>\n",
       "\t<rect x=\"2.88\" y=\"2.88\" width=\"3954.12\" height=\"2874.24\" style=\"fill:none;stroke:#EAF2F3;stroke-width:5.76\"/>\n",
       "\t<rect x=\"865.88\" y=\"100.86\" width=\"2993.14\" height=\"2388.33\" style=\"fill:#FFFFFF\"/>\n",
       "\t<rect x=\"868.76\" y=\"103.74\" width=\"2987.38\" height=\"2382.57\" style=\"fill:none;stroke:#FFFFFF;stroke-width:5.76\"/>\n",
       "\t<line x1=\"865.88\" y1=\"2489.19\" x2=\"865.88\" y2=\"100.86\" style=\"stroke:#EAF2F3;stroke-width:8.64\"/>\n",
       "\t<line x1=\"1830.02\" y1=\"2489.19\" x2=\"1830.02\" y2=\"100.86\" style=\"stroke:#EAF2F3;stroke-width:8.64\"/>\n",
       "\t<line x1=\"2794.15\" y1=\"2489.19\" x2=\"2794.15\" y2=\"100.86\" style=\"stroke:#EAF2F3;stroke-width:8.64\"/>\n",
       "\t<line x1=\"3758.29\" y1=\"2489.19\" x2=\"3758.29\" y2=\"100.86\" style=\"stroke:#EAF2F3;stroke-width:8.64\"/>\n",
       "\t<rect x=\"865.88\" y=\"1978.33\" width=\"702.41\" height=\"341.68\" style=\"fill:#C10534\"/>\n",
       "\t<rect x=\"868.76\" y=\"1981.21\" width=\"696.65\" height=\"335.92\" style=\"fill:none;stroke:#C10534;stroke-width:5.76\"/>\n",
       "\t<rect x=\"865.88\" y=\"1636.64\" width=\"908.57\" height=\"341.68\" style=\"fill:#6E8E84\"/>\n",
       "\t<rect x=\"868.76\" y=\"1639.52\" width=\"902.81\" height=\"335.92\" style=\"fill:none;stroke:#6E8E84;stroke-width:5.76\"/>\n",
       "\t<rect x=\"865.88\" y=\"1294.96\" width=\"1173.15\" height=\"341.68\" style=\"fill:#E37E00\"/>\n",
       "\t<rect x=\"868.76\" y=\"1297.84\" width=\"1167.39\" height=\"335.92\" style=\"fill:none;stroke:#E37E00;stroke-width:5.76\"/>\n",
       "\t<rect x=\"865.88\" y=\"953.28\" width=\"1656.77\" height=\"341.68\" style=\"fill:#55752F\"/>\n",
       "\t<rect x=\"868.76\" y=\"956.16\" width=\"1651.01\" height=\"335.92\" style=\"fill:none;stroke:#55752F;stroke-width:5.76\"/>\n",
       "\t<rect x=\"865.88\" y=\"611.59\" width=\"2443.07\" height=\"341.68\" style=\"fill:#90353B\"/>\n",
       "\t<rect x=\"868.76\" y=\"614.47\" width=\"2437.31\" height=\"335.92\" style=\"fill:none;stroke:#90353B;stroke-width:5.76\"/>\n",
       "\t<rect x=\"865.88\" y=\"269.91\" width=\"2757.40\" height=\"341.68\" style=\"fill:#1A476F\"/>\n",
       "\t<rect x=\"868.76\" y=\"272.79\" width=\"2751.64\" height=\"335.92\" style=\"fill:none;stroke:#1A476F;stroke-width:5.76\"/>\n",
       "\t<text x=\"1608.26\" y=\"2177.25\" style=\"font-family:'Helvetica';font-size:79.94px;fill:#000000\">7.3</text>\n",
       "\t<text x=\"1814.42\" y=\"1835.56\" style=\"font-family:'Helvetica';font-size:79.94px;fill:#000000\">9.4</text>\n",
       "\t<text x=\"2079.12\" y=\"1493.88\" style=\"font-family:'Helvetica';font-size:79.94px;fill:#000000\">12.2</text>\n",
       "\t<text x=\"2562.61\" y=\"1152.19\" style=\"font-family:'Helvetica';font-size:79.94px;fill:#000000\">17.2</text>\n",
       "\t<text x=\"3348.92\" y=\"810.51\" style=\"font-family:'Helvetica';font-size:79.94px;fill:#000000\">25.3</text>\n",
       "\t<text x=\"3663.25\" y=\"468.82\" style=\"font-family:'Helvetica';font-size:79.94px;fill:#000000\">28.6</text>\n",
       "\t<line x1=\"865.88\" y1=\"2489.19\" x2=\"3859.02\" y2=\"2489.19\" style=\"stroke:#000000;stroke-width:5.76\"/>\n",
       "\t<line x1=\"865.88\" y1=\"2489.19\" x2=\"865.88\" y2=\"2529.16\" style=\"stroke:#000000;stroke-width:5.76\"/>\n",
       "\t<text x=\"865.88\" y=\"2619.14\" style=\"font-family:'Helvetica';font-size:99.99px;fill:#000000\" text-anchor=\"middle\">0</text>\n",
       "\t<line x1=\"1830.02\" y1=\"2489.19\" x2=\"1830.02\" y2=\"2529.16\" style=\"stroke:#000000;stroke-width:5.76\"/>\n",
       "\t<text x=\"1830.02\" y=\"2619.14\" style=\"font-family:'Helvetica';font-size:99.99px;fill:#000000\" text-anchor=\"middle\">10</text>\n",
       "\t<line x1=\"2794.15\" y1=\"2489.19\" x2=\"2794.15\" y2=\"2529.16\" style=\"stroke:#000000;stroke-width:5.76\"/>\n",
       "\t<text x=\"2794.15\" y=\"2619.14\" style=\"font-family:'Helvetica';font-size:99.99px;fill:#000000\" text-anchor=\"middle\">20</text>\n",
       "\t<line x1=\"3758.29\" y1=\"2489.19\" x2=\"3758.29\" y2=\"2529.16\" style=\"stroke:#000000;stroke-width:5.76\"/>\n",
       "\t<text x=\"3758.29\" y=\"2619.14\" style=\"font-family:'Helvetica';font-size:99.99px;fill:#000000\" text-anchor=\"middle\">30</text>\n",
       "\t<text x=\"2362.51\" y=\"2729.16\" style=\"font-family:'Helvetica';font-size:99.99px;fill:#000000\" text-anchor=\"middle\">percent</text>\n",
       "\t<line x1=\"865.88\" y1=\"2489.19\" x2=\"865.88\" y2=\"100.86\" style=\"stroke:#000000;stroke-width:5.76\"/>\n",
       "\t<text x=\"825.91\" y=\"2184.26\" style=\"font-family:'Helvetica';font-size:99.99px;fill:#000000\" text-anchor=\"end\">state</text>\n",
       "\t<text x=\"825.91\" y=\"1842.58\" style=\"font-family:'Helvetica';font-size:99.99px;fill:#000000\" text-anchor=\"end\">private equity</text>\n",
       "\t<text x=\"825.91\" y=\"1500.89\" style=\"font-family:'Helvetica';font-size:99.99px;fill:#000000\" text-anchor=\"end\">publicly traded</text>\n",
       "\t<text x=\"825.91\" y=\"1159.21\" style=\"font-family:'Helvetica';font-size:99.99px;fill:#000000\" text-anchor=\"end\">non-profit</text>\n",
       "\t<text x=\"825.91\" y=\"817.52\" style=\"font-family:'Helvetica';font-size:99.99px;fill:#000000\" text-anchor=\"end\">community</text>\n",
       "\t<text x=\"825.91\" y=\"475.84\" style=\"font-family:'Helvetica';font-size:99.99px;fill:#000000\" text-anchor=\"end\">privately held</text>\n",
       "</svg>\n"
      ],
      "text/html": [
       "                <iframe frameborder=\"0\" scrolling=\"no\" height=\"436\" width=\"600\"                srcdoc=\"<html><body>&lt;?xml version=&quot;1.0&quot; encoding=&quot;UTF-8&quot; standalone=&quot;no&quot;?&gt;\n",
       "&lt;!-- This is a Stata 15.1 generated SVG file (http://www.stata.com) --&gt;\n",
       "\n",
       "&lt;svg version=&quot;1.1&quot; width=&quot;600px&quot; height=&quot;436px&quot; viewBox=&quot;0 0 3960 2880&quot; xmlns=&quot;http://www.w3.org/2000/svg&quot; xmlns:xlink=&quot;http://www.w3.org/1999/xlink&quot;&gt;\n",
       "\t&lt;desc&gt;Stata Graph - Graph&lt;/desc&gt;\n",
       "\t&lt;rect x=&quot;0&quot; y=&quot;0&quot; width=&quot;3960&quot; height=&quot;2880&quot; style=&quot;fill:#EAF2F3;stroke:none&quot;/&gt;\n",
       "\t&lt;rect x=&quot;0.00&quot; y=&quot;0.00&quot; width=&quot;3959.88&quot; height=&quot;2880.00&quot; style=&quot;fill:#EAF2F3&quot;/&gt;\n",
       "\t&lt;rect x=&quot;2.88&quot; y=&quot;2.88&quot; width=&quot;3954.12&quot; height=&quot;2874.24&quot; style=&quot;fill:none;stroke:#EAF2F3;stroke-width:5.76&quot;/&gt;\n",
       "\t&lt;rect x=&quot;865.88&quot; y=&quot;100.86&quot; width=&quot;2993.14&quot; height=&quot;2388.33&quot; style=&quot;fill:#FFFFFF&quot;/&gt;\n",
       "\t&lt;rect x=&quot;868.76&quot; y=&quot;103.74&quot; width=&quot;2987.38&quot; height=&quot;2382.57&quot; style=&quot;fill:none;stroke:#FFFFFF;stroke-width:5.76&quot;/&gt;\n",
       "\t&lt;line x1=&quot;865.88&quot; y1=&quot;2489.19&quot; x2=&quot;865.88&quot; y2=&quot;100.86&quot; style=&quot;stroke:#EAF2F3;stroke-width:8.64&quot;/&gt;\n",
       "\t&lt;line x1=&quot;1830.02&quot; y1=&quot;2489.19&quot; x2=&quot;1830.02&quot; y2=&quot;100.86&quot; style=&quot;stroke:#EAF2F3;stroke-width:8.64&quot;/&gt;\n",
       "\t&lt;line x1=&quot;2794.15&quot; y1=&quot;2489.19&quot; x2=&quot;2794.15&quot; y2=&quot;100.86&quot; style=&quot;stroke:#EAF2F3;stroke-width:8.64&quot;/&gt;\n",
       "\t&lt;line x1=&quot;3758.29&quot; y1=&quot;2489.19&quot; x2=&quot;3758.29&quot; y2=&quot;100.86&quot; style=&quot;stroke:#EAF2F3;stroke-width:8.64&quot;/&gt;\n",
       "\t&lt;rect x=&quot;865.88&quot; y=&quot;1978.33&quot; width=&quot;702.41&quot; height=&quot;341.68&quot; style=&quot;fill:#C10534&quot;/&gt;\n",
       "\t&lt;rect x=&quot;868.76&quot; y=&quot;1981.21&quot; width=&quot;696.65&quot; height=&quot;335.92&quot; style=&quot;fill:none;stroke:#C10534;stroke-width:5.76&quot;/&gt;\n",
       "\t&lt;rect x=&quot;865.88&quot; y=&quot;1636.64&quot; width=&quot;908.57&quot; height=&quot;341.68&quot; style=&quot;fill:#6E8E84&quot;/&gt;\n",
       "\t&lt;rect x=&quot;868.76&quot; y=&quot;1639.52&quot; width=&quot;902.81&quot; height=&quot;335.92&quot; style=&quot;fill:none;stroke:#6E8E84;stroke-width:5.76&quot;/&gt;\n",
       "\t&lt;rect x=&quot;865.88&quot; y=&quot;1294.96&quot; width=&quot;1173.15&quot; height=&quot;341.68&quot; style=&quot;fill:#E37E00&quot;/&gt;\n",
       "\t&lt;rect x=&quot;868.76&quot; y=&quot;1297.84&quot; width=&quot;1167.39&quot; height=&quot;335.92&quot; style=&quot;fill:none;stroke:#E37E00;stroke-width:5.76&quot;/&gt;\n",
       "\t&lt;rect x=&quot;865.88&quot; y=&quot;953.28&quot; width=&quot;1656.77&quot; height=&quot;341.68&quot; style=&quot;fill:#55752F&quot;/&gt;\n",
       "\t&lt;rect x=&quot;868.76&quot; y=&quot;956.16&quot; width=&quot;1651.01&quot; height=&quot;335.92&quot; style=&quot;fill:none;stroke:#55752F;stroke-width:5.76&quot;/&gt;\n",
       "\t&lt;rect x=&quot;865.88&quot; y=&quot;611.59&quot; width=&quot;2443.07&quot; height=&quot;341.68&quot; style=&quot;fill:#90353B&quot;/&gt;\n",
       "\t&lt;rect x=&quot;868.76&quot; y=&quot;614.47&quot; width=&quot;2437.31&quot; height=&quot;335.92&quot; style=&quot;fill:none;stroke:#90353B;stroke-width:5.76&quot;/&gt;\n",
       "\t&lt;rect x=&quot;865.88&quot; y=&quot;269.91&quot; width=&quot;2757.40&quot; height=&quot;341.68&quot; style=&quot;fill:#1A476F&quot;/&gt;\n",
       "\t&lt;rect x=&quot;868.76&quot; y=&quot;272.79&quot; width=&quot;2751.64&quot; height=&quot;335.92&quot; style=&quot;fill:none;stroke:#1A476F;stroke-width:5.76&quot;/&gt;\n",
       "\t&lt;text x=&quot;1608.26&quot; y=&quot;2177.25&quot; style=&quot;font-family:&#x27;Helvetica&#x27;;font-size:79.94px;fill:#000000&quot;&gt;7.3&lt;/text&gt;\n",
       "\t&lt;text x=&quot;1814.42&quot; y=&quot;1835.56&quot; style=&quot;font-family:&#x27;Helvetica&#x27;;font-size:79.94px;fill:#000000&quot;&gt;9.4&lt;/text&gt;\n",
       "\t&lt;text x=&quot;2079.12&quot; y=&quot;1493.88&quot; style=&quot;font-family:&#x27;Helvetica&#x27;;font-size:79.94px;fill:#000000&quot;&gt;12.2&lt;/text&gt;\n",
       "\t&lt;text x=&quot;2562.61&quot; y=&quot;1152.19&quot; style=&quot;font-family:&#x27;Helvetica&#x27;;font-size:79.94px;fill:#000000&quot;&gt;17.2&lt;/text&gt;\n",
       "\t&lt;text x=&quot;3348.92&quot; y=&quot;810.51&quot; style=&quot;font-family:&#x27;Helvetica&#x27;;font-size:79.94px;fill:#000000&quot;&gt;25.3&lt;/text&gt;\n",
       "\t&lt;text x=&quot;3663.25&quot; y=&quot;468.82&quot; style=&quot;font-family:&#x27;Helvetica&#x27;;font-size:79.94px;fill:#000000&quot;&gt;28.6&lt;/text&gt;\n",
       "\t&lt;line x1=&quot;865.88&quot; y1=&quot;2489.19&quot; x2=&quot;3859.02&quot; y2=&quot;2489.19&quot; style=&quot;stroke:#000000;stroke-width:5.76&quot;/&gt;\n",
       "\t&lt;line x1=&quot;865.88&quot; y1=&quot;2489.19&quot; x2=&quot;865.88&quot; y2=&quot;2529.16&quot; style=&quot;stroke:#000000;stroke-width:5.76&quot;/&gt;\n",
       "\t&lt;text x=&quot;865.88&quot; y=&quot;2619.14&quot; style=&quot;font-family:&#x27;Helvetica&#x27;;font-size:99.99px;fill:#000000&quot; text-anchor=&quot;middle&quot;&gt;0&lt;/text&gt;\n",
       "\t&lt;line x1=&quot;1830.02&quot; y1=&quot;2489.19&quot; x2=&quot;1830.02&quot; y2=&quot;2529.16&quot; style=&quot;stroke:#000000;stroke-width:5.76&quot;/&gt;\n",
       "\t&lt;text x=&quot;1830.02&quot; y=&quot;2619.14&quot; style=&quot;font-family:&#x27;Helvetica&#x27;;font-size:99.99px;fill:#000000&quot; text-anchor=&quot;middle&quot;&gt;10&lt;/text&gt;\n",
       "\t&lt;line x1=&quot;2794.15&quot; y1=&quot;2489.19&quot; x2=&quot;2794.15&quot; y2=&quot;2529.16&quot; style=&quot;stroke:#000000;stroke-width:5.76&quot;/&gt;\n",
       "\t&lt;text x=&quot;2794.15&quot; y=&quot;2619.14&quot; style=&quot;font-family:&#x27;Helvetica&#x27;;font-size:99.99px;fill:#000000&quot; text-anchor=&quot;middle&quot;&gt;20&lt;/text&gt;\n",
       "\t&lt;line x1=&quot;3758.29&quot; y1=&quot;2489.19&quot; x2=&quot;3758.29&quot; y2=&quot;2529.16&quot; style=&quot;stroke:#000000;stroke-width:5.76&quot;/&gt;\n",
       "\t&lt;text x=&quot;3758.29&quot; y=&quot;2619.14&quot; style=&quot;font-family:&#x27;Helvetica&#x27;;font-size:99.99px;fill:#000000&quot; text-anchor=&quot;middle&quot;&gt;30&lt;/text&gt;\n",
       "\t&lt;text x=&quot;2362.51&quot; y=&quot;2729.16&quot; style=&quot;font-family:&#x27;Helvetica&#x27;;font-size:99.99px;fill:#000000&quot; text-anchor=&quot;middle&quot;&gt;percent&lt;/text&gt;\n",
       "\t&lt;line x1=&quot;865.88&quot; y1=&quot;2489.19&quot; x2=&quot;865.88&quot; y2=&quot;100.86&quot; style=&quot;stroke:#000000;stroke-width:5.76&quot;/&gt;\n",
       "\t&lt;text x=&quot;825.91&quot; y=&quot;2184.26&quot; style=&quot;font-family:&#x27;Helvetica&#x27;;font-size:99.99px;fill:#000000&quot; text-anchor=&quot;end&quot;&gt;state&lt;/text&gt;\n",
       "\t&lt;text x=&quot;825.91&quot; y=&quot;1842.58&quot; style=&quot;font-family:&#x27;Helvetica&#x27;;font-size:99.99px;fill:#000000&quot; text-anchor=&quot;end&quot;&gt;private equity&lt;/text&gt;\n",
       "\t&lt;text x=&quot;825.91&quot; y=&quot;1500.89&quot; style=&quot;font-family:&#x27;Helvetica&#x27;;font-size:99.99px;fill:#000000&quot; text-anchor=&quot;end&quot;&gt;publicly traded&lt;/text&gt;\n",
       "\t&lt;text x=&quot;825.91&quot; y=&quot;1159.21&quot; style=&quot;font-family:&#x27;Helvetica&#x27;;font-size:99.99px;fill:#000000&quot; text-anchor=&quot;end&quot;&gt;non-profit&lt;/text&gt;\n",
       "\t&lt;text x=&quot;825.91&quot; y=&quot;817.52&quot; style=&quot;font-family:&#x27;Helvetica&#x27;;font-size:99.99px;fill:#000000&quot; text-anchor=&quot;end&quot;&gt;community&lt;/text&gt;\n",
       "\t&lt;text x=&quot;825.91&quot; y=&quot;475.84&quot; style=&quot;font-family:&#x27;Helvetica&#x27;;font-size:99.99px;fill:#000000&quot; text-anchor=&quot;end&quot;&gt;privately held&lt;/text&gt;\n",
       "&lt;/svg&gt;\n",
       "</body></html>\"></iframe>\n"
      ],
      "text/plain": [
       "This front-end cannot display the desired image type."
      ]
     },
     "metadata": {
      "image/svg+xml": {
       "height": 436,
       "width": 600
      },
      "text/html": {
       "height": 436,
       "width": 600
      }
     },
     "output_type": "display_data"
    }
   ],
   "source": [
    "xi i.owner_pe, noomit // create dummy vars for ownership\n",
    "\n",
    "graph hbar _Iowner_pe_4 _Iowner_pe_2 _Iowner_pe_1 _Iowner_pe_5 _Iowner_pe_6 _Iowner_pe_3  ///\n",
    ", label percentages legend(off) blabel(bar, format(%9.1f)) showyvars ///\n",
    "yvaroptions(relabel(1 \"privately held\" 2 \"community\" 3 \"non-profit\" 4 \"publicly traded\" 5 \"private equity\" 6 \"state\"))"
   ]
  },
  {
   "cell_type": "markdown",
   "metadata": {},
   "source": [
    "# And lets check out a stacked option like Du Bois'"
   ]
  },
  {
   "cell_type": "code",
   "execution_count": 13,
   "metadata": {},
   "outputs": [
    {
     "data": {
      "application/pdf": "[encoded data removed]",
      "image/svg+xml": [
       "<?xml version=\"1.0\" encoding=\"UTF-8\" standalone=\"no\"?>\n",
       "<!-- This is a Stata 15.1 generated SVG file (http://www.stata.com) -->\n",
       "\n",
       "<svg version=\"1.1\" width=\"600px\" height=\"436px\" viewBox=\"0 0 3960 2880\" xmlns=\"http://www.w3.org/2000/svg\" xmlns:xlink=\"http://www.w3.org/1999/xlink\">\n",
       "\t<desc>Stata Graph - Graph</desc>\n",
       "\t<rect x=\"0\" y=\"0\" width=\"3960\" height=\"2880\" style=\"fill:#EAF2F3;stroke:none\"/>\n",
       "\t<rect x=\"0.00\" y=\"0.00\" width=\"3959.88\" height=\"2880.00\" style=\"fill:#EAF2F3\"/>\n",
       "\t<rect x=\"2.88\" y=\"2.88\" width=\"3954.12\" height=\"2874.24\" style=\"fill:none;stroke:#EAF2F3;stroke-width:5.76\"/>\n",
       "\t<rect x=\"390.80\" y=\"100.86\" width=\"2213.76\" height=\"2678.28\" style=\"fill:#FFFFFF\"/>\n",
       "\t<rect x=\"393.68\" y=\"103.74\" width=\"2208.00\" height=\"2672.52\" style=\"fill:none;stroke:#FFFFFF;stroke-width:5.76\"/>\n",
       "\t<line x1=\"390.80\" y1=\"2779.14\" x2=\"2604.57\" y2=\"2779.14\" style=\"stroke:#EAF2F3;stroke-width:8.64\"/>\n",
       "\t<line x1=\"390.80\" y1=\"2263.71\" x2=\"2604.57\" y2=\"2263.71\" style=\"stroke:#EAF2F3;stroke-width:8.64\"/>\n",
       "\t<line x1=\"390.80\" y1=\"1748.15\" x2=\"2604.57\" y2=\"1748.15\" style=\"stroke:#EAF2F3;stroke-width:8.64\"/>\n",
       "\t<line x1=\"390.80\" y1=\"1232.59\" x2=\"2604.57\" y2=\"1232.59\" style=\"stroke:#EAF2F3;stroke-width:8.64\"/>\n",
       "\t<line x1=\"390.80\" y1=\"717.15\" x2=\"2604.57\" y2=\"717.15\" style=\"stroke:#EAF2F3;stroke-width:8.64\"/>\n",
       "\t<line x1=\"390.80\" y1=\"201.60\" x2=\"2604.57\" y2=\"201.60\" style=\"stroke:#EAF2F3;stroke-width:8.64\"/>\n",
       "\t<rect x=\"779.01\" y=\"2042.06\" width=\"1437.36\" height=\"737.08\" style=\"fill:#1A476F\"/>\n",
       "\t<rect x=\"781.89\" y=\"2044.94\" width=\"1431.60\" height=\"731.32\" style=\"fill:none;stroke:#1A476F;stroke-width:5.76\"/>\n",
       "\t<rect x=\"779.01\" y=\"1388.89\" width=\"1437.36\" height=\"653.17\" style=\"fill:#90353B\"/>\n",
       "\t<rect x=\"781.89\" y=\"1391.77\" width=\"1431.60\" height=\"647.41\" style=\"fill:none;stroke:#90353B;stroke-width:5.76\"/>\n",
       "\t<rect x=\"779.01\" y=\"945.97\" width=\"1437.36\" height=\"442.92\" style=\"fill:#55752F\"/>\n",
       "\t<rect x=\"781.89\" y=\"948.85\" width=\"1431.60\" height=\"437.16\" style=\"fill:none;stroke:#55752F;stroke-width:5.76\"/>\n",
       "\t<rect x=\"779.01\" y=\"632.26\" width=\"1437.36\" height=\"313.72\" style=\"fill:#E37E00\"/>\n",
       "\t<rect x=\"781.89\" y=\"635.14\" width=\"1431.60\" height=\"307.96\" style=\"fill:none;stroke:#E37E00;stroke-width:5.76\"/>\n",
       "\t<rect x=\"779.01\" y=\"389.33\" width=\"1437.36\" height=\"242.93\" style=\"fill:#6E8E84\"/>\n",
       "\t<rect x=\"781.89\" y=\"392.21\" width=\"1431.60\" height=\"237.17\" style=\"fill:none;stroke:#6E8E84;stroke-width:5.76\"/>\n",
       "\t<rect x=\"779.01\" y=\"201.60\" width=\"1437.36\" height=\"187.73\" style=\"fill:#C10534\"/>\n",
       "\t<rect x=\"781.89\" y=\"204.47\" width=\"1431.60\" height=\"181.97\" style=\"fill:none;stroke:#C10534;stroke-width:5.76\"/>\n",
       "\t<text x=\"1497.62\" y=\"2727.21\" style=\"font-family:'Helvetica';font-size:79.94px;fill:#FFFFff\" text-anchor=\"middle\">28.6</text>\n",
       "\t<text x=\"1497.62\" y=\"1990.01\" style=\"font-family:'Helvetica';font-size:79.94px;fill:#FFFFff\" text-anchor=\"middle\">25.3</text>\n",
       "\t<text x=\"1497.62\" y=\"1336.96\" style=\"font-family:'Helvetica';font-size:79.94px;fill:#FFFFff\" text-anchor=\"middle\">17.2</text>\n",
       "\t<text x=\"1497.62\" y=\"893.92\" style=\"font-family:'Helvetica';font-size:79.94px;fill:#FFFFff\" text-anchor=\"middle\">12.2</text>\n",
       "\t<text x=\"1497.62\" y=\"580.33\" style=\"font-family:'Helvetica';font-size:79.94px;fill:#FFFFff\" text-anchor=\"middle\">9.4</text>\n",
       "\t<text x=\"1497.62\" y=\"337.40\" style=\"font-family:'Helvetica';font-size:79.94px;fill:#FFFFff\" text-anchor=\"middle\">7.3</text>\n",
       "\t<line x1=\"390.80\" y1=\"2779.14\" x2=\"390.80\" y2=\"100.86\" style=\"stroke:#000000;stroke-width:5.76\"/>\n",
       "\t<line x1=\"390.80\" y1=\"2779.14\" x2=\"350.83\" y2=\"2779.14\" style=\"stroke:#000000;stroke-width:5.76\"/>\n",
       "\t<text x=\"300.72\" y=\"2779.14\" style=\"font-family:'Helvetica';font-size:99.99px;fill:#000000\" transform=\"rotate(-90 300.72,2779.14)\" text-anchor=\"middle\">0</text>\n",
       "\t<line x1=\"390.80\" y1=\"2263.71\" x2=\"350.83\" y2=\"2263.71\" style=\"stroke:#000000;stroke-width:5.76\"/>\n",
       "\t<text x=\"300.72\" y=\"2263.71\" style=\"font-family:'Helvetica';font-size:99.99px;fill:#000000\" transform=\"rotate(-90 300.72,2263.71)\" text-anchor=\"middle\">20</text>\n",
       "\t<line x1=\"390.80\" y1=\"1748.15\" x2=\"350.83\" y2=\"1748.15\" style=\"stroke:#000000;stroke-width:5.76\"/>\n",
       "\t<text x=\"300.72\" y=\"1748.15\" style=\"font-family:'Helvetica';font-size:99.99px;fill:#000000\" transform=\"rotate(-90 300.72,1748.15)\" text-anchor=\"middle\">40</text>\n",
       "\t<line x1=\"390.80\" y1=\"1232.59\" x2=\"350.83\" y2=\"1232.59\" style=\"stroke:#000000;stroke-width:5.76\"/>\n",
       "\t<text x=\"300.72\" y=\"1232.59\" style=\"font-family:'Helvetica';font-size:99.99px;fill:#000000\" transform=\"rotate(-90 300.72,1232.59)\" text-anchor=\"middle\">60</text>\n",
       "\t<line x1=\"390.80\" y1=\"717.15\" x2=\"350.83\" y2=\"717.15\" style=\"stroke:#000000;stroke-width:5.76\"/>\n",
       "\t<text x=\"300.72\" y=\"717.15\" style=\"font-family:'Helvetica';font-size:99.99px;fill:#000000\" transform=\"rotate(-90 300.72,717.15)\" text-anchor=\"middle\">80</text>\n",
       "\t<line x1=\"390.80\" y1=\"201.60\" x2=\"350.83\" y2=\"201.60\" style=\"stroke:#000000;stroke-width:5.76\"/>\n",
       "\t<text x=\"300.72\" y=\"201.60\" style=\"font-family:'Helvetica';font-size:99.99px;fill:#000000\" transform=\"rotate(-90 300.72,201.60)\" text-anchor=\"middle\">100</text>\n",
       "\t<text x=\"190.71\" y=\"1440.00\" style=\"font-family:'Helvetica';font-size:99.99px;fill:#000000\" transform=\"rotate(-90 190.71,1440.00)\" text-anchor=\"middle\">percent</text>\n",
       "\t<rect x=\"2639.09\" y=\"996.84\" width=\"1185.40\" height=\"886.33\" style=\"fill:#FFFFFF\"/>\n",
       "\t<rect x=\"2641.97\" y=\"999.72\" width=\"1179.64\" height=\"880.57\" style=\"fill:none;stroke:#000000;stroke-width:5.76\"/>\n",
       "\t<rect x=\"2682.28\" y=\"1040.03\" width=\"374.47\" height=\"99.99\" style=\"fill:#C10534\"/>\n",
       "\t<rect x=\"2685.16\" y=\"1042.91\" width=\"368.71\" height=\"94.23\" style=\"fill:none;stroke:#C10534;stroke-width:5.76\"/>\n",
       "\t<rect x=\"2682.28\" y=\"1179.99\" width=\"374.47\" height=\"99.99\" style=\"fill:#6E8E84\"/>\n",
       "\t<rect x=\"2685.16\" y=\"1182.87\" width=\"368.71\" height=\"94.23\" style=\"fill:none;stroke:#6E8E84;stroke-width:5.76\"/>\n",
       "\t<rect x=\"2682.28\" y=\"1319.96\" width=\"374.47\" height=\"99.99\" style=\"fill:#E37E00\"/>\n",
       "\t<rect x=\"2685.16\" y=\"1322.84\" width=\"368.71\" height=\"94.23\" style=\"fill:none;stroke:#E37E00;stroke-width:5.76\"/>\n",
       "\t<rect x=\"2682.28\" y=\"1460.05\" width=\"374.47\" height=\"99.99\" style=\"fill:#55752F\"/>\n",
       "\t<rect x=\"2685.16\" y=\"1462.93\" width=\"368.71\" height=\"94.23\" style=\"fill:none;stroke:#55752F;stroke-width:5.76\"/>\n",
       "\t<rect x=\"2682.28\" y=\"1600.01\" width=\"374.47\" height=\"99.99\" style=\"fill:#90353B\"/>\n",
       "\t<rect x=\"2685.16\" y=\"1602.89\" width=\"368.71\" height=\"94.23\" style=\"fill:none;stroke:#90353B;stroke-width:5.76\"/>\n",
       "\t<rect x=\"2682.28\" y=\"1739.98\" width=\"374.47\" height=\"99.99\" style=\"fill:#1A476F\"/>\n",
       "\t<rect x=\"2685.16\" y=\"1742.86\" width=\"368.71\" height=\"94.23\" style=\"fill:none;stroke:#1A476F;stroke-width:5.76\"/>\n",
       "\t<text x=\"3116.64\" y=\"1125.05\" style=\"font-family:'Helvetica';font-size:99.99px;fill:#000000\">state</text>\n",
       "\t<text x=\"3116.64\" y=\"1265.02\" style=\"font-family:'Helvetica';font-size:99.99px;fill:#000000\">private equity</text>\n",
       "\t<text x=\"3116.64\" y=\"1404.98\" style=\"font-family:'Helvetica';font-size:99.99px;fill:#000000\">publicly traded</text>\n",
       "\t<text x=\"3116.64\" y=\"1545.07\" style=\"font-family:'Helvetica';font-size:99.99px;fill:#000000\">non-profit</text>\n",
       "\t<text x=\"3116.64\" y=\"1685.04\" style=\"font-family:'Helvetica';font-size:99.99px;fill:#000000\">community</text>\n",
       "\t<text x=\"3116.64\" y=\"1825.00\" style=\"font-family:'Helvetica';font-size:99.99px;fill:#000000\">privately held</text>\n",
       "</svg>\n"
      ],
      "text/html": [
       "                <iframe frameborder=\"0\" scrolling=\"no\" height=\"436\" width=\"600\"                srcdoc=\"<html><body>&lt;?xml version=&quot;1.0&quot; encoding=&quot;UTF-8&quot; standalone=&quot;no&quot;?&gt;\n",
       "&lt;!-- This is a Stata 15.1 generated SVG file (http://www.stata.com) --&gt;\n",
       "\n",
       "&lt;svg version=&quot;1.1&quot; width=&quot;600px&quot; height=&quot;436px&quot; viewBox=&quot;0 0 3960 2880&quot; xmlns=&quot;http://www.w3.org/2000/svg&quot; xmlns:xlink=&quot;http://www.w3.org/1999/xlink&quot;&gt;\n",
       "\t&lt;desc&gt;Stata Graph - Graph&lt;/desc&gt;\n",
       "\t&lt;rect x=&quot;0&quot; y=&quot;0&quot; width=&quot;3960&quot; height=&quot;2880&quot; style=&quot;fill:#EAF2F3;stroke:none&quot;/&gt;\n",
       "\t&lt;rect x=&quot;0.00&quot; y=&quot;0.00&quot; width=&quot;3959.88&quot; height=&quot;2880.00&quot; style=&quot;fill:#EAF2F3&quot;/&gt;\n",
       "\t&lt;rect x=&quot;2.88&quot; y=&quot;2.88&quot; width=&quot;3954.12&quot; height=&quot;2874.24&quot; style=&quot;fill:none;stroke:#EAF2F3;stroke-width:5.76&quot;/&gt;\n",
       "\t&lt;rect x=&quot;390.80&quot; y=&quot;100.86&quot; width=&quot;2213.76&quot; height=&quot;2678.28&quot; style=&quot;fill:#FFFFFF&quot;/&gt;\n",
       "\t&lt;rect x=&quot;393.68&quot; y=&quot;103.74&quot; width=&quot;2208.00&quot; height=&quot;2672.52&quot; style=&quot;fill:none;stroke:#FFFFFF;stroke-width:5.76&quot;/&gt;\n",
       "\t&lt;line x1=&quot;390.80&quot; y1=&quot;2779.14&quot; x2=&quot;2604.57&quot; y2=&quot;2779.14&quot; style=&quot;stroke:#EAF2F3;stroke-width:8.64&quot;/&gt;\n",
       "\t&lt;line x1=&quot;390.80&quot; y1=&quot;2263.71&quot; x2=&quot;2604.57&quot; y2=&quot;2263.71&quot; style=&quot;stroke:#EAF2F3;stroke-width:8.64&quot;/&gt;\n",
       "\t&lt;line x1=&quot;390.80&quot; y1=&quot;1748.15&quot; x2=&quot;2604.57&quot; y2=&quot;1748.15&quot; style=&quot;stroke:#EAF2F3;stroke-width:8.64&quot;/&gt;\n",
       "\t&lt;line x1=&quot;390.80&quot; y1=&quot;1232.59&quot; x2=&quot;2604.57&quot; y2=&quot;1232.59&quot; style=&quot;stroke:#EAF2F3;stroke-width:8.64&quot;/&gt;\n",
       "\t&lt;line x1=&quot;390.80&quot; y1=&quot;717.15&quot; x2=&quot;2604.57&quot; y2=&quot;717.15&quot; style=&quot;stroke:#EAF2F3;stroke-width:8.64&quot;/&gt;\n",
       "\t&lt;line x1=&quot;390.80&quot; y1=&quot;201.60&quot; x2=&quot;2604.57&quot; y2=&quot;201.60&quot; style=&quot;stroke:#EAF2F3;stroke-width:8.64&quot;/&gt;\n",
       "\t&lt;rect x=&quot;779.01&quot; y=&quot;2042.06&quot; width=&quot;1437.36&quot; height=&quot;737.08&quot; style=&quot;fill:#1A476F&quot;/&gt;\n",
       "\t&lt;rect x=&quot;781.89&quot; y=&quot;2044.94&quot; width=&quot;1431.60&quot; height=&quot;731.32&quot; style=&quot;fill:none;stroke:#1A476F;stroke-width:5.76&quot;/&gt;\n",
       "\t&lt;rect x=&quot;779.01&quot; y=&quot;1388.89&quot; width=&quot;1437.36&quot; height=&quot;653.17&quot; style=&quot;fill:#90353B&quot;/&gt;\n",
       "\t&lt;rect x=&quot;781.89&quot; y=&quot;1391.77&quot; width=&quot;1431.60&quot; height=&quot;647.41&quot; style=&quot;fill:none;stroke:#90353B;stroke-width:5.76&quot;/&gt;\n",
       "\t&lt;rect x=&quot;779.01&quot; y=&quot;945.97&quot; width=&quot;1437.36&quot; height=&quot;442.92&quot; style=&quot;fill:#55752F&quot;/&gt;\n",
       "\t&lt;rect x=&quot;781.89&quot; y=&quot;948.85&quot; width=&quot;1431.60&quot; height=&quot;437.16&quot; style=&quot;fill:none;stroke:#55752F;stroke-width:5.76&quot;/&gt;\n",
       "\t&lt;rect x=&quot;779.01&quot; y=&quot;632.26&quot; width=&quot;1437.36&quot; height=&quot;313.72&quot; style=&quot;fill:#E37E00&quot;/&gt;\n",
       "\t&lt;rect x=&quot;781.89&quot; y=&quot;635.14&quot; width=&quot;1431.60&quot; height=&quot;307.96&quot; style=&quot;fill:none;stroke:#E37E00;stroke-width:5.76&quot;/&gt;\n",
       "\t&lt;rect x=&quot;779.01&quot; y=&quot;389.33&quot; width=&quot;1437.36&quot; height=&quot;242.93&quot; style=&quot;fill:#6E8E84&quot;/&gt;\n",
       "\t&lt;rect x=&quot;781.89&quot; y=&quot;392.21&quot; width=&quot;1431.60&quot; height=&quot;237.17&quot; style=&quot;fill:none;stroke:#6E8E84;stroke-width:5.76&quot;/&gt;\n",
       "\t&lt;rect x=&quot;779.01&quot; y=&quot;201.60&quot; width=&quot;1437.36&quot; height=&quot;187.73&quot; style=&quot;fill:#C10534&quot;/&gt;\n",
       "\t&lt;rect x=&quot;781.89&quot; y=&quot;204.47&quot; width=&quot;1431.60&quot; height=&quot;181.97&quot; style=&quot;fill:none;stroke:#C10534;stroke-width:5.76&quot;/&gt;\n",
       "\t&lt;text x=&quot;1497.62&quot; y=&quot;2727.21&quot; style=&quot;font-family:&#x27;Helvetica&#x27;;font-size:79.94px;fill:#FFFFff&quot; text-anchor=&quot;middle&quot;&gt;28.6&lt;/text&gt;\n",
       "\t&lt;text x=&quot;1497.62&quot; y=&quot;1990.01&quot; style=&quot;font-family:&#x27;Helvetica&#x27;;font-size:79.94px;fill:#FFFFff&quot; text-anchor=&quot;middle&quot;&gt;25.3&lt;/text&gt;\n",
       "\t&lt;text x=&quot;1497.62&quot; y=&quot;1336.96&quot; style=&quot;font-family:&#x27;Helvetica&#x27;;font-size:79.94px;fill:#FFFFff&quot; text-anchor=&quot;middle&quot;&gt;17.2&lt;/text&gt;\n",
       "\t&lt;text x=&quot;1497.62&quot; y=&quot;893.92&quot; style=&quot;font-family:&#x27;Helvetica&#x27;;font-size:79.94px;fill:#FFFFff&quot; text-anchor=&quot;middle&quot;&gt;12.2&lt;/text&gt;\n",
       "\t&lt;text x=&quot;1497.62&quot; y=&quot;580.33&quot; style=&quot;font-family:&#x27;Helvetica&#x27;;font-size:79.94px;fill:#FFFFff&quot; text-anchor=&quot;middle&quot;&gt;9.4&lt;/text&gt;\n",
       "\t&lt;text x=&quot;1497.62&quot; y=&quot;337.40&quot; style=&quot;font-family:&#x27;Helvetica&#x27;;font-size:79.94px;fill:#FFFFff&quot; text-anchor=&quot;middle&quot;&gt;7.3&lt;/text&gt;\n",
       "\t&lt;line x1=&quot;390.80&quot; y1=&quot;2779.14&quot; x2=&quot;390.80&quot; y2=&quot;100.86&quot; style=&quot;stroke:#000000;stroke-width:5.76&quot;/&gt;\n",
       "\t&lt;line x1=&quot;390.80&quot; y1=&quot;2779.14&quot; x2=&quot;350.83&quot; y2=&quot;2779.14&quot; style=&quot;stroke:#000000;stroke-width:5.76&quot;/&gt;\n",
       "\t&lt;text x=&quot;300.72&quot; y=&quot;2779.14&quot; style=&quot;font-family:&#x27;Helvetica&#x27;;font-size:99.99px;fill:#000000&quot; transform=&quot;rotate(-90 300.72,2779.14)&quot; text-anchor=&quot;middle&quot;&gt;0&lt;/text&gt;\n",
       "\t&lt;line x1=&quot;390.80&quot; y1=&quot;2263.71&quot; x2=&quot;350.83&quot; y2=&quot;2263.71&quot; style=&quot;stroke:#000000;stroke-width:5.76&quot;/&gt;\n",
       "\t&lt;text x=&quot;300.72&quot; y=&quot;2263.71&quot; style=&quot;font-family:&#x27;Helvetica&#x27;;font-size:99.99px;fill:#000000&quot; transform=&quot;rotate(-90 300.72,2263.71)&quot; text-anchor=&quot;middle&quot;&gt;20&lt;/text&gt;\n",
       "\t&lt;line x1=&quot;390.80&quot; y1=&quot;1748.15&quot; x2=&quot;350.83&quot; y2=&quot;1748.15&quot; style=&quot;stroke:#000000;stroke-width:5.76&quot;/&gt;\n",
       "\t&lt;text x=&quot;300.72&quot; y=&quot;1748.15&quot; style=&quot;font-family:&#x27;Helvetica&#x27;;font-size:99.99px;fill:#000000&quot; transform=&quot;rotate(-90 300.72,1748.15)&quot; text-anchor=&quot;middle&quot;&gt;40&lt;/text&gt;\n",
       "\t&lt;line x1=&quot;390.80&quot; y1=&quot;1232.59&quot; x2=&quot;350.83&quot; y2=&quot;1232.59&quot; style=&quot;stroke:#000000;stroke-width:5.76&quot;/&gt;\n",
       "\t&lt;text x=&quot;300.72&quot; y=&quot;1232.59&quot; style=&quot;font-family:&#x27;Helvetica&#x27;;font-size:99.99px;fill:#000000&quot; transform=&quot;rotate(-90 300.72,1232.59)&quot; text-anchor=&quot;middle&quot;&gt;60&lt;/text&gt;\n",
       "\t&lt;line x1=&quot;390.80&quot; y1=&quot;717.15&quot; x2=&quot;350.83&quot; y2=&quot;717.15&quot; style=&quot;stroke:#000000;stroke-width:5.76&quot;/&gt;\n",
       "\t&lt;text x=&quot;300.72&quot; y=&quot;717.15&quot; style=&quot;font-family:&#x27;Helvetica&#x27;;font-size:99.99px;fill:#000000&quot; transform=&quot;rotate(-90 300.72,717.15)&quot; text-anchor=&quot;middle&quot;&gt;80&lt;/text&gt;\n",
       "\t&lt;line x1=&quot;390.80&quot; y1=&quot;201.60&quot; x2=&quot;350.83&quot; y2=&quot;201.60&quot; style=&quot;stroke:#000000;stroke-width:5.76&quot;/&gt;\n",
       "\t&lt;text x=&quot;300.72&quot; y=&quot;201.60&quot; style=&quot;font-family:&#x27;Helvetica&#x27;;font-size:99.99px;fill:#000000&quot; transform=&quot;rotate(-90 300.72,201.60)&quot; text-anchor=&quot;middle&quot;&gt;100&lt;/text&gt;\n",
       "\t&lt;text x=&quot;190.71&quot; y=&quot;1440.00&quot; style=&quot;font-family:&#x27;Helvetica&#x27;;font-size:99.99px;fill:#000000&quot; transform=&quot;rotate(-90 190.71,1440.00)&quot; text-anchor=&quot;middle&quot;&gt;percent&lt;/text&gt;\n",
       "\t&lt;rect x=&quot;2639.09&quot; y=&quot;996.84&quot; width=&quot;1185.40&quot; height=&quot;886.33&quot; style=&quot;fill:#FFFFFF&quot;/&gt;\n",
       "\t&lt;rect x=&quot;2641.97&quot; y=&quot;999.72&quot; width=&quot;1179.64&quot; height=&quot;880.57&quot; style=&quot;fill:none;stroke:#000000;stroke-width:5.76&quot;/&gt;\n",
       "\t&lt;rect x=&quot;2682.28&quot; y=&quot;1040.03&quot; width=&quot;374.47&quot; height=&quot;99.99&quot; style=&quot;fill:#C10534&quot;/&gt;\n",
       "\t&lt;rect x=&quot;2685.16&quot; y=&quot;1042.91&quot; width=&quot;368.71&quot; height=&quot;94.23&quot; style=&quot;fill:none;stroke:#C10534;stroke-width:5.76&quot;/&gt;\n",
       "\t&lt;rect x=&quot;2682.28&quot; y=&quot;1179.99&quot; width=&quot;374.47&quot; height=&quot;99.99&quot; style=&quot;fill:#6E8E84&quot;/&gt;\n",
       "\t&lt;rect x=&quot;2685.16&quot; y=&quot;1182.87&quot; width=&quot;368.71&quot; height=&quot;94.23&quot; style=&quot;fill:none;stroke:#6E8E84;stroke-width:5.76&quot;/&gt;\n",
       "\t&lt;rect x=&quot;2682.28&quot; y=&quot;1319.96&quot; width=&quot;374.47&quot; height=&quot;99.99&quot; style=&quot;fill:#E37E00&quot;/&gt;\n",
       "\t&lt;rect x=&quot;2685.16&quot; y=&quot;1322.84&quot; width=&quot;368.71&quot; height=&quot;94.23&quot; style=&quot;fill:none;stroke:#E37E00;stroke-width:5.76&quot;/&gt;\n",
       "\t&lt;rect x=&quot;2682.28&quot; y=&quot;1460.05&quot; width=&quot;374.47&quot; height=&quot;99.99&quot; style=&quot;fill:#55752F&quot;/&gt;\n",
       "\t&lt;rect x=&quot;2685.16&quot; y=&quot;1462.93&quot; width=&quot;368.71&quot; height=&quot;94.23&quot; style=&quot;fill:none;stroke:#55752F;stroke-width:5.76&quot;/&gt;\n",
       "\t&lt;rect x=&quot;2682.28&quot; y=&quot;1600.01&quot; width=&quot;374.47&quot; height=&quot;99.99&quot; style=&quot;fill:#90353B&quot;/&gt;\n",
       "\t&lt;rect x=&quot;2685.16&quot; y=&quot;1602.89&quot; width=&quot;368.71&quot; height=&quot;94.23&quot; style=&quot;fill:none;stroke:#90353B;stroke-width:5.76&quot;/&gt;\n",
       "\t&lt;rect x=&quot;2682.28&quot; y=&quot;1739.98&quot; width=&quot;374.47&quot; height=&quot;99.99&quot; style=&quot;fill:#1A476F&quot;/&gt;\n",
       "\t&lt;rect x=&quot;2685.16&quot; y=&quot;1742.86&quot; width=&quot;368.71&quot; height=&quot;94.23&quot; style=&quot;fill:none;stroke:#1A476F;stroke-width:5.76&quot;/&gt;\n",
       "\t&lt;text x=&quot;3116.64&quot; y=&quot;1125.05&quot; style=&quot;font-family:&#x27;Helvetica&#x27;;font-size:99.99px;fill:#000000&quot;&gt;state&lt;/text&gt;\n",
       "\t&lt;text x=&quot;3116.64&quot; y=&quot;1265.02&quot; style=&quot;font-family:&#x27;Helvetica&#x27;;font-size:99.99px;fill:#000000&quot;&gt;private equity&lt;/text&gt;\n",
       "\t&lt;text x=&quot;3116.64&quot; y=&quot;1404.98&quot; style=&quot;font-family:&#x27;Helvetica&#x27;;font-size:99.99px;fill:#000000&quot;&gt;publicly traded&lt;/text&gt;\n",
       "\t&lt;text x=&quot;3116.64&quot; y=&quot;1545.07&quot; style=&quot;font-family:&#x27;Helvetica&#x27;;font-size:99.99px;fill:#000000&quot;&gt;non-profit&lt;/text&gt;\n",
       "\t&lt;text x=&quot;3116.64&quot; y=&quot;1685.04&quot; style=&quot;font-family:&#x27;Helvetica&#x27;;font-size:99.99px;fill:#000000&quot;&gt;community&lt;/text&gt;\n",
       "\t&lt;text x=&quot;3116.64&quot; y=&quot;1825.00&quot; style=&quot;font-family:&#x27;Helvetica&#x27;;font-size:99.99px;fill:#000000&quot;&gt;privately held&lt;/text&gt;\n",
       "&lt;/svg&gt;\n",
       "</body></html>\"></iframe>\n"
      ],
      "text/plain": [
       "This front-end cannot display the desired image type."
      ]
     },
     "metadata": {
      "image/svg+xml": {
       "height": 436,
       "width": 600
      },
      "text/html": {
       "height": 436,
       "width": 600
      }
     },
     "output_type": "display_data"
    }
   ],
   "source": [
    "graph bar _Iowner_pe_4 _Iowner_pe_2 _Iowner_pe_1 _Iowner_pe_5 _Iowner_pe_6 _Iowner_pe_3  ///\n",
    ", label percentages legend(position(3) cols(1) order(6 5 4 3 2 1)) blabel(bar, format(%9.1f) position(base) color(white)) ///\n",
    "yvaroptions(relabel(1 \"privately held\" 2 \"community\" 3 \"non-profit\" 4 \"publicly traded\" 5 \"private equity\" 6 \"state\")) stack"
   ]
  },
  {
   "cell_type": "markdown",
   "metadata": {},
   "source": [
    "# Now its your turn!\n",
    "\n",
    "## Let's start by describing and plotting the distribution of an interval ratio variable\n",
    "\n",
    "## 1. Write code to generate summary statistics for college level student debt per borrower using the variable ***loan_amount_borrower_c_w***"
   ]
  },
  {
   "cell_type": "code",
   "execution_count": 6,
   "metadata": {},
   "outputs": [],
   "source": [
    "// Your code here"
   ]
  },
  {
   "cell_type": "markdown",
   "metadata": {},
   "source": [
    "## 2. now write code to generate a histogram"
   ]
  },
  {
   "cell_type": "code",
   "execution_count": null,
   "metadata": {},
   "outputs": [],
   "source": []
  },
  {
   "cell_type": "markdown",
   "metadata": {},
   "source": [
    "## 3. and now edit the code below to generate a boxplot"
   ]
  },
  {
   "cell_type": "code",
   "execution_count": null,
   "metadata": {},
   "outputs": [],
   "source": [
    "*graph __________     ___________, nooutsides"
   ]
  },
  {
   "cell_type": "markdown",
   "metadata": {},
   "source": [
    "# Now let's describe and visualize the distribution of colleges across nominal categories\n",
    "\n",
    "# 1. First edit the code below to simplify the ownership categories by combining \"state\" and \"community\" into \"public\"\n",
    "# and combining \"publicly trade\", \"private equity\", and \"privately held\" into \"for-profit\""
   ]
  },
  {
   "cell_type": "code",
   "execution_count": 32,
   "metadata": {},
   "outputs": [
    {
     "name": "stdout",
     "output_type": "stream",
     "text": [
      "\n",
      "(1,920 real changes made)\n",
      "\n",
      "(3,641 real changes made)\n"
     ]
    }
   ],
   "source": [
    "gen control=1 if owner_pe==\"State\" | owner_pe==\"Community\"\n",
    "replace control=2  if owner_pe==\"Non-profit\"\n",
    "replace control=3 if owner_pe==\"Publicly traded\" | owner_pe==\"Private equity\" | owner_pe==\"Privately held\""
   ]
  },
  {
   "cell_type": "markdown",
   "metadata": {},
   "source": [
    "### 2. Now label the data and create a table of the distribution"
   ]
  },
  {
   "cell_type": "code",
   "execution_count": 33,
   "metadata": {},
   "outputs": [],
   "source": [
    "label define control 1 \"public\" 2 \"non-profit\" 3 \"for-profit\"\n",
    "label values control control\n",
    "*[insert command here] contrl"
   ]
  },
  {
   "cell_type": "markdown",
   "metadata": {},
   "source": [
    "# The table is kind of boring, so edit the code below to create a bar graph instead"
   ]
  },
  {
   "cell_type": "code",
   "execution_count": null,
   "metadata": {},
   "outputs": [],
   "source": [
    "xi i.control, noomit // create dummy vars for control\n",
    "\n",
    "_________ ________ Icontrol_1 ________   __________ ///\n",
    ", label percentages legend(off) blabel(bar, format(%9.1f)) showyvars ///\n",
    "yvaroptions(relabel(1 \"public\" 2 \"non-profit\" 3 \"for-profit\"))"
   ]
  },
  {
   "cell_type": "markdown",
   "metadata": {},
   "source": [
    "# .\n",
    "# .\n",
    "# Far out!\n",
    "## But many sociological interests are **RELATIONAL**\n",
    "## It's relationships that put the **CROSS** in **CROSSTABS**\n",
    "## In Treiman chapter 1 we use crosstabular **tables** for frequency distributions across **at least 2 NOMINAL variables**\n",
    "## Du Bois also presents bivariate cross tabs for nominal frequency distributions, **but GRAPHICALLY**"
   ]
  },
  {
   "cell_type": "markdown",
   "metadata": {},
   "source": [
    "<img src=\"https://cdn.loc.gov/service/pnp/ppmsca/33800/33889v.jpg\" width=\"600\" align=\"left\">"
   ]
  },
  {
   "cell_type": "markdown",
   "metadata": {},
   "source": [
    "# Here's what that would look like as a table or a bar graph.\n",
    "# Which do you like best?"
   ]
  },
  {
   "cell_type": "code",
   "execution_count": 30,
   "metadata": {},
   "outputs": [
    {
     "name": "stdout",
     "output_type": "stream",
     "text": [
      "\n",
      "\n",
      "\n",
      "\n",
      "\n",
      "\n",
      "\n",
      "\n",
      "\n",
      "\n",
      "\n",
      "\n",
      "\n",
      "\n",
      "\n",
      "\n",
      "\n",
      "\n",
      "\n",
      "----------------------------\n",
      "              |     race    \n",
      "   occupation | black  white\n",
      "--------------+-------------\n",
      "           ag |    62     64\n",
      "     domestic |    28    5.5\n",
      "manufacturing |     5   13.5\n",
      "        trade |   4.5     13\n",
      "----------------------------\n"
     ]
    },
    {
     "data": {
      "application/pdf": "[encoded data removed]",
      "image/svg+xml": [
       "<?xml version=\"1.0\" encoding=\"UTF-8\" standalone=\"no\"?>\n",
       "<!-- This is a Stata 15.1 generated SVG file (http://www.stata.com) -->\n",
       "\n",
       "<svg version=\"1.1\" width=\"600px\" height=\"436px\" viewBox=\"0 0 3960 2880\" xmlns=\"http://www.w3.org/2000/svg\" xmlns:xlink=\"http://www.w3.org/1999/xlink\">\n",
       "\t<desc>Stata Graph - Graph</desc>\n",
       "\t<rect x=\"0\" y=\"0\" width=\"3960\" height=\"2880\" style=\"fill:#EAF2F3;stroke:none\"/>\n",
       "\t<rect x=\"0.00\" y=\"0.00\" width=\"3959.88\" height=\"2880.00\" style=\"fill:#EAF2F3\"/>\n",
       "\t<rect x=\"2.88\" y=\"2.88\" width=\"3954.12\" height=\"2874.24\" style=\"fill:none;stroke:#EAF2F3;stroke-width:5.76\"/>\n",
       "\t<rect x=\"390.80\" y=\"100.86\" width=\"3468.22\" height=\"2348.35\" style=\"fill:#FFFFFF\"/>\n",
       "\t<rect x=\"393.68\" y=\"103.74\" width=\"3462.46\" height=\"2342.59\" style=\"fill:none;stroke:#FFFFFF;stroke-width:5.76\"/>\n",
       "\t<line x1=\"390.80\" y1=\"2449.21\" x2=\"3859.02\" y2=\"2449.21\" style=\"stroke:#EAF2F3;stroke-width:8.64\"/>\n",
       "\t<line x1=\"390.80\" y1=\"1746.79\" x2=\"3859.02\" y2=\"1746.79\" style=\"stroke:#EAF2F3;stroke-width:8.64\"/>\n",
       "\t<line x1=\"390.80\" y1=\"1044.48\" x2=\"3859.02\" y2=\"1044.48\" style=\"stroke:#EAF2F3;stroke-width:8.64\"/>\n",
       "\t<line x1=\"390.80\" y1=\"342.06\" x2=\"3859.02\" y2=\"342.06\" style=\"stroke:#EAF2F3;stroke-width:8.64\"/>\n",
       "\t<rect x=\"529.77\" y=\"271.89\" width=\"191.32\" height=\"2177.33\" style=\"fill:#1A476F\"/>\n",
       "\t<rect x=\"532.65\" y=\"274.77\" width=\"185.56\" height=\"2171.57\" style=\"fill:none;stroke:#1A476F;stroke-width:5.76\"/>\n",
       "\t<rect x=\"849.17\" y=\"201.60\" width=\"191.32\" height=\"2247.62\" style=\"fill:#1A476F\"/>\n",
       "\t<rect x=\"852.05\" y=\"204.47\" width=\"185.56\" height=\"2241.86\" style=\"fill:none;stroke:#1A476F;stroke-width:5.76\"/>\n",
       "\t<rect x=\"1423.00\" y=\"1465.86\" width=\"191.32\" height=\"983.35\" style=\"fill:#1A476F\"/>\n",
       "\t<rect x=\"1425.88\" y=\"1468.74\" width=\"185.56\" height=\"977.59\" style=\"fill:none;stroke:#1A476F;stroke-width:5.76\"/>\n",
       "\t<rect x=\"1742.40\" y=\"2256.03\" width=\"191.32\" height=\"193.18\" style=\"fill:#1A476F\"/>\n",
       "\t<rect x=\"1745.28\" y=\"2258.91\" width=\"185.56\" height=\"187.42\" style=\"fill:none;stroke:#1A476F;stroke-width:5.76\"/>\n",
       "\t<rect x=\"2316.23\" y=\"2273.61\" width=\"191.19\" height=\"175.61\" style=\"fill:#1A476F\"/>\n",
       "\t<rect x=\"2319.11\" y=\"2276.49\" width=\"185.43\" height=\"169.85\" style=\"fill:none;stroke:#1A476F;stroke-width:5.76\"/>\n",
       "\t<rect x=\"2635.63\" y=\"1975.11\" width=\"191.19\" height=\"474.10\" style=\"fill:#1A476F\"/>\n",
       "\t<rect x=\"2638.51\" y=\"1977.99\" width=\"185.43\" height=\"468.34\" style=\"fill:none;stroke:#1A476F;stroke-width:5.76\"/>\n",
       "\t<rect x=\"3209.33\" y=\"2291.18\" width=\"191.32\" height=\"158.03\" style=\"fill:#1A476F\"/>\n",
       "\t<rect x=\"3212.21\" y=\"2294.06\" width=\"185.56\" height=\"152.27\" style=\"fill:none;stroke:#1A476F;stroke-width:5.76\"/>\n",
       "\t<rect x=\"3528.73\" y=\"1992.68\" width=\"191.32\" height=\"456.53\" style=\"fill:#1A476F\"/>\n",
       "\t<rect x=\"3531.61\" y=\"1995.56\" width=\"185.56\" height=\"450.77\" style=\"fill:none;stroke:#1A476F;stroke-width:5.76\"/>\n",
       "\t<line x1=\"390.80\" y1=\"2449.21\" x2=\"390.80\" y2=\"100.86\" style=\"stroke:#000000;stroke-width:5.76\"/>\n",
       "\t<line x1=\"390.80\" y1=\"2449.21\" x2=\"350.83\" y2=\"2449.21\" style=\"stroke:#000000;stroke-width:5.76\"/>\n",
       "\t<text x=\"300.72\" y=\"2449.21\" style=\"font-family:'Helvetica';font-size:99.99px;fill:#000000\" transform=\"rotate(-90 300.72,2449.21)\" text-anchor=\"middle\">0</text>\n",
       "\t<line x1=\"390.80\" y1=\"1746.79\" x2=\"350.83\" y2=\"1746.79\" style=\"stroke:#000000;stroke-width:5.76\"/>\n",
       "\t<text x=\"300.72\" y=\"1746.79\" style=\"font-family:'Helvetica';font-size:99.99px;fill:#000000\" transform=\"rotate(-90 300.72,1746.79)\" text-anchor=\"middle\">20</text>\n",
       "\t<line x1=\"390.80\" y1=\"1044.48\" x2=\"350.83\" y2=\"1044.48\" style=\"stroke:#000000;stroke-width:5.76\"/>\n",
       "\t<text x=\"300.72\" y=\"1044.48\" style=\"font-family:'Helvetica';font-size:99.99px;fill:#000000\" transform=\"rotate(-90 300.72,1044.48)\" text-anchor=\"middle\">40</text>\n",
       "\t<line x1=\"390.80\" y1=\"342.06\" x2=\"350.83\" y2=\"342.06\" style=\"stroke:#000000;stroke-width:5.76\"/>\n",
       "\t<text x=\"300.72\" y=\"342.06\" style=\"font-family:'Helvetica';font-size:99.99px;fill:#000000\" transform=\"rotate(-90 300.72,342.06)\" text-anchor=\"middle\">60</text>\n",
       "\t<text x=\"190.71\" y=\"1275.04\" style=\"font-family:'Helvetica';font-size:99.99px;fill:#000000\" transform=\"rotate(-90 190.71,1275.04)\" text-anchor=\"middle\">percent</text>\n",
       "\t<text x=\"785.19\" y=\"2726.15\" style=\"font-family:'Helvetica';font-size:110.01px;fill:#000000\" text-anchor=\"middle\">ag</text>\n",
       "\t<text x=\"1678.30\" y=\"2726.15\" style=\"font-family:'Helvetica';font-size:110.01px;fill:#000000\" text-anchor=\"middle\">domestic</text>\n",
       "\t<text x=\"2571.53\" y=\"2726.15\" style=\"font-family:'Helvetica';font-size:110.01px;fill:#000000\" text-anchor=\"middle\">manufacturing</text>\n",
       "\t<text x=\"3464.75\" y=\"2726.15\" style=\"font-family:'Helvetica';font-size:110.01px;fill:#000000\" text-anchor=\"middle\">trade</text>\n",
       "\t<line x1=\"390.80\" y1=\"2449.21\" x2=\"3859.02\" y2=\"2449.21\" style=\"stroke:#000000;stroke-width:5.76\"/>\n",
       "\t<text x=\"625.43\" y=\"2559.12\" style=\"font-family:'Helvetica';font-size:99.99px;fill:#000000\" text-anchor=\"middle\">black</text>\n",
       "\t<text x=\"944.83\" y=\"2559.12\" style=\"font-family:'Helvetica';font-size:99.99px;fill:#000000\" text-anchor=\"middle\">white</text>\n",
       "\t<text x=\"1518.66\" y=\"2559.12\" style=\"font-family:'Helvetica';font-size:99.99px;fill:#000000\" text-anchor=\"middle\">black</text>\n",
       "\t<text x=\"1838.06\" y=\"2559.12\" style=\"font-family:'Helvetica';font-size:99.99px;fill:#000000\" text-anchor=\"middle\">white</text>\n",
       "\t<text x=\"2411.76\" y=\"2559.12\" style=\"font-family:'Helvetica';font-size:99.99px;fill:#000000\" text-anchor=\"middle\">black</text>\n",
       "\t<text x=\"2731.16\" y=\"2559.12\" style=\"font-family:'Helvetica';font-size:99.99px;fill:#000000\" text-anchor=\"middle\">white</text>\n",
       "\t<text x=\"3304.99\" y=\"2559.12\" style=\"font-family:'Helvetica';font-size:99.99px;fill:#000000\" text-anchor=\"middle\">black</text>\n",
       "\t<text x=\"3624.39\" y=\"2559.12\" style=\"font-family:'Helvetica';font-size:99.99px;fill:#000000\" text-anchor=\"middle\">white</text>\n",
       "</svg>\n"
      ],
      "text/html": [
       "                <iframe frameborder=\"0\" scrolling=\"no\" height=\"436\" width=\"600\"                srcdoc=\"<html><body>&lt;?xml version=&quot;1.0&quot; encoding=&quot;UTF-8&quot; standalone=&quot;no&quot;?&gt;\n",
       "&lt;!-- This is a Stata 15.1 generated SVG file (http://www.stata.com) --&gt;\n",
       "\n",
       "&lt;svg version=&quot;1.1&quot; width=&quot;600px&quot; height=&quot;436px&quot; viewBox=&quot;0 0 3960 2880&quot; xmlns=&quot;http://www.w3.org/2000/svg&quot; xmlns:xlink=&quot;http://www.w3.org/1999/xlink&quot;&gt;\n",
       "\t&lt;desc&gt;Stata Graph - Graph&lt;/desc&gt;\n",
       "\t&lt;rect x=&quot;0&quot; y=&quot;0&quot; width=&quot;3960&quot; height=&quot;2880&quot; style=&quot;fill:#EAF2F3;stroke:none&quot;/&gt;\n",
       "\t&lt;rect x=&quot;0.00&quot; y=&quot;0.00&quot; width=&quot;3959.88&quot; height=&quot;2880.00&quot; style=&quot;fill:#EAF2F3&quot;/&gt;\n",
       "\t&lt;rect x=&quot;2.88&quot; y=&quot;2.88&quot; width=&quot;3954.12&quot; height=&quot;2874.24&quot; style=&quot;fill:none;stroke:#EAF2F3;stroke-width:5.76&quot;/&gt;\n",
       "\t&lt;rect x=&quot;390.80&quot; y=&quot;100.86&quot; width=&quot;3468.22&quot; height=&quot;2348.35&quot; style=&quot;fill:#FFFFFF&quot;/&gt;\n",
       "\t&lt;rect x=&quot;393.68&quot; y=&quot;103.74&quot; width=&quot;3462.46&quot; height=&quot;2342.59&quot; style=&quot;fill:none;stroke:#FFFFFF;stroke-width:5.76&quot;/&gt;\n",
       "\t&lt;line x1=&quot;390.80&quot; y1=&quot;2449.21&quot; x2=&quot;3859.02&quot; y2=&quot;2449.21&quot; style=&quot;stroke:#EAF2F3;stroke-width:8.64&quot;/&gt;\n",
       "\t&lt;line x1=&quot;390.80&quot; y1=&quot;1746.79&quot; x2=&quot;3859.02&quot; y2=&quot;1746.79&quot; style=&quot;stroke:#EAF2F3;stroke-width:8.64&quot;/&gt;\n",
       "\t&lt;line x1=&quot;390.80&quot; y1=&quot;1044.48&quot; x2=&quot;3859.02&quot; y2=&quot;1044.48&quot; style=&quot;stroke:#EAF2F3;stroke-width:8.64&quot;/&gt;\n",
       "\t&lt;line x1=&quot;390.80&quot; y1=&quot;342.06&quot; x2=&quot;3859.02&quot; y2=&quot;342.06&quot; style=&quot;stroke:#EAF2F3;stroke-width:8.64&quot;/&gt;\n",
       "\t&lt;rect x=&quot;529.77&quot; y=&quot;271.89&quot; width=&quot;191.32&quot; height=&quot;2177.33&quot; style=&quot;fill:#1A476F&quot;/&gt;\n",
       "\t&lt;rect x=&quot;532.65&quot; y=&quot;274.77&quot; width=&quot;185.56&quot; height=&quot;2171.57&quot; style=&quot;fill:none;stroke:#1A476F;stroke-width:5.76&quot;/&gt;\n",
       "\t&lt;rect x=&quot;849.17&quot; y=&quot;201.60&quot; width=&quot;191.32&quot; height=&quot;2247.62&quot; style=&quot;fill:#1A476F&quot;/&gt;\n",
       "\t&lt;rect x=&quot;852.05&quot; y=&quot;204.47&quot; width=&quot;185.56&quot; height=&quot;2241.86&quot; style=&quot;fill:none;stroke:#1A476F;stroke-width:5.76&quot;/&gt;\n",
       "\t&lt;rect x=&quot;1423.00&quot; y=&quot;1465.86&quot; width=&quot;191.32&quot; height=&quot;983.35&quot; style=&quot;fill:#1A476F&quot;/&gt;\n",
       "\t&lt;rect x=&quot;1425.88&quot; y=&quot;1468.74&quot; width=&quot;185.56&quot; height=&quot;977.59&quot; style=&quot;fill:none;stroke:#1A476F;stroke-width:5.76&quot;/&gt;\n",
       "\t&lt;rect x=&quot;1742.40&quot; y=&quot;2256.03&quot; width=&quot;191.32&quot; height=&quot;193.18&quot; style=&quot;fill:#1A476F&quot;/&gt;\n",
       "\t&lt;rect x=&quot;1745.28&quot; y=&quot;2258.91&quot; width=&quot;185.56&quot; height=&quot;187.42&quot; style=&quot;fill:none;stroke:#1A476F;stroke-width:5.76&quot;/&gt;\n",
       "\t&lt;rect x=&quot;2316.23&quot; y=&quot;2273.61&quot; width=&quot;191.19&quot; height=&quot;175.61&quot; style=&quot;fill:#1A476F&quot;/&gt;\n",
       "\t&lt;rect x=&quot;2319.11&quot; y=&quot;2276.49&quot; width=&quot;185.43&quot; height=&quot;169.85&quot; style=&quot;fill:none;stroke:#1A476F;stroke-width:5.76&quot;/&gt;\n",
       "\t&lt;rect x=&quot;2635.63&quot; y=&quot;1975.11&quot; width=&quot;191.19&quot; height=&quot;474.10&quot; style=&quot;fill:#1A476F&quot;/&gt;\n",
       "\t&lt;rect x=&quot;2638.51&quot; y=&quot;1977.99&quot; width=&quot;185.43&quot; height=&quot;468.34&quot; style=&quot;fill:none;stroke:#1A476F;stroke-width:5.76&quot;/&gt;\n",
       "\t&lt;rect x=&quot;3209.33&quot; y=&quot;2291.18&quot; width=&quot;191.32&quot; height=&quot;158.03&quot; style=&quot;fill:#1A476F&quot;/&gt;\n",
       "\t&lt;rect x=&quot;3212.21&quot; y=&quot;2294.06&quot; width=&quot;185.56&quot; height=&quot;152.27&quot; style=&quot;fill:none;stroke:#1A476F;stroke-width:5.76&quot;/&gt;\n",
       "\t&lt;rect x=&quot;3528.73&quot; y=&quot;1992.68&quot; width=&quot;191.32&quot; height=&quot;456.53&quot; style=&quot;fill:#1A476F&quot;/&gt;\n",
       "\t&lt;rect x=&quot;3531.61&quot; y=&quot;1995.56&quot; width=&quot;185.56&quot; height=&quot;450.77&quot; style=&quot;fill:none;stroke:#1A476F;stroke-width:5.76&quot;/&gt;\n",
       "\t&lt;line x1=&quot;390.80&quot; y1=&quot;2449.21&quot; x2=&quot;390.80&quot; y2=&quot;100.86&quot; style=&quot;stroke:#000000;stroke-width:5.76&quot;/&gt;\n",
       "\t&lt;line x1=&quot;390.80&quot; y1=&quot;2449.21&quot; x2=&quot;350.83&quot; y2=&quot;2449.21&quot; style=&quot;stroke:#000000;stroke-width:5.76&quot;/&gt;\n",
       "\t&lt;text x=&quot;300.72&quot; y=&quot;2449.21&quot; style=&quot;font-family:&#x27;Helvetica&#x27;;font-size:99.99px;fill:#000000&quot; transform=&quot;rotate(-90 300.72,2449.21)&quot; text-anchor=&quot;middle&quot;&gt;0&lt;/text&gt;\n",
       "\t&lt;line x1=&quot;390.80&quot; y1=&quot;1746.79&quot; x2=&quot;350.83&quot; y2=&quot;1746.79&quot; style=&quot;stroke:#000000;stroke-width:5.76&quot;/&gt;\n",
       "\t&lt;text x=&quot;300.72&quot; y=&quot;1746.79&quot; style=&quot;font-family:&#x27;Helvetica&#x27;;font-size:99.99px;fill:#000000&quot; transform=&quot;rotate(-90 300.72,1746.79)&quot; text-anchor=&quot;middle&quot;&gt;20&lt;/text&gt;\n",
       "\t&lt;line x1=&quot;390.80&quot; y1=&quot;1044.48&quot; x2=&quot;350.83&quot; y2=&quot;1044.48&quot; style=&quot;stroke:#000000;stroke-width:5.76&quot;/&gt;\n",
       "\t&lt;text x=&quot;300.72&quot; y=&quot;1044.48&quot; style=&quot;font-family:&#x27;Helvetica&#x27;;font-size:99.99px;fill:#000000&quot; transform=&quot;rotate(-90 300.72,1044.48)&quot; text-anchor=&quot;middle&quot;&gt;40&lt;/text&gt;\n",
       "\t&lt;line x1=&quot;390.80&quot; y1=&quot;342.06&quot; x2=&quot;350.83&quot; y2=&quot;342.06&quot; style=&quot;stroke:#000000;stroke-width:5.76&quot;/&gt;\n",
       "\t&lt;text x=&quot;300.72&quot; y=&quot;342.06&quot; style=&quot;font-family:&#x27;Helvetica&#x27;;font-size:99.99px;fill:#000000&quot; transform=&quot;rotate(-90 300.72,342.06)&quot; text-anchor=&quot;middle&quot;&gt;60&lt;/text&gt;\n",
       "\t&lt;text x=&quot;190.71&quot; y=&quot;1275.04&quot; style=&quot;font-family:&#x27;Helvetica&#x27;;font-size:99.99px;fill:#000000&quot; transform=&quot;rotate(-90 190.71,1275.04)&quot; text-anchor=&quot;middle&quot;&gt;percent&lt;/text&gt;\n",
       "\t&lt;text x=&quot;785.19&quot; y=&quot;2726.15&quot; style=&quot;font-family:&#x27;Helvetica&#x27;;font-size:110.01px;fill:#000000&quot; text-anchor=&quot;middle&quot;&gt;ag&lt;/text&gt;\n",
       "\t&lt;text x=&quot;1678.30&quot; y=&quot;2726.15&quot; style=&quot;font-family:&#x27;Helvetica&#x27;;font-size:110.01px;fill:#000000&quot; text-anchor=&quot;middle&quot;&gt;domestic&lt;/text&gt;\n",
       "\t&lt;text x=&quot;2571.53&quot; y=&quot;2726.15&quot; style=&quot;font-family:&#x27;Helvetica&#x27;;font-size:110.01px;fill:#000000&quot; text-anchor=&quot;middle&quot;&gt;manufacturing&lt;/text&gt;\n",
       "\t&lt;text x=&quot;3464.75&quot; y=&quot;2726.15&quot; style=&quot;font-family:&#x27;Helvetica&#x27;;font-size:110.01px;fill:#000000&quot; text-anchor=&quot;middle&quot;&gt;trade&lt;/text&gt;\n",
       "\t&lt;line x1=&quot;390.80&quot; y1=&quot;2449.21&quot; x2=&quot;3859.02&quot; y2=&quot;2449.21&quot; style=&quot;stroke:#000000;stroke-width:5.76&quot;/&gt;\n",
       "\t&lt;text x=&quot;625.43&quot; y=&quot;2559.12&quot; style=&quot;font-family:&#x27;Helvetica&#x27;;font-size:99.99px;fill:#000000&quot; text-anchor=&quot;middle&quot;&gt;black&lt;/text&gt;\n",
       "\t&lt;text x=&quot;944.83&quot; y=&quot;2559.12&quot; style=&quot;font-family:&#x27;Helvetica&#x27;;font-size:99.99px;fill:#000000&quot; text-anchor=&quot;middle&quot;&gt;white&lt;/text&gt;\n",
       "\t&lt;text x=&quot;1518.66&quot; y=&quot;2559.12&quot; style=&quot;font-family:&#x27;Helvetica&#x27;;font-size:99.99px;fill:#000000&quot; text-anchor=&quot;middle&quot;&gt;black&lt;/text&gt;\n",
       "\t&lt;text x=&quot;1838.06&quot; y=&quot;2559.12&quot; style=&quot;font-family:&#x27;Helvetica&#x27;;font-size:99.99px;fill:#000000&quot; text-anchor=&quot;middle&quot;&gt;white&lt;/text&gt;\n",
       "\t&lt;text x=&quot;2411.76&quot; y=&quot;2559.12&quot; style=&quot;font-family:&#x27;Helvetica&#x27;;font-size:99.99px;fill:#000000&quot; text-anchor=&quot;middle&quot;&gt;black&lt;/text&gt;\n",
       "\t&lt;text x=&quot;2731.16&quot; y=&quot;2559.12&quot; style=&quot;font-family:&#x27;Helvetica&#x27;;font-size:99.99px;fill:#000000&quot; text-anchor=&quot;middle&quot;&gt;white&lt;/text&gt;\n",
       "\t&lt;text x=&quot;3304.99&quot; y=&quot;2559.12&quot; style=&quot;font-family:&#x27;Helvetica&#x27;;font-size:99.99px;fill:#000000&quot; text-anchor=&quot;middle&quot;&gt;black&lt;/text&gt;\n",
       "\t&lt;text x=&quot;3624.39&quot; y=&quot;2559.12&quot; style=&quot;font-family:&#x27;Helvetica&#x27;;font-size:99.99px;fill:#000000&quot; text-anchor=&quot;middle&quot;&gt;white&lt;/text&gt;\n",
       "&lt;/svg&gt;\n",
       "</body></html>\"></iframe>\n"
      ],
      "text/plain": [
       "This front-end cannot display the desired image type."
      ]
     },
     "metadata": {
      "image/svg+xml": {
       "height": 436,
       "width": 600
      },
      "text/html": {
       "height": 436,
       "width": 600
      }
     },
     "output_type": "display_data"
    },
    {
     "name": "stdout",
     "output_type": "stream",
     "text": [
      "\n",
      "\n",
      "\n",
      "\n"
     ]
    }
   ],
   "source": [
    "preserve\n",
    "quietly drop if _n>0\n",
    "quietly set obs `=_N+8'\n",
    "quietly gen occupation=\"ag\"\n",
    "quietly replace occupation=\"domestic\" if _n<7\n",
    "quietly replace occupation=\"manufacturing\" if _n<5\n",
    "quietly replace occupation=\"trade\" if _n<3\n",
    "quietly gen race=\"black\" if _n==1 | _n==3 | _n==5 | _n==8\n",
    "quietly replace race=\"white\" if race==\"\"\n",
    "quietly gen percent=62 if race==\"black\" & occupation==\"ag\"\n",
    "quietly replace percent=28 if race==\"black\" & occupation==\"domestic\"\n",
    "quietly replace percent=5 if race==\"black\" & occupation==\"manufacturing\"\n",
    "quietly replace percent=4.5 if race==\"black\" & occupation==\"trade\"\n",
    "quietly replace percent=64 if race==\"white\" & occupation==\"ag\"\n",
    "quietly replace percent=5.5 if race==\"white\" & occupation==\"domestic\"\n",
    "quietly replace percent=13.5 if race==\"white\" & occupation==\"manufacturing\"\n",
    "quietly replace percent=13 if race==\"white\" & occupation==\"trade\"\n",
    "table occupation race, c(sum percent)\n",
    "graph bar percent, over(race) over(occupation) ytitle(percent)\n",
    "restore"
   ]
  },
  {
   "cell_type": "markdown",
   "metadata": {},
   "source": [
    "# How can we use cross tabs to add a control variable to our analysis?\n",
    "\n",
    "## Take some time to look at the following visualization of cross tabs by Du Bois in 1900. Then answer the following 3 questions in the markdown box below:\n",
    "\n",
    "## 1. What is the primary bivariate relationship he is analyzing?\n",
    "## 2. What is the independent variable?\n",
    "## 3. What is the dependent variable?\n",
    "## 4. What is the control variable, and why is it important to control for?"
   ]
  },
  {
   "cell_type": "markdown",
   "metadata": {},
   "source": [
    "[add your answers here]\n",
    "1. \n",
    "2. \n",
    "3. \n",
    "4. "
   ]
  },
  {
   "cell_type": "markdown",
   "metadata": {},
   "source": [
    "<img src=\"https://cdn.loc.gov/service/pnp/ppmsca/33800/33872v.jpg\" width=\"600\" align=\"left\">"
   ]
  },
  {
   "cell_type": "markdown",
   "metadata": {},
   "source": [
    "# It can be intuitive and informative to graphically examine controls through cross tab tables and graphs\n",
    "## A quick example using the college data"
   ]
  },
  {
   "cell_type": "code",
   "execution_count": 34,
   "metadata": {},
   "outputs": [
    {
     "name": "stdout",
     "output_type": "stream",
     "text": [
      "\n",
      "\n",
      "\n",
      "\n",
      "             |             control\n",
      "   selective |    public  non-profi  for-profi |     Total\n",
      "-------------+---------------------------------+----------\n",
      "nonselective |     72.07      46.72      97.53 |     77.88 \n",
      "   selective |     27.93      53.28       2.47 |     22.12 \n",
      "-------------+---------------------------------+----------\n",
      "       Total |    100.00     100.00     100.00 |    100.00 \n"
     ]
    },
    {
     "data": {
      "application/pdf": "[encoded data removed]",
      "image/svg+xml": [
       "<?xml version=\"1.0\" encoding=\"UTF-8\" standalone=\"no\"?>\n",
       "<!-- This is a Stata 15.1 generated SVG file (http://www.stata.com) -->\n",
       "\n",
       "<svg version=\"1.1\" width=\"600px\" height=\"436px\" viewBox=\"0 0 3960 2880\" xmlns=\"http://www.w3.org/2000/svg\" xmlns:xlink=\"http://www.w3.org/1999/xlink\">\n",
       "\t<desc>Stata Graph - Graph</desc>\n",
       "\t<rect x=\"0\" y=\"0\" width=\"3960\" height=\"2880\" style=\"fill:#EAF2F3;stroke:none\"/>\n",
       "\t<rect x=\"0.00\" y=\"0.00\" width=\"3959.88\" height=\"2880.00\" style=\"fill:#EAF2F3\"/>\n",
       "\t<rect x=\"2.88\" y=\"2.88\" width=\"3954.12\" height=\"2874.24\" style=\"fill:none;stroke:#EAF2F3;stroke-width:5.76\"/>\n",
       "\t<rect x=\"579.77\" y=\"100.86\" width=\"3279.25\" height=\"2388.33\" style=\"fill:#FFFFFF\"/>\n",
       "\t<rect x=\"582.65\" y=\"103.74\" width=\"3273.49\" height=\"2382.57\" style=\"fill:none;stroke:#FFFFFF;stroke-width:5.76\"/>\n",
       "\t<line x1=\"579.77\" y1=\"2489.19\" x2=\"579.77\" y2=\"100.86\" style=\"stroke:#EAF2F3;stroke-width:8.64\"/>\n",
       "\t<line x1=\"1215.47\" y1=\"2489.19\" x2=\"1215.47\" y2=\"100.86\" style=\"stroke:#EAF2F3;stroke-width:8.64\"/>\n",
       "\t<line x1=\"1851.18\" y1=\"2489.19\" x2=\"1851.18\" y2=\"100.86\" style=\"stroke:#EAF2F3;stroke-width:8.64\"/>\n",
       "\t<line x1=\"2486.88\" y1=\"2489.19\" x2=\"2486.88\" y2=\"100.86\" style=\"stroke:#EAF2F3;stroke-width:8.64\"/>\n",
       "\t<line x1=\"3122.58\" y1=\"2489.19\" x2=\"3122.58\" y2=\"100.86\" style=\"stroke:#EAF2F3;stroke-width:8.64\"/>\n",
       "\t<line x1=\"3758.29\" y1=\"2489.19\" x2=\"3758.29\" y2=\"100.86\" style=\"stroke:#EAF2F3;stroke-width:8.64\"/>\n",
       "\t<rect x=\"579.77\" y=\"2049.36\" width=\"78.58\" height=\"282.53\" style=\"fill:#90353B\"/>\n",
       "\t<rect x=\"582.65\" y=\"2052.24\" width=\"72.82\" height=\"276.77\" style=\"fill:none;stroke:#90353B;stroke-width:5.76\"/>\n",
       "\t<rect x=\"579.77\" y=\"1766.83\" width=\"3099.94\" height=\"282.53\" style=\"fill:#1A476F\"/>\n",
       "\t<rect x=\"582.65\" y=\"1769.71\" width=\"3094.18\" height=\"276.77\" style=\"fill:none;stroke:#1A476F;stroke-width:5.76\"/>\n",
       "\t<rect x=\"579.77\" y=\"1294.96\" width=\"1693.52\" height=\"282.53\" style=\"fill:#90353B\"/>\n",
       "\t<rect x=\"582.65\" y=\"1297.84\" width=\"1687.76\" height=\"276.77\" style=\"fill:none;stroke:#90353B;stroke-width:5.76\"/>\n",
       "\t<rect x=\"579.77\" y=\"1012.43\" width=\"1485.00\" height=\"282.53\" style=\"fill:#1A476F\"/>\n",
       "\t<rect x=\"582.65\" y=\"1015.31\" width=\"1479.24\" height=\"276.77\" style=\"fill:none;stroke:#1A476F;stroke-width:5.76\"/>\n",
       "\t<rect x=\"579.77\" y=\"540.68\" width=\"887.66\" height=\"282.53\" style=\"fill:#90353B\"/>\n",
       "\t<rect x=\"582.65\" y=\"543.56\" width=\"881.90\" height=\"276.77\" style=\"fill:none;stroke:#90353B;stroke-width:5.76\"/>\n",
       "\t<rect x=\"579.77\" y=\"258.15\" width=\"2290.86\" height=\"282.53\" style=\"fill:#1A476F\"/>\n",
       "\t<rect x=\"582.65\" y=\"261.03\" width=\"2285.10\" height=\"276.77\" style=\"fill:none;stroke:#1A476F;stroke-width:5.76\"/>\n",
       "\t<text x=\"619.74\" y=\"2239.71\" style=\"font-family:'Helvetica';font-size:139.96px;fill:#FFFFff\">selective</text>\n",
       "\t<text x=\"619.74\" y=\"1957.18\" style=\"font-family:'Helvetica';font-size:139.96px;fill:#FFFFff\">nonselective</text>\n",
       "\t<text x=\"619.74\" y=\"1485.31\" style=\"font-family:'Helvetica';font-size:139.96px;fill:#FFFFff\">selective</text>\n",
       "\t<text x=\"619.74\" y=\"1202.78\" style=\"font-family:'Helvetica';font-size:139.96px;fill:#FFFFff\">nonselective</text>\n",
       "\t<text x=\"619.74\" y=\"730.90\" style=\"font-family:'Helvetica';font-size:139.96px;fill:#FFFFff\">selective</text>\n",
       "\t<text x=\"619.74\" y=\"448.37\" style=\"font-family:'Helvetica';font-size:139.96px;fill:#FFFFff\">nonselective</text>\n",
       "\t<line x1=\"579.77\" y1=\"2489.19\" x2=\"3859.02\" y2=\"2489.19\" style=\"stroke:#000000;stroke-width:5.76\"/>\n",
       "\t<line x1=\"579.77\" y1=\"2489.19\" x2=\"579.77\" y2=\"2529.16\" style=\"stroke:#000000;stroke-width:5.76\"/>\n",
       "\t<text x=\"579.77\" y=\"2619.14\" style=\"font-family:'Helvetica';font-size:99.99px;fill:#000000\" text-anchor=\"middle\">0</text>\n",
       "\t<line x1=\"1215.47\" y1=\"2489.19\" x2=\"1215.47\" y2=\"2529.16\" style=\"stroke:#000000;stroke-width:5.76\"/>\n",
       "\t<text x=\"1215.47\" y=\"2619.14\" style=\"font-family:'Helvetica';font-size:99.99px;fill:#000000\" text-anchor=\"middle\">20</text>\n",
       "\t<line x1=\"1851.18\" y1=\"2489.19\" x2=\"1851.18\" y2=\"2529.16\" style=\"stroke:#000000;stroke-width:5.76\"/>\n",
       "\t<text x=\"1851.18\" y=\"2619.14\" style=\"font-family:'Helvetica';font-size:99.99px;fill:#000000\" text-anchor=\"middle\">40</text>\n",
       "\t<line x1=\"2486.88\" y1=\"2489.19\" x2=\"2486.88\" y2=\"2529.16\" style=\"stroke:#000000;stroke-width:5.76\"/>\n",
       "\t<text x=\"2486.88\" y=\"2619.14\" style=\"font-family:'Helvetica';font-size:99.99px;fill:#000000\" text-anchor=\"middle\">60</text>\n",
       "\t<line x1=\"3122.58\" y1=\"2489.19\" x2=\"3122.58\" y2=\"2529.16\" style=\"stroke:#000000;stroke-width:5.76\"/>\n",
       "\t<text x=\"3122.58\" y=\"2619.14\" style=\"font-family:'Helvetica';font-size:99.99px;fill:#000000\" text-anchor=\"middle\">80</text>\n",
       "\t<line x1=\"3758.29\" y1=\"2489.19\" x2=\"3758.29\" y2=\"2529.16\" style=\"stroke:#000000;stroke-width:5.76\"/>\n",
       "\t<text x=\"3758.29\" y=\"2619.14\" style=\"font-family:'Helvetica';font-size:99.99px;fill:#000000\" text-anchor=\"middle\">100</text>\n",
       "\t<text x=\"2219.46\" y=\"2729.16\" style=\"font-family:'Helvetica';font-size:99.99px;fill:#000000\" text-anchor=\"middle\">percent</text>\n",
       "\t<line x1=\"579.77\" y1=\"2489.19\" x2=\"579.77\" y2=\"100.86\" style=\"stroke:#000000;stroke-width:5.76\"/>\n",
       "\t<text x=\"539.67\" y=\"2084.39\" style=\"font-family:'Helvetica';font-size:99.99px;fill:#000000\" text-anchor=\"end\">for-profit</text>\n",
       "\t<text x=\"539.67\" y=\"1329.99\" style=\"font-family:'Helvetica';font-size:99.99px;fill:#000000\" text-anchor=\"end\">non-profit</text>\n",
       "\t<text x=\"539.67\" y=\"575.71\" style=\"font-family:'Helvetica';font-size:99.99px;fill:#000000\" text-anchor=\"end\">public</text>\n",
       "</svg>\n"
      ],
      "text/html": [
       "                <iframe frameborder=\"0\" scrolling=\"no\" height=\"436\" width=\"600\"                srcdoc=\"<html><body>&lt;?xml version=&quot;1.0&quot; encoding=&quot;UTF-8&quot; standalone=&quot;no&quot;?&gt;\n",
       "&lt;!-- This is a Stata 15.1 generated SVG file (http://www.stata.com) --&gt;\n",
       "\n",
       "&lt;svg version=&quot;1.1&quot; width=&quot;600px&quot; height=&quot;436px&quot; viewBox=&quot;0 0 3960 2880&quot; xmlns=&quot;http://www.w3.org/2000/svg&quot; xmlns:xlink=&quot;http://www.w3.org/1999/xlink&quot;&gt;\n",
       "\t&lt;desc&gt;Stata Graph - Graph&lt;/desc&gt;\n",
       "\t&lt;rect x=&quot;0&quot; y=&quot;0&quot; width=&quot;3960&quot; height=&quot;2880&quot; style=&quot;fill:#EAF2F3;stroke:none&quot;/&gt;\n",
       "\t&lt;rect x=&quot;0.00&quot; y=&quot;0.00&quot; width=&quot;3959.88&quot; height=&quot;2880.00&quot; style=&quot;fill:#EAF2F3&quot;/&gt;\n",
       "\t&lt;rect x=&quot;2.88&quot; y=&quot;2.88&quot; width=&quot;3954.12&quot; height=&quot;2874.24&quot; style=&quot;fill:none;stroke:#EAF2F3;stroke-width:5.76&quot;/&gt;\n",
       "\t&lt;rect x=&quot;579.77&quot; y=&quot;100.86&quot; width=&quot;3279.25&quot; height=&quot;2388.33&quot; style=&quot;fill:#FFFFFF&quot;/&gt;\n",
       "\t&lt;rect x=&quot;582.65&quot; y=&quot;103.74&quot; width=&quot;3273.49&quot; height=&quot;2382.57&quot; style=&quot;fill:none;stroke:#FFFFFF;stroke-width:5.76&quot;/&gt;\n",
       "\t&lt;line x1=&quot;579.77&quot; y1=&quot;2489.19&quot; x2=&quot;579.77&quot; y2=&quot;100.86&quot; style=&quot;stroke:#EAF2F3;stroke-width:8.64&quot;/&gt;\n",
       "\t&lt;line x1=&quot;1215.47&quot; y1=&quot;2489.19&quot; x2=&quot;1215.47&quot; y2=&quot;100.86&quot; style=&quot;stroke:#EAF2F3;stroke-width:8.64&quot;/&gt;\n",
       "\t&lt;line x1=&quot;1851.18&quot; y1=&quot;2489.19&quot; x2=&quot;1851.18&quot; y2=&quot;100.86&quot; style=&quot;stroke:#EAF2F3;stroke-width:8.64&quot;/&gt;\n",
       "\t&lt;line x1=&quot;2486.88&quot; y1=&quot;2489.19&quot; x2=&quot;2486.88&quot; y2=&quot;100.86&quot; style=&quot;stroke:#EAF2F3;stroke-width:8.64&quot;/&gt;\n",
       "\t&lt;line x1=&quot;3122.58&quot; y1=&quot;2489.19&quot; x2=&quot;3122.58&quot; y2=&quot;100.86&quot; style=&quot;stroke:#EAF2F3;stroke-width:8.64&quot;/&gt;\n",
       "\t&lt;line x1=&quot;3758.29&quot; y1=&quot;2489.19&quot; x2=&quot;3758.29&quot; y2=&quot;100.86&quot; style=&quot;stroke:#EAF2F3;stroke-width:8.64&quot;/&gt;\n",
       "\t&lt;rect x=&quot;579.77&quot; y=&quot;2049.36&quot; width=&quot;78.58&quot; height=&quot;282.53&quot; style=&quot;fill:#90353B&quot;/&gt;\n",
       "\t&lt;rect x=&quot;582.65&quot; y=&quot;2052.24&quot; width=&quot;72.82&quot; height=&quot;276.77&quot; style=&quot;fill:none;stroke:#90353B;stroke-width:5.76&quot;/&gt;\n",
       "\t&lt;rect x=&quot;579.77&quot; y=&quot;1766.83&quot; width=&quot;3099.94&quot; height=&quot;282.53&quot; style=&quot;fill:#1A476F&quot;/&gt;\n",
       "\t&lt;rect x=&quot;582.65&quot; y=&quot;1769.71&quot; width=&quot;3094.18&quot; height=&quot;276.77&quot; style=&quot;fill:none;stroke:#1A476F;stroke-width:5.76&quot;/&gt;\n",
       "\t&lt;rect x=&quot;579.77&quot; y=&quot;1294.96&quot; width=&quot;1693.52&quot; height=&quot;282.53&quot; style=&quot;fill:#90353B&quot;/&gt;\n",
       "\t&lt;rect x=&quot;582.65&quot; y=&quot;1297.84&quot; width=&quot;1687.76&quot; height=&quot;276.77&quot; style=&quot;fill:none;stroke:#90353B;stroke-width:5.76&quot;/&gt;\n",
       "\t&lt;rect x=&quot;579.77&quot; y=&quot;1012.43&quot; width=&quot;1485.00&quot; height=&quot;282.53&quot; style=&quot;fill:#1A476F&quot;/&gt;\n",
       "\t&lt;rect x=&quot;582.65&quot; y=&quot;1015.31&quot; width=&quot;1479.24&quot; height=&quot;276.77&quot; style=&quot;fill:none;stroke:#1A476F;stroke-width:5.76&quot;/&gt;\n",
       "\t&lt;rect x=&quot;579.77&quot; y=&quot;540.68&quot; width=&quot;887.66&quot; height=&quot;282.53&quot; style=&quot;fill:#90353B&quot;/&gt;\n",
       "\t&lt;rect x=&quot;582.65&quot; y=&quot;543.56&quot; width=&quot;881.90&quot; height=&quot;276.77&quot; style=&quot;fill:none;stroke:#90353B;stroke-width:5.76&quot;/&gt;\n",
       "\t&lt;rect x=&quot;579.77&quot; y=&quot;258.15&quot; width=&quot;2290.86&quot; height=&quot;282.53&quot; style=&quot;fill:#1A476F&quot;/&gt;\n",
       "\t&lt;rect x=&quot;582.65&quot; y=&quot;261.03&quot; width=&quot;2285.10&quot; height=&quot;276.77&quot; style=&quot;fill:none;stroke:#1A476F;stroke-width:5.76&quot;/&gt;\n",
       "\t&lt;text x=&quot;619.74&quot; y=&quot;2239.71&quot; style=&quot;font-family:&#x27;Helvetica&#x27;;font-size:139.96px;fill:#FFFFff&quot;&gt;selective&lt;/text&gt;\n",
       "\t&lt;text x=&quot;619.74&quot; y=&quot;1957.18&quot; style=&quot;font-family:&#x27;Helvetica&#x27;;font-size:139.96px;fill:#FFFFff&quot;&gt;nonselective&lt;/text&gt;\n",
       "\t&lt;text x=&quot;619.74&quot; y=&quot;1485.31&quot; style=&quot;font-family:&#x27;Helvetica&#x27;;font-size:139.96px;fill:#FFFFff&quot;&gt;selective&lt;/text&gt;\n",
       "\t&lt;text x=&quot;619.74&quot; y=&quot;1202.78&quot; style=&quot;font-family:&#x27;Helvetica&#x27;;font-size:139.96px;fill:#FFFFff&quot;&gt;nonselective&lt;/text&gt;\n",
       "\t&lt;text x=&quot;619.74&quot; y=&quot;730.90&quot; style=&quot;font-family:&#x27;Helvetica&#x27;;font-size:139.96px;fill:#FFFFff&quot;&gt;selective&lt;/text&gt;\n",
       "\t&lt;text x=&quot;619.74&quot; y=&quot;448.37&quot; style=&quot;font-family:&#x27;Helvetica&#x27;;font-size:139.96px;fill:#FFFFff&quot;&gt;nonselective&lt;/text&gt;\n",
       "\t&lt;line x1=&quot;579.77&quot; y1=&quot;2489.19&quot; x2=&quot;3859.02&quot; y2=&quot;2489.19&quot; style=&quot;stroke:#000000;stroke-width:5.76&quot;/&gt;\n",
       "\t&lt;line x1=&quot;579.77&quot; y1=&quot;2489.19&quot; x2=&quot;579.77&quot; y2=&quot;2529.16&quot; style=&quot;stroke:#000000;stroke-width:5.76&quot;/&gt;\n",
       "\t&lt;text x=&quot;579.77&quot; y=&quot;2619.14&quot; style=&quot;font-family:&#x27;Helvetica&#x27;;font-size:99.99px;fill:#000000&quot; text-anchor=&quot;middle&quot;&gt;0&lt;/text&gt;\n",
       "\t&lt;line x1=&quot;1215.47&quot; y1=&quot;2489.19&quot; x2=&quot;1215.47&quot; y2=&quot;2529.16&quot; style=&quot;stroke:#000000;stroke-width:5.76&quot;/&gt;\n",
       "\t&lt;text x=&quot;1215.47&quot; y=&quot;2619.14&quot; style=&quot;font-family:&#x27;Helvetica&#x27;;font-size:99.99px;fill:#000000&quot; text-anchor=&quot;middle&quot;&gt;20&lt;/text&gt;\n",
       "\t&lt;line x1=&quot;1851.18&quot; y1=&quot;2489.19&quot; x2=&quot;1851.18&quot; y2=&quot;2529.16&quot; style=&quot;stroke:#000000;stroke-width:5.76&quot;/&gt;\n",
       "\t&lt;text x=&quot;1851.18&quot; y=&quot;2619.14&quot; style=&quot;font-family:&#x27;Helvetica&#x27;;font-size:99.99px;fill:#000000&quot; text-anchor=&quot;middle&quot;&gt;40&lt;/text&gt;\n",
       "\t&lt;line x1=&quot;2486.88&quot; y1=&quot;2489.19&quot; x2=&quot;2486.88&quot; y2=&quot;2529.16&quot; style=&quot;stroke:#000000;stroke-width:5.76&quot;/&gt;\n",
       "\t&lt;text x=&quot;2486.88&quot; y=&quot;2619.14&quot; style=&quot;font-family:&#x27;Helvetica&#x27;;font-size:99.99px;fill:#000000&quot; text-anchor=&quot;middle&quot;&gt;60&lt;/text&gt;\n",
       "\t&lt;line x1=&quot;3122.58&quot; y1=&quot;2489.19&quot; x2=&quot;3122.58&quot; y2=&quot;2529.16&quot; style=&quot;stroke:#000000;stroke-width:5.76&quot;/&gt;\n",
       "\t&lt;text x=&quot;3122.58&quot; y=&quot;2619.14&quot; style=&quot;font-family:&#x27;Helvetica&#x27;;font-size:99.99px;fill:#000000&quot; text-anchor=&quot;middle&quot;&gt;80&lt;/text&gt;\n",
       "\t&lt;line x1=&quot;3758.29&quot; y1=&quot;2489.19&quot; x2=&quot;3758.29&quot; y2=&quot;2529.16&quot; style=&quot;stroke:#000000;stroke-width:5.76&quot;/&gt;\n",
       "\t&lt;text x=&quot;3758.29&quot; y=&quot;2619.14&quot; style=&quot;font-family:&#x27;Helvetica&#x27;;font-size:99.99px;fill:#000000&quot; text-anchor=&quot;middle&quot;&gt;100&lt;/text&gt;\n",
       "\t&lt;text x=&quot;2219.46&quot; y=&quot;2729.16&quot; style=&quot;font-family:&#x27;Helvetica&#x27;;font-size:99.99px;fill:#000000&quot; text-anchor=&quot;middle&quot;&gt;percent&lt;/text&gt;\n",
       "\t&lt;line x1=&quot;579.77&quot; y1=&quot;2489.19&quot; x2=&quot;579.77&quot; y2=&quot;100.86&quot; style=&quot;stroke:#000000;stroke-width:5.76&quot;/&gt;\n",
       "\t&lt;text x=&quot;539.67&quot; y=&quot;2084.39&quot; style=&quot;font-family:&#x27;Helvetica&#x27;;font-size:99.99px;fill:#000000&quot; text-anchor=&quot;end&quot;&gt;for-profit&lt;/text&gt;\n",
       "\t&lt;text x=&quot;539.67&quot; y=&quot;1329.99&quot; style=&quot;font-family:&#x27;Helvetica&#x27;;font-size:99.99px;fill:#000000&quot; text-anchor=&quot;end&quot;&gt;non-profit&lt;/text&gt;\n",
       "\t&lt;text x=&quot;539.67&quot; y=&quot;575.71&quot; style=&quot;font-family:&#x27;Helvetica&#x27;;font-size:99.99px;fill:#000000&quot; text-anchor=&quot;end&quot;&gt;public&lt;/text&gt;\n",
       "&lt;/svg&gt;\n",
       "</body></html>\"></iframe>\n"
      ],
      "text/plain": [
       "This front-end cannot display the desired image type."
      ]
     },
     "metadata": {
      "image/svg+xml": {
       "height": 436,
       "width": 600
      },
      "text/html": {
       "height": 436,
       "width": 600
      }
     },
     "output_type": "display_data"
    },
    {
     "name": "stdout",
     "output_type": "stream",
     "text": [
      "\n",
      "\n",
      "\n",
      "\n"
     ]
    }
   ],
   "source": [
    "label define selective 0 \"nonselective\" 1 \"selective\"\n",
    "label values selective selective\n",
    "\n",
    "tab selective control, column nofreq\n",
    "\n",
    "xi i.selective, noomit\n",
    "\n",
    "graph hbar _Iselective_0 _Iselective_1 ///\n",
    ", label percentages legend(off) blabel(name, position(base) color(white) size(large)) ///\n",
    "yvaroptions(relabel(1 \"nonselective\" 2 \"selective\")) over(control)"
   ]
  },
  {
   "cell_type": "markdown",
   "metadata": {},
   "source": [
    "# There appears to be a very strong relationship between ownership and admissions selectivity\n",
    "## But is it possible that this is primarily because for-profits offer 2 year and lower degrees?\n",
    "## the variable **iclevel** is an nominal variable for *4-year*, *2year*, and *lower* degree categories.\n",
    "## Edit below the code used above to control for *iclevel* of degrees offered:\n",
    "### 1) add the specification \"bysort iclevel:\" before the \"tab command\"\n",
    "### 2) add a \"by(iclevel)\" specification to the end of the graph command\n",
    "### 3) Interpret the results in the markdown box below"
   ]
  },
  {
   "cell_type": "markdown",
   "metadata": {},
   "source": [
    "[record your interpretation here]"
   ]
  },
  {
   "cell_type": "code",
   "execution_count": 35,
   "metadata": {},
   "outputs": [
    {
     "name": "stdout",
     "output_type": "stream",
     "text": [
      "\n",
      "\n",
      "---------------------------------------------------------------------------------------------------------------------------------------------------------------------------------------------------------------------------------------------------------------\n",
      "-> iclevel = At least 2 but less than 4 years\n",
      "\n",
      "             |             control\n",
      "   selective |    public  non-profi  for-profi |     Total\n",
      "-------------+---------------------------------+----------\n",
      "nonselective |     97.79      78.71      98.30 |     96.72 \n",
      "   selective |      2.21      21.29       1.70 |      3.28 \n",
      "-------------+---------------------------------+----------\n",
      "       Total |    100.00     100.00     100.00 |    100.00 \n",
      "\n",
      "---------------------------------------------------------------------------------------------------------------------------------------------------------------------------------------------------------------------------------------------------------------\n",
      "-> iclevel = Four or more years\n",
      "\n",
      "             |             control\n",
      "   selective |    public  non-profi  for-profi |     Total\n",
      "-------------+---------------------------------+----------\n",
      "nonselective |     25.35      40.98      91.90 |     50.13 \n",
      "   selective |     74.65      59.02       8.10 |     49.87 \n",
      "-------------+---------------------------------+----------\n",
      "       Total |    100.00     100.00     100.00 |    100.00 \n",
      "\n",
      "---------------------------------------------------------------------------------------------------------------------------------------------------------------------------------------------------------------------------------------------------------------\n",
      "-> iclevel = Less than 2 years (below associate)\n",
      "\n",
      "             |             control\n",
      "   selective |    public  non-profi  for-profi |     Total\n",
      "-------------+---------------------------------+----------\n",
      "nonselective |     97.32      97.80      99.55 |     99.21 \n",
      "   selective |      2.68       2.20       0.45 |      0.79 \n",
      "-------------+---------------------------------+----------\n",
      "       Total |    100.00     100.00     100.00 |    100.00 \n"
     ]
    },
    {
     "data": {
      "application/pdf": "[encoded data removed]",
      "image/svg+xml": [
       "<?xml version=\"1.0\" encoding=\"UTF-8\" standalone=\"no\"?>\n",
       "<!-- This is a Stata 15.1 generated SVG file (http://www.stata.com) -->\n",
       "\n",
       "<svg version=\"1.1\" width=\"600px\" height=\"436px\" viewBox=\"0 0 3960 2880\" xmlns=\"http://www.w3.org/2000/svg\" xmlns:xlink=\"http://www.w3.org/1999/xlink\">\n",
       "\t<desc>Stata Graph - Graph</desc>\n",
       "\t<rect x=\"0\" y=\"0\" width=\"3960\" height=\"2880\" style=\"fill:#EAF2F3;stroke:none\"/>\n",
       "\t<rect x=\"0.00\" y=\"0.00\" width=\"3959.88\" height=\"2880.00\" style=\"fill:#EAF2F3\"/>\n",
       "\t<rect x=\"2.88\" y=\"2.88\" width=\"3954.12\" height=\"2874.24\" style=\"fill:none;stroke:#EAF2F3;stroke-width:5.76\"/>\n",
       "\t<rect x=\"388.33\" y=\"258.27\" width=\"1683.50\" height=\"676.19\" style=\"fill:#FFFFFF\"/>\n",
       "\t<rect x=\"390.78\" y=\"260.72\" width=\"1678.60\" height=\"671.30\" style=\"fill:none;stroke:#FFFFFF;stroke-width:4.90\"/>\n",
       "\t<line x1=\"388.33\" y1=\"934.47\" x2=\"2071.82\" y2=\"934.47\" style=\"stroke:#EAF2F3;stroke-width:7.34\"/>\n",
       "\t<line x1=\"388.33\" y1=\"816.28\" x2=\"2071.82\" y2=\"816.28\" style=\"stroke:#EAF2F3;stroke-width:7.34\"/>\n",
       "\t<line x1=\"388.33\" y1=\"698.22\" x2=\"2071.82\" y2=\"698.22\" style=\"stroke:#EAF2F3;stroke-width:7.34\"/>\n",
       "\t<line x1=\"388.33\" y1=\"580.16\" x2=\"2071.82\" y2=\"580.16\" style=\"stroke:#EAF2F3;stroke-width:7.34\"/>\n",
       "\t<line x1=\"388.33\" y1=\"461.97\" x2=\"2071.82\" y2=\"461.97\" style=\"stroke:#EAF2F3;stroke-width:7.34\"/>\n",
       "\t<line x1=\"388.33\" y1=\"343.91\" x2=\"2071.82\" y2=\"343.91\" style=\"stroke:#EAF2F3;stroke-width:7.34\"/>\n",
       "\t<rect x=\"2141.00\" y=\"258.27\" width=\"1683.49\" height=\"676.19\" style=\"fill:#FFFFFF\"/>\n",
       "\t<rect x=\"2143.45\" y=\"260.72\" width=\"1678.60\" height=\"671.30\" style=\"fill:none;stroke:#FFFFFF;stroke-width:4.90\"/>\n",
       "\t<line x1=\"2141.00\" y1=\"934.47\" x2=\"3824.49\" y2=\"934.47\" style=\"stroke:#EAF2F3;stroke-width:7.34\"/>\n",
       "\t<line x1=\"2141.00\" y1=\"816.28\" x2=\"3824.49\" y2=\"816.28\" style=\"stroke:#EAF2F3;stroke-width:7.34\"/>\n",
       "\t<line x1=\"2141.00\" y1=\"698.22\" x2=\"3824.49\" y2=\"698.22\" style=\"stroke:#EAF2F3;stroke-width:7.34\"/>\n",
       "\t<line x1=\"2141.00\" y1=\"580.16\" x2=\"3824.49\" y2=\"580.16\" style=\"stroke:#EAF2F3;stroke-width:7.34\"/>\n",
       "\t<line x1=\"2141.00\" y1=\"461.97\" x2=\"3824.49\" y2=\"461.97\" style=\"stroke:#EAF2F3;stroke-width:7.34\"/>\n",
       "\t<line x1=\"2141.00\" y1=\"343.91\" x2=\"3824.49\" y2=\"343.91\" style=\"stroke:#EAF2F3;stroke-width:7.34\"/>\n",
       "\t<rect x=\"388.33\" y=\"1262.41\" width=\"1683.50\" height=\"676.19\" style=\"fill:#FFFFFF\"/>\n",
       "\t<rect x=\"390.78\" y=\"1264.86\" width=\"1678.60\" height=\"671.30\" style=\"fill:none;stroke:#FFFFFF;stroke-width:4.90\"/>\n",
       "\t<line x1=\"388.33\" y1=\"1938.60\" x2=\"2071.82\" y2=\"1938.60\" style=\"stroke:#EAF2F3;stroke-width:7.34\"/>\n",
       "\t<line x1=\"388.33\" y1=\"1820.54\" x2=\"2071.82\" y2=\"1820.54\" style=\"stroke:#EAF2F3;stroke-width:7.34\"/>\n",
       "\t<line x1=\"388.33\" y1=\"1702.36\" x2=\"2071.82\" y2=\"1702.36\" style=\"stroke:#EAF2F3;stroke-width:7.34\"/>\n",
       "\t<line x1=\"388.33\" y1=\"1584.30\" x2=\"2071.82\" y2=\"1584.30\" style=\"stroke:#EAF2F3;stroke-width:7.34\"/>\n",
       "\t<line x1=\"388.33\" y1=\"1466.24\" x2=\"2071.82\" y2=\"1466.24\" style=\"stroke:#EAF2F3;stroke-width:7.34\"/>\n",
       "\t<line x1=\"388.33\" y1=\"1348.05\" x2=\"2071.82\" y2=\"1348.05\" style=\"stroke:#EAF2F3;stroke-width:7.34\"/>\n",
       "\t<rect x=\"513.07\" y=\"356.91\" width=\"195.40\" height=\"577.56\" style=\"fill:#1A476F\"/>\n",
       "\t<rect x=\"515.52\" y=\"359.35\" width=\"190.51\" height=\"572.66\" style=\"fill:none;stroke:#1A476F;stroke-width:4.90\"/>\n",
       "\t<rect x=\"708.47\" y=\"921.35\" width=\"195.40\" height=\"13.12\" style=\"fill:#90353B\"/>\n",
       "\t<rect x=\"710.92\" y=\"923.80\" width=\"190.51\" height=\"8.22\" style=\"fill:none;stroke:#90353B;stroke-width:4.90\"/>\n",
       "\t<rect x=\"1034.80\" y=\"469.65\" width=\"195.28\" height=\"464.82\" style=\"fill:#1A476F\"/>\n",
       "\t<rect x=\"1037.25\" y=\"472.09\" width=\"190.38\" height=\"459.92\" style=\"fill:none;stroke:#1A476F;stroke-width:4.90\"/>\n",
       "\t<rect x=\"1230.08\" y=\"808.73\" width=\"195.40\" height=\"125.73\" style=\"fill:#90353B\"/>\n",
       "\t<rect x=\"1232.52\" y=\"811.18\" width=\"190.51\" height=\"120.84\" style=\"fill:none;stroke:#90353B;stroke-width:4.90\"/>\n",
       "\t<rect x=\"1556.40\" y=\"353.94\" width=\"195.40\" height=\"580.53\" style=\"fill:#1A476F\"/>\n",
       "\t<rect x=\"1558.85\" y=\"356.38\" width=\"190.51\" height=\"575.63\" style=\"fill:none;stroke:#1A476F;stroke-width:4.90\"/>\n",
       "\t<rect x=\"1751.81\" y=\"924.44\" width=\"195.28\" height=\"10.02\" style=\"fill:#90353B\"/>\n",
       "\t<rect x=\"1754.25\" y=\"926.89\" width=\"190.38\" height=\"5.13\" style=\"fill:none;stroke:#90353B;stroke-width:4.90\"/>\n",
       "\t<text x=\"610.83\" y=\"884.15\" style=\"font-family:'Helvetica';font-size:67.94px;fill:#FFFFff\" text-anchor=\"middle\">97.8</text>\n",
       "\t<text x=\"806.11\" y=\"884.15\" style=\"font-family:'Helvetica';font-size:67.94px;fill:#FFFFff\" text-anchor=\"middle\">2.2</text>\n",
       "\t<text x=\"1132.44\" y=\"884.15\" style=\"font-family:'Helvetica';font-size:67.94px;fill:#FFFFff\" text-anchor=\"middle\">78.7</text>\n",
       "\t<text x=\"1327.84\" y=\"884.15\" style=\"font-family:'Helvetica';font-size:67.94px;fill:#FFFFff\" text-anchor=\"middle\">21.3</text>\n",
       "\t<text x=\"1654.04\" y=\"884.15\" style=\"font-family:'Helvetica';font-size:67.94px;fill:#FFFFff\" text-anchor=\"middle\">98.3</text>\n",
       "\t<text x=\"1849.44\" y=\"884.15\" style=\"font-family:'Helvetica';font-size:67.94px;fill:#FFFFff\" text-anchor=\"middle\">1.7</text>\n",
       "\t<rect x=\"2265.74\" y=\"784.72\" width=\"195.40\" height=\"149.74\" style=\"fill:#1A476F\"/>\n",
       "\t<rect x=\"2268.19\" y=\"787.17\" width=\"190.51\" height=\"144.85\" style=\"fill:none;stroke:#1A476F;stroke-width:4.90\"/>\n",
       "\t<rect x=\"2461.14\" y=\"493.65\" width=\"195.40\" height=\"440.81\" style=\"fill:#90353B\"/>\n",
       "\t<rect x=\"2463.59\" y=\"496.10\" width=\"190.51\" height=\"435.92\" style=\"fill:none;stroke:#90353B;stroke-width:4.90\"/>\n",
       "\t<rect x=\"2787.34\" y=\"692.40\" width=\"195.40\" height=\"242.06\" style=\"fill:#1A476F\"/>\n",
       "\t<rect x=\"2789.79\" y=\"694.85\" width=\"190.51\" height=\"237.17\" style=\"fill:none;stroke:#1A476F;stroke-width:4.90\"/>\n",
       "\t<rect x=\"2982.75\" y=\"585.85\" width=\"195.40\" height=\"348.61\" style=\"fill:#90353B\"/>\n",
       "\t<rect x=\"2985.19\" y=\"588.30\" width=\"190.51\" height=\"343.72\" style=\"fill:none;stroke:#90353B;stroke-width:4.90\"/>\n",
       "\t<rect x=\"3309.07\" y=\"391.80\" width=\"195.28\" height=\"542.66\" style=\"fill:#1A476F\"/>\n",
       "\t<rect x=\"3311.52\" y=\"394.25\" width=\"190.38\" height=\"537.76\" style=\"fill:none;stroke:#1A476F;stroke-width:4.90\"/>\n",
       "\t<rect x=\"3504.35\" y=\"886.57\" width=\"195.40\" height=\"47.89\" style=\"fill:#90353B\"/>\n",
       "\t<rect x=\"3506.80\" y=\"889.02\" width=\"190.51\" height=\"43.00\" style=\"fill:none;stroke:#90353B;stroke-width:4.90\"/>\n",
       "\t<text x=\"2363.38\" y=\"884.15\" style=\"font-family:'Helvetica';font-size:67.94px;fill:#FFFFff\" text-anchor=\"middle\">25.4</text>\n",
       "\t<text x=\"2558.78\" y=\"884.15\" style=\"font-family:'Helvetica';font-size:67.94px;fill:#FFFFff\" text-anchor=\"middle\">74.6</text>\n",
       "\t<text x=\"2885.11\" y=\"884.15\" style=\"font-family:'Helvetica';font-size:67.94px;fill:#FFFFff\" text-anchor=\"middle\">41.0</text>\n",
       "\t<text x=\"3080.39\" y=\"884.15\" style=\"font-family:'Helvetica';font-size:67.94px;fill:#FFFFff\" text-anchor=\"middle\">59.0</text>\n",
       "\t<text x=\"3406.71\" y=\"884.15\" style=\"font-family:'Helvetica';font-size:67.94px;fill:#FFFFff\" text-anchor=\"middle\">91.9</text>\n",
       "\t<text x=\"3602.11\" y=\"884.15\" style=\"font-family:'Helvetica';font-size:67.94px;fill:#FFFFff\" text-anchor=\"middle\">8.1</text>\n",
       "\t<rect x=\"513.07\" y=\"1363.89\" width=\"195.40\" height=\"574.71\" style=\"fill:#1A476F\"/>\n",
       "\t<rect x=\"515.52\" y=\"1366.34\" width=\"190.51\" height=\"569.82\" style=\"fill:none;stroke:#1A476F;stroke-width:4.90\"/>\n",
       "\t<rect x=\"708.47\" y=\"1922.76\" width=\"195.40\" height=\"15.84\" style=\"fill:#90353B\"/>\n",
       "\t<rect x=\"710.92\" y=\"1925.21\" width=\"190.51\" height=\"10.94\" style=\"fill:none;stroke:#90353B;stroke-width:4.90\"/>\n",
       "\t<rect x=\"1034.80\" y=\"1361.05\" width=\"195.28\" height=\"577.56\" style=\"fill:#1A476F\"/>\n",
       "\t<rect x=\"1037.25\" y=\"1363.49\" width=\"190.38\" height=\"572.66\" style=\"fill:none;stroke:#1A476F;stroke-width:4.90\"/>\n",
       "\t<rect x=\"1230.08\" y=\"1925.61\" width=\"195.40\" height=\"12.99\" style=\"fill:#90353B\"/>\n",
       "\t<rect x=\"1232.52\" y=\"1928.06\" width=\"190.51\" height=\"8.10\" style=\"fill:none;stroke:#90353B;stroke-width:4.90\"/>\n",
       "\t<rect x=\"1556.40\" y=\"1350.77\" width=\"195.40\" height=\"587.83\" style=\"fill:#1A476F\"/>\n",
       "\t<rect x=\"1558.85\" y=\"1353.22\" width=\"190.51\" height=\"582.94\" style=\"fill:none;stroke:#1A476F;stroke-width:4.90\"/>\n",
       "\t<rect x=\"1751.81\" y=\"1936.01\" width=\"195.28\" height=\"2.60\" style=\"fill:#90353B\"/>\n",
       "\t<rect x=\"1754.25\" y=\"1938.45\" width=\"190.38\" height=\"-2.30\" style=\"fill:none;stroke:#90353B;stroke-width:4.90\"/>\n",
       "\t<text x=\"610.83\" y=\"1888.41\" style=\"font-family:'Helvetica';font-size:67.94px;fill:#FFFFff\" text-anchor=\"middle\">97.3</text>\n",
       "\t<text x=\"806.11\" y=\"1888.41\" style=\"font-family:'Helvetica';font-size:67.94px;fill:#FFFFff\" text-anchor=\"middle\">2.7</text>\n",
       "\t<text x=\"1132.44\" y=\"1888.41\" style=\"font-family:'Helvetica';font-size:67.94px;fill:#FFFFff\" text-anchor=\"middle\">97.8</text>\n",
       "\t<text x=\"1327.84\" y=\"1888.41\" style=\"font-family:'Helvetica';font-size:67.94px;fill:#FFFFff\" text-anchor=\"middle\">2.2</text>\n",
       "\t<text x=\"1654.04\" y=\"1888.41\" style=\"font-family:'Helvetica';font-size:67.94px;fill:#FFFFff\" text-anchor=\"middle\">99.6</text>\n",
       "\t<text x=\"1849.44\" y=\"1888.41\" style=\"font-family:'Helvetica';font-size:67.94px;fill:#FFFFff\" text-anchor=\"middle\">0.4</text>\n",
       "\t<line x1=\"388.33\" y1=\"934.47\" x2=\"388.33\" y2=\"258.27\" style=\"stroke:#000000;stroke-width:4.90\"/>\n",
       "\t<line x1=\"388.33\" y1=\"934.47\" x2=\"354.30\" y2=\"934.47\" style=\"stroke:#000000;stroke-width:4.90\"/>\n",
       "\t<text x=\"311.78\" y=\"934.47\" style=\"font-family:'Helvetica';font-size:85.02px;fill:#000000\" transform=\"rotate(-90 311.78,934.47)\" text-anchor=\"middle\">0</text>\n",
       "\t<line x1=\"388.33\" y1=\"816.28\" x2=\"354.30\" y2=\"816.28\" style=\"stroke:#000000;stroke-width:4.90\"/>\n",
       "\t<text x=\"311.78\" y=\"816.28\" style=\"font-family:'Helvetica';font-size:85.02px;fill:#000000\" transform=\"rotate(-90 311.78,816.28)\" text-anchor=\"middle\">20</text>\n",
       "\t<line x1=\"388.33\" y1=\"698.22\" x2=\"354.30\" y2=\"698.22\" style=\"stroke:#000000;stroke-width:4.90\"/>\n",
       "\t<text x=\"311.78\" y=\"698.22\" style=\"font-family:'Helvetica';font-size:85.02px;fill:#000000\" transform=\"rotate(-90 311.78,698.22)\" text-anchor=\"middle\">40</text>\n",
       "\t<line x1=\"388.33\" y1=\"580.16\" x2=\"354.30\" y2=\"580.16\" style=\"stroke:#000000;stroke-width:4.90\"/>\n",
       "\t<text x=\"311.78\" y=\"580.16\" style=\"font-family:'Helvetica';font-size:85.02px;fill:#000000\" transform=\"rotate(-90 311.78,580.16)\" text-anchor=\"middle\">60</text>\n",
       "\t<line x1=\"388.33\" y1=\"461.97\" x2=\"354.30\" y2=\"461.97\" style=\"stroke:#000000;stroke-width:4.90\"/>\n",
       "\t<text x=\"311.78\" y=\"461.97\" style=\"font-family:'Helvetica';font-size:85.02px;fill:#000000\" transform=\"rotate(-90 311.78,461.97)\" text-anchor=\"middle\">80</text>\n",
       "\t<line x1=\"388.33\" y1=\"343.91\" x2=\"354.30\" y2=\"343.91\" style=\"stroke:#000000;stroke-width:4.90\"/>\n",
       "\t<text x=\"311.78\" y=\"343.91\" style=\"font-family:'Helvetica';font-size:85.02px;fill:#000000\" transform=\"rotate(-90 311.78,343.91)\" text-anchor=\"middle\">100</text>\n",
       "\t<line x1=\"388.33\" y1=\"1938.60\" x2=\"388.33\" y2=\"1262.41\" style=\"stroke:#000000;stroke-width:4.90\"/>\n",
       "\t<line x1=\"388.33\" y1=\"1938.60\" x2=\"354.30\" y2=\"1938.60\" style=\"stroke:#000000;stroke-width:4.90\"/>\n",
       "\t<text x=\"311.78\" y=\"1938.60\" style=\"font-family:'Helvetica';font-size:85.02px;fill:#000000\" transform=\"rotate(-90 311.78,1938.60)\" text-anchor=\"middle\">0</text>\n",
       "\t<line x1=\"388.33\" y1=\"1820.54\" x2=\"354.30\" y2=\"1820.54\" style=\"stroke:#000000;stroke-width:4.90\"/>\n",
       "\t<text x=\"311.78\" y=\"1820.54\" style=\"font-family:'Helvetica';font-size:85.02px;fill:#000000\" transform=\"rotate(-90 311.78,1820.54)\" text-anchor=\"middle\">20</text>\n",
       "\t<line x1=\"388.33\" y1=\"1702.36\" x2=\"354.30\" y2=\"1702.36\" style=\"stroke:#000000;stroke-width:4.90\"/>\n",
       "\t<text x=\"311.78\" y=\"1702.36\" style=\"font-family:'Helvetica';font-size:85.02px;fill:#000000\" transform=\"rotate(-90 311.78,1702.36)\" text-anchor=\"middle\">40</text>\n",
       "\t<line x1=\"388.33\" y1=\"1584.30\" x2=\"354.30\" y2=\"1584.30\" style=\"stroke:#000000;stroke-width:4.90\"/>\n",
       "\t<text x=\"311.78\" y=\"1584.30\" style=\"font-family:'Helvetica';font-size:85.02px;fill:#000000\" transform=\"rotate(-90 311.78,1584.30)\" text-anchor=\"middle\">60</text>\n",
       "\t<line x1=\"388.33\" y1=\"1466.24\" x2=\"354.30\" y2=\"1466.24\" style=\"stroke:#000000;stroke-width:4.90\"/>\n",
       "\t<text x=\"311.78\" y=\"1466.24\" style=\"font-family:'Helvetica';font-size:85.02px;fill:#000000\" transform=\"rotate(-90 311.78,1466.24)\" text-anchor=\"middle\">80</text>\n",
       "\t<line x1=\"388.33\" y1=\"1348.05\" x2=\"354.30\" y2=\"1348.05\" style=\"stroke:#000000;stroke-width:4.90\"/>\n",
       "\t<text x=\"311.78\" y=\"1348.05\" style=\"font-family:'Helvetica';font-size:85.02px;fill:#000000\" transform=\"rotate(-90 311.78,1348.05)\" text-anchor=\"middle\">100</text>\n",
       "\t<line x1=\"388.33\" y1=\"934.47\" x2=\"2071.82\" y2=\"934.47\" style=\"stroke:#000000;stroke-width:4.90\"/>\n",
       "\t<text x=\"708.47\" y=\"1027.83\" style=\"font-family:'Helvetica';font-size:85.02px;fill:#000000\" text-anchor=\"middle\">public</text>\n",
       "\t<text x=\"1230.08\" y=\"1027.83\" style=\"font-family:'Helvetica';font-size:85.02px;fill:#000000\" text-anchor=\"middle\">non-profit</text>\n",
       "\t<text x=\"1751.81\" y=\"1027.83\" style=\"font-family:'Helvetica';font-size:85.02px;fill:#000000\" text-anchor=\"middle\">for-profit</text>\n",
       "\t<line x1=\"2141.00\" y1=\"934.47\" x2=\"3824.49\" y2=\"934.47\" style=\"stroke:#000000;stroke-width:4.90\"/>\n",
       "\t<text x=\"2461.14\" y=\"1027.83\" style=\"font-family:'Helvetica';font-size:85.02px;fill:#000000\" text-anchor=\"middle\">public</text>\n",
       "\t<text x=\"2982.75\" y=\"1027.83\" style=\"font-family:'Helvetica';font-size:85.02px;fill:#000000\" text-anchor=\"middle\">non-profit</text>\n",
       "\t<text x=\"3504.35\" y=\"1027.83\" style=\"font-family:'Helvetica';font-size:85.02px;fill:#000000\" text-anchor=\"middle\">for-profit</text>\n",
       "\t<line x1=\"388.33\" y1=\"1938.60\" x2=\"2071.82\" y2=\"1938.60\" style=\"stroke:#000000;stroke-width:4.90\"/>\n",
       "\t<text x=\"708.47\" y=\"2032.09\" style=\"font-family:'Helvetica';font-size:85.02px;fill:#000000\" text-anchor=\"middle\">public</text>\n",
       "\t<text x=\"1230.08\" y=\"2032.09\" style=\"font-family:'Helvetica';font-size:85.02px;fill:#000000\" text-anchor=\"middle\">non-profit</text>\n",
       "\t<text x=\"1751.81\" y=\"2032.09\" style=\"font-family:'Helvetica';font-size:85.02px;fill:#000000\" text-anchor=\"middle\">for-profit</text>\n",
       "\t<rect x=\"388.33\" y=\"135.39\" width=\"1683.50\" height=\"122.89\" style=\"fill:#D9E6EB\"/>\n",
       "\t<rect x=\"390.78\" y=\"137.83\" width=\"1678.60\" height=\"117.99\" style=\"fill:none;stroke:#D9E6EB;stroke-width:4.90\"/>\n",
       "\t<text x=\"1230.08\" y=\"215.42\" style=\"font-family:'Helvetica';font-size:93.56px;fill:#000000\" text-anchor=\"middle\">At least 2 but less than 4 years</text>\n",
       "\t<rect x=\"2141.00\" y=\"135.39\" width=\"1683.49\" height=\"122.89\" style=\"fill:#D9E6EB\"/>\n",
       "\t<rect x=\"2143.45\" y=\"137.83\" width=\"1678.60\" height=\"117.99\" style=\"fill:none;stroke:#D9E6EB;stroke-width:4.90\"/>\n",
       "\t<text x=\"2982.75\" y=\"215.42\" style=\"font-family:'Helvetica';font-size:93.56px;fill:#000000\" text-anchor=\"middle\">Four or more years</text>\n",
       "\t<rect x=\"388.33\" y=\"1139.53\" width=\"1683.50\" height=\"122.89\" style=\"fill:#D9E6EB\"/>\n",
       "\t<rect x=\"390.78\" y=\"1141.97\" width=\"1678.60\" height=\"117.99\" style=\"fill:none;stroke:#D9E6EB;stroke-width:4.90\"/>\n",
       "\t<text x=\"1230.08\" y=\"1219.56\" style=\"font-family:'Helvetica';font-size:93.56px;fill:#000000\" text-anchor=\"middle\">Less than 2 years (below associate)</text>\n",
       "\t<rect x=\"1485.00\" y=\"2143.66\" width=\"1089.87\" height=\"486.48\" style=\"fill:#FFFFFF\"/>\n",
       "\t<rect x=\"1487.88\" y=\"2146.54\" width=\"1084.11\" height=\"480.72\" style=\"fill:none;stroke:#000000;stroke-width:5.76\"/>\n",
       "\t<text x=\"1962.55\" y=\"2431.89\" style=\"font-family:'Helvetica';font-size:99.99px;fill:#000000\">selective</text>\n",
       "\t<text x=\"1962.55\" y=\"2571.98\" style=\"font-family:'Helvetica';font-size:99.99px;fill:#000000\">nonselective</text>\n",
       "\t<rect x=\"1528.19\" y=\"2346.87\" width=\"374.34\" height=\"99.99\" style=\"fill:#90353B\"/>\n",
       "\t<rect x=\"1531.07\" y=\"2349.75\" width=\"368.58\" height=\"94.23\" style=\"fill:none;stroke:#90353B;stroke-width:5.76\"/>\n",
       "\t<rect x=\"1528.19\" y=\"2486.96\" width=\"374.34\" height=\"99.99\" style=\"fill:#1A476F\"/>\n",
       "\t<rect x=\"1531.07\" y=\"2489.84\" width=\"368.58\" height=\"94.23\" style=\"fill:none;stroke:#1A476F;stroke-width:5.76\"/>\n",
       "\t<text x=\"170.79\" y=\"1105.00\" style=\"font-family:'Helvetica';font-size:99.99px;fill:#000000\" transform=\"rotate(-90 170.79,1105.00)\" text-anchor=\"middle\">percent</text>\n",
       "\t<text x=\"218.05\" y=\"2737.89\" style=\"font-family:'Helvetica';font-size:79.94px;fill:#000000\">Graphs by iclevel</text>\n",
       "</svg>\n"
      ],
      "text/html": [
       "                <iframe frameborder=\"0\" scrolling=\"no\" height=\"436\" width=\"600\"                srcdoc=\"<html><body>&lt;?xml version=&quot;1.0&quot; encoding=&quot;UTF-8&quot; standalone=&quot;no&quot;?&gt;\n",
       "&lt;!-- This is a Stata 15.1 generated SVG file (http://www.stata.com) --&gt;\n",
       "\n",
       "&lt;svg version=&quot;1.1&quot; width=&quot;600px&quot; height=&quot;436px&quot; viewBox=&quot;0 0 3960 2880&quot; xmlns=&quot;http://www.w3.org/2000/svg&quot; xmlns:xlink=&quot;http://www.w3.org/1999/xlink&quot;&gt;\n",
       "\t&lt;desc&gt;Stata Graph - Graph&lt;/desc&gt;\n",
       "\t&lt;rect x=&quot;0&quot; y=&quot;0&quot; width=&quot;3960&quot; height=&quot;2880&quot; style=&quot;fill:#EAF2F3;stroke:none&quot;/&gt;\n",
       "\t&lt;rect x=&quot;0.00&quot; y=&quot;0.00&quot; width=&quot;3959.88&quot; height=&quot;2880.00&quot; style=&quot;fill:#EAF2F3&quot;/&gt;\n",
       "\t&lt;rect x=&quot;2.88&quot; y=&quot;2.88&quot; width=&quot;3954.12&quot; height=&quot;2874.24&quot; style=&quot;fill:none;stroke:#EAF2F3;stroke-width:5.76&quot;/&gt;\n",
       "\t&lt;rect x=&quot;388.33&quot; y=&quot;258.27&quot; width=&quot;1683.50&quot; height=&quot;676.19&quot; style=&quot;fill:#FFFFFF&quot;/&gt;\n",
       "\t&lt;rect x=&quot;390.78&quot; y=&quot;260.72&quot; width=&quot;1678.60&quot; height=&quot;671.30&quot; style=&quot;fill:none;stroke:#FFFFFF;stroke-width:4.90&quot;/&gt;\n",
       "\t&lt;line x1=&quot;388.33&quot; y1=&quot;934.47&quot; x2=&quot;2071.82&quot; y2=&quot;934.47&quot; style=&quot;stroke:#EAF2F3;stroke-width:7.34&quot;/&gt;\n",
       "\t&lt;line x1=&quot;388.33&quot; y1=&quot;816.28&quot; x2=&quot;2071.82&quot; y2=&quot;816.28&quot; style=&quot;stroke:#EAF2F3;stroke-width:7.34&quot;/&gt;\n",
       "\t&lt;line x1=&quot;388.33&quot; y1=&quot;698.22&quot; x2=&quot;2071.82&quot; y2=&quot;698.22&quot; style=&quot;stroke:#EAF2F3;stroke-width:7.34&quot;/&gt;\n",
       "\t&lt;line x1=&quot;388.33&quot; y1=&quot;580.16&quot; x2=&quot;2071.82&quot; y2=&quot;580.16&quot; style=&quot;stroke:#EAF2F3;stroke-width:7.34&quot;/&gt;\n",
       "\t&lt;line x1=&quot;388.33&quot; y1=&quot;461.97&quot; x2=&quot;2071.82&quot; y2=&quot;461.97&quot; style=&quot;stroke:#EAF2F3;stroke-width:7.34&quot;/&gt;\n",
       "\t&lt;line x1=&quot;388.33&quot; y1=&quot;343.91&quot; x2=&quot;2071.82&quot; y2=&quot;343.91&quot; style=&quot;stroke:#EAF2F3;stroke-width:7.34&quot;/&gt;\n",
       "\t&lt;rect x=&quot;2141.00&quot; y=&quot;258.27&quot; width=&quot;1683.49&quot; height=&quot;676.19&quot; style=&quot;fill:#FFFFFF&quot;/&gt;\n",
       "\t&lt;rect x=&quot;2143.45&quot; y=&quot;260.72&quot; width=&quot;1678.60&quot; height=&quot;671.30&quot; style=&quot;fill:none;stroke:#FFFFFF;stroke-width:4.90&quot;/&gt;\n",
       "\t&lt;line x1=&quot;2141.00&quot; y1=&quot;934.47&quot; x2=&quot;3824.49&quot; y2=&quot;934.47&quot; style=&quot;stroke:#EAF2F3;stroke-width:7.34&quot;/&gt;\n",
       "\t&lt;line x1=&quot;2141.00&quot; y1=&quot;816.28&quot; x2=&quot;3824.49&quot; y2=&quot;816.28&quot; style=&quot;stroke:#EAF2F3;stroke-width:7.34&quot;/&gt;\n",
       "\t&lt;line x1=&quot;2141.00&quot; y1=&quot;698.22&quot; x2=&quot;3824.49&quot; y2=&quot;698.22&quot; style=&quot;stroke:#EAF2F3;stroke-width:7.34&quot;/&gt;\n",
       "\t&lt;line x1=&quot;2141.00&quot; y1=&quot;580.16&quot; x2=&quot;3824.49&quot; y2=&quot;580.16&quot; style=&quot;stroke:#EAF2F3;stroke-width:7.34&quot;/&gt;\n",
       "\t&lt;line x1=&quot;2141.00&quot; y1=&quot;461.97&quot; x2=&quot;3824.49&quot; y2=&quot;461.97&quot; style=&quot;stroke:#EAF2F3;stroke-width:7.34&quot;/&gt;\n",
       "\t&lt;line x1=&quot;2141.00&quot; y1=&quot;343.91&quot; x2=&quot;3824.49&quot; y2=&quot;343.91&quot; style=&quot;stroke:#EAF2F3;stroke-width:7.34&quot;/&gt;\n",
       "\t&lt;rect x=&quot;388.33&quot; y=&quot;1262.41&quot; width=&quot;1683.50&quot; height=&quot;676.19&quot; style=&quot;fill:#FFFFFF&quot;/&gt;\n",
       "\t&lt;rect x=&quot;390.78&quot; y=&quot;1264.86&quot; width=&quot;1678.60&quot; height=&quot;671.30&quot; style=&quot;fill:none;stroke:#FFFFFF;stroke-width:4.90&quot;/&gt;\n",
       "\t&lt;line x1=&quot;388.33&quot; y1=&quot;1938.60&quot; x2=&quot;2071.82&quot; y2=&quot;1938.60&quot; style=&quot;stroke:#EAF2F3;stroke-width:7.34&quot;/&gt;\n",
       "\t&lt;line x1=&quot;388.33&quot; y1=&quot;1820.54&quot; x2=&quot;2071.82&quot; y2=&quot;1820.54&quot; style=&quot;stroke:#EAF2F3;stroke-width:7.34&quot;/&gt;\n",
       "\t&lt;line x1=&quot;388.33&quot; y1=&quot;1702.36&quot; x2=&quot;2071.82&quot; y2=&quot;1702.36&quot; style=&quot;stroke:#EAF2F3;stroke-width:7.34&quot;/&gt;\n",
       "\t&lt;line x1=&quot;388.33&quot; y1=&quot;1584.30&quot; x2=&quot;2071.82&quot; y2=&quot;1584.30&quot; style=&quot;stroke:#EAF2F3;stroke-width:7.34&quot;/&gt;\n",
       "\t&lt;line x1=&quot;388.33&quot; y1=&quot;1466.24&quot; x2=&quot;2071.82&quot; y2=&quot;1466.24&quot; style=&quot;stroke:#EAF2F3;stroke-width:7.34&quot;/&gt;\n",
       "\t&lt;line x1=&quot;388.33&quot; y1=&quot;1348.05&quot; x2=&quot;2071.82&quot; y2=&quot;1348.05&quot; style=&quot;stroke:#EAF2F3;stroke-width:7.34&quot;/&gt;\n",
       "\t&lt;rect x=&quot;513.07&quot; y=&quot;356.91&quot; width=&quot;195.40&quot; height=&quot;577.56&quot; style=&quot;fill:#1A476F&quot;/&gt;\n",
       "\t&lt;rect x=&quot;515.52&quot; y=&quot;359.35&quot; width=&quot;190.51&quot; height=&quot;572.66&quot; style=&quot;fill:none;stroke:#1A476F;stroke-width:4.90&quot;/&gt;\n",
       "\t&lt;rect x=&quot;708.47&quot; y=&quot;921.35&quot; width=&quot;195.40&quot; height=&quot;13.12&quot; style=&quot;fill:#90353B&quot;/&gt;\n",
       "\t&lt;rect x=&quot;710.92&quot; y=&quot;923.80&quot; width=&quot;190.51&quot; height=&quot;8.22&quot; style=&quot;fill:none;stroke:#90353B;stroke-width:4.90&quot;/&gt;\n",
       "\t&lt;rect x=&quot;1034.80&quot; y=&quot;469.65&quot; width=&quot;195.28&quot; height=&quot;464.82&quot; style=&quot;fill:#1A476F&quot;/&gt;\n",
       "\t&lt;rect x=&quot;1037.25&quot; y=&quot;472.09&quot; width=&quot;190.38&quot; height=&quot;459.92&quot; style=&quot;fill:none;stroke:#1A476F;stroke-width:4.90&quot;/&gt;\n",
       "\t&lt;rect x=&quot;1230.08&quot; y=&quot;808.73&quot; width=&quot;195.40&quot; height=&quot;125.73&quot; style=&quot;fill:#90353B&quot;/&gt;\n",
       "\t&lt;rect x=&quot;1232.52&quot; y=&quot;811.18&quot; width=&quot;190.51&quot; height=&quot;120.84&quot; style=&quot;fill:none;stroke:#90353B;stroke-width:4.90&quot;/&gt;\n",
       "\t&lt;rect x=&quot;1556.40&quot; y=&quot;353.94&quot; width=&quot;195.40&quot; height=&quot;580.53&quot; style=&quot;fill:#1A476F&quot;/&gt;\n",
       "\t&lt;rect x=&quot;1558.85&quot; y=&quot;356.38&quot; width=&quot;190.51&quot; height=&quot;575.63&quot; style=&quot;fill:none;stroke:#1A476F;stroke-width:4.90&quot;/&gt;\n",
       "\t&lt;rect x=&quot;1751.81&quot; y=&quot;924.44&quot; width=&quot;195.28&quot; height=&quot;10.02&quot; style=&quot;fill:#90353B&quot;/&gt;\n",
       "\t&lt;rect x=&quot;1754.25&quot; y=&quot;926.89&quot; width=&quot;190.38&quot; height=&quot;5.13&quot; style=&quot;fill:none;stroke:#90353B;stroke-width:4.90&quot;/&gt;\n",
       "\t&lt;text x=&quot;610.83&quot; y=&quot;884.15&quot; style=&quot;font-family:&#x27;Helvetica&#x27;;font-size:67.94px;fill:#FFFFff&quot; text-anchor=&quot;middle&quot;&gt;97.8&lt;/text&gt;\n",
       "\t&lt;text x=&quot;806.11&quot; y=&quot;884.15&quot; style=&quot;font-family:&#x27;Helvetica&#x27;;font-size:67.94px;fill:#FFFFff&quot; text-anchor=&quot;middle&quot;&gt;2.2&lt;/text&gt;\n",
       "\t&lt;text x=&quot;1132.44&quot; y=&quot;884.15&quot; style=&quot;font-family:&#x27;Helvetica&#x27;;font-size:67.94px;fill:#FFFFff&quot; text-anchor=&quot;middle&quot;&gt;78.7&lt;/text&gt;\n",
       "\t&lt;text x=&quot;1327.84&quot; y=&quot;884.15&quot; style=&quot;font-family:&#x27;Helvetica&#x27;;font-size:67.94px;fill:#FFFFff&quot; text-anchor=&quot;middle&quot;&gt;21.3&lt;/text&gt;\n",
       "\t&lt;text x=&quot;1654.04&quot; y=&quot;884.15&quot; style=&quot;font-family:&#x27;Helvetica&#x27;;font-size:67.94px;fill:#FFFFff&quot; text-anchor=&quot;middle&quot;&gt;98.3&lt;/text&gt;\n",
       "\t&lt;text x=&quot;1849.44&quot; y=&quot;884.15&quot; style=&quot;font-family:&#x27;Helvetica&#x27;;font-size:67.94px;fill:#FFFFff&quot; text-anchor=&quot;middle&quot;&gt;1.7&lt;/text&gt;\n",
       "\t&lt;rect x=&quot;2265.74&quot; y=&quot;784.72&quot; width=&quot;195.40&quot; height=&quot;149.74&quot; style=&quot;fill:#1A476F&quot;/&gt;\n",
       "\t&lt;rect x=&quot;2268.19&quot; y=&quot;787.17&quot; width=&quot;190.51&quot; height=&quot;144.85&quot; style=&quot;fill:none;stroke:#1A476F;stroke-width:4.90&quot;/&gt;\n",
       "\t&lt;rect x=&quot;2461.14&quot; y=&quot;493.65&quot; width=&quot;195.40&quot; height=&quot;440.81&quot; style=&quot;fill:#90353B&quot;/&gt;\n",
       "\t&lt;rect x=&quot;2463.59&quot; y=&quot;496.10&quot; width=&quot;190.51&quot; height=&quot;435.92&quot; style=&quot;fill:none;stroke:#90353B;stroke-width:4.90&quot;/&gt;\n",
       "\t&lt;rect x=&quot;2787.34&quot; y=&quot;692.40&quot; width=&quot;195.40&quot; height=&quot;242.06&quot; style=&quot;fill:#1A476F&quot;/&gt;\n",
       "\t&lt;rect x=&quot;2789.79&quot; y=&quot;694.85&quot; width=&quot;190.51&quot; height=&quot;237.17&quot; style=&quot;fill:none;stroke:#1A476F;stroke-width:4.90&quot;/&gt;\n",
       "\t&lt;rect x=&quot;2982.75&quot; y=&quot;585.85&quot; width=&quot;195.40&quot; height=&quot;348.61&quot; style=&quot;fill:#90353B&quot;/&gt;\n",
       "\t&lt;rect x=&quot;2985.19&quot; y=&quot;588.30&quot; width=&quot;190.51&quot; height=&quot;343.72&quot; style=&quot;fill:none;stroke:#90353B;stroke-width:4.90&quot;/&gt;\n",
       "\t&lt;rect x=&quot;3309.07&quot; y=&quot;391.80&quot; width=&quot;195.28&quot; height=&quot;542.66&quot; style=&quot;fill:#1A476F&quot;/&gt;\n",
       "\t&lt;rect x=&quot;3311.52&quot; y=&quot;394.25&quot; width=&quot;190.38&quot; height=&quot;537.76&quot; style=&quot;fill:none;stroke:#1A476F;stroke-width:4.90&quot;/&gt;\n",
       "\t&lt;rect x=&quot;3504.35&quot; y=&quot;886.57&quot; width=&quot;195.40&quot; height=&quot;47.89&quot; style=&quot;fill:#90353B&quot;/&gt;\n",
       "\t&lt;rect x=&quot;3506.80&quot; y=&quot;889.02&quot; width=&quot;190.51&quot; height=&quot;43.00&quot; style=&quot;fill:none;stroke:#90353B;stroke-width:4.90&quot;/&gt;\n",
       "\t&lt;text x=&quot;2363.38&quot; y=&quot;884.15&quot; style=&quot;font-family:&#x27;Helvetica&#x27;;font-size:67.94px;fill:#FFFFff&quot; text-anchor=&quot;middle&quot;&gt;25.4&lt;/text&gt;\n",
       "\t&lt;text x=&quot;2558.78&quot; y=&quot;884.15&quot; style=&quot;font-family:&#x27;Helvetica&#x27;;font-size:67.94px;fill:#FFFFff&quot; text-anchor=&quot;middle&quot;&gt;74.6&lt;/text&gt;\n",
       "\t&lt;text x=&quot;2885.11&quot; y=&quot;884.15&quot; style=&quot;font-family:&#x27;Helvetica&#x27;;font-size:67.94px;fill:#FFFFff&quot; text-anchor=&quot;middle&quot;&gt;41.0&lt;/text&gt;\n",
       "\t&lt;text x=&quot;3080.39&quot; y=&quot;884.15&quot; style=&quot;font-family:&#x27;Helvetica&#x27;;font-size:67.94px;fill:#FFFFff&quot; text-anchor=&quot;middle&quot;&gt;59.0&lt;/text&gt;\n",
       "\t&lt;text x=&quot;3406.71&quot; y=&quot;884.15&quot; style=&quot;font-family:&#x27;Helvetica&#x27;;font-size:67.94px;fill:#FFFFff&quot; text-anchor=&quot;middle&quot;&gt;91.9&lt;/text&gt;\n",
       "\t&lt;text x=&quot;3602.11&quot; y=&quot;884.15&quot; style=&quot;font-family:&#x27;Helvetica&#x27;;font-size:67.94px;fill:#FFFFff&quot; text-anchor=&quot;middle&quot;&gt;8.1&lt;/text&gt;\n",
       "\t&lt;rect x=&quot;513.07&quot; y=&quot;1363.89&quot; width=&quot;195.40&quot; height=&quot;574.71&quot; style=&quot;fill:#1A476F&quot;/&gt;\n",
       "\t&lt;rect x=&quot;515.52&quot; y=&quot;1366.34&quot; width=&quot;190.51&quot; height=&quot;569.82&quot; style=&quot;fill:none;stroke:#1A476F;stroke-width:4.90&quot;/&gt;\n",
       "\t&lt;rect x=&quot;708.47&quot; y=&quot;1922.76&quot; width=&quot;195.40&quot; height=&quot;15.84&quot; style=&quot;fill:#90353B&quot;/&gt;\n",
       "\t&lt;rect x=&quot;710.92&quot; y=&quot;1925.21&quot; width=&quot;190.51&quot; height=&quot;10.94&quot; style=&quot;fill:none;stroke:#90353B;stroke-width:4.90&quot;/&gt;\n",
       "\t&lt;rect x=&quot;1034.80&quot; y=&quot;1361.05&quot; width=&quot;195.28&quot; height=&quot;577.56&quot; style=&quot;fill:#1A476F&quot;/&gt;\n",
       "\t&lt;rect x=&quot;1037.25&quot; y=&quot;1363.49&quot; width=&quot;190.38&quot; height=&quot;572.66&quot; style=&quot;fill:none;stroke:#1A476F;stroke-width:4.90&quot;/&gt;\n",
       "\t&lt;rect x=&quot;1230.08&quot; y=&quot;1925.61&quot; width=&quot;195.40&quot; height=&quot;12.99&quot; style=&quot;fill:#90353B&quot;/&gt;\n",
       "\t&lt;rect x=&quot;1232.52&quot; y=&quot;1928.06&quot; width=&quot;190.51&quot; height=&quot;8.10&quot; style=&quot;fill:none;stroke:#90353B;stroke-width:4.90&quot;/&gt;\n",
       "\t&lt;rect x=&quot;1556.40&quot; y=&quot;1350.77&quot; width=&quot;195.40&quot; height=&quot;587.83&quot; style=&quot;fill:#1A476F&quot;/&gt;\n",
       "\t&lt;rect x=&quot;1558.85&quot; y=&quot;1353.22&quot; width=&quot;190.51&quot; height=&quot;582.94&quot; style=&quot;fill:none;stroke:#1A476F;stroke-width:4.90&quot;/&gt;\n",
       "\t&lt;rect x=&quot;1751.81&quot; y=&quot;1936.01&quot; width=&quot;195.28&quot; height=&quot;2.60&quot; style=&quot;fill:#90353B&quot;/&gt;\n",
       "\t&lt;rect x=&quot;1754.25&quot; y=&quot;1938.45&quot; width=&quot;190.38&quot; height=&quot;-2.30&quot; style=&quot;fill:none;stroke:#90353B;stroke-width:4.90&quot;/&gt;\n",
       "\t&lt;text x=&quot;610.83&quot; y=&quot;1888.41&quot; style=&quot;font-family:&#x27;Helvetica&#x27;;font-size:67.94px;fill:#FFFFff&quot; text-anchor=&quot;middle&quot;&gt;97.3&lt;/text&gt;\n",
       "\t&lt;text x=&quot;806.11&quot; y=&quot;1888.41&quot; style=&quot;font-family:&#x27;Helvetica&#x27;;font-size:67.94px;fill:#FFFFff&quot; text-anchor=&quot;middle&quot;&gt;2.7&lt;/text&gt;\n",
       "\t&lt;text x=&quot;1132.44&quot; y=&quot;1888.41&quot; style=&quot;font-family:&#x27;Helvetica&#x27;;font-size:67.94px;fill:#FFFFff&quot; text-anchor=&quot;middle&quot;&gt;97.8&lt;/text&gt;\n",
       "\t&lt;text x=&quot;1327.84&quot; y=&quot;1888.41&quot; style=&quot;font-family:&#x27;Helvetica&#x27;;font-size:67.94px;fill:#FFFFff&quot; text-anchor=&quot;middle&quot;&gt;2.2&lt;/text&gt;\n",
       "\t&lt;text x=&quot;1654.04&quot; y=&quot;1888.41&quot; style=&quot;font-family:&#x27;Helvetica&#x27;;font-size:67.94px;fill:#FFFFff&quot; text-anchor=&quot;middle&quot;&gt;99.6&lt;/text&gt;\n",
       "\t&lt;text x=&quot;1849.44&quot; y=&quot;1888.41&quot; style=&quot;font-family:&#x27;Helvetica&#x27;;font-size:67.94px;fill:#FFFFff&quot; text-anchor=&quot;middle&quot;&gt;0.4&lt;/text&gt;\n",
       "\t&lt;line x1=&quot;388.33&quot; y1=&quot;934.47&quot; x2=&quot;388.33&quot; y2=&quot;258.27&quot; style=&quot;stroke:#000000;stroke-width:4.90&quot;/&gt;\n",
       "\t&lt;line x1=&quot;388.33&quot; y1=&quot;934.47&quot; x2=&quot;354.30&quot; y2=&quot;934.47&quot; style=&quot;stroke:#000000;stroke-width:4.90&quot;/&gt;\n",
       "\t&lt;text x=&quot;311.78&quot; y=&quot;934.47&quot; style=&quot;font-family:&#x27;Helvetica&#x27;;font-size:85.02px;fill:#000000&quot; transform=&quot;rotate(-90 311.78,934.47)&quot; text-anchor=&quot;middle&quot;&gt;0&lt;/text&gt;\n",
       "\t&lt;line x1=&quot;388.33&quot; y1=&quot;816.28&quot; x2=&quot;354.30&quot; y2=&quot;816.28&quot; style=&quot;stroke:#000000;stroke-width:4.90&quot;/&gt;\n",
       "\t&lt;text x=&quot;311.78&quot; y=&quot;816.28&quot; style=&quot;font-family:&#x27;Helvetica&#x27;;font-size:85.02px;fill:#000000&quot; transform=&quot;rotate(-90 311.78,816.28)&quot; text-anchor=&quot;middle&quot;&gt;20&lt;/text&gt;\n",
       "\t&lt;line x1=&quot;388.33&quot; y1=&quot;698.22&quot; x2=&quot;354.30&quot; y2=&quot;698.22&quot; style=&quot;stroke:#000000;stroke-width:4.90&quot;/&gt;\n",
       "\t&lt;text x=&quot;311.78&quot; y=&quot;698.22&quot; style=&quot;font-family:&#x27;Helvetica&#x27;;font-size:85.02px;fill:#000000&quot; transform=&quot;rotate(-90 311.78,698.22)&quot; text-anchor=&quot;middle&quot;&gt;40&lt;/text&gt;\n",
       "\t&lt;line x1=&quot;388.33&quot; y1=&quot;580.16&quot; x2=&quot;354.30&quot; y2=&quot;580.16&quot; style=&quot;stroke:#000000;stroke-width:4.90&quot;/&gt;\n",
       "\t&lt;text x=&quot;311.78&quot; y=&quot;580.16&quot; style=&quot;font-family:&#x27;Helvetica&#x27;;font-size:85.02px;fill:#000000&quot; transform=&quot;rotate(-90 311.78,580.16)&quot; text-anchor=&quot;middle&quot;&gt;60&lt;/text&gt;\n",
       "\t&lt;line x1=&quot;388.33&quot; y1=&quot;461.97&quot; x2=&quot;354.30&quot; y2=&quot;461.97&quot; style=&quot;stroke:#000000;stroke-width:4.90&quot;/&gt;\n",
       "\t&lt;text x=&quot;311.78&quot; y=&quot;461.97&quot; style=&quot;font-family:&#x27;Helvetica&#x27;;font-size:85.02px;fill:#000000&quot; transform=&quot;rotate(-90 311.78,461.97)&quot; text-anchor=&quot;middle&quot;&gt;80&lt;/text&gt;\n",
       "\t&lt;line x1=&quot;388.33&quot; y1=&quot;343.91&quot; x2=&quot;354.30&quot; y2=&quot;343.91&quot; style=&quot;stroke:#000000;stroke-width:4.90&quot;/&gt;\n",
       "\t&lt;text x=&quot;311.78&quot; y=&quot;343.91&quot; style=&quot;font-family:&#x27;Helvetica&#x27;;font-size:85.02px;fill:#000000&quot; transform=&quot;rotate(-90 311.78,343.91)&quot; text-anchor=&quot;middle&quot;&gt;100&lt;/text&gt;\n",
       "\t&lt;line x1=&quot;388.33&quot; y1=&quot;1938.60&quot; x2=&quot;388.33&quot; y2=&quot;1262.41&quot; style=&quot;stroke:#000000;stroke-width:4.90&quot;/&gt;\n",
       "\t&lt;line x1=&quot;388.33&quot; y1=&quot;1938.60&quot; x2=&quot;354.30&quot; y2=&quot;1938.60&quot; style=&quot;stroke:#000000;stroke-width:4.90&quot;/&gt;\n",
       "\t&lt;text x=&quot;311.78&quot; y=&quot;1938.60&quot; style=&quot;font-family:&#x27;Helvetica&#x27;;font-size:85.02px;fill:#000000&quot; transform=&quot;rotate(-90 311.78,1938.60)&quot; text-anchor=&quot;middle&quot;&gt;0&lt;/text&gt;\n",
       "\t&lt;line x1=&quot;388.33&quot; y1=&quot;1820.54&quot; x2=&quot;354.30&quot; y2=&quot;1820.54&quot; style=&quot;stroke:#000000;stroke-width:4.90&quot;/&gt;\n",
       "\t&lt;text x=&quot;311.78&quot; y=&quot;1820.54&quot; style=&quot;font-family:&#x27;Helvetica&#x27;;font-size:85.02px;fill:#000000&quot; transform=&quot;rotate(-90 311.78,1820.54)&quot; text-anchor=&quot;middle&quot;&gt;20&lt;/text&gt;\n",
       "\t&lt;line x1=&quot;388.33&quot; y1=&quot;1702.36&quot; x2=&quot;354.30&quot; y2=&quot;1702.36&quot; style=&quot;stroke:#000000;stroke-width:4.90&quot;/&gt;\n",
       "\t&lt;text x=&quot;311.78&quot; y=&quot;1702.36&quot; style=&quot;font-family:&#x27;Helvetica&#x27;;font-size:85.02px;fill:#000000&quot; transform=&quot;rotate(-90 311.78,1702.36)&quot; text-anchor=&quot;middle&quot;&gt;40&lt;/text&gt;\n",
       "\t&lt;line x1=&quot;388.33&quot; y1=&quot;1584.30&quot; x2=&quot;354.30&quot; y2=&quot;1584.30&quot; style=&quot;stroke:#000000;stroke-width:4.90&quot;/&gt;\n",
       "\t&lt;text x=&quot;311.78&quot; y=&quot;1584.30&quot; style=&quot;font-family:&#x27;Helvetica&#x27;;font-size:85.02px;fill:#000000&quot; transform=&quot;rotate(-90 311.78,1584.30)&quot; text-anchor=&quot;middle&quot;&gt;60&lt;/text&gt;\n",
       "\t&lt;line x1=&quot;388.33&quot; y1=&quot;1466.24&quot; x2=&quot;354.30&quot; y2=&quot;1466.24&quot; style=&quot;stroke:#000000;stroke-width:4.90&quot;/&gt;\n",
       "\t&lt;text x=&quot;311.78&quot; y=&quot;1466.24&quot; style=&quot;font-family:&#x27;Helvetica&#x27;;font-size:85.02px;fill:#000000&quot; transform=&quot;rotate(-90 311.78,1466.24)&quot; text-anchor=&quot;middle&quot;&gt;80&lt;/text&gt;\n",
       "\t&lt;line x1=&quot;388.33&quot; y1=&quot;1348.05&quot; x2=&quot;354.30&quot; y2=&quot;1348.05&quot; style=&quot;stroke:#000000;stroke-width:4.90&quot;/&gt;\n",
       "\t&lt;text x=&quot;311.78&quot; y=&quot;1348.05&quot; style=&quot;font-family:&#x27;Helvetica&#x27;;font-size:85.02px;fill:#000000&quot; transform=&quot;rotate(-90 311.78,1348.05)&quot; text-anchor=&quot;middle&quot;&gt;100&lt;/text&gt;\n",
       "\t&lt;line x1=&quot;388.33&quot; y1=&quot;934.47&quot; x2=&quot;2071.82&quot; y2=&quot;934.47&quot; style=&quot;stroke:#000000;stroke-width:4.90&quot;/&gt;\n",
       "\t&lt;text x=&quot;708.47&quot; y=&quot;1027.83&quot; style=&quot;font-family:&#x27;Helvetica&#x27;;font-size:85.02px;fill:#000000&quot; text-anchor=&quot;middle&quot;&gt;public&lt;/text&gt;\n",
       "\t&lt;text x=&quot;1230.08&quot; y=&quot;1027.83&quot; style=&quot;font-family:&#x27;Helvetica&#x27;;font-size:85.02px;fill:#000000&quot; text-anchor=&quot;middle&quot;&gt;non-profit&lt;/text&gt;\n",
       "\t&lt;text x=&quot;1751.81&quot; y=&quot;1027.83&quot; style=&quot;font-family:&#x27;Helvetica&#x27;;font-size:85.02px;fill:#000000&quot; text-anchor=&quot;middle&quot;&gt;for-profit&lt;/text&gt;\n",
       "\t&lt;line x1=&quot;2141.00&quot; y1=&quot;934.47&quot; x2=&quot;3824.49&quot; y2=&quot;934.47&quot; style=&quot;stroke:#000000;stroke-width:4.90&quot;/&gt;\n",
       "\t&lt;text x=&quot;2461.14&quot; y=&quot;1027.83&quot; style=&quot;font-family:&#x27;Helvetica&#x27;;font-size:85.02px;fill:#000000&quot; text-anchor=&quot;middle&quot;&gt;public&lt;/text&gt;\n",
       "\t&lt;text x=&quot;2982.75&quot; y=&quot;1027.83&quot; style=&quot;font-family:&#x27;Helvetica&#x27;;font-size:85.02px;fill:#000000&quot; text-anchor=&quot;middle&quot;&gt;non-profit&lt;/text&gt;\n",
       "\t&lt;text x=&quot;3504.35&quot; y=&quot;1027.83&quot; style=&quot;font-family:&#x27;Helvetica&#x27;;font-size:85.02px;fill:#000000&quot; text-anchor=&quot;middle&quot;&gt;for-profit&lt;/text&gt;\n",
       "\t&lt;line x1=&quot;388.33&quot; y1=&quot;1938.60&quot; x2=&quot;2071.82&quot; y2=&quot;1938.60&quot; style=&quot;stroke:#000000;stroke-width:4.90&quot;/&gt;\n",
       "\t&lt;text x=&quot;708.47&quot; y=&quot;2032.09&quot; style=&quot;font-family:&#x27;Helvetica&#x27;;font-size:85.02px;fill:#000000&quot; text-anchor=&quot;middle&quot;&gt;public&lt;/text&gt;\n",
       "\t&lt;text x=&quot;1230.08&quot; y=&quot;2032.09&quot; style=&quot;font-family:&#x27;Helvetica&#x27;;font-size:85.02px;fill:#000000&quot; text-anchor=&quot;middle&quot;&gt;non-profit&lt;/text&gt;\n",
       "\t&lt;text x=&quot;1751.81&quot; y=&quot;2032.09&quot; style=&quot;font-family:&#x27;Helvetica&#x27;;font-size:85.02px;fill:#000000&quot; text-anchor=&quot;middle&quot;&gt;for-profit&lt;/text&gt;\n",
       "\t&lt;rect x=&quot;388.33&quot; y=&quot;135.39&quot; width=&quot;1683.50&quot; height=&quot;122.89&quot; style=&quot;fill:#D9E6EB&quot;/&gt;\n",
       "\t&lt;rect x=&quot;390.78&quot; y=&quot;137.83&quot; width=&quot;1678.60&quot; height=&quot;117.99&quot; style=&quot;fill:none;stroke:#D9E6EB;stroke-width:4.90&quot;/&gt;\n",
       "\t&lt;text x=&quot;1230.08&quot; y=&quot;215.42&quot; style=&quot;font-family:&#x27;Helvetica&#x27;;font-size:93.56px;fill:#000000&quot; text-anchor=&quot;middle&quot;&gt;At least 2 but less than 4 years&lt;/text&gt;\n",
       "\t&lt;rect x=&quot;2141.00&quot; y=&quot;135.39&quot; width=&quot;1683.49&quot; height=&quot;122.89&quot; style=&quot;fill:#D9E6EB&quot;/&gt;\n",
       "\t&lt;rect x=&quot;2143.45&quot; y=&quot;137.83&quot; width=&quot;1678.60&quot; height=&quot;117.99&quot; style=&quot;fill:none;stroke:#D9E6EB;stroke-width:4.90&quot;/&gt;\n",
       "\t&lt;text x=&quot;2982.75&quot; y=&quot;215.42&quot; style=&quot;font-family:&#x27;Helvetica&#x27;;font-size:93.56px;fill:#000000&quot; text-anchor=&quot;middle&quot;&gt;Four or more years&lt;/text&gt;\n",
       "\t&lt;rect x=&quot;388.33&quot; y=&quot;1139.53&quot; width=&quot;1683.50&quot; height=&quot;122.89&quot; style=&quot;fill:#D9E6EB&quot;/&gt;\n",
       "\t&lt;rect x=&quot;390.78&quot; y=&quot;1141.97&quot; width=&quot;1678.60&quot; height=&quot;117.99&quot; style=&quot;fill:none;stroke:#D9E6EB;stroke-width:4.90&quot;/&gt;\n",
       "\t&lt;text x=&quot;1230.08&quot; y=&quot;1219.56&quot; style=&quot;font-family:&#x27;Helvetica&#x27;;font-size:93.56px;fill:#000000&quot; text-anchor=&quot;middle&quot;&gt;Less than 2 years (below associate)&lt;/text&gt;\n",
       "\t&lt;rect x=&quot;1485.00&quot; y=&quot;2143.66&quot; width=&quot;1089.87&quot; height=&quot;486.48&quot; style=&quot;fill:#FFFFFF&quot;/&gt;\n",
       "\t&lt;rect x=&quot;1487.88&quot; y=&quot;2146.54&quot; width=&quot;1084.11&quot; height=&quot;480.72&quot; style=&quot;fill:none;stroke:#000000;stroke-width:5.76&quot;/&gt;\n",
       "\t&lt;text x=&quot;1962.55&quot; y=&quot;2431.89&quot; style=&quot;font-family:&#x27;Helvetica&#x27;;font-size:99.99px;fill:#000000&quot;&gt;selective&lt;/text&gt;\n",
       "\t&lt;text x=&quot;1962.55&quot; y=&quot;2571.98&quot; style=&quot;font-family:&#x27;Helvetica&#x27;;font-size:99.99px;fill:#000000&quot;&gt;nonselective&lt;/text&gt;\n",
       "\t&lt;rect x=&quot;1528.19&quot; y=&quot;2346.87&quot; width=&quot;374.34&quot; height=&quot;99.99&quot; style=&quot;fill:#90353B&quot;/&gt;\n",
       "\t&lt;rect x=&quot;1531.07&quot; y=&quot;2349.75&quot; width=&quot;368.58&quot; height=&quot;94.23&quot; style=&quot;fill:none;stroke:#90353B;stroke-width:5.76&quot;/&gt;\n",
       "\t&lt;rect x=&quot;1528.19&quot; y=&quot;2486.96&quot; width=&quot;374.34&quot; height=&quot;99.99&quot; style=&quot;fill:#1A476F&quot;/&gt;\n",
       "\t&lt;rect x=&quot;1531.07&quot; y=&quot;2489.84&quot; width=&quot;368.58&quot; height=&quot;94.23&quot; style=&quot;fill:none;stroke:#1A476F;stroke-width:5.76&quot;/&gt;\n",
       "\t&lt;text x=&quot;170.79&quot; y=&quot;1105.00&quot; style=&quot;font-family:&#x27;Helvetica&#x27;;font-size:99.99px;fill:#000000&quot; transform=&quot;rotate(-90 170.79,1105.00)&quot; text-anchor=&quot;middle&quot;&gt;percent&lt;/text&gt;\n",
       "\t&lt;text x=&quot;218.05&quot; y=&quot;2737.89&quot; style=&quot;font-family:&#x27;Helvetica&#x27;;font-size:79.94px;fill:#000000&quot;&gt;Graphs by iclevel&lt;/text&gt;\n",
       "&lt;/svg&gt;\n",
       "</body></html>\"></iframe>\n"
      ],
      "text/plain": [
       "This front-end cannot display the desired image type."
      ]
     },
     "metadata": {
      "image/svg+xml": {
       "height": 436,
       "width": 600
      },
      "text/html": {
       "height": 436,
       "width": 600
      }
     },
     "output_type": "display_data"
    },
    {
     "name": "stdout",
     "output_type": "stream",
     "text": [
      "\n",
      "\n",
      "\n",
      "\n",
      "\n"
     ]
    }
   ],
   "source": [
    "bysort iclevel: tab selective control, column nofreq\n",
    "xi i.selective, noomit\n",
    "graph bar _Iselective_0 _Iselective_1 ///\n",
    ", label percentages legend(position(3) cols(1) order(6 5 4 3 2 1)) blabel(bar, format(%9.1f) position(base) color(white)) ///\n",
    "yvaroptions(relabel(1 \"nonselective\" 2 \"selective\")) over(control) by(iclevel)"
   ]
  },
  {
   "cell_type": "code",
   "execution_count": null,
   "metadata": {},
   "outputs": [],
   "source": []
  }
 ],
 "metadata": {
  "kernelspec": {
   "display_name": "Stata",
   "language": "stata",
   "name": "stata"
  },
  "language_info": {
   "codemirror_mode": "stata",
   "file_extension": ".do",
   "mimetype": "text/x-stata",
   "name": "stata",
   "version": "15.1"
  }
 },
 "nbformat": 4,
 "nbformat_minor": 4
}
