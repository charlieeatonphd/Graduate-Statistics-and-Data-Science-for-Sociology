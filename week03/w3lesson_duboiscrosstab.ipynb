{
 "cells": [
  {
   "cell_type": "markdown",
   "metadata": {
    "nbgrader": {
     "grade": false,
     "grade_id": "cell-b22b7a7ab2c2897a",
     "locked": true,
     "schema_version": 3,
     "solution": false,
     "task": false
    }
   },
   "source": [
    "# 1. Du Bois, cross tabulations, and data exploration"
   ]
  },
  {
   "cell_type": "markdown",
   "metadata": {
    "nbgrader": {
     "grade": false,
     "grade_id": "cell-45d9dcb89e9e0cb0",
     "locked": true,
     "schema_version": 3,
     "solution": false,
     "task": false
    }
   },
   "source": [
    "\"Many of the examples in the first 3 chapters are quite old, drawn from studies conducted as far back as the 1960s. This is because at that time tabular analysis was the 'state of the art'.\" Treiman, pp. 1"
   ]
  },
  {
   "cell_type": "markdown",
   "metadata": {
    "nbgrader": {
     "grade": false,
     "grade_id": "cell-591ec66377b9bf82",
     "locked": true,
     "schema_version": 3,
     "solution": false,
     "task": false
    }
   },
   "source": [
    "## All knowledge requires comparison"
   ]
  },
  {
   "cell_type": "markdown",
   "metadata": {
    "nbgrader": {
     "grade": false,
     "grade_id": "cell-1712e25a3c30c3be",
     "locked": true,
     "schema_version": 3,
     "solution": false,
     "task": false
    }
   },
   "source": [
    "In statistics, what are the 3 fundamental levels measurement for comparison?"
   ]
  },
  {
   "cell_type": "markdown",
   "metadata": {
    "nbgrader": {
     "grade": false,
     "grade_id": "cell-c9da98bb25c52f54",
     "locked": true,
     "points": 1,
     "schema_version": 3,
     "solution": false,
     "task": true
    }
   },
   "source": [
    "Your answers here:\n",
    "1. nominal - categories like regious affiliations\n",
    "2. ordinal - most health, health, unhealthy, very unhealy (scale) rank ordered\n",
    "3. interval - ratio - counts, amounts, rates that are continues "
   ]
  },
  {
   "cell_type": "markdown",
   "metadata": {
    "nbgrader": {
     "grade": false,
     "grade_id": "cell-648840ca09734074",
     "locked": true,
     "schema_version": 3,
     "solution": false,
     "task": false
    }
   },
   "source": [
    "## One descriptive form of comparison is to present univariate distributions"
   ]
  },
  {
   "cell_type": "markdown",
   "metadata": {
    "nbgrader": {
     "grade": false,
     "grade_id": "cell-648840ca09734074",
     "locked": true,
     "schema_version": 3,
     "solution": false,
     "task": false
    }
   },
   "source": [
    "### Example 1: What level of measurement is used for the following Du Bois comparison?\n",
    "Add your answer here: "
   ]
  },
  {
   "cell_type": "markdown",
   "metadata": {
    "nbgrader": {
     "grade": false,
     "grade_id": "cell-08b016c150650fdb",
     "locked": true,
     "schema_version": 3,
     "solution": false,
     "task": false
    }
   },
   "source": [
    "<img src=\"https://miro.medium.com/max/2652/1*ci_qRah4EQqsW31hDqSCLw.png\" width=\"400\" align=\"left\">"
   ]
  },
  {
   "cell_type": "markdown",
   "metadata": {},
   "source": [
    "### Example 2: Fewer illustrations of univariate distributions of interval ratio data\n",
    "What are examples statistics and plots we use for univariate distributions of interval ratio variabls?\n",
    "1. Histogram - continuous frequency distribution\n",
    "2. Box plot - plot statistics such as interquartile range, median, percentiles in a distribution\n",
    "3. Mean, standard deviation, mode"
   ]
  },
  {
   "cell_type": "markdown",
   "metadata": {},
   "source": [
    "## Download Charlie's data on for-profit colleges to your directory using the code below"
   ]
  },
  {
   "cell_type": "code",
   "execution_count": 1,
   "metadata": {},
   "outputs": [
    {
     "data": {
      "text/html": [
       "<style>div.jp-Notebook .datagrid-container {min-height: 448px; }</style>"
      ],
      "text/plain": [
       "<IPython.core.display.HTML object>"
      ]
     },
     "metadata": {},
     "output_type": "display_data"
    }
   ],
   "source": [
    "copy \"https://raw.githubusercontent.com/HigherEdData/Private-Equity-and-For-Profit-Colleges-as-Agile-Predators/master/agilepredatorsdata20191116.csv\" ///\n",
    "agilepredatorsdata20191116.csv, replace"
   ]
  },
  {
   "cell_type": "markdown",
   "metadata": {},
   "source": [
    "## Now read Charlie's data into Stata"
   ]
  },
  {
   "cell_type": "code",
   "execution_count": 2,
   "metadata": {},
   "outputs": [
    {
     "name": "stdout",
     "output_type": "stream",
     "text": [
      "(52 vars, 205,262 obs)\n",
      "(197,685 observations deleted)\n"
     ]
    }
   ],
   "source": [
    "insheet using \"agilepredatorsdata20191116.csv\", comma clear\n",
    "keep if year==2014"
   ]
  },
  {
   "cell_type": "markdown",
   "metadata": {},
   "source": [
    "### Check out the names of all the variables"
   ]
  },
  {
   "cell_type": "code",
   "execution_count": 3,
   "metadata": {},
   "outputs": [
    {
     "name": "stdout",
     "output_type": "stream",
     "text": [
      "all_under                 idx_gr                    pe_ind\n",
      "all_under_w               idx_sfa                   peacqu\n",
      "chain                     inst_name_new             peswitcherall\n",
      "dist_black_share_w        investevent               peswitchsystemall\n",
      "dist_fed_grant_pct_w      ipo                       po_ind\n",
      "dist_hisp_share_w         loan_amount_borrower_c_w  poacqu\n",
      "dist_pell_s               not_pe_po                 poswitcherall\n",
      "dist_white_share_w        online                    poswitchsystemall\n",
      "fed_grant_pct_w           owner_pe                  selective\n",
      "grad_rate_150_p2yr_w      pct2yrchrtgrbkaat_w       state_n\n",
      "grad_rate_150_p4yr_w      pct2yrchrtgrhispt_w       systemid\n",
      "grad_rate_150_p_w         pct2yrchrtgrwhitt_w       systemnm\n",
      "grtotltallgradchrt        pct4yrchrtgrbkaat_w       total_enrollment\n",
      "grtotltchrt2yr            pct4yrchrtgrhispt_w       tuitionall_c_w\n",
      "grtotltchrt4yr            pct4yrchrtgrwhitt_w       unitid\n",
      "iclevel                   pctchrtgrbkaat_w          year\n",
      "idx_ef                    pctchrtgrhispt_w\n",
      "idx_f                     pctchrtgrwhitt_w\n"
     ]
    }
   ],
   "source": [
    "ds, varwidth(29) alpha"
   ]
  },
  {
   "cell_type": "markdown",
   "metadata": {},
   "source": [
    "## Check out the summary stats for college-level tuition rates, add a label\n",
    "\n",
    "What level of measurement does this var use?"
   ]
  },
  {
   "cell_type": "code",
   "execution_count": 4,
   "metadata": {},
   "outputs": [
    {
     "name": "stdout",
     "output_type": "stream",
     "text": [
      "\n",
      "      +------------------------------------------------+\n",
      "      |                       inst_name_new   tuitio~w |\n",
      "      |------------------------------------------------|\n",
      "   1. |            ALABAMA A & M UNIVERSITY   5637.231 |\n",
      "   2. | UNIVERSITY OF ALABAMA AT BIRMINGHAM   7264.286 |\n",
      "   3. |       SOUTHERN CHRISTIAN UNIVERSITY   6955.811 |\n",
      "   4. | UNIVERSITY OF ALABAMA IN HUNTSVILLE    9266.35 |\n",
      "   5. |            ALABAMA STATE UNIVERSITY   6992.102 |\n",
      "      +------------------------------------------------+\n"
     ]
    }
   ],
   "source": [
    "list inst_name_new tuitionall_c_w if _n<6"
   ]
  },
  {
   "cell_type": "code",
   "execution_count": 5,
   "metadata": {},
   "outputs": [
    {
     "name": "stdout",
     "output_type": "stream",
     "text": [
      "\n",
      "    Variable |        Obs        Mean    Std. dev.       Min        Max\n",
      "-------------+---------------------------------------------------------\n",
      "tuitionall~w |      7,209    13730.04    9019.011    205.615   38608.27\n"
     ]
    }
   ],
   "source": [
    "sum tuitionall_c_w\n",
    "label var tuitionall_c_w \"college-level annual tuition rate\""
   ]
  },
  {
   "cell_type": "markdown",
   "metadata": {},
   "source": [
    "### Summarize again with more detail"
   ]
  },
  {
   "cell_type": "code",
   "execution_count": 6,
   "metadata": {},
   "outputs": [
    {
     "name": "stdout",
     "output_type": "stream",
     "text": [
      "\n",
      "              college-level annual tuition rate\n",
      "-------------------------------------------------------------\n",
      "      Percentiles      Smallest\n",
      " 1%     977.8459        205.615\n",
      " 5%     1984.926        205.615\n",
      "10%     2897.246        205.615       Obs               7,209\n",
      "25%     6616.085        205.615       Sum of wgt.       7,209\n",
      "\n",
      "50%     13089.02                      Mean           13730.04\n",
      "                        Largest       Std. dev.      9019.011\n",
      "75%     17637.52       38608.27\n",
      "90%      27107.5       38608.27       Variance       8.13e+07\n",
      "95%     33147.96       38608.27       Skewness        .898302\n",
      "99%     38608.27       38608.27       Kurtosis       3.584447\n"
     ]
    }
   ],
   "source": [
    "sum tuitionall_c_w, detail\n",
    "label var tuitionall_c_w \"college-level annual tuition rate\""
   ]
  },
  {
   "cell_type": "markdown",
   "metadata": {},
   "source": [
    ". \n",
    ". \n",
    "## These stats, including pctiles, are a wall of inpenetrable numbers. Lets try histograms"
   ]
  },
  {
   "cell_type": "code",
   "execution_count": 7,
   "metadata": {},
   "outputs": [
    {
     "name": "stdout",
     "output_type": "stream",
     "text": [
      "(bin=38, start=205.61501, width=1010.5962)\n"
     ]
    },
    {
     "data": {
      "image/png": "[encoded data removed]",
      "text/plain": [
       "<IPython.core.display.Image object>"
      ]
     },
     "metadata": {},
     "output_type": "display_data"
    }
   ],
   "source": [
    "histogram tuitionall_c_w"
   ]
  },
  {
   "cell_type": "markdown",
   "metadata": {},
   "source": [
    "## How about Boxplots?"
   ]
  },
  {
   "cell_type": "code",
   "execution_count": 8,
   "metadata": {},
   "outputs": [
    {
     "data": {
      "image/png": "[encoded data removed]",
      "text/plain": [
       "<IPython.core.display.Image object>"
      ]
     },
     "metadata": {},
     "output_type": "display_data"
    }
   ],
   "source": [
    "graph box tuitionall_c_w, nooutsides"
   ]
  },
  {
   "cell_type": "markdown",
   "metadata": {},
   "source": [
    "# Going back to Du Bois - he uses a bar graph for his nominal data on \"race amalgamation\", instead of a table\n",
    "\n",
    "## Let's compare the efficacy of a table vs a bar graph for the distribution of college \"ownership\" forms in just 2014\n",
    "\n",
    "# First the table:"
   ]
  },
  {
   "cell_type": "code",
   "execution_count": 12,
   "metadata": {},
   "outputs": [
    {
     "name": "stdout",
     "output_type": "stream",
     "text": [
      "\n",
      "-------------------------------------------------------------------------------\n",
      "owner_pe                                                         ownership form\n",
      "-------------------------------------------------------------------------------\n",
      "\n",
      "                  Type: String (str15)\n",
      "\n",
      "         Unique values: 6                         Missing \"\": 0/7,577\n",
      "\n",
      "            Tabulation: Freq.  Value\n",
      "                        1,302  \"Community\"\n",
      "                        1,920  \"Non-profit\"\n",
      "                          552  \"Private equity\"\n",
      "                        2,167  \"Privately held\"\n",
      "                          922  \"Publicly traded\"\n",
      "                          714  \"State\"\n",
      "\n",
      "               Warning: Variable has embedded blanks.\n",
      "\n",
      " ownership form |      Freq.     Percent        Cum.\n",
      "----------------+-----------------------------------\n",
      "      Community |      1,302       17.18       17.18\n",
      "     Non-profit |      1,920       25.34       42.52\n",
      " Private equity |        552        7.29       49.81\n",
      " Privately held |      2,167       28.60       78.41\n",
      "Publicly traded |        922       12.17       90.58\n",
      "          State |        714        9.42      100.00\n",
      "----------------+-----------------------------------\n",
      "          Total |      7,577      100.00\n"
     ]
    }
   ],
   "source": [
    "label var owner_pe \"ownership form\" // since var label was missing\n",
    "codebook owner_pe\n",
    "tab owner_pe"
   ]
  },
  {
   "cell_type": "markdown",
   "metadata": {},
   "source": [
    "# Now the bar graph"
   ]
  },
  {
   "cell_type": "code",
   "execution_count": 13,
   "metadata": {},
   "outputs": [
    {
     "data": {
      "image/png": "[encoded data removed]",
      "text/plain": [
       "<IPython.core.display.Image object>"
      ]
     },
     "metadata": {},
     "output_type": "display_data"
    }
   ],
   "source": [
    "gen campus=1\n",
    "graph hbar (count) campus, over(owner_pe)"
   ]
  },
  {
   "cell_type": "markdown",
   "metadata": {},
   "source": [
    "# Maybe a percentage table is more informative?"
   ]
  },
  {
   "cell_type": "code",
   "execution_count": 14,
   "metadata": {},
   "outputs": [
    {
     "data": {
      "image/png": "[encoded data removed]",
      "text/plain": [
       "<IPython.core.display.Image object>"
      ]
     },
     "metadata": {},
     "output_type": "display_data"
    }
   ],
   "source": [
    "xi i.owner_pe, noomit // create dummy vars for ownership\n",
    "graph hbar _Iowner_pe*, label percentages legend(off) blabel(bar) showyvars"
   ]
  },
  {
   "cell_type": "markdown",
   "metadata": {},
   "source": [
    "# Barf, the bar labels are confusing and sorting bars would help"
   ]
  },
  {
   "cell_type": "code",
   "execution_count": 15,
   "metadata": {},
   "outputs": [
    {
     "data": {
      "image/png": "[encoded data removed]",
      "text/plain": [
       "<IPython.core.display.Image object>"
      ]
     },
     "metadata": {},
     "output_type": "display_data"
    }
   ],
   "source": [
    "xi i.owner_pe, noomit // create dummy vars for ownership\n",
    "\n",
    "graph hbar _Iowner_pe_4 _Iowner_pe_2 _Iowner_pe_1 _Iowner_pe_5 _Iowner_pe_6 _Iowner_pe_3  ///\n",
    ", label percentages legend(off) blabel(bar, format(%9.1f)) showyvars ///\n",
    "yvaroptions(relabel(1 \"privately held\" 2 \"community\" 3 \"non-profit\" 4 \"publicly traded\" 5 \"private equity\" 6 \"state\"))"
   ]
  },
  {
   "cell_type": "markdown",
   "metadata": {},
   "source": [
    "# And lets check out a stacked option like Du Bois'"
   ]
  },
  {
   "cell_type": "code",
   "execution_count": 16,
   "metadata": {},
   "outputs": [
    {
     "data": {
      "image/png": "[encoded data removed]",
      "text/plain": [
       "<IPython.core.display.Image object>"
      ]
     },
     "metadata": {},
     "output_type": "display_data"
    }
   ],
   "source": [
    "graph bar _Iowner_pe_4 _Iowner_pe_2 _Iowner_pe_1 _Iowner_pe_5 _Iowner_pe_6 _Iowner_pe_3  ///\n",
    ", label percentages legend(position(3) cols(1) order(6 5 4 3 2 1)) blabel(bar, format(%9.1f) position(base) color(white)) ///\n",
    "yvaroptions(relabel(1 \"privately held\" 2 \"community\" 3 \"non-profit\" 4 \"publicly traded\" 5 \"private equity\" 6 \"state\")) stack"
   ]
  },
  {
   "cell_type": "code",
   "execution_count": 17,
   "metadata": {},
   "outputs": [
    {
     "name": "stdout",
     "output_type": "stream",
     "text": [
      "checking dubois consistency and verifying not already installed...\n",
      "all files already exist and are up to date.\n"
     ]
    }
   ],
   "source": [
    "ssc install dubois"
   ]
  },
  {
   "cell_type": "code",
   "execution_count": 19,
   "metadata": {},
   "outputs": [
    {
     "name": "stdout",
     "output_type": "stream",
     "text": [
      "\n",
      "{…}\n",
      "-------------------------------------------------------------------------------\n",
      "help for scheme_dubois                                            (Version 1.0)\n",
      "-------------------------------------------------------------------------------\n",
      "\n",
      "Title\n",
      "-----\n",
      "Du Bois graphic scheme\n",
      "\n",
      "Scheme description:  Du Bois graphic scheme\n",
      "-------------------------------------------\n",
      "\n",
      "    The dubois scheme automates some parts of graphing in Stata to use the\n",
      "    same style as the 1900 data portraits of Black America by W.E.B. Du Bois\n",
      "    and his collaborators (Battle-Baptiste & Russert 2018; Stark 2019). The\n",
      "    dubois scheme was using the 538 scheme file as a template (Bischof 2017).\n",
      "\n",
      "Syntax\n",
      "------\n",
      "\n",
      "    For instance, you might type\n",
      "\n",
      "        . graph ..., ...  scheme(dubois)\n",
      "\n",
      "        . set scheme dubois [, permanently ]\n",
      "\n",
      "    See help scheme_option and help set_scheme.\n",
      "\n",
      "Description\n",
      "-----------\n",
      "\n",
      "    Schemes determine the overall look of a graph; see help schemes.\n",
      "\n",
      "    The dubois scheme replicates key elements of the style of the Du Bois\n",
      "    data portraits of Black America. These style elements include:\n",
      "\n",
      "        * aspect ratio of 0.78 (portrait) or 1.27 (landscape) consistent with\n",
      "        the large format 22x28 inch portrait oriented posters of the Du Bois\n",
      "        1900 Paris exposition.\n",
      "\n",
      "        * The use of bold solid colors is a characteristic of the DuBois\n",
      "        style. Here are the colors in the Du Bois palette: black, brown, tan,\n",
      "        gold, pink, crimson, green, blue, often employing the Pan-African\n",
      "        combination of red (crimson), yellow (gold) , and black.\n",
      "\n",
      "        * The use of bold solid colors is a characteristic of the DuBois\n",
      "        style. Here are the colors in the Du Bois palette: black, brown, tan,\n",
      "        gold, pink, crimson, green, blue, often employing the Pan-African\n",
      "        combination of red (crimson), yellow (gold) , and black.\n",
      "\n",
      "        * linen color background \"250 240 230\"\n",
      "\n",
      "        * grey gridlines for two dimensional line and area plots.\n",
      "\n",
      "Remarks\n",
      "-------\n",
      "\n",
      "    Many elements of the Du Bois style cannot be automated with a Stata\n",
      "    scheme file. For example, graph fonts cannot be controlled via a Stata\n",
      "    scheme. One of the most important style elements that cannot be\n",
      "    controlled by a Stata scheme is font. Antho s and others have noted that\n",
      "    Public Sans closely resembles the original Du Bois font. Adding uncommon\n",
      "    fonts like this to the Mac OS Font Book can be challenging for novices.\n",
      "    Among the factory installed Mac fonts, Tahoma is closest to that used by\n",
      "    , especially when key elements like main titles are written with all\n",
      "    caps. You can set your graphing font to Tahoma in Stata with the\n",
      "    following commands:\n",
      "\n",
      "        * graph set svg fontface Tahoma\n",
      "\n",
      "        * graph set eps fontface Tahoma\n",
      "\n",
      "        * graph set ps fontface Tahoma\n",
      "\n",
      "    For examples of how to implement other elements of Du Bois style, you can\n",
      "    find use cases with data, Stata code, and graphic outputs here: \n",
      "    https://github.com/charlieeatonphd/dubois-data-portraits/tree/master/stat\n",
      "    > ascheme\n",
      "\n",
      "References\n",
      "----------\n",
      "\n",
      "    Battle-Baptiste, W. and Rusert, B. eds., 2018. WEB Du Bois's Data\n",
      "        Portraits: Visualizing Black America. Chronicle Books. \n",
      "        https://www.amazon.com/W-Boiss-Data-Portraits-Visualizing/dp/16168970\n",
      "        > 66\n",
      "\n",
      "    Bischof, D. 2017. New Graphic Schemes for Stata: plotplain & plottig.\n",
      "        Stata Journal: 17(3): 1-12. https://danbischof.com/publications/\n",
      "\n",
      "    Starks, A. J. 2019. \"What is Dubois-Style Visualization?\" \n",
      "        https://github.com/ajstarks/dubois-data-portraits/blob/master/dubois-\n",
      "        > style.md\n",
      "\n",
      "Author\n",
      "------\n",
      "\n",
      "    Charlie Eaton, Jay Colond, Ruben Gonzalez, and Waleed Rajabally -\n",
      "    Department of Sociology, University of California, Merced.\n",
      "\n",
      "Also see\n",
      "--------\n",
      "\n",
      "    Online:  help for schemes; scheme_option, set_scheme\n",
      "\n",
      "\n",
      "\n"
     ]
    }
   ],
   "source": [
    "help dubois"
   ]
  },
  {
   "cell_type": "code",
   "execution_count": 20,
   "metadata": {},
   "outputs": [
    {
     "data": {
      "image/png": "[encoded data removed]",
      "text/plain": [
       "<IPython.core.display.Image object>"
      ]
     },
     "metadata": {},
     "output_type": "display_data"
    }
   ],
   "source": [
    "graph bar _Iowner_pe_4 _Iowner_pe_2 _Iowner_pe_1 _Iowner_pe_5 _Iowner_pe_6 _Iowner_pe_3  ///\n",
    ", label percentages legend(position(3) cols(1) order(6 5 4 3 2 1)) blabel(bar, format(%9.1f) position(base) color(white)) ///\n",
    "yvaroptions(relabel(1 \"privately held\" 2 \"community\" 3 \"non-profit\" 4 \"publicly traded\" 5 \"private equity\" 6 \"state\")) stack ///\n",
    "schem(dubois)"
   ]
  },
  {
   "cell_type": "markdown",
   "metadata": {},
   "source": [
    "# Now its your turn!\n",
    "\n",
    "## Let's start by describing and plotting the distribution of an interval ratio variable\n",
    "\n",
    "## 1. Write code to generate summary statistics for college level student debt per borrower using the variable ***loan_amount_borrower_c_w***"
   ]
  },
  {
   "cell_type": "code",
   "execution_count": null,
   "metadata": {},
   "outputs": [],
   "source": []
  },
  {
   "cell_type": "code",
   "execution_count": null,
   "metadata": {},
   "outputs": [],
   "source": [
    "// Your code here"
   ]
  },
  {
   "cell_type": "markdown",
   "metadata": {},
   "source": [
    "## 2. now write code to generate a histogram"
   ]
  },
  {
   "cell_type": "code",
   "execution_count": null,
   "metadata": {},
   "outputs": [],
   "source": []
  },
  {
   "cell_type": "markdown",
   "metadata": {},
   "source": [
    "## 3. and now edit the code below to generate a boxplot"
   ]
  },
  {
   "cell_type": "code",
   "execution_count": null,
   "metadata": {},
   "outputs": [],
   "source": [
    "*graph __________     ___________, nooutsides"
   ]
  },
  {
   "cell_type": "markdown",
   "metadata": {},
   "source": [
    "# Now let's describe and visualize the distribution of colleges across nominal categories\n",
    "\n",
    "# 1. First edit the code below to simplify the ownership categories by combining \"state\" and \"community\" into \"public\"\n",
    "# and combining \"publicly trade\", \"private equity\", and \"privately held\" into \"for-profit\""
   ]
  },
  {
   "cell_type": "code",
   "execution_count": 32,
   "metadata": {},
   "outputs": [
    {
     "name": "stdout",
     "output_type": "stream",
     "text": [
      "\n",
      "(1,920 real changes made)\n",
      "\n",
      "(3,641 real changes made)\n"
     ]
    }
   ],
   "source": [
    "gen control=1 if owner_pe==\"State\" | owner_pe==\"Community\"\n",
    "replace control=2  if owner_pe==\"Non-profit\"\n",
    "replace control=3 if owner_pe==\"Publicly traded\" | owner_pe==\"Private equity\" | owner_pe==\"Privately held\""
   ]
  },
  {
   "cell_type": "markdown",
   "metadata": {},
   "source": [
    "### 2. Now label the data and create a table of the distribution"
   ]
  },
  {
   "cell_type": "code",
   "execution_count": 33,
   "metadata": {},
   "outputs": [],
   "source": [
    "label define control 1 \"public\" 2 \"non-profit\" 3 \"for-profit\"\n",
    "label values control control\n",
    "*[insert command here] contrl"
   ]
  },
  {
   "cell_type": "markdown",
   "metadata": {},
   "source": [
    "# The table is kind of boring, so edit the code below to create a bar graph instead"
   ]
  },
  {
   "cell_type": "code",
   "execution_count": null,
   "metadata": {},
   "outputs": [],
   "source": [
    "xi i.control, noomit // create dummy vars for control\n",
    "\n",
    "_________ ________ Icontrol_1 ________   __________ ///\n",
    ", label percentages legend(off) blabel(bar, format(%9.1f)) showyvars ///\n",
    "yvaroptions(relabel(1 \"public\" 2 \"non-profit\" 3 \"for-profit\"))"
   ]
  },
  {
   "cell_type": "markdown",
   "metadata": {},
   "source": [
    "# .\n",
    "# .\n",
    "# Far out!\n",
    "## But many sociological interests are **RELATIONAL**\n",
    "## It's relationships that put the **CROSS** in **CROSSTABS**\n",
    "## In Treiman chapter 1 we use crosstabular **tables** for frequency distributions across **at least 2 NOMINAL variables**\n",
    "## Du Bois also presents bivariate cross tabs for nominal frequency distributions, **but GRAPHICALLY**"
   ]
  },
  {
   "cell_type": "markdown",
   "metadata": {},
   "source": [
    "<img src=\"https://cdn.loc.gov/service/pnp/ppmsca/33800/33889v.jpg\" width=\"600\" align=\"left\">"
   ]
  },
  {
   "cell_type": "markdown",
   "metadata": {},
   "source": [
    "# Here's what that would look like as a table or a bar graph.\n",
    "# Which do you like best?"
   ]
  },
  {
   "cell_type": "code",
   "execution_count": 30,
   "metadata": {},
   "outputs": [
    {
     "name": "stdout",
     "output_type": "stream",
     "text": [
      "(Note: Below code run with echo to enable preserve/restore functionality.)\n",
      "\n",
      ". restore\n",
      "\n",
      ". preserve\n",
      "\n",
      ". quietly drop if _n>0\n",
      "\n",
      ". quietly set obs `=_N+8'\n",
      "\n",
      ". quietly gen occupation=\"ag\"\n",
      "\n",
      ". quietly replace occupation=\"domestic\" if _n<7\n",
      "\n",
      ". quietly replace occupation=\"manufacturing\" if _n<5\n",
      "\n",
      ". quietly replace occupation=\"trade\" if _n<3\n",
      "\n",
      ". quietly gen race=\"black\" if _n==1 | _n==3 | _n==5 | _n==8\n",
      "\n",
      ". quietly replace race=\"white\" if race==\"\"\n",
      "\n",
      ". quietly gen percent=62 if race==\"black\" & occupation==\"ag\"\n",
      "\n",
      ". quietly replace percent=28 if race==\"black\" & occupation==\"domestic\"\n",
      "\n",
      ". quietly replace percent=5 if race==\"black\" & occupation==\"manufacturing\"\n",
      "\n",
      ". quietly replace percent=4.5 if race==\"black\" & occupation==\"trade\"\n",
      "\n",
      ". quietly replace percent=64 if race==\"white\" & occupation==\"ag\"\n",
      "\n",
      ". quietly replace percent=5.5 if race==\"white\" & occupation==\"domestic\"\n",
      "\n",
      ". quietly replace percent=13.5 if race==\"white\" & occupation==\"manufacturing\"\n",
      "\n",
      ". quietly replace percent=13 if race==\"white\" & occupation==\"trade\"\n",
      "\n",
      ". graph bar percent, over(race) over(occupation) ytitle(percent) scheme(dubois)\n",
      "\n",
      ". restore\n",
      "\n",
      ". \n"
     ]
    },
    {
     "data": {
      "image/png": "[encoded data removed]",
      "text/plain": [
       "<IPython.core.display.Image object>"
      ]
     },
     "metadata": {},
     "output_type": "display_data"
    }
   ],
   "source": [
    "restore\n",
    "preserve\n",
    "quietly drop if _n>0\n",
    "quietly set obs `=_N+8'\n",
    "quietly gen occupation=\"ag\"\n",
    "quietly replace occupation=\"domestic\" if _n<7\n",
    "quietly replace occupation=\"manufacturing\" if _n<5\n",
    "quietly replace occupation=\"trade\" if _n<3\n",
    "quietly gen race=\"black\" if _n==1 | _n==3 | _n==5 | _n==8\n",
    "quietly replace race=\"white\" if race==\"\"\n",
    "quietly gen percent=62 if race==\"black\" & occupation==\"ag\"\n",
    "quietly replace percent=28 if race==\"black\" & occupation==\"domestic\"\n",
    "quietly replace percent=5 if race==\"black\" & occupation==\"manufacturing\"\n",
    "quietly replace percent=4.5 if race==\"black\" & occupation==\"trade\"\n",
    "quietly replace percent=64 if race==\"white\" & occupation==\"ag\"\n",
    "quietly replace percent=5.5 if race==\"white\" & occupation==\"domestic\"\n",
    "quietly replace percent=13.5 if race==\"white\" & occupation==\"manufacturing\"\n",
    "quietly replace percent=13 if race==\"white\" & occupation==\"trade\"\n",
    "*table occupation race, c(sum percent)\n",
    "graph bar percent, over(race) over(occupation) ytitle(percent) scheme(dubois)\n",
    "restore"
   ]
  },
  {
   "cell_type": "markdown",
   "metadata": {},
   "source": [
    "# How can we use cross tabs to add a control variable to our analysis?\n",
    "\n",
    "## Take some time to look at the following visualization of cross tabs by Du Bois in 1900. Then answer the following 3 questions in the markdown box below:\n",
    "\n",
    "## 1. What is the primary bivariate relationship he is analyzing?\n",
    "## 2. What is the independent variable?\n",
    "## 3. What is the dependent variable?\n",
    "## 4. What is the control variable, and why is it important to control for?"
   ]
  },
  {
   "cell_type": "markdown",
   "metadata": {},
   "source": [
    "[add your answers here]\n",
    "1. \n",
    "2. \n",
    "3. \n",
    "4. "
   ]
  },
  {
   "cell_type": "markdown",
   "metadata": {},
   "source": [
    "<img src=\"https://cdn.loc.gov/service/pnp/ppmsca/33800/33872v.jpg\" width=\"600\" align=\"left\">"
   ]
  },
  {
   "cell_type": "markdown",
   "metadata": {},
   "source": [
    "# It can be intuitive and informative to graphically examine controls through cross tab tables and graphs\n",
    "## A quick example using the college data"
   ]
  },
  {
   "cell_type": "code",
   "execution_count": 34,
   "metadata": {},
   "outputs": [
    {
     "name": "stdout",
     "output_type": "stream",
     "text": [
      "\n",
      "\n",
      "\n",
      "\n",
      "             |             control\n",
      "   selective |    public  non-profi  for-profi |     Total\n",
      "-------------+---------------------------------+----------\n",
      "nonselective |     72.07      46.72      97.53 |     77.88 \n",
      "   selective |     27.93      53.28       2.47 |     22.12 \n",
      "-------------+---------------------------------+----------\n",
      "       Total |    100.00     100.00     100.00 |    100.00 \n"
     ]
    },
    {
     "data": {
      "application/pdf": "[encoded data removed]",
      "image/svg+xml": [
       "<?xml version=\"1.0\" encoding=\"UTF-8\" standalone=\"no\"?>\n",
       "<!-- This is a Stata 15.1 generated SVG file (http://www.stata.com) -->\n",
       "\n",
       "<svg version=\"1.1\" width=\"600px\" height=\"436px\" viewBox=\"0 0 3960 2880\" xmlns=\"http://www.w3.org/2000/svg\" xmlns:xlink=\"http://www.w3.org/1999/xlink\">\n",
       "\t<desc>Stata Graph - Graph</desc>\n",
       "\t<rect x=\"0\" y=\"0\" width=\"3960\" height=\"2880\" style=\"fill:#EAF2F3;stroke:none\"/>\n",
       "\t<rect x=\"0.00\" y=\"0.00\" width=\"3959.88\" height=\"2880.00\" style=\"fill:#EAF2F3\"/>\n",
       "\t<rect x=\"2.88\" y=\"2.88\" width=\"3954.12\" height=\"2874.24\" style=\"fill:none;stroke:#EAF2F3;stroke-width:5.76\"/>\n",
       "\t<rect x=\"579.77\" y=\"100.86\" width=\"3279.25\" height=\"2388.33\" style=\"fill:#FFFFFF\"/>\n",
       "\t<rect x=\"582.65\" y=\"103.74\" width=\"3273.49\" height=\"2382.57\" style=\"fill:none;stroke:#FFFFFF;stroke-width:5.76\"/>\n",
       "\t<line x1=\"579.77\" y1=\"2489.19\" x2=\"579.77\" y2=\"100.86\" style=\"stroke:#EAF2F3;stroke-width:8.64\"/>\n",
       "\t<line x1=\"1215.47\" y1=\"2489.19\" x2=\"1215.47\" y2=\"100.86\" style=\"stroke:#EAF2F3;stroke-width:8.64\"/>\n",
       "\t<line x1=\"1851.18\" y1=\"2489.19\" x2=\"1851.18\" y2=\"100.86\" style=\"stroke:#EAF2F3;stroke-width:8.64\"/>\n",
       "\t<line x1=\"2486.88\" y1=\"2489.19\" x2=\"2486.88\" y2=\"100.86\" style=\"stroke:#EAF2F3;stroke-width:8.64\"/>\n",
       "\t<line x1=\"3122.58\" y1=\"2489.19\" x2=\"3122.58\" y2=\"100.86\" style=\"stroke:#EAF2F3;stroke-width:8.64\"/>\n",
       "\t<line x1=\"3758.29\" y1=\"2489.19\" x2=\"3758.29\" y2=\"100.86\" style=\"stroke:#EAF2F3;stroke-width:8.64\"/>\n",
       "\t<rect x=\"579.77\" y=\"2049.36\" width=\"78.58\" height=\"282.53\" style=\"fill:#90353B\"/>\n",
       "\t<rect x=\"582.65\" y=\"2052.24\" width=\"72.82\" height=\"276.77\" style=\"fill:none;stroke:#90353B;stroke-width:5.76\"/>\n",
       "\t<rect x=\"579.77\" y=\"1766.83\" width=\"3099.94\" height=\"282.53\" style=\"fill:#1A476F\"/>\n",
       "\t<rect x=\"582.65\" y=\"1769.71\" width=\"3094.18\" height=\"276.77\" style=\"fill:none;stroke:#1A476F;stroke-width:5.76\"/>\n",
       "\t<rect x=\"579.77\" y=\"1294.96\" width=\"1693.52\" height=\"282.53\" style=\"fill:#90353B\"/>\n",
       "\t<rect x=\"582.65\" y=\"1297.84\" width=\"1687.76\" height=\"276.77\" style=\"fill:none;stroke:#90353B;stroke-width:5.76\"/>\n",
       "\t<rect x=\"579.77\" y=\"1012.43\" width=\"1485.00\" height=\"282.53\" style=\"fill:#1A476F\"/>\n",
       "\t<rect x=\"582.65\" y=\"1015.31\" width=\"1479.24\" height=\"276.77\" style=\"fill:none;stroke:#1A476F;stroke-width:5.76\"/>\n",
       "\t<rect x=\"579.77\" y=\"540.68\" width=\"887.66\" height=\"282.53\" style=\"fill:#90353B\"/>\n",
       "\t<rect x=\"582.65\" y=\"543.56\" width=\"881.90\" height=\"276.77\" style=\"fill:none;stroke:#90353B;stroke-width:5.76\"/>\n",
       "\t<rect x=\"579.77\" y=\"258.15\" width=\"2290.86\" height=\"282.53\" style=\"fill:#1A476F\"/>\n",
       "\t<rect x=\"582.65\" y=\"261.03\" width=\"2285.10\" height=\"276.77\" style=\"fill:none;stroke:#1A476F;stroke-width:5.76\"/>\n",
       "\t<text x=\"619.74\" y=\"2239.71\" style=\"font-family:'Helvetica';font-size:139.96px;fill:#FFFFff\">selective</text>\n",
       "\t<text x=\"619.74\" y=\"1957.18\" style=\"font-family:'Helvetica';font-size:139.96px;fill:#FFFFff\">nonselective</text>\n",
       "\t<text x=\"619.74\" y=\"1485.31\" style=\"font-family:'Helvetica';font-size:139.96px;fill:#FFFFff\">selective</text>\n",
       "\t<text x=\"619.74\" y=\"1202.78\" style=\"font-family:'Helvetica';font-size:139.96px;fill:#FFFFff\">nonselective</text>\n",
       "\t<text x=\"619.74\" y=\"730.90\" style=\"font-family:'Helvetica';font-size:139.96px;fill:#FFFFff\">selective</text>\n",
       "\t<text x=\"619.74\" y=\"448.37\" style=\"font-family:'Helvetica';font-size:139.96px;fill:#FFFFff\">nonselective</text>\n",
       "\t<line x1=\"579.77\" y1=\"2489.19\" x2=\"3859.02\" y2=\"2489.19\" style=\"stroke:#000000;stroke-width:5.76\"/>\n",
       "\t<line x1=\"579.77\" y1=\"2489.19\" x2=\"579.77\" y2=\"2529.16\" style=\"stroke:#000000;stroke-width:5.76\"/>\n",
       "\t<text x=\"579.77\" y=\"2619.14\" style=\"font-family:'Helvetica';font-size:99.99px;fill:#000000\" text-anchor=\"middle\">0</text>\n",
       "\t<line x1=\"1215.47\" y1=\"2489.19\" x2=\"1215.47\" y2=\"2529.16\" style=\"stroke:#000000;stroke-width:5.76\"/>\n",
       "\t<text x=\"1215.47\" y=\"2619.14\" style=\"font-family:'Helvetica';font-size:99.99px;fill:#000000\" text-anchor=\"middle\">20</text>\n",
       "\t<line x1=\"1851.18\" y1=\"2489.19\" x2=\"1851.18\" y2=\"2529.16\" style=\"stroke:#000000;stroke-width:5.76\"/>\n",
       "\t<text x=\"1851.18\" y=\"2619.14\" style=\"font-family:'Helvetica';font-size:99.99px;fill:#000000\" text-anchor=\"middle\">40</text>\n",
       "\t<line x1=\"2486.88\" y1=\"2489.19\" x2=\"2486.88\" y2=\"2529.16\" style=\"stroke:#000000;stroke-width:5.76\"/>\n",
       "\t<text x=\"2486.88\" y=\"2619.14\" style=\"font-family:'Helvetica';font-size:99.99px;fill:#000000\" text-anchor=\"middle\">60</text>\n",
       "\t<line x1=\"3122.58\" y1=\"2489.19\" x2=\"3122.58\" y2=\"2529.16\" style=\"stroke:#000000;stroke-width:5.76\"/>\n",
       "\t<text x=\"3122.58\" y=\"2619.14\" style=\"font-family:'Helvetica';font-size:99.99px;fill:#000000\" text-anchor=\"middle\">80</text>\n",
       "\t<line x1=\"3758.29\" y1=\"2489.19\" x2=\"3758.29\" y2=\"2529.16\" style=\"stroke:#000000;stroke-width:5.76\"/>\n",
       "\t<text x=\"3758.29\" y=\"2619.14\" style=\"font-family:'Helvetica';font-size:99.99px;fill:#000000\" text-anchor=\"middle\">100</text>\n",
       "\t<text x=\"2219.46\" y=\"2729.16\" style=\"font-family:'Helvetica';font-size:99.99px;fill:#000000\" text-anchor=\"middle\">percent</text>\n",
       "\t<line x1=\"579.77\" y1=\"2489.19\" x2=\"579.77\" y2=\"100.86\" style=\"stroke:#000000;stroke-width:5.76\"/>\n",
       "\t<text x=\"539.67\" y=\"2084.39\" style=\"font-family:'Helvetica';font-size:99.99px;fill:#000000\" text-anchor=\"end\">for-profit</text>\n",
       "\t<text x=\"539.67\" y=\"1329.99\" style=\"font-family:'Helvetica';font-size:99.99px;fill:#000000\" text-anchor=\"end\">non-profit</text>\n",
       "\t<text x=\"539.67\" y=\"575.71\" style=\"font-family:'Helvetica';font-size:99.99px;fill:#000000\" text-anchor=\"end\">public</text>\n",
       "</svg>\n"
      ],
      "text/html": [
       "                <iframe frameborder=\"0\" scrolling=\"no\" height=\"436\" width=\"600\"                srcdoc=\"<html><body>&lt;?xml version=&quot;1.0&quot; encoding=&quot;UTF-8&quot; standalone=&quot;no&quot;?&gt;\n",
       "&lt;!-- This is a Stata 15.1 generated SVG file (http://www.stata.com) --&gt;\n",
       "\n",
       "&lt;svg version=&quot;1.1&quot; width=&quot;600px&quot; height=&quot;436px&quot; viewBox=&quot;0 0 3960 2880&quot; xmlns=&quot;http://www.w3.org/2000/svg&quot; xmlns:xlink=&quot;http://www.w3.org/1999/xlink&quot;&gt;\n",
       "\t&lt;desc&gt;Stata Graph - Graph&lt;/desc&gt;\n",
       "\t&lt;rect x=&quot;0&quot; y=&quot;0&quot; width=&quot;3960&quot; height=&quot;2880&quot; style=&quot;fill:#EAF2F3;stroke:none&quot;/&gt;\n",
       "\t&lt;rect x=&quot;0.00&quot; y=&quot;0.00&quot; width=&quot;3959.88&quot; height=&quot;2880.00&quot; style=&quot;fill:#EAF2F3&quot;/&gt;\n",
       "\t&lt;rect x=&quot;2.88&quot; y=&quot;2.88&quot; width=&quot;3954.12&quot; height=&quot;2874.24&quot; style=&quot;fill:none;stroke:#EAF2F3;stroke-width:5.76&quot;/&gt;\n",
       "\t&lt;rect x=&quot;579.77&quot; y=&quot;100.86&quot; width=&quot;3279.25&quot; height=&quot;2388.33&quot; style=&quot;fill:#FFFFFF&quot;/&gt;\n",
       "\t&lt;rect x=&quot;582.65&quot; y=&quot;103.74&quot; width=&quot;3273.49&quot; height=&quot;2382.57&quot; style=&quot;fill:none;stroke:#FFFFFF;stroke-width:5.76&quot;/&gt;\n",
       "\t&lt;line x1=&quot;579.77&quot; y1=&quot;2489.19&quot; x2=&quot;579.77&quot; y2=&quot;100.86&quot; style=&quot;stroke:#EAF2F3;stroke-width:8.64&quot;/&gt;\n",
       "\t&lt;line x1=&quot;1215.47&quot; y1=&quot;2489.19&quot; x2=&quot;1215.47&quot; y2=&quot;100.86&quot; style=&quot;stroke:#EAF2F3;stroke-width:8.64&quot;/&gt;\n",
       "\t&lt;line x1=&quot;1851.18&quot; y1=&quot;2489.19&quot; x2=&quot;1851.18&quot; y2=&quot;100.86&quot; style=&quot;stroke:#EAF2F3;stroke-width:8.64&quot;/&gt;\n",
       "\t&lt;line x1=&quot;2486.88&quot; y1=&quot;2489.19&quot; x2=&quot;2486.88&quot; y2=&quot;100.86&quot; style=&quot;stroke:#EAF2F3;stroke-width:8.64&quot;/&gt;\n",
       "\t&lt;line x1=&quot;3122.58&quot; y1=&quot;2489.19&quot; x2=&quot;3122.58&quot; y2=&quot;100.86&quot; style=&quot;stroke:#EAF2F3;stroke-width:8.64&quot;/&gt;\n",
       "\t&lt;line x1=&quot;3758.29&quot; y1=&quot;2489.19&quot; x2=&quot;3758.29&quot; y2=&quot;100.86&quot; style=&quot;stroke:#EAF2F3;stroke-width:8.64&quot;/&gt;\n",
       "\t&lt;rect x=&quot;579.77&quot; y=&quot;2049.36&quot; width=&quot;78.58&quot; height=&quot;282.53&quot; style=&quot;fill:#90353B&quot;/&gt;\n",
       "\t&lt;rect x=&quot;582.65&quot; y=&quot;2052.24&quot; width=&quot;72.82&quot; height=&quot;276.77&quot; style=&quot;fill:none;stroke:#90353B;stroke-width:5.76&quot;/&gt;\n",
       "\t&lt;rect x=&quot;579.77&quot; y=&quot;1766.83&quot; width=&quot;3099.94&quot; height=&quot;282.53&quot; style=&quot;fill:#1A476F&quot;/&gt;\n",
       "\t&lt;rect x=&quot;582.65&quot; y=&quot;1769.71&quot; width=&quot;3094.18&quot; height=&quot;276.77&quot; style=&quot;fill:none;stroke:#1A476F;stroke-width:5.76&quot;/&gt;\n",
       "\t&lt;rect x=&quot;579.77&quot; y=&quot;1294.96&quot; width=&quot;1693.52&quot; height=&quot;282.53&quot; style=&quot;fill:#90353B&quot;/&gt;\n",
       "\t&lt;rect x=&quot;582.65&quot; y=&quot;1297.84&quot; width=&quot;1687.76&quot; height=&quot;276.77&quot; style=&quot;fill:none;stroke:#90353B;stroke-width:5.76&quot;/&gt;\n",
       "\t&lt;rect x=&quot;579.77&quot; y=&quot;1012.43&quot; width=&quot;1485.00&quot; height=&quot;282.53&quot; style=&quot;fill:#1A476F&quot;/&gt;\n",
       "\t&lt;rect x=&quot;582.65&quot; y=&quot;1015.31&quot; width=&quot;1479.24&quot; height=&quot;276.77&quot; style=&quot;fill:none;stroke:#1A476F;stroke-width:5.76&quot;/&gt;\n",
       "\t&lt;rect x=&quot;579.77&quot; y=&quot;540.68&quot; width=&quot;887.66&quot; height=&quot;282.53&quot; style=&quot;fill:#90353B&quot;/&gt;\n",
       "\t&lt;rect x=&quot;582.65&quot; y=&quot;543.56&quot; width=&quot;881.90&quot; height=&quot;276.77&quot; style=&quot;fill:none;stroke:#90353B;stroke-width:5.76&quot;/&gt;\n",
       "\t&lt;rect x=&quot;579.77&quot; y=&quot;258.15&quot; width=&quot;2290.86&quot; height=&quot;282.53&quot; style=&quot;fill:#1A476F&quot;/&gt;\n",
       "\t&lt;rect x=&quot;582.65&quot; y=&quot;261.03&quot; width=&quot;2285.10&quot; height=&quot;276.77&quot; style=&quot;fill:none;stroke:#1A476F;stroke-width:5.76&quot;/&gt;\n",
       "\t&lt;text x=&quot;619.74&quot; y=&quot;2239.71&quot; style=&quot;font-family:&#x27;Helvetica&#x27;;font-size:139.96px;fill:#FFFFff&quot;&gt;selective&lt;/text&gt;\n",
       "\t&lt;text x=&quot;619.74&quot; y=&quot;1957.18&quot; style=&quot;font-family:&#x27;Helvetica&#x27;;font-size:139.96px;fill:#FFFFff&quot;&gt;nonselective&lt;/text&gt;\n",
       "\t&lt;text x=&quot;619.74&quot; y=&quot;1485.31&quot; style=&quot;font-family:&#x27;Helvetica&#x27;;font-size:139.96px;fill:#FFFFff&quot;&gt;selective&lt;/text&gt;\n",
       "\t&lt;text x=&quot;619.74&quot; y=&quot;1202.78&quot; style=&quot;font-family:&#x27;Helvetica&#x27;;font-size:139.96px;fill:#FFFFff&quot;&gt;nonselective&lt;/text&gt;\n",
       "\t&lt;text x=&quot;619.74&quot; y=&quot;730.90&quot; style=&quot;font-family:&#x27;Helvetica&#x27;;font-size:139.96px;fill:#FFFFff&quot;&gt;selective&lt;/text&gt;\n",
       "\t&lt;text x=&quot;619.74&quot; y=&quot;448.37&quot; style=&quot;font-family:&#x27;Helvetica&#x27;;font-size:139.96px;fill:#FFFFff&quot;&gt;nonselective&lt;/text&gt;\n",
       "\t&lt;line x1=&quot;579.77&quot; y1=&quot;2489.19&quot; x2=&quot;3859.02&quot; y2=&quot;2489.19&quot; style=&quot;stroke:#000000;stroke-width:5.76&quot;/&gt;\n",
       "\t&lt;line x1=&quot;579.77&quot; y1=&quot;2489.19&quot; x2=&quot;579.77&quot; y2=&quot;2529.16&quot; style=&quot;stroke:#000000;stroke-width:5.76&quot;/&gt;\n",
       "\t&lt;text x=&quot;579.77&quot; y=&quot;2619.14&quot; style=&quot;font-family:&#x27;Helvetica&#x27;;font-size:99.99px;fill:#000000&quot; text-anchor=&quot;middle&quot;&gt;0&lt;/text&gt;\n",
       "\t&lt;line x1=&quot;1215.47&quot; y1=&quot;2489.19&quot; x2=&quot;1215.47&quot; y2=&quot;2529.16&quot; style=&quot;stroke:#000000;stroke-width:5.76&quot;/&gt;\n",
       "\t&lt;text x=&quot;1215.47&quot; y=&quot;2619.14&quot; style=&quot;font-family:&#x27;Helvetica&#x27;;font-size:99.99px;fill:#000000&quot; text-anchor=&quot;middle&quot;&gt;20&lt;/text&gt;\n",
       "\t&lt;line x1=&quot;1851.18&quot; y1=&quot;2489.19&quot; x2=&quot;1851.18&quot; y2=&quot;2529.16&quot; style=&quot;stroke:#000000;stroke-width:5.76&quot;/&gt;\n",
       "\t&lt;text x=&quot;1851.18&quot; y=&quot;2619.14&quot; style=&quot;font-family:&#x27;Helvetica&#x27;;font-size:99.99px;fill:#000000&quot; text-anchor=&quot;middle&quot;&gt;40&lt;/text&gt;\n",
       "\t&lt;line x1=&quot;2486.88&quot; y1=&quot;2489.19&quot; x2=&quot;2486.88&quot; y2=&quot;2529.16&quot; style=&quot;stroke:#000000;stroke-width:5.76&quot;/&gt;\n",
       "\t&lt;text x=&quot;2486.88&quot; y=&quot;2619.14&quot; style=&quot;font-family:&#x27;Helvetica&#x27;;font-size:99.99px;fill:#000000&quot; text-anchor=&quot;middle&quot;&gt;60&lt;/text&gt;\n",
       "\t&lt;line x1=&quot;3122.58&quot; y1=&quot;2489.19&quot; x2=&quot;3122.58&quot; y2=&quot;2529.16&quot; style=&quot;stroke:#000000;stroke-width:5.76&quot;/&gt;\n",
       "\t&lt;text x=&quot;3122.58&quot; y=&quot;2619.14&quot; style=&quot;font-family:&#x27;Helvetica&#x27;;font-size:99.99px;fill:#000000&quot; text-anchor=&quot;middle&quot;&gt;80&lt;/text&gt;\n",
       "\t&lt;line x1=&quot;3758.29&quot; y1=&quot;2489.19&quot; x2=&quot;3758.29&quot; y2=&quot;2529.16&quot; style=&quot;stroke:#000000;stroke-width:5.76&quot;/&gt;\n",
       "\t&lt;text x=&quot;3758.29&quot; y=&quot;2619.14&quot; style=&quot;font-family:&#x27;Helvetica&#x27;;font-size:99.99px;fill:#000000&quot; text-anchor=&quot;middle&quot;&gt;100&lt;/text&gt;\n",
       "\t&lt;text x=&quot;2219.46&quot; y=&quot;2729.16&quot; style=&quot;font-family:&#x27;Helvetica&#x27;;font-size:99.99px;fill:#000000&quot; text-anchor=&quot;middle&quot;&gt;percent&lt;/text&gt;\n",
       "\t&lt;line x1=&quot;579.77&quot; y1=&quot;2489.19&quot; x2=&quot;579.77&quot; y2=&quot;100.86&quot; style=&quot;stroke:#000000;stroke-width:5.76&quot;/&gt;\n",
       "\t&lt;text x=&quot;539.67&quot; y=&quot;2084.39&quot; style=&quot;font-family:&#x27;Helvetica&#x27;;font-size:99.99px;fill:#000000&quot; text-anchor=&quot;end&quot;&gt;for-profit&lt;/text&gt;\n",
       "\t&lt;text x=&quot;539.67&quot; y=&quot;1329.99&quot; style=&quot;font-family:&#x27;Helvetica&#x27;;font-size:99.99px;fill:#000000&quot; text-anchor=&quot;end&quot;&gt;non-profit&lt;/text&gt;\n",
       "\t&lt;text x=&quot;539.67&quot; y=&quot;575.71&quot; style=&quot;font-family:&#x27;Helvetica&#x27;;font-size:99.99px;fill:#000000&quot; text-anchor=&quot;end&quot;&gt;public&lt;/text&gt;\n",
       "&lt;/svg&gt;\n",
       "</body></html>\"></iframe>\n"
      ],
      "text/plain": [
       "This front-end cannot display the desired image type."
      ]
     },
     "metadata": {
      "image/svg+xml": {
       "height": 436,
       "width": 600
      },
      "text/html": {
       "height": 436,
       "width": 600
      }
     },
     "output_type": "display_data"
    },
    {
     "name": "stdout",
     "output_type": "stream",
     "text": [
      "\n",
      "\n",
      "\n",
      "\n"
     ]
    }
   ],
   "source": [
    "label define selective 0 \"nonselective\" 1 \"selective\"\n",
    "label values selective selective\n",
    "\n",
    "tab selective control, column nofreq\n",
    "\n",
    "xi i.selective, noomit\n",
    "\n",
    "graph hbar _Iselective_0 _Iselective_1 ///\n",
    ", label percentages legend(off) blabel(name, position(base) color(white) size(large)) ///\n",
    "yvaroptions(relabel(1 \"nonselective\" 2 \"selective\")) over(control)"
   ]
  },
  {
   "cell_type": "markdown",
   "metadata": {},
   "source": [
    "# There appears to be a very strong relationship between ownership and admissions selectivity\n",
    "## But is it possible that this is primarily because for-profits offer 2 year and lower degrees?\n",
    "## the variable **iclevel** is an nominal variable for *4-year*, *2year*, and *lower* degree categories.\n",
    "## Edit below the code used above to control for *iclevel* of degrees offered:\n",
    "### 1) add the specification \"bysort iclevel:\" before the \"tab command\"\n",
    "### 2) add a \"by(iclevel)\" specification to the end of the graph command\n",
    "### 3) Interpret the results in the markdown box below"
   ]
  },
  {
   "cell_type": "markdown",
   "metadata": {},
   "source": [
    "[record your interpretation here]"
   ]
  },
  {
   "cell_type": "code",
   "execution_count": 35,
   "metadata": {},
   "outputs": [
    {
     "name": "stdout",
     "output_type": "stream",
     "text": [
      "\n",
      "\n",
      "---------------------------------------------------------------------------------------------------------------------------------------------------------------------------------------------------------------------------------------------------------------\n",
      "-> iclevel = At least 2 but less than 4 years\n",
      "\n",
      "             |             control\n",
      "   selective |    public  non-profi  for-profi |     Total\n",
      "-------------+---------------------------------+----------\n",
      "nonselective |     97.79      78.71      98.30 |     96.72 \n",
      "   selective |      2.21      21.29       1.70 |      3.28 \n",
      "-------------+---------------------------------+----------\n",
      "       Total |    100.00     100.00     100.00 |    100.00 \n",
      "\n",
      "---------------------------------------------------------------------------------------------------------------------------------------------------------------------------------------------------------------------------------------------------------------\n",
      "-> iclevel = Four or more years\n",
      "\n",
      "             |             control\n",
      "   selective |    public  non-profi  for-profi |     Total\n",
      "-------------+---------------------------------+----------\n",
      "nonselective |     25.35      40.98      91.90 |     50.13 \n",
      "   selective |     74.65      59.02       8.10 |     49.87 \n",
      "-------------+---------------------------------+----------\n",
      "       Total |    100.00     100.00     100.00 |    100.00 \n",
      "\n",
      "---------------------------------------------------------------------------------------------------------------------------------------------------------------------------------------------------------------------------------------------------------------\n",
      "-> iclevel = Less than 2 years (below associate)\n",
      "\n",
      "             |             control\n",
      "   selective |    public  non-profi  for-profi |     Total\n",
      "-------------+---------------------------------+----------\n",
      "nonselective |     97.32      97.80      99.55 |     99.21 \n",
      "   selective |      2.68       2.20       0.45 |      0.79 \n",
      "-------------+---------------------------------+----------\n",
      "       Total |    100.00     100.00     100.00 |    100.00 \n"
     ]
    },
    {
     "data": {
      "application/pdf": "[encoded data removed]",
      "image/svg+xml": [
       "<?xml version=\"1.0\" encoding=\"UTF-8\" standalone=\"no\"?>\n",
       "<!-- This is a Stata 15.1 generated SVG file (http://www.stata.com) -->\n",
       "\n",
       "<svg version=\"1.1\" width=\"600px\" height=\"436px\" viewBox=\"0 0 3960 2880\" xmlns=\"http://www.w3.org/2000/svg\" xmlns:xlink=\"http://www.w3.org/1999/xlink\">\n",
       "\t<desc>Stata Graph - Graph</desc>\n",
       "\t<rect x=\"0\" y=\"0\" width=\"3960\" height=\"2880\" style=\"fill:#EAF2F3;stroke:none\"/>\n",
       "\t<rect x=\"0.00\" y=\"0.00\" width=\"3959.88\" height=\"2880.00\" style=\"fill:#EAF2F3\"/>\n",
       "\t<rect x=\"2.88\" y=\"2.88\" width=\"3954.12\" height=\"2874.24\" style=\"fill:none;stroke:#EAF2F3;stroke-width:5.76\"/>\n",
       "\t<rect x=\"388.33\" y=\"258.27\" width=\"1683.50\" height=\"676.19\" style=\"fill:#FFFFFF\"/>\n",
       "\t<rect x=\"390.78\" y=\"260.72\" width=\"1678.60\" height=\"671.30\" style=\"fill:none;stroke:#FFFFFF;stroke-width:4.90\"/>\n",
       "\t<line x1=\"388.33\" y1=\"934.47\" x2=\"2071.82\" y2=\"934.47\" style=\"stroke:#EAF2F3;stroke-width:7.34\"/>\n",
       "\t<line x1=\"388.33\" y1=\"816.28\" x2=\"2071.82\" y2=\"816.28\" style=\"stroke:#EAF2F3;stroke-width:7.34\"/>\n",
       "\t<line x1=\"388.33\" y1=\"698.22\" x2=\"2071.82\" y2=\"698.22\" style=\"stroke:#EAF2F3;stroke-width:7.34\"/>\n",
       "\t<line x1=\"388.33\" y1=\"580.16\" x2=\"2071.82\" y2=\"580.16\" style=\"stroke:#EAF2F3;stroke-width:7.34\"/>\n",
       "\t<line x1=\"388.33\" y1=\"461.97\" x2=\"2071.82\" y2=\"461.97\" style=\"stroke:#EAF2F3;stroke-width:7.34\"/>\n",
       "\t<line x1=\"388.33\" y1=\"343.91\" x2=\"2071.82\" y2=\"343.91\" style=\"stroke:#EAF2F3;stroke-width:7.34\"/>\n",
       "\t<rect x=\"2141.00\" y=\"258.27\" width=\"1683.49\" height=\"676.19\" style=\"fill:#FFFFFF\"/>\n",
       "\t<rect x=\"2143.45\" y=\"260.72\" width=\"1678.60\" height=\"671.30\" style=\"fill:none;stroke:#FFFFFF;stroke-width:4.90\"/>\n",
       "\t<line x1=\"2141.00\" y1=\"934.47\" x2=\"3824.49\" y2=\"934.47\" style=\"stroke:#EAF2F3;stroke-width:7.34\"/>\n",
       "\t<line x1=\"2141.00\" y1=\"816.28\" x2=\"3824.49\" y2=\"816.28\" style=\"stroke:#EAF2F3;stroke-width:7.34\"/>\n",
       "\t<line x1=\"2141.00\" y1=\"698.22\" x2=\"3824.49\" y2=\"698.22\" style=\"stroke:#EAF2F3;stroke-width:7.34\"/>\n",
       "\t<line x1=\"2141.00\" y1=\"580.16\" x2=\"3824.49\" y2=\"580.16\" style=\"stroke:#EAF2F3;stroke-width:7.34\"/>\n",
       "\t<line x1=\"2141.00\" y1=\"461.97\" x2=\"3824.49\" y2=\"461.97\" style=\"stroke:#EAF2F3;stroke-width:7.34\"/>\n",
       "\t<line x1=\"2141.00\" y1=\"343.91\" x2=\"3824.49\" y2=\"343.91\" style=\"stroke:#EAF2F3;stroke-width:7.34\"/>\n",
       "\t<rect x=\"388.33\" y=\"1262.41\" width=\"1683.50\" height=\"676.19\" style=\"fill:#FFFFFF\"/>\n",
       "\t<rect x=\"390.78\" y=\"1264.86\" width=\"1678.60\" height=\"671.30\" style=\"fill:none;stroke:#FFFFFF;stroke-width:4.90\"/>\n",
       "\t<line x1=\"388.33\" y1=\"1938.60\" x2=\"2071.82\" y2=\"1938.60\" style=\"stroke:#EAF2F3;stroke-width:7.34\"/>\n",
       "\t<line x1=\"388.33\" y1=\"1820.54\" x2=\"2071.82\" y2=\"1820.54\" style=\"stroke:#EAF2F3;stroke-width:7.34\"/>\n",
       "\t<line x1=\"388.33\" y1=\"1702.36\" x2=\"2071.82\" y2=\"1702.36\" style=\"stroke:#EAF2F3;stroke-width:7.34\"/>\n",
       "\t<line x1=\"388.33\" y1=\"1584.30\" x2=\"2071.82\" y2=\"1584.30\" style=\"stroke:#EAF2F3;stroke-width:7.34\"/>\n",
       "\t<line x1=\"388.33\" y1=\"1466.24\" x2=\"2071.82\" y2=\"1466.24\" style=\"stroke:#EAF2F3;stroke-width:7.34\"/>\n",
       "\t<line x1=\"388.33\" y1=\"1348.05\" x2=\"2071.82\" y2=\"1348.05\" style=\"stroke:#EAF2F3;stroke-width:7.34\"/>\n",
       "\t<rect x=\"513.07\" y=\"356.91\" width=\"195.40\" height=\"577.56\" style=\"fill:#1A476F\"/>\n",
       "\t<rect x=\"515.52\" y=\"359.35\" width=\"190.51\" height=\"572.66\" style=\"fill:none;stroke:#1A476F;stroke-width:4.90\"/>\n",
       "\t<rect x=\"708.47\" y=\"921.35\" width=\"195.40\" height=\"13.12\" style=\"fill:#90353B\"/>\n",
       "\t<rect x=\"710.92\" y=\"923.80\" width=\"190.51\" height=\"8.22\" style=\"fill:none;stroke:#90353B;stroke-width:4.90\"/>\n",
       "\t<rect x=\"1034.80\" y=\"469.65\" width=\"195.28\" height=\"464.82\" style=\"fill:#1A476F\"/>\n",
       "\t<rect x=\"1037.25\" y=\"472.09\" width=\"190.38\" height=\"459.92\" style=\"fill:none;stroke:#1A476F;stroke-width:4.90\"/>\n",
       "\t<rect x=\"1230.08\" y=\"808.73\" width=\"195.40\" height=\"125.73\" style=\"fill:#90353B\"/>\n",
       "\t<rect x=\"1232.52\" y=\"811.18\" width=\"190.51\" height=\"120.84\" style=\"fill:none;stroke:#90353B;stroke-width:4.90\"/>\n",
       "\t<rect x=\"1556.40\" y=\"353.94\" width=\"195.40\" height=\"580.53\" style=\"fill:#1A476F\"/>\n",
       "\t<rect x=\"1558.85\" y=\"356.38\" width=\"190.51\" height=\"575.63\" style=\"fill:none;stroke:#1A476F;stroke-width:4.90\"/>\n",
       "\t<rect x=\"1751.81\" y=\"924.44\" width=\"195.28\" height=\"10.02\" style=\"fill:#90353B\"/>\n",
       "\t<rect x=\"1754.25\" y=\"926.89\" width=\"190.38\" height=\"5.13\" style=\"fill:none;stroke:#90353B;stroke-width:4.90\"/>\n",
       "\t<text x=\"610.83\" y=\"884.15\" style=\"font-family:'Helvetica';font-size:67.94px;fill:#FFFFff\" text-anchor=\"middle\">97.8</text>\n",
       "\t<text x=\"806.11\" y=\"884.15\" style=\"font-family:'Helvetica';font-size:67.94px;fill:#FFFFff\" text-anchor=\"middle\">2.2</text>\n",
       "\t<text x=\"1132.44\" y=\"884.15\" style=\"font-family:'Helvetica';font-size:67.94px;fill:#FFFFff\" text-anchor=\"middle\">78.7</text>\n",
       "\t<text x=\"1327.84\" y=\"884.15\" style=\"font-family:'Helvetica';font-size:67.94px;fill:#FFFFff\" text-anchor=\"middle\">21.3</text>\n",
       "\t<text x=\"1654.04\" y=\"884.15\" style=\"font-family:'Helvetica';font-size:67.94px;fill:#FFFFff\" text-anchor=\"middle\">98.3</text>\n",
       "\t<text x=\"1849.44\" y=\"884.15\" style=\"font-family:'Helvetica';font-size:67.94px;fill:#FFFFff\" text-anchor=\"middle\">1.7</text>\n",
       "\t<rect x=\"2265.74\" y=\"784.72\" width=\"195.40\" height=\"149.74\" style=\"fill:#1A476F\"/>\n",
       "\t<rect x=\"2268.19\" y=\"787.17\" width=\"190.51\" height=\"144.85\" style=\"fill:none;stroke:#1A476F;stroke-width:4.90\"/>\n",
       "\t<rect x=\"2461.14\" y=\"493.65\" width=\"195.40\" height=\"440.81\" style=\"fill:#90353B\"/>\n",
       "\t<rect x=\"2463.59\" y=\"496.10\" width=\"190.51\" height=\"435.92\" style=\"fill:none;stroke:#90353B;stroke-width:4.90\"/>\n",
       "\t<rect x=\"2787.34\" y=\"692.40\" width=\"195.40\" height=\"242.06\" style=\"fill:#1A476F\"/>\n",
       "\t<rect x=\"2789.79\" y=\"694.85\" width=\"190.51\" height=\"237.17\" style=\"fill:none;stroke:#1A476F;stroke-width:4.90\"/>\n",
       "\t<rect x=\"2982.75\" y=\"585.85\" width=\"195.40\" height=\"348.61\" style=\"fill:#90353B\"/>\n",
       "\t<rect x=\"2985.19\" y=\"588.30\" width=\"190.51\" height=\"343.72\" style=\"fill:none;stroke:#90353B;stroke-width:4.90\"/>\n",
       "\t<rect x=\"3309.07\" y=\"391.80\" width=\"195.28\" height=\"542.66\" style=\"fill:#1A476F\"/>\n",
       "\t<rect x=\"3311.52\" y=\"394.25\" width=\"190.38\" height=\"537.76\" style=\"fill:none;stroke:#1A476F;stroke-width:4.90\"/>\n",
       "\t<rect x=\"3504.35\" y=\"886.57\" width=\"195.40\" height=\"47.89\" style=\"fill:#90353B\"/>\n",
       "\t<rect x=\"3506.80\" y=\"889.02\" width=\"190.51\" height=\"43.00\" style=\"fill:none;stroke:#90353B;stroke-width:4.90\"/>\n",
       "\t<text x=\"2363.38\" y=\"884.15\" style=\"font-family:'Helvetica';font-size:67.94px;fill:#FFFFff\" text-anchor=\"middle\">25.4</text>\n",
       "\t<text x=\"2558.78\" y=\"884.15\" style=\"font-family:'Helvetica';font-size:67.94px;fill:#FFFFff\" text-anchor=\"middle\">74.6</text>\n",
       "\t<text x=\"2885.11\" y=\"884.15\" style=\"font-family:'Helvetica';font-size:67.94px;fill:#FFFFff\" text-anchor=\"middle\">41.0</text>\n",
       "\t<text x=\"3080.39\" y=\"884.15\" style=\"font-family:'Helvetica';font-size:67.94px;fill:#FFFFff\" text-anchor=\"middle\">59.0</text>\n",
       "\t<text x=\"3406.71\" y=\"884.15\" style=\"font-family:'Helvetica';font-size:67.94px;fill:#FFFFff\" text-anchor=\"middle\">91.9</text>\n",
       "\t<text x=\"3602.11\" y=\"884.15\" style=\"font-family:'Helvetica';font-size:67.94px;fill:#FFFFff\" text-anchor=\"middle\">8.1</text>\n",
       "\t<rect x=\"513.07\" y=\"1363.89\" width=\"195.40\" height=\"574.71\" style=\"fill:#1A476F\"/>\n",
       "\t<rect x=\"515.52\" y=\"1366.34\" width=\"190.51\" height=\"569.82\" style=\"fill:none;stroke:#1A476F;stroke-width:4.90\"/>\n",
       "\t<rect x=\"708.47\" y=\"1922.76\" width=\"195.40\" height=\"15.84\" style=\"fill:#90353B\"/>\n",
       "\t<rect x=\"710.92\" y=\"1925.21\" width=\"190.51\" height=\"10.94\" style=\"fill:none;stroke:#90353B;stroke-width:4.90\"/>\n",
       "\t<rect x=\"1034.80\" y=\"1361.05\" width=\"195.28\" height=\"577.56\" style=\"fill:#1A476F\"/>\n",
       "\t<rect x=\"1037.25\" y=\"1363.49\" width=\"190.38\" height=\"572.66\" style=\"fill:none;stroke:#1A476F;stroke-width:4.90\"/>\n",
       "\t<rect x=\"1230.08\" y=\"1925.61\" width=\"195.40\" height=\"12.99\" style=\"fill:#90353B\"/>\n",
       "\t<rect x=\"1232.52\" y=\"1928.06\" width=\"190.51\" height=\"8.10\" style=\"fill:none;stroke:#90353B;stroke-width:4.90\"/>\n",
       "\t<rect x=\"1556.40\" y=\"1350.77\" width=\"195.40\" height=\"587.83\" style=\"fill:#1A476F\"/>\n",
       "\t<rect x=\"1558.85\" y=\"1353.22\" width=\"190.51\" height=\"582.94\" style=\"fill:none;stroke:#1A476F;stroke-width:4.90\"/>\n",
       "\t<rect x=\"1751.81\" y=\"1936.01\" width=\"195.28\" height=\"2.60\" style=\"fill:#90353B\"/>\n",
       "\t<rect x=\"1754.25\" y=\"1938.45\" width=\"190.38\" height=\"-2.30\" style=\"fill:none;stroke:#90353B;stroke-width:4.90\"/>\n",
       "\t<text x=\"610.83\" y=\"1888.41\" style=\"font-family:'Helvetica';font-size:67.94px;fill:#FFFFff\" text-anchor=\"middle\">97.3</text>\n",
       "\t<text x=\"806.11\" y=\"1888.41\" style=\"font-family:'Helvetica';font-size:67.94px;fill:#FFFFff\" text-anchor=\"middle\">2.7</text>\n",
       "\t<text x=\"1132.44\" y=\"1888.41\" style=\"font-family:'Helvetica';font-size:67.94px;fill:#FFFFff\" text-anchor=\"middle\">97.8</text>\n",
       "\t<text x=\"1327.84\" y=\"1888.41\" style=\"font-family:'Helvetica';font-size:67.94px;fill:#FFFFff\" text-anchor=\"middle\">2.2</text>\n",
       "\t<text x=\"1654.04\" y=\"1888.41\" style=\"font-family:'Helvetica';font-size:67.94px;fill:#FFFFff\" text-anchor=\"middle\">99.6</text>\n",
       "\t<text x=\"1849.44\" y=\"1888.41\" style=\"font-family:'Helvetica';font-size:67.94px;fill:#FFFFff\" text-anchor=\"middle\">0.4</text>\n",
       "\t<line x1=\"388.33\" y1=\"934.47\" x2=\"388.33\" y2=\"258.27\" style=\"stroke:#000000;stroke-width:4.90\"/>\n",
       "\t<line x1=\"388.33\" y1=\"934.47\" x2=\"354.30\" y2=\"934.47\" style=\"stroke:#000000;stroke-width:4.90\"/>\n",
       "\t<text x=\"311.78\" y=\"934.47\" style=\"font-family:'Helvetica';font-size:85.02px;fill:#000000\" transform=\"rotate(-90 311.78,934.47)\" text-anchor=\"middle\">0</text>\n",
       "\t<line x1=\"388.33\" y1=\"816.28\" x2=\"354.30\" y2=\"816.28\" style=\"stroke:#000000;stroke-width:4.90\"/>\n",
       "\t<text x=\"311.78\" y=\"816.28\" style=\"font-family:'Helvetica';font-size:85.02px;fill:#000000\" transform=\"rotate(-90 311.78,816.28)\" text-anchor=\"middle\">20</text>\n",
       "\t<line x1=\"388.33\" y1=\"698.22\" x2=\"354.30\" y2=\"698.22\" style=\"stroke:#000000;stroke-width:4.90\"/>\n",
       "\t<text x=\"311.78\" y=\"698.22\" style=\"font-family:'Helvetica';font-size:85.02px;fill:#000000\" transform=\"rotate(-90 311.78,698.22)\" text-anchor=\"middle\">40</text>\n",
       "\t<line x1=\"388.33\" y1=\"580.16\" x2=\"354.30\" y2=\"580.16\" style=\"stroke:#000000;stroke-width:4.90\"/>\n",
       "\t<text x=\"311.78\" y=\"580.16\" style=\"font-family:'Helvetica';font-size:85.02px;fill:#000000\" transform=\"rotate(-90 311.78,580.16)\" text-anchor=\"middle\">60</text>\n",
       "\t<line x1=\"388.33\" y1=\"461.97\" x2=\"354.30\" y2=\"461.97\" style=\"stroke:#000000;stroke-width:4.90\"/>\n",
       "\t<text x=\"311.78\" y=\"461.97\" style=\"font-family:'Helvetica';font-size:85.02px;fill:#000000\" transform=\"rotate(-90 311.78,461.97)\" text-anchor=\"middle\">80</text>\n",
       "\t<line x1=\"388.33\" y1=\"343.91\" x2=\"354.30\" y2=\"343.91\" style=\"stroke:#000000;stroke-width:4.90\"/>\n",
       "\t<text x=\"311.78\" y=\"343.91\" style=\"font-family:'Helvetica';font-size:85.02px;fill:#000000\" transform=\"rotate(-90 311.78,343.91)\" text-anchor=\"middle\">100</text>\n",
       "\t<line x1=\"388.33\" y1=\"1938.60\" x2=\"388.33\" y2=\"1262.41\" style=\"stroke:#000000;stroke-width:4.90\"/>\n",
       "\t<line x1=\"388.33\" y1=\"1938.60\" x2=\"354.30\" y2=\"1938.60\" style=\"stroke:#000000;stroke-width:4.90\"/>\n",
       "\t<text x=\"311.78\" y=\"1938.60\" style=\"font-family:'Helvetica';font-size:85.02px;fill:#000000\" transform=\"rotate(-90 311.78,1938.60)\" text-anchor=\"middle\">0</text>\n",
       "\t<line x1=\"388.33\" y1=\"1820.54\" x2=\"354.30\" y2=\"1820.54\" style=\"stroke:#000000;stroke-width:4.90\"/>\n",
       "\t<text x=\"311.78\" y=\"1820.54\" style=\"font-family:'Helvetica';font-size:85.02px;fill:#000000\" transform=\"rotate(-90 311.78,1820.54)\" text-anchor=\"middle\">20</text>\n",
       "\t<line x1=\"388.33\" y1=\"1702.36\" x2=\"354.30\" y2=\"1702.36\" style=\"stroke:#000000;stroke-width:4.90\"/>\n",
       "\t<text x=\"311.78\" y=\"1702.36\" style=\"font-family:'Helvetica';font-size:85.02px;fill:#000000\" transform=\"rotate(-90 311.78,1702.36)\" text-anchor=\"middle\">40</text>\n",
       "\t<line x1=\"388.33\" y1=\"1584.30\" x2=\"354.30\" y2=\"1584.30\" style=\"stroke:#000000;stroke-width:4.90\"/>\n",
       "\t<text x=\"311.78\" y=\"1584.30\" style=\"font-family:'Helvetica';font-size:85.02px;fill:#000000\" transform=\"rotate(-90 311.78,1584.30)\" text-anchor=\"middle\">60</text>\n",
       "\t<line x1=\"388.33\" y1=\"1466.24\" x2=\"354.30\" y2=\"1466.24\" style=\"stroke:#000000;stroke-width:4.90\"/>\n",
       "\t<text x=\"311.78\" y=\"1466.24\" style=\"font-family:'Helvetica';font-size:85.02px;fill:#000000\" transform=\"rotate(-90 311.78,1466.24)\" text-anchor=\"middle\">80</text>\n",
       "\t<line x1=\"388.33\" y1=\"1348.05\" x2=\"354.30\" y2=\"1348.05\" style=\"stroke:#000000;stroke-width:4.90\"/>\n",
       "\t<text x=\"311.78\" y=\"1348.05\" style=\"font-family:'Helvetica';font-size:85.02px;fill:#000000\" transform=\"rotate(-90 311.78,1348.05)\" text-anchor=\"middle\">100</text>\n",
       "\t<line x1=\"388.33\" y1=\"934.47\" x2=\"2071.82\" y2=\"934.47\" style=\"stroke:#000000;stroke-width:4.90\"/>\n",
       "\t<text x=\"708.47\" y=\"1027.83\" style=\"font-family:'Helvetica';font-size:85.02px;fill:#000000\" text-anchor=\"middle\">public</text>\n",
       "\t<text x=\"1230.08\" y=\"1027.83\" style=\"font-family:'Helvetica';font-size:85.02px;fill:#000000\" text-anchor=\"middle\">non-profit</text>\n",
       "\t<text x=\"1751.81\" y=\"1027.83\" style=\"font-family:'Helvetica';font-size:85.02px;fill:#000000\" text-anchor=\"middle\">for-profit</text>\n",
       "\t<line x1=\"2141.00\" y1=\"934.47\" x2=\"3824.49\" y2=\"934.47\" style=\"stroke:#000000;stroke-width:4.90\"/>\n",
       "\t<text x=\"2461.14\" y=\"1027.83\" style=\"font-family:'Helvetica';font-size:85.02px;fill:#000000\" text-anchor=\"middle\">public</text>\n",
       "\t<text x=\"2982.75\" y=\"1027.83\" style=\"font-family:'Helvetica';font-size:85.02px;fill:#000000\" text-anchor=\"middle\">non-profit</text>\n",
       "\t<text x=\"3504.35\" y=\"1027.83\" style=\"font-family:'Helvetica';font-size:85.02px;fill:#000000\" text-anchor=\"middle\">for-profit</text>\n",
       "\t<line x1=\"388.33\" y1=\"1938.60\" x2=\"2071.82\" y2=\"1938.60\" style=\"stroke:#000000;stroke-width:4.90\"/>\n",
       "\t<text x=\"708.47\" y=\"2032.09\" style=\"font-family:'Helvetica';font-size:85.02px;fill:#000000\" text-anchor=\"middle\">public</text>\n",
       "\t<text x=\"1230.08\" y=\"2032.09\" style=\"font-family:'Helvetica';font-size:85.02px;fill:#000000\" text-anchor=\"middle\">non-profit</text>\n",
       "\t<text x=\"1751.81\" y=\"2032.09\" style=\"font-family:'Helvetica';font-size:85.02px;fill:#000000\" text-anchor=\"middle\">for-profit</text>\n",
       "\t<rect x=\"388.33\" y=\"135.39\" width=\"1683.50\" height=\"122.89\" style=\"fill:#D9E6EB\"/>\n",
       "\t<rect x=\"390.78\" y=\"137.83\" width=\"1678.60\" height=\"117.99\" style=\"fill:none;stroke:#D9E6EB;stroke-width:4.90\"/>\n",
       "\t<text x=\"1230.08\" y=\"215.42\" style=\"font-family:'Helvetica';font-size:93.56px;fill:#000000\" text-anchor=\"middle\">At least 2 but less than 4 years</text>\n",
       "\t<rect x=\"2141.00\" y=\"135.39\" width=\"1683.49\" height=\"122.89\" style=\"fill:#D9E6EB\"/>\n",
       "\t<rect x=\"2143.45\" y=\"137.83\" width=\"1678.60\" height=\"117.99\" style=\"fill:none;stroke:#D9E6EB;stroke-width:4.90\"/>\n",
       "\t<text x=\"2982.75\" y=\"215.42\" style=\"font-family:'Helvetica';font-size:93.56px;fill:#000000\" text-anchor=\"middle\">Four or more years</text>\n",
       "\t<rect x=\"388.33\" y=\"1139.53\" width=\"1683.50\" height=\"122.89\" style=\"fill:#D9E6EB\"/>\n",
       "\t<rect x=\"390.78\" y=\"1141.97\" width=\"1678.60\" height=\"117.99\" style=\"fill:none;stroke:#D9E6EB;stroke-width:4.90\"/>\n",
       "\t<text x=\"1230.08\" y=\"1219.56\" style=\"font-family:'Helvetica';font-size:93.56px;fill:#000000\" text-anchor=\"middle\">Less than 2 years (below associate)</text>\n",
       "\t<rect x=\"1485.00\" y=\"2143.66\" width=\"1089.87\" height=\"486.48\" style=\"fill:#FFFFFF\"/>\n",
       "\t<rect x=\"1487.88\" y=\"2146.54\" width=\"1084.11\" height=\"480.72\" style=\"fill:none;stroke:#000000;stroke-width:5.76\"/>\n",
       "\t<text x=\"1962.55\" y=\"2431.89\" style=\"font-family:'Helvetica';font-size:99.99px;fill:#000000\">selective</text>\n",
       "\t<text x=\"1962.55\" y=\"2571.98\" style=\"font-family:'Helvetica';font-size:99.99px;fill:#000000\">nonselective</text>\n",
       "\t<rect x=\"1528.19\" y=\"2346.87\" width=\"374.34\" height=\"99.99\" style=\"fill:#90353B\"/>\n",
       "\t<rect x=\"1531.07\" y=\"2349.75\" width=\"368.58\" height=\"94.23\" style=\"fill:none;stroke:#90353B;stroke-width:5.76\"/>\n",
       "\t<rect x=\"1528.19\" y=\"2486.96\" width=\"374.34\" height=\"99.99\" style=\"fill:#1A476F\"/>\n",
       "\t<rect x=\"1531.07\" y=\"2489.84\" width=\"368.58\" height=\"94.23\" style=\"fill:none;stroke:#1A476F;stroke-width:5.76\"/>\n",
       "\t<text x=\"170.79\" y=\"1105.00\" style=\"font-family:'Helvetica';font-size:99.99px;fill:#000000\" transform=\"rotate(-90 170.79,1105.00)\" text-anchor=\"middle\">percent</text>\n",
       "\t<text x=\"218.05\" y=\"2737.89\" style=\"font-family:'Helvetica';font-size:79.94px;fill:#000000\">Graphs by iclevel</text>\n",
       "</svg>\n"
      ],
      "text/html": [
       "                <iframe frameborder=\"0\" scrolling=\"no\" height=\"436\" width=\"600\"                srcdoc=\"<html><body>&lt;?xml version=&quot;1.0&quot; encoding=&quot;UTF-8&quot; standalone=&quot;no&quot;?&gt;\n",
       "&lt;!-- This is a Stata 15.1 generated SVG file (http://www.stata.com) --&gt;\n",
       "\n",
       "&lt;svg version=&quot;1.1&quot; width=&quot;600px&quot; height=&quot;436px&quot; viewBox=&quot;0 0 3960 2880&quot; xmlns=&quot;http://www.w3.org/2000/svg&quot; xmlns:xlink=&quot;http://www.w3.org/1999/xlink&quot;&gt;\n",
       "\t&lt;desc&gt;Stata Graph - Graph&lt;/desc&gt;\n",
       "\t&lt;rect x=&quot;0&quot; y=&quot;0&quot; width=&quot;3960&quot; height=&quot;2880&quot; style=&quot;fill:#EAF2F3;stroke:none&quot;/&gt;\n",
       "\t&lt;rect x=&quot;0.00&quot; y=&quot;0.00&quot; width=&quot;3959.88&quot; height=&quot;2880.00&quot; style=&quot;fill:#EAF2F3&quot;/&gt;\n",
       "\t&lt;rect x=&quot;2.88&quot; y=&quot;2.88&quot; width=&quot;3954.12&quot; height=&quot;2874.24&quot; style=&quot;fill:none;stroke:#EAF2F3;stroke-width:5.76&quot;/&gt;\n",
       "\t&lt;rect x=&quot;388.33&quot; y=&quot;258.27&quot; width=&quot;1683.50&quot; height=&quot;676.19&quot; style=&quot;fill:#FFFFFF&quot;/&gt;\n",
       "\t&lt;rect x=&quot;390.78&quot; y=&quot;260.72&quot; width=&quot;1678.60&quot; height=&quot;671.30&quot; style=&quot;fill:none;stroke:#FFFFFF;stroke-width:4.90&quot;/&gt;\n",
       "\t&lt;line x1=&quot;388.33&quot; y1=&quot;934.47&quot; x2=&quot;2071.82&quot; y2=&quot;934.47&quot; style=&quot;stroke:#EAF2F3;stroke-width:7.34&quot;/&gt;\n",
       "\t&lt;line x1=&quot;388.33&quot; y1=&quot;816.28&quot; x2=&quot;2071.82&quot; y2=&quot;816.28&quot; style=&quot;stroke:#EAF2F3;stroke-width:7.34&quot;/&gt;\n",
       "\t&lt;line x1=&quot;388.33&quot; y1=&quot;698.22&quot; x2=&quot;2071.82&quot; y2=&quot;698.22&quot; style=&quot;stroke:#EAF2F3;stroke-width:7.34&quot;/&gt;\n",
       "\t&lt;line x1=&quot;388.33&quot; y1=&quot;580.16&quot; x2=&quot;2071.82&quot; y2=&quot;580.16&quot; style=&quot;stroke:#EAF2F3;stroke-width:7.34&quot;/&gt;\n",
       "\t&lt;line x1=&quot;388.33&quot; y1=&quot;461.97&quot; x2=&quot;2071.82&quot; y2=&quot;461.97&quot; style=&quot;stroke:#EAF2F3;stroke-width:7.34&quot;/&gt;\n",
       "\t&lt;line x1=&quot;388.33&quot; y1=&quot;343.91&quot; x2=&quot;2071.82&quot; y2=&quot;343.91&quot; style=&quot;stroke:#EAF2F3;stroke-width:7.34&quot;/&gt;\n",
       "\t&lt;rect x=&quot;2141.00&quot; y=&quot;258.27&quot; width=&quot;1683.49&quot; height=&quot;676.19&quot; style=&quot;fill:#FFFFFF&quot;/&gt;\n",
       "\t&lt;rect x=&quot;2143.45&quot; y=&quot;260.72&quot; width=&quot;1678.60&quot; height=&quot;671.30&quot; style=&quot;fill:none;stroke:#FFFFFF;stroke-width:4.90&quot;/&gt;\n",
       "\t&lt;line x1=&quot;2141.00&quot; y1=&quot;934.47&quot; x2=&quot;3824.49&quot; y2=&quot;934.47&quot; style=&quot;stroke:#EAF2F3;stroke-width:7.34&quot;/&gt;\n",
       "\t&lt;line x1=&quot;2141.00&quot; y1=&quot;816.28&quot; x2=&quot;3824.49&quot; y2=&quot;816.28&quot; style=&quot;stroke:#EAF2F3;stroke-width:7.34&quot;/&gt;\n",
       "\t&lt;line x1=&quot;2141.00&quot; y1=&quot;698.22&quot; x2=&quot;3824.49&quot; y2=&quot;698.22&quot; style=&quot;stroke:#EAF2F3;stroke-width:7.34&quot;/&gt;\n",
       "\t&lt;line x1=&quot;2141.00&quot; y1=&quot;580.16&quot; x2=&quot;3824.49&quot; y2=&quot;580.16&quot; style=&quot;stroke:#EAF2F3;stroke-width:7.34&quot;/&gt;\n",
       "\t&lt;line x1=&quot;2141.00&quot; y1=&quot;461.97&quot; x2=&quot;3824.49&quot; y2=&quot;461.97&quot; style=&quot;stroke:#EAF2F3;stroke-width:7.34&quot;/&gt;\n",
       "\t&lt;line x1=&quot;2141.00&quot; y1=&quot;343.91&quot; x2=&quot;3824.49&quot; y2=&quot;343.91&quot; style=&quot;stroke:#EAF2F3;stroke-width:7.34&quot;/&gt;\n",
       "\t&lt;rect x=&quot;388.33&quot; y=&quot;1262.41&quot; width=&quot;1683.50&quot; height=&quot;676.19&quot; style=&quot;fill:#FFFFFF&quot;/&gt;\n",
       "\t&lt;rect x=&quot;390.78&quot; y=&quot;1264.86&quot; width=&quot;1678.60&quot; height=&quot;671.30&quot; style=&quot;fill:none;stroke:#FFFFFF;stroke-width:4.90&quot;/&gt;\n",
       "\t&lt;line x1=&quot;388.33&quot; y1=&quot;1938.60&quot; x2=&quot;2071.82&quot; y2=&quot;1938.60&quot; style=&quot;stroke:#EAF2F3;stroke-width:7.34&quot;/&gt;\n",
       "\t&lt;line x1=&quot;388.33&quot; y1=&quot;1820.54&quot; x2=&quot;2071.82&quot; y2=&quot;1820.54&quot; style=&quot;stroke:#EAF2F3;stroke-width:7.34&quot;/&gt;\n",
       "\t&lt;line x1=&quot;388.33&quot; y1=&quot;1702.36&quot; x2=&quot;2071.82&quot; y2=&quot;1702.36&quot; style=&quot;stroke:#EAF2F3;stroke-width:7.34&quot;/&gt;\n",
       "\t&lt;line x1=&quot;388.33&quot; y1=&quot;1584.30&quot; x2=&quot;2071.82&quot; y2=&quot;1584.30&quot; style=&quot;stroke:#EAF2F3;stroke-width:7.34&quot;/&gt;\n",
       "\t&lt;line x1=&quot;388.33&quot; y1=&quot;1466.24&quot; x2=&quot;2071.82&quot; y2=&quot;1466.24&quot; style=&quot;stroke:#EAF2F3;stroke-width:7.34&quot;/&gt;\n",
       "\t&lt;line x1=&quot;388.33&quot; y1=&quot;1348.05&quot; x2=&quot;2071.82&quot; y2=&quot;1348.05&quot; style=&quot;stroke:#EAF2F3;stroke-width:7.34&quot;/&gt;\n",
       "\t&lt;rect x=&quot;513.07&quot; y=&quot;356.91&quot; width=&quot;195.40&quot; height=&quot;577.56&quot; style=&quot;fill:#1A476F&quot;/&gt;\n",
       "\t&lt;rect x=&quot;515.52&quot; y=&quot;359.35&quot; width=&quot;190.51&quot; height=&quot;572.66&quot; style=&quot;fill:none;stroke:#1A476F;stroke-width:4.90&quot;/&gt;\n",
       "\t&lt;rect x=&quot;708.47&quot; y=&quot;921.35&quot; width=&quot;195.40&quot; height=&quot;13.12&quot; style=&quot;fill:#90353B&quot;/&gt;\n",
       "\t&lt;rect x=&quot;710.92&quot; y=&quot;923.80&quot; width=&quot;190.51&quot; height=&quot;8.22&quot; style=&quot;fill:none;stroke:#90353B;stroke-width:4.90&quot;/&gt;\n",
       "\t&lt;rect x=&quot;1034.80&quot; y=&quot;469.65&quot; width=&quot;195.28&quot; height=&quot;464.82&quot; style=&quot;fill:#1A476F&quot;/&gt;\n",
       "\t&lt;rect x=&quot;1037.25&quot; y=&quot;472.09&quot; width=&quot;190.38&quot; height=&quot;459.92&quot; style=&quot;fill:none;stroke:#1A476F;stroke-width:4.90&quot;/&gt;\n",
       "\t&lt;rect x=&quot;1230.08&quot; y=&quot;808.73&quot; width=&quot;195.40&quot; height=&quot;125.73&quot; style=&quot;fill:#90353B&quot;/&gt;\n",
       "\t&lt;rect x=&quot;1232.52&quot; y=&quot;811.18&quot; width=&quot;190.51&quot; height=&quot;120.84&quot; style=&quot;fill:none;stroke:#90353B;stroke-width:4.90&quot;/&gt;\n",
       "\t&lt;rect x=&quot;1556.40&quot; y=&quot;353.94&quot; width=&quot;195.40&quot; height=&quot;580.53&quot; style=&quot;fill:#1A476F&quot;/&gt;\n",
       "\t&lt;rect x=&quot;1558.85&quot; y=&quot;356.38&quot; width=&quot;190.51&quot; height=&quot;575.63&quot; style=&quot;fill:none;stroke:#1A476F;stroke-width:4.90&quot;/&gt;\n",
       "\t&lt;rect x=&quot;1751.81&quot; y=&quot;924.44&quot; width=&quot;195.28&quot; height=&quot;10.02&quot; style=&quot;fill:#90353B&quot;/&gt;\n",
       "\t&lt;rect x=&quot;1754.25&quot; y=&quot;926.89&quot; width=&quot;190.38&quot; height=&quot;5.13&quot; style=&quot;fill:none;stroke:#90353B;stroke-width:4.90&quot;/&gt;\n",
       "\t&lt;text x=&quot;610.83&quot; y=&quot;884.15&quot; style=&quot;font-family:&#x27;Helvetica&#x27;;font-size:67.94px;fill:#FFFFff&quot; text-anchor=&quot;middle&quot;&gt;97.8&lt;/text&gt;\n",
       "\t&lt;text x=&quot;806.11&quot; y=&quot;884.15&quot; style=&quot;font-family:&#x27;Helvetica&#x27;;font-size:67.94px;fill:#FFFFff&quot; text-anchor=&quot;middle&quot;&gt;2.2&lt;/text&gt;\n",
       "\t&lt;text x=&quot;1132.44&quot; y=&quot;884.15&quot; style=&quot;font-family:&#x27;Helvetica&#x27;;font-size:67.94px;fill:#FFFFff&quot; text-anchor=&quot;middle&quot;&gt;78.7&lt;/text&gt;\n",
       "\t&lt;text x=&quot;1327.84&quot; y=&quot;884.15&quot; style=&quot;font-family:&#x27;Helvetica&#x27;;font-size:67.94px;fill:#FFFFff&quot; text-anchor=&quot;middle&quot;&gt;21.3&lt;/text&gt;\n",
       "\t&lt;text x=&quot;1654.04&quot; y=&quot;884.15&quot; style=&quot;font-family:&#x27;Helvetica&#x27;;font-size:67.94px;fill:#FFFFff&quot; text-anchor=&quot;middle&quot;&gt;98.3&lt;/text&gt;\n",
       "\t&lt;text x=&quot;1849.44&quot; y=&quot;884.15&quot; style=&quot;font-family:&#x27;Helvetica&#x27;;font-size:67.94px;fill:#FFFFff&quot; text-anchor=&quot;middle&quot;&gt;1.7&lt;/text&gt;\n",
       "\t&lt;rect x=&quot;2265.74&quot; y=&quot;784.72&quot; width=&quot;195.40&quot; height=&quot;149.74&quot; style=&quot;fill:#1A476F&quot;/&gt;\n",
       "\t&lt;rect x=&quot;2268.19&quot; y=&quot;787.17&quot; width=&quot;190.51&quot; height=&quot;144.85&quot; style=&quot;fill:none;stroke:#1A476F;stroke-width:4.90&quot;/&gt;\n",
       "\t&lt;rect x=&quot;2461.14&quot; y=&quot;493.65&quot; width=&quot;195.40&quot; height=&quot;440.81&quot; style=&quot;fill:#90353B&quot;/&gt;\n",
       "\t&lt;rect x=&quot;2463.59&quot; y=&quot;496.10&quot; width=&quot;190.51&quot; height=&quot;435.92&quot; style=&quot;fill:none;stroke:#90353B;stroke-width:4.90&quot;/&gt;\n",
       "\t&lt;rect x=&quot;2787.34&quot; y=&quot;692.40&quot; width=&quot;195.40&quot; height=&quot;242.06&quot; style=&quot;fill:#1A476F&quot;/&gt;\n",
       "\t&lt;rect x=&quot;2789.79&quot; y=&quot;694.85&quot; width=&quot;190.51&quot; height=&quot;237.17&quot; style=&quot;fill:none;stroke:#1A476F;stroke-width:4.90&quot;/&gt;\n",
       "\t&lt;rect x=&quot;2982.75&quot; y=&quot;585.85&quot; width=&quot;195.40&quot; height=&quot;348.61&quot; style=&quot;fill:#90353B&quot;/&gt;\n",
       "\t&lt;rect x=&quot;2985.19&quot; y=&quot;588.30&quot; width=&quot;190.51&quot; height=&quot;343.72&quot; style=&quot;fill:none;stroke:#90353B;stroke-width:4.90&quot;/&gt;\n",
       "\t&lt;rect x=&quot;3309.07&quot; y=&quot;391.80&quot; width=&quot;195.28&quot; height=&quot;542.66&quot; style=&quot;fill:#1A476F&quot;/&gt;\n",
       "\t&lt;rect x=&quot;3311.52&quot; y=&quot;394.25&quot; width=&quot;190.38&quot; height=&quot;537.76&quot; style=&quot;fill:none;stroke:#1A476F;stroke-width:4.90&quot;/&gt;\n",
       "\t&lt;rect x=&quot;3504.35&quot; y=&quot;886.57&quot; width=&quot;195.40&quot; height=&quot;47.89&quot; style=&quot;fill:#90353B&quot;/&gt;\n",
       "\t&lt;rect x=&quot;3506.80&quot; y=&quot;889.02&quot; width=&quot;190.51&quot; height=&quot;43.00&quot; style=&quot;fill:none;stroke:#90353B;stroke-width:4.90&quot;/&gt;\n",
       "\t&lt;text x=&quot;2363.38&quot; y=&quot;884.15&quot; style=&quot;font-family:&#x27;Helvetica&#x27;;font-size:67.94px;fill:#FFFFff&quot; text-anchor=&quot;middle&quot;&gt;25.4&lt;/text&gt;\n",
       "\t&lt;text x=&quot;2558.78&quot; y=&quot;884.15&quot; style=&quot;font-family:&#x27;Helvetica&#x27;;font-size:67.94px;fill:#FFFFff&quot; text-anchor=&quot;middle&quot;&gt;74.6&lt;/text&gt;\n",
       "\t&lt;text x=&quot;2885.11&quot; y=&quot;884.15&quot; style=&quot;font-family:&#x27;Helvetica&#x27;;font-size:67.94px;fill:#FFFFff&quot; text-anchor=&quot;middle&quot;&gt;41.0&lt;/text&gt;\n",
       "\t&lt;text x=&quot;3080.39&quot; y=&quot;884.15&quot; style=&quot;font-family:&#x27;Helvetica&#x27;;font-size:67.94px;fill:#FFFFff&quot; text-anchor=&quot;middle&quot;&gt;59.0&lt;/text&gt;\n",
       "\t&lt;text x=&quot;3406.71&quot; y=&quot;884.15&quot; style=&quot;font-family:&#x27;Helvetica&#x27;;font-size:67.94px;fill:#FFFFff&quot; text-anchor=&quot;middle&quot;&gt;91.9&lt;/text&gt;\n",
       "\t&lt;text x=&quot;3602.11&quot; y=&quot;884.15&quot; style=&quot;font-family:&#x27;Helvetica&#x27;;font-size:67.94px;fill:#FFFFff&quot; text-anchor=&quot;middle&quot;&gt;8.1&lt;/text&gt;\n",
       "\t&lt;rect x=&quot;513.07&quot; y=&quot;1363.89&quot; width=&quot;195.40&quot; height=&quot;574.71&quot; style=&quot;fill:#1A476F&quot;/&gt;\n",
       "\t&lt;rect x=&quot;515.52&quot; y=&quot;1366.34&quot; width=&quot;190.51&quot; height=&quot;569.82&quot; style=&quot;fill:none;stroke:#1A476F;stroke-width:4.90&quot;/&gt;\n",
       "\t&lt;rect x=&quot;708.47&quot; y=&quot;1922.76&quot; width=&quot;195.40&quot; height=&quot;15.84&quot; style=&quot;fill:#90353B&quot;/&gt;\n",
       "\t&lt;rect x=&quot;710.92&quot; y=&quot;1925.21&quot; width=&quot;190.51&quot; height=&quot;10.94&quot; style=&quot;fill:none;stroke:#90353B;stroke-width:4.90&quot;/&gt;\n",
       "\t&lt;rect x=&quot;1034.80&quot; y=&quot;1361.05&quot; width=&quot;195.28&quot; height=&quot;577.56&quot; style=&quot;fill:#1A476F&quot;/&gt;\n",
       "\t&lt;rect x=&quot;1037.25&quot; y=&quot;1363.49&quot; width=&quot;190.38&quot; height=&quot;572.66&quot; style=&quot;fill:none;stroke:#1A476F;stroke-width:4.90&quot;/&gt;\n",
       "\t&lt;rect x=&quot;1230.08&quot; y=&quot;1925.61&quot; width=&quot;195.40&quot; height=&quot;12.99&quot; style=&quot;fill:#90353B&quot;/&gt;\n",
       "\t&lt;rect x=&quot;1232.52&quot; y=&quot;1928.06&quot; width=&quot;190.51&quot; height=&quot;8.10&quot; style=&quot;fill:none;stroke:#90353B;stroke-width:4.90&quot;/&gt;\n",
       "\t&lt;rect x=&quot;1556.40&quot; y=&quot;1350.77&quot; width=&quot;195.40&quot; height=&quot;587.83&quot; style=&quot;fill:#1A476F&quot;/&gt;\n",
       "\t&lt;rect x=&quot;1558.85&quot; y=&quot;1353.22&quot; width=&quot;190.51&quot; height=&quot;582.94&quot; style=&quot;fill:none;stroke:#1A476F;stroke-width:4.90&quot;/&gt;\n",
       "\t&lt;rect x=&quot;1751.81&quot; y=&quot;1936.01&quot; width=&quot;195.28&quot; height=&quot;2.60&quot; style=&quot;fill:#90353B&quot;/&gt;\n",
       "\t&lt;rect x=&quot;1754.25&quot; y=&quot;1938.45&quot; width=&quot;190.38&quot; height=&quot;-2.30&quot; style=&quot;fill:none;stroke:#90353B;stroke-width:4.90&quot;/&gt;\n",
       "\t&lt;text x=&quot;610.83&quot; y=&quot;1888.41&quot; style=&quot;font-family:&#x27;Helvetica&#x27;;font-size:67.94px;fill:#FFFFff&quot; text-anchor=&quot;middle&quot;&gt;97.3&lt;/text&gt;\n",
       "\t&lt;text x=&quot;806.11&quot; y=&quot;1888.41&quot; style=&quot;font-family:&#x27;Helvetica&#x27;;font-size:67.94px;fill:#FFFFff&quot; text-anchor=&quot;middle&quot;&gt;2.7&lt;/text&gt;\n",
       "\t&lt;text x=&quot;1132.44&quot; y=&quot;1888.41&quot; style=&quot;font-family:&#x27;Helvetica&#x27;;font-size:67.94px;fill:#FFFFff&quot; text-anchor=&quot;middle&quot;&gt;97.8&lt;/text&gt;\n",
       "\t&lt;text x=&quot;1327.84&quot; y=&quot;1888.41&quot; style=&quot;font-family:&#x27;Helvetica&#x27;;font-size:67.94px;fill:#FFFFff&quot; text-anchor=&quot;middle&quot;&gt;2.2&lt;/text&gt;\n",
       "\t&lt;text x=&quot;1654.04&quot; y=&quot;1888.41&quot; style=&quot;font-family:&#x27;Helvetica&#x27;;font-size:67.94px;fill:#FFFFff&quot; text-anchor=&quot;middle&quot;&gt;99.6&lt;/text&gt;\n",
       "\t&lt;text x=&quot;1849.44&quot; y=&quot;1888.41&quot; style=&quot;font-family:&#x27;Helvetica&#x27;;font-size:67.94px;fill:#FFFFff&quot; text-anchor=&quot;middle&quot;&gt;0.4&lt;/text&gt;\n",
       "\t&lt;line x1=&quot;388.33&quot; y1=&quot;934.47&quot; x2=&quot;388.33&quot; y2=&quot;258.27&quot; style=&quot;stroke:#000000;stroke-width:4.90&quot;/&gt;\n",
       "\t&lt;line x1=&quot;388.33&quot; y1=&quot;934.47&quot; x2=&quot;354.30&quot; y2=&quot;934.47&quot; style=&quot;stroke:#000000;stroke-width:4.90&quot;/&gt;\n",
       "\t&lt;text x=&quot;311.78&quot; y=&quot;934.47&quot; style=&quot;font-family:&#x27;Helvetica&#x27;;font-size:85.02px;fill:#000000&quot; transform=&quot;rotate(-90 311.78,934.47)&quot; text-anchor=&quot;middle&quot;&gt;0&lt;/text&gt;\n",
       "\t&lt;line x1=&quot;388.33&quot; y1=&quot;816.28&quot; x2=&quot;354.30&quot; y2=&quot;816.28&quot; style=&quot;stroke:#000000;stroke-width:4.90&quot;/&gt;\n",
       "\t&lt;text x=&quot;311.78&quot; y=&quot;816.28&quot; style=&quot;font-family:&#x27;Helvetica&#x27;;font-size:85.02px;fill:#000000&quot; transform=&quot;rotate(-90 311.78,816.28)&quot; text-anchor=&quot;middle&quot;&gt;20&lt;/text&gt;\n",
       "\t&lt;line x1=&quot;388.33&quot; y1=&quot;698.22&quot; x2=&quot;354.30&quot; y2=&quot;698.22&quot; style=&quot;stroke:#000000;stroke-width:4.90&quot;/&gt;\n",
       "\t&lt;text x=&quot;311.78&quot; y=&quot;698.22&quot; style=&quot;font-family:&#x27;Helvetica&#x27;;font-size:85.02px;fill:#000000&quot; transform=&quot;rotate(-90 311.78,698.22)&quot; text-anchor=&quot;middle&quot;&gt;40&lt;/text&gt;\n",
       "\t&lt;line x1=&quot;388.33&quot; y1=&quot;580.16&quot; x2=&quot;354.30&quot; y2=&quot;580.16&quot; style=&quot;stroke:#000000;stroke-width:4.90&quot;/&gt;\n",
       "\t&lt;text x=&quot;311.78&quot; y=&quot;580.16&quot; style=&quot;font-family:&#x27;Helvetica&#x27;;font-size:85.02px;fill:#000000&quot; transform=&quot;rotate(-90 311.78,580.16)&quot; text-anchor=&quot;middle&quot;&gt;60&lt;/text&gt;\n",
       "\t&lt;line x1=&quot;388.33&quot; y1=&quot;461.97&quot; x2=&quot;354.30&quot; y2=&quot;461.97&quot; style=&quot;stroke:#000000;stroke-width:4.90&quot;/&gt;\n",
       "\t&lt;text x=&quot;311.78&quot; y=&quot;461.97&quot; style=&quot;font-family:&#x27;Helvetica&#x27;;font-size:85.02px;fill:#000000&quot; transform=&quot;rotate(-90 311.78,461.97)&quot; text-anchor=&quot;middle&quot;&gt;80&lt;/text&gt;\n",
       "\t&lt;line x1=&quot;388.33&quot; y1=&quot;343.91&quot; x2=&quot;354.30&quot; y2=&quot;343.91&quot; style=&quot;stroke:#000000;stroke-width:4.90&quot;/&gt;\n",
       "\t&lt;text x=&quot;311.78&quot; y=&quot;343.91&quot; style=&quot;font-family:&#x27;Helvetica&#x27;;font-size:85.02px;fill:#000000&quot; transform=&quot;rotate(-90 311.78,343.91)&quot; text-anchor=&quot;middle&quot;&gt;100&lt;/text&gt;\n",
       "\t&lt;line x1=&quot;388.33&quot; y1=&quot;1938.60&quot; x2=&quot;388.33&quot; y2=&quot;1262.41&quot; style=&quot;stroke:#000000;stroke-width:4.90&quot;/&gt;\n",
       "\t&lt;line x1=&quot;388.33&quot; y1=&quot;1938.60&quot; x2=&quot;354.30&quot; y2=&quot;1938.60&quot; style=&quot;stroke:#000000;stroke-width:4.90&quot;/&gt;\n",
       "\t&lt;text x=&quot;311.78&quot; y=&quot;1938.60&quot; style=&quot;font-family:&#x27;Helvetica&#x27;;font-size:85.02px;fill:#000000&quot; transform=&quot;rotate(-90 311.78,1938.60)&quot; text-anchor=&quot;middle&quot;&gt;0&lt;/text&gt;\n",
       "\t&lt;line x1=&quot;388.33&quot; y1=&quot;1820.54&quot; x2=&quot;354.30&quot; y2=&quot;1820.54&quot; style=&quot;stroke:#000000;stroke-width:4.90&quot;/&gt;\n",
       "\t&lt;text x=&quot;311.78&quot; y=&quot;1820.54&quot; style=&quot;font-family:&#x27;Helvetica&#x27;;font-size:85.02px;fill:#000000&quot; transform=&quot;rotate(-90 311.78,1820.54)&quot; text-anchor=&quot;middle&quot;&gt;20&lt;/text&gt;\n",
       "\t&lt;line x1=&quot;388.33&quot; y1=&quot;1702.36&quot; x2=&quot;354.30&quot; y2=&quot;1702.36&quot; style=&quot;stroke:#000000;stroke-width:4.90&quot;/&gt;\n",
       "\t&lt;text x=&quot;311.78&quot; y=&quot;1702.36&quot; style=&quot;font-family:&#x27;Helvetica&#x27;;font-size:85.02px;fill:#000000&quot; transform=&quot;rotate(-90 311.78,1702.36)&quot; text-anchor=&quot;middle&quot;&gt;40&lt;/text&gt;\n",
       "\t&lt;line x1=&quot;388.33&quot; y1=&quot;1584.30&quot; x2=&quot;354.30&quot; y2=&quot;1584.30&quot; style=&quot;stroke:#000000;stroke-width:4.90&quot;/&gt;\n",
       "\t&lt;text x=&quot;311.78&quot; y=&quot;1584.30&quot; style=&quot;font-family:&#x27;Helvetica&#x27;;font-size:85.02px;fill:#000000&quot; transform=&quot;rotate(-90 311.78,1584.30)&quot; text-anchor=&quot;middle&quot;&gt;60&lt;/text&gt;\n",
       "\t&lt;line x1=&quot;388.33&quot; y1=&quot;1466.24&quot; x2=&quot;354.30&quot; y2=&quot;1466.24&quot; style=&quot;stroke:#000000;stroke-width:4.90&quot;/&gt;\n",
       "\t&lt;text x=&quot;311.78&quot; y=&quot;1466.24&quot; style=&quot;font-family:&#x27;Helvetica&#x27;;font-size:85.02px;fill:#000000&quot; transform=&quot;rotate(-90 311.78,1466.24)&quot; text-anchor=&quot;middle&quot;&gt;80&lt;/text&gt;\n",
       "\t&lt;line x1=&quot;388.33&quot; y1=&quot;1348.05&quot; x2=&quot;354.30&quot; y2=&quot;1348.05&quot; style=&quot;stroke:#000000;stroke-width:4.90&quot;/&gt;\n",
       "\t&lt;text x=&quot;311.78&quot; y=&quot;1348.05&quot; style=&quot;font-family:&#x27;Helvetica&#x27;;font-size:85.02px;fill:#000000&quot; transform=&quot;rotate(-90 311.78,1348.05)&quot; text-anchor=&quot;middle&quot;&gt;100&lt;/text&gt;\n",
       "\t&lt;line x1=&quot;388.33&quot; y1=&quot;934.47&quot; x2=&quot;2071.82&quot; y2=&quot;934.47&quot; style=&quot;stroke:#000000;stroke-width:4.90&quot;/&gt;\n",
       "\t&lt;text x=&quot;708.47&quot; y=&quot;1027.83&quot; style=&quot;font-family:&#x27;Helvetica&#x27;;font-size:85.02px;fill:#000000&quot; text-anchor=&quot;middle&quot;&gt;public&lt;/text&gt;\n",
       "\t&lt;text x=&quot;1230.08&quot; y=&quot;1027.83&quot; style=&quot;font-family:&#x27;Helvetica&#x27;;font-size:85.02px;fill:#000000&quot; text-anchor=&quot;middle&quot;&gt;non-profit&lt;/text&gt;\n",
       "\t&lt;text x=&quot;1751.81&quot; y=&quot;1027.83&quot; style=&quot;font-family:&#x27;Helvetica&#x27;;font-size:85.02px;fill:#000000&quot; text-anchor=&quot;middle&quot;&gt;for-profit&lt;/text&gt;\n",
       "\t&lt;line x1=&quot;2141.00&quot; y1=&quot;934.47&quot; x2=&quot;3824.49&quot; y2=&quot;934.47&quot; style=&quot;stroke:#000000;stroke-width:4.90&quot;/&gt;\n",
       "\t&lt;text x=&quot;2461.14&quot; y=&quot;1027.83&quot; style=&quot;font-family:&#x27;Helvetica&#x27;;font-size:85.02px;fill:#000000&quot; text-anchor=&quot;middle&quot;&gt;public&lt;/text&gt;\n",
       "\t&lt;text x=&quot;2982.75&quot; y=&quot;1027.83&quot; style=&quot;font-family:&#x27;Helvetica&#x27;;font-size:85.02px;fill:#000000&quot; text-anchor=&quot;middle&quot;&gt;non-profit&lt;/text&gt;\n",
       "\t&lt;text x=&quot;3504.35&quot; y=&quot;1027.83&quot; style=&quot;font-family:&#x27;Helvetica&#x27;;font-size:85.02px;fill:#000000&quot; text-anchor=&quot;middle&quot;&gt;for-profit&lt;/text&gt;\n",
       "\t&lt;line x1=&quot;388.33&quot; y1=&quot;1938.60&quot; x2=&quot;2071.82&quot; y2=&quot;1938.60&quot; style=&quot;stroke:#000000;stroke-width:4.90&quot;/&gt;\n",
       "\t&lt;text x=&quot;708.47&quot; y=&quot;2032.09&quot; style=&quot;font-family:&#x27;Helvetica&#x27;;font-size:85.02px;fill:#000000&quot; text-anchor=&quot;middle&quot;&gt;public&lt;/text&gt;\n",
       "\t&lt;text x=&quot;1230.08&quot; y=&quot;2032.09&quot; style=&quot;font-family:&#x27;Helvetica&#x27;;font-size:85.02px;fill:#000000&quot; text-anchor=&quot;middle&quot;&gt;non-profit&lt;/text&gt;\n",
       "\t&lt;text x=&quot;1751.81&quot; y=&quot;2032.09&quot; style=&quot;font-family:&#x27;Helvetica&#x27;;font-size:85.02px;fill:#000000&quot; text-anchor=&quot;middle&quot;&gt;for-profit&lt;/text&gt;\n",
       "\t&lt;rect x=&quot;388.33&quot; y=&quot;135.39&quot; width=&quot;1683.50&quot; height=&quot;122.89&quot; style=&quot;fill:#D9E6EB&quot;/&gt;\n",
       "\t&lt;rect x=&quot;390.78&quot; y=&quot;137.83&quot; width=&quot;1678.60&quot; height=&quot;117.99&quot; style=&quot;fill:none;stroke:#D9E6EB;stroke-width:4.90&quot;/&gt;\n",
       "\t&lt;text x=&quot;1230.08&quot; y=&quot;215.42&quot; style=&quot;font-family:&#x27;Helvetica&#x27;;font-size:93.56px;fill:#000000&quot; text-anchor=&quot;middle&quot;&gt;At least 2 but less than 4 years&lt;/text&gt;\n",
       "\t&lt;rect x=&quot;2141.00&quot; y=&quot;135.39&quot; width=&quot;1683.49&quot; height=&quot;122.89&quot; style=&quot;fill:#D9E6EB&quot;/&gt;\n",
       "\t&lt;rect x=&quot;2143.45&quot; y=&quot;137.83&quot; width=&quot;1678.60&quot; height=&quot;117.99&quot; style=&quot;fill:none;stroke:#D9E6EB;stroke-width:4.90&quot;/&gt;\n",
       "\t&lt;text x=&quot;2982.75&quot; y=&quot;215.42&quot; style=&quot;font-family:&#x27;Helvetica&#x27;;font-size:93.56px;fill:#000000&quot; text-anchor=&quot;middle&quot;&gt;Four or more years&lt;/text&gt;\n",
       "\t&lt;rect x=&quot;388.33&quot; y=&quot;1139.53&quot; width=&quot;1683.50&quot; height=&quot;122.89&quot; style=&quot;fill:#D9E6EB&quot;/&gt;\n",
       "\t&lt;rect x=&quot;390.78&quot; y=&quot;1141.97&quot; width=&quot;1678.60&quot; height=&quot;117.99&quot; style=&quot;fill:none;stroke:#D9E6EB;stroke-width:4.90&quot;/&gt;\n",
       "\t&lt;text x=&quot;1230.08&quot; y=&quot;1219.56&quot; style=&quot;font-family:&#x27;Helvetica&#x27;;font-size:93.56px;fill:#000000&quot; text-anchor=&quot;middle&quot;&gt;Less than 2 years (below associate)&lt;/text&gt;\n",
       "\t&lt;rect x=&quot;1485.00&quot; y=&quot;2143.66&quot; width=&quot;1089.87&quot; height=&quot;486.48&quot; style=&quot;fill:#FFFFFF&quot;/&gt;\n",
       "\t&lt;rect x=&quot;1487.88&quot; y=&quot;2146.54&quot; width=&quot;1084.11&quot; height=&quot;480.72&quot; style=&quot;fill:none;stroke:#000000;stroke-width:5.76&quot;/&gt;\n",
       "\t&lt;text x=&quot;1962.55&quot; y=&quot;2431.89&quot; style=&quot;font-family:&#x27;Helvetica&#x27;;font-size:99.99px;fill:#000000&quot;&gt;selective&lt;/text&gt;\n",
       "\t&lt;text x=&quot;1962.55&quot; y=&quot;2571.98&quot; style=&quot;font-family:&#x27;Helvetica&#x27;;font-size:99.99px;fill:#000000&quot;&gt;nonselective&lt;/text&gt;\n",
       "\t&lt;rect x=&quot;1528.19&quot; y=&quot;2346.87&quot; width=&quot;374.34&quot; height=&quot;99.99&quot; style=&quot;fill:#90353B&quot;/&gt;\n",
       "\t&lt;rect x=&quot;1531.07&quot; y=&quot;2349.75&quot; width=&quot;368.58&quot; height=&quot;94.23&quot; style=&quot;fill:none;stroke:#90353B;stroke-width:5.76&quot;/&gt;\n",
       "\t&lt;rect x=&quot;1528.19&quot; y=&quot;2486.96&quot; width=&quot;374.34&quot; height=&quot;99.99&quot; style=&quot;fill:#1A476F&quot;/&gt;\n",
       "\t&lt;rect x=&quot;1531.07&quot; y=&quot;2489.84&quot; width=&quot;368.58&quot; height=&quot;94.23&quot; style=&quot;fill:none;stroke:#1A476F;stroke-width:5.76&quot;/&gt;\n",
       "\t&lt;text x=&quot;170.79&quot; y=&quot;1105.00&quot; style=&quot;font-family:&#x27;Helvetica&#x27;;font-size:99.99px;fill:#000000&quot; transform=&quot;rotate(-90 170.79,1105.00)&quot; text-anchor=&quot;middle&quot;&gt;percent&lt;/text&gt;\n",
       "\t&lt;text x=&quot;218.05&quot; y=&quot;2737.89&quot; style=&quot;font-family:&#x27;Helvetica&#x27;;font-size:79.94px;fill:#000000&quot;&gt;Graphs by iclevel&lt;/text&gt;\n",
       "&lt;/svg&gt;\n",
       "</body></html>\"></iframe>\n"
      ],
      "text/plain": [
       "This front-end cannot display the desired image type."
      ]
     },
     "metadata": {
      "image/svg+xml": {
       "height": 436,
       "width": 600
      },
      "text/html": {
       "height": 436,
       "width": 600
      }
     },
     "output_type": "display_data"
    },
    {
     "name": "stdout",
     "output_type": "stream",
     "text": [
      "\n",
      "\n",
      "\n",
      "\n",
      "\n"
     ]
    }
   ],
   "source": [
    "bysort iclevel: tab selective control, column nofreq\n",
    "xi i.selective, noomit\n",
    "graph bar _Iselective_0 _Iselective_1 ///\n",
    ", label percentages legend(position(3) cols(1) order(6 5 4 3 2 1)) blabel(bar, format(%9.1f) position(base) color(white)) ///\n",
    "yvaroptions(relabel(1 \"nonselective\" 2 \"selective\")) over(control) by(iclevel)"
   ]
  },
  {
   "cell_type": "code",
   "execution_count": null,
   "metadata": {},
   "outputs": [],
   "source": []
  }
 ],
 "metadata": {
  "kernelspec": {
   "display_name": "Stata (nbstata)",
   "language": "stata",
   "name": "nbstata"
  },
  "language_info": {
   "file_extension": ".do",
   "mimetype": "text/x-stata",
   "name": "stata",
   "version": "17"
  }
 },
 "nbformat": 4,
 "nbformat_minor": 4
}
