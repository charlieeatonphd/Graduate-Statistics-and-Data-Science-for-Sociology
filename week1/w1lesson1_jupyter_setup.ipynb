{
 "cells": [
  {
   "cell_type": "markdown",
   "metadata": {},
   "source": [
    "# Week 1 Lesson: Jupyter and Github Setup"
   ]
  },
  {
   "cell_type": "markdown",
   "metadata": {},
   "source": [
    "**1. Install the Anaconda distribution of Python.** This will also install Jupyter Lab. To do this, use the following instructions from https://libguides.ucmerced.edu/software-carpentry/python/install:\n",
    "\n",
    "**For MacOS**\n",
    "* Open https://www.anaconda.com/download with your web browser.\n",
    "* Download the installer that is appropriate for your hardware (\"Intel\" or \"M1/M2\"). You can determine which hardware your Mac uses by going to the Apple menu and selecting \"About this Mac.\"\n",
    "* Install Python 3 by running the Anaconda Installer, accepting all of the defaults for installation. The installation will take 5-10 minutes, depending on your hardware.\n",
    "* If you get an error message saying \"Anaconda cannot be installed in this location\", select \"Install on a specific disk...\", then re-select \"Install for me only\" (this is a bug in the MacOS installer).\n",
    "* If the Terminal application is running, shut it down by going to the \"Terminal\" menu and selecting \"Shut down Terminal\".\n",
    "\n",
    "**For Windows**\n",
    "* Open https://www.anaconda.com/download with your web browser.\n",
    "* Download the installer.\n",
    "* Install Python 3 by running the Anaconda Installer. Use the suggested defaults, with one exception: You should check the box next to \"Add Anaconda to my PATH environment variable\". The installation will take 5-10 minutes, depending on your hardware. **While the installation is running, we'll discuss \"In the Beginning.\"**\n",
    "\n",
    "**Verify your installation as follows:**\n",
    "* Open Terminal on a Mac or Command Prompt in Windows by typing \"Terminal\" or \"Command\" in the magnifying glass / spotlight search\n",
    "* Type the following in the command line:\n",
    "```Jupyter Lab```\n",
    "* Jupyter Lab should open a new tab in your web browser. Visit the tab, and under the Notebook heading, click Python 3\n",
    "* A new notebook titled \"Untitled.ipynb\" should appear\n",
    "* Write \"1+1\" in one of the code cells. Then hold down the \"shift\" key and press \"enter / return\" to test if it works. It should print \"2\" just below your code cell."
   ]
  },
  {
   "cell_type": "code",
   "execution_count": 1,
   "metadata": {},
   "outputs": [
    {
     "data": {
      "text/plain": [
       "2"
      ]
     },
     "execution_count": 1,
     "metadata": {},
     "output_type": "execute_result"
    }
   ],
   "source": [
    "1+1"
   ]
  },
  {
   "cell_type": "markdown",
   "metadata": {},
   "source": [
    "**2. Install the PyStata package to setup Stata with Jupyter**\n",
    "* 2.1 Right Click the \"untitled\" tab for your Jupyter Notebook and select the \"Rename\" Dropdown.\n",
    "* 2.2 rename the Notebook \"PyStata Setup\"\n",
    "* 2.3 Click on the \"+\" sign to create a new code cell, or press escape and then the press the letter \"b\" 5 times to add 5 code cells \"below\" your current code cell\n",
    "* 2.4 Do the following PyStata install steps from Stata's website https://www.stata.com/python/pystata17/install.html/\n",
    "    * A. execute the following line of code in your empty Jupyter Notebook code cell to install the a Python PyStata setup module. Remember, you can execute the code cell by clicking your cursor in the code cell and then holding down **shift** and pressing **enter/return:** "
   ]
  },
  {
   "cell_type": "code",
   "execution_count": null,
   "metadata": {},
   "outputs": [],
   "source": [
    "pip install --upgrade --user stata_setup"
   ]
  },
  {
   "cell_type": "markdown",
   "metadata": {},
   "source": [
    "* \n",
    "    * B. Type the following code into another empty code cell to import the PyStata setup package into your Python library."
   ]
  },
  {
   "cell_type": "code",
   "execution_count": 2,
   "metadata": {},
   "outputs": [
    {
     "name": "stdout",
     "output_type": "stream",
     "text": [
      "\n",
      "  ___  ____  ____  ____  ____ ®\n",
      " /__    /   ____/   /   ____/      17.0\n",
      "___/   /   /___/   /   /___/       MP—Parallel Edition\n",
      "\n",
      " Statistics and Data Science       Copyright 1985-2021 StataCorp LLC\n",
      "                                   StataCorp\n",
      "                                   4905 Lakeway Drive\n",
      "                                   College Station, Texas 77845 USA\n",
      "                                   800-STATA-PC        https://www.stata.com\n",
      "                                   979-696-4600        stata@stata.com\n",
      "\n",
      "Stata license: Single-user 4-core  perpetual\n",
      "Serial number: 501706326307\n",
      "  Licensed to: Charlie Eaton\n",
      "               \n",
      "\n",
      "Notes:\n",
      "      1. Unicode is supported; see help unicode_advice.\n",
      "      2. More than 2 billion observations are allowed; see help obs_advice.\n",
      "      3. Maximum number of variables is set to 5,000 but can be increased;\n",
      "          see help set_maxvar.\n"
     ]
    }
   ],
   "source": [
    "import stata_setup\n",
    "stata_setup.config('/Applications/Stata/', 'mp')"
   ]
  },
  {
   "cell_type": "markdown",
   "metadata": {},
   "source": [
    "* \n",
    "    * C. Test that your PyStata package is working by running the following **Magic** Stata Python command to run the \"display\" command in stata for the function \"2+2\""
   ]
  },
  {
   "cell_type": "code",
   "execution_count": 3,
   "metadata": {},
   "outputs": [
    {
     "name": "stdout",
     "output_type": "stream",
     "text": [
      "4\n"
     ]
    }
   ],
   "source": [
    "%%stata\n",
    "display 2+2"
   ]
  },
  {
   "cell_type": "markdown",
   "metadata": {},
   "source": [
    "**3. Install the NbStata kernel package to create Stata Notebooks without Magics**\n",
    "* 3.1 Run a pip install of NBStata Python package by typing and executing the following in a code cell from: https://hugetim.github.io/nbstata/user_guide.html"
   ]
  },
  {
   "cell_type": "code",
   "execution_count": null,
   "metadata": {},
   "outputs": [],
   "source": [
    "pip install nbstata"
   ]
  },
  {
   "cell_type": "markdown",
   "metadata": {},
   "source": [
    "* 3.2 Then run the following NbStata install script. It saves a configuration file so that Jupyter Lab loads NbStata whenever you open Jupyter."
   ]
  },
  {
   "cell_type": "code",
   "execution_count": null,
   "metadata": {},
   "outputs": [],
   "source": [
    "!python -m nbstata.install --sys-prefix --conf-file"
   ]
  },
  {
   "cell_type": "markdown",
   "metadata": {},
   "source": [
    "* 3.2 pip install jupyterlab_stata_highlight2 so than you can have syntax highlighting that makes your code easier to read."
   ]
  },
  {
   "cell_type": "code",
   "execution_count": 5,
   "metadata": {},
   "outputs": [
    {
     "name": "stdout",
     "output_type": "stream",
     "text": [
      "Collecting jupyterlab_stata_highlight2\n",
      "  Downloading jupyterlab_stata_highlight2-0.1.2-py3-none-any.whl (36 kB)\n",
      "Installing collected packages: jupyterlab-stata-highlight2\n",
      "Successfully installed jupyterlab-stata-highlight2-0.1.2\n",
      "Note: you may need to restart the kernel to use updated packages.\n"
     ]
    }
   ],
   "source": [
    "pip install jupyterlab_stata_highlight2"
   ]
  },
  {
   "cell_type": "markdown",
   "metadata": {},
   "source": [
    "**4. Statrt Setup for Git and Github**"
   ]
  },
  {
   "cell_type": "markdown",
   "metadata": {},
   "source": [
    "**4.1 Create a Github account on https://github.com/**"
   ]
  },
  {
   "cell_type": "markdown",
   "metadata": {},
   "source": [
    "**4.2 Install Bash and Git (if not already installed) using the instructions from: https://libguides.ucmerced.edu/software-carpentry/git/install**\n",
    "\n",
    "**Instructions for Mac users:**\n",
    "\n",
    "Bash will already be installed. To see if Git is installed, open the Terminal application using the magnifying glass \"spotlight search\" and type the following:\n",
    "\n",
    "```git --version```\n",
    "\n",
    "If you see a message like \"git version 2.20.1\" (for example), Git is installed. If you get an error message, you will need to install the XCode command line tools. More recent versions of MacOS will automatically offer to install it for you; if you get a popup window prompting you to install the Xcode command line tools, agree to all of the prompts. Otherwise, type the following:\n",
    "\n",
    "```xcode-select --install```"
   ]
  },
  {
   "cell_type": "markdown",
   "metadata": {},
   "source": [
    "**Git install Instructions for Windows users:**\n",
    "\n",
    "Download the Git for Windows installer: https://gitforwindows.org/\n",
    "\n",
    "Run the installer and follow the steps below:\n",
    "* Click on \"Next\" four times (two times if you've previously installed Git). You don't need to change anything in the Information, location, components, and start menu screens.\n",
    "* Select \"Use the nano editor by default\" and click on \"Next\".\n",
    "* Keep \"Git from the command line and also from 3rd-party software\" selected and click on \"Next\". If you forgot to do this programs that you need for the workshop will not work properly. If this happens rerun the installer and select the appropriate option.\n",
    "* Click on \"Next\".\n",
    "* Select \"Use the native Windows Secure Channel library\", and click \"Next\".\n",
    "* Keep \"Checkout Windows-style, commit Unix-style line endings\" selected and click on \"Next\".\n",
    "* Select \"Use Windows' default console window\" and click on \"Next\".\n",
    "* Leave all three items selected, and click on \"Next\".\n",
    "* Do not select the experimental option. Click \"Install\".\n",
    "* Click on \"Finish\".\n",
    "* If your \"HOME\" environment variable is not set (or you don't know what this is):\n",
    "    * Open command prompt (Open Start Menu then type \"cmd\" and press Enter)\n",
    "    * Type the following line into the command prompt window exactly as shown:\n",
    "        ```setx HOME \"%USERPROFILE%\"```\n",
    "    * Press Enter, you should see \"SUCCESS: Specified value was saved.\"\n",
    "    * Quit command prompt by typing \"exit\" then pressing Enter\n",
    "\n",
    "This will provide you with both Git and Bash in the Git Bash program."
   ]
  },
  {
   "cell_type": "markdown",
   "metadata": {},
   "source": [
    "**5. Submit a link to the website for your Github account in Catcourses so we can see you did it for this week's homework (due before class on January 23): https://catcourses.ucmerced.edu/courses/31065/assignments/405302**"
   ]
  },
  {
   "cell_type": "code",
   "execution_count": null,
   "metadata": {},
   "outputs": [],
   "source": []
  }
 ],
 "metadata": {
  "kernelspec": {
   "display_name": "Python 3",
   "language": "python",
   "name": "python3"
  },
  "language_info": {
   "codemirror_mode": {
    "name": "ipython",
    "version": 3
   },
   "file_extension": ".py",
   "mimetype": "text/x-python",
   "name": "python",
   "nbconvert_exporter": "python",
   "pygments_lexer": "ipython3",
   "version": "3.8.8"
  }
 },
 "nbformat": 4,
 "nbformat_minor": 4
}
