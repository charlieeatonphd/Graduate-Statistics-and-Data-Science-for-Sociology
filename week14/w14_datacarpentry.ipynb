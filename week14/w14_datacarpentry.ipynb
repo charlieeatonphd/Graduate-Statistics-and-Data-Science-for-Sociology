{
 "cells": [
  {
   "cell_type": "markdown",
   "metadata": {},
   "source": [
    "### Week 14. Data Carpentry\n",
    "\n",
    "By Charlie Eaton, April 2020\n",
    "\n",
    "1. String editing\n",
    "2. Merges"
   ]
  },
  {
   "cell_type": "markdown",
   "metadata": {},
   "source": [
    "### 1. String editing\n",
    "\n",
    "* String variables are a \"string\" of characters, including letter, punctuation, and numbers\n",
    "* They are case sensitive\n",
    "* Stata can't do math on strings\n",
    "* When we assemble data from the real world, individuals and observations are often identified by strings\n",
    "* So we have to be able to efficiently standardize and clean strings\n",
    "* Here is Stata support documentation on \"String functions\" that we use to edit strings: https://www.stata.com/manuals/fnstringfunctions.pdf\n",
    "* Here is how to implement some of my favorite string functions:"
   ]
  },
  {
   "cell_type": "code",
   "execution_count": 2,
   "metadata": {},
   "outputs": [
    {
     "name": "stdout",
     "output_type": "stream",
     "text": [
      "\n",
      "\n",
      "unitid        pctalt        fgrnt_p       pctunderfi~t\n",
      "year          acceptrate    endow_asse~g  top30private\n",
      "schoolname    control       logtotal03~e  top30public\n"
     ]
    }
   ],
   "source": [
    "use universityboards, clear\n",
    "ds"
   ]
  },
  {
   "cell_type": "code",
   "execution_count": 5,
   "metadata": {},
   "outputs": [
    {
     "name": "stdout",
     "output_type": "stream",
     "text": [
      "\n",
      "                     (first) schoolname |      Freq.     Percent        Cum.\n",
      "----------------------------------------+-----------------------------------\n",
      "                   arizona state system |         12        1.35        1.35\n",
      "                      boston university |         12        1.35        2.71\n",
      "                    brandeis university |         14        1.58        4.28\n",
      "                       brown university |         10        1.13        5.41\n",
      "     california institute of technology |         15        1.69        7.10\n",
      "             carnegie mellon university |         15        1.69        8.79\n",
      "        case western reserve university |         15        1.69       10.48\n",
      "                    columbia university |         15        1.69       12.18\n",
      "                     cornell university |         15        1.69       13.87\n",
      "                      dartmouth college |         15        1.69       15.56\n",
      "                        duke university |         15        1.69       17.25\n",
      "                       emory university |         15        1.69       18.94\n",
      "               florida state university |         15        1.69       20.63\n",
      "                  georgetown university |         15        1.69       22.32\n",
      "              georgia university system |         15        1.69       24.01\n",
      "                     harvard university |         15        1.69       25.70\n",
      "              indiana university system |         15        1.69       27.40\n",
      "               johns hopkins university |         15        1.69       29.09\n",
      "             maryland university system |         15        1.69       30.78\n",
      "  massachusetts institute of technology |         15        1.69       32.47\n",
      "              michigan state university |         15        1.69       34.16\n",
      "                    new york university |         15        1.69       35.85\n",
      "                northeastern university |         15        1.69       37.54\n",
      "                northwestern university |         15        1.69       39.23\n",
      "                  ohio state university |         15        1.69       40.92\n",
      "          pennsylvania state university |         15        1.69       42.62\n",
      "                   princeton university |         15        1.69       44.31\n",
      "       purdue university west lafayette |         15        1.69       46.00\n",
      "                        rice university |         15        1.69       47.69\n",
      "rutgers, the state university of new .. |         15        1.69       49.38\n",
      "                    stanford university |         15        1.69       51.07\n",
      "   state university of new york buffalo |         15        1.69       52.76\n",
      "                   texas a&m university |         15        1.69       54.45\n",
      "                       tufts university |         15        1.69       56.14\n",
      "        university of california system |         15        1.69       57.84\n",
      "                  university of chicago |         15        1.69       59.53\n",
      "               university of cincinnati |         15        1.69       61.22\n",
      "                 university of colorado |         15        1.69       62.91\n",
      "                 university of delaware |         15        1.69       64.60\n",
      "                  university of florida |         15        1.69       66.29\n",
      "         university of hawai'i at mānoa |         15        1.69       67.98\n",
      "          university of illinois system |         15        1.69       69.67\n",
      "                     university of iowa |         15        1.69       71.36\n",
      "    university of massachusetts amherst |         15        1.69       73.06\n",
      "          university of michigan system |         15        1.69       74.75\n",
      "                university of minnesota |         15        1.69       76.44\n",
      "    university of north carolina system |         15        1.69       78.13\n",
      "               university of notre dame |         14        1.58       79.71\n",
      "             university of pennsylvania |         15        1.69       81.40\n",
      "                university of rochester |         15        1.69       83.09\n",
      "            university of south florida |         15        1.69       84.78\n",
      "      university of southern california |         15        1.69       86.47\n",
      "             university of texas system |         15        1.69       88.16\n",
      "                     university of utah |         15        1.69       89.85\n",
      "          university of virginia system |         15        1.69       91.54\n",
      "        university of washington system |         15        1.69       93.24\n",
      "         university of wisconsin system |         15        1.69       94.93\n",
      "                  vanderbilt university |         15        1.69       96.62\n",
      "      washington university in st louis |         15        1.69       98.31\n",
      "                        yale university |         15        1.69      100.00\n",
      "----------------------------------------+-----------------------------------\n",
      "                                  Total |        887      100.00\n"
     ]
    }
   ],
   "source": [
    "tab schoolname"
   ]
  },
  {
   "cell_type": "code",
   "execution_count": null,
   "metadata": {},
   "outputs": [],
   "source": []
  }
 ],
 "metadata": {
  "kernelspec": {
   "display_name": "Stata",
   "language": "stata",
   "name": "stata"
  },
  "language_info": {
   "codemirror_mode": "stata",
   "file_extension": ".do",
   "mimetype": "text/x-stata",
   "name": "stata",
   "version": "15.1"
  }
 },
 "nbformat": 4,
 "nbformat_minor": 4
}
